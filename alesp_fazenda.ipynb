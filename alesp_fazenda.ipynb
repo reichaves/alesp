{
 "cells": [
  {
   "cell_type": "code",
   "execution_count": 19,
   "metadata": {},
   "outputs": [],
   "source": [
    "from selenium import webdriver\n",
    "import pandas as pd"
   ]
  },
  {
   "cell_type": "code",
   "execution_count": null,
   "metadata": {},
   "outputs": [],
   "source": []
  },
  {
   "cell_type": "code",
   "execution_count": 22,
   "metadata": {},
   "outputs": [],
   "source": [
    "deputados_socios_empresas = pd.read_csv(\"resultados/empresas_deputados.csv\",sep=',',encoding = 'utf-8', converters={'cnpj': lambda x: str(x), 'cpf': lambda x: str(x), 'documento': lambda x: str(x)})"
   ]
  },
  {
   "cell_type": "code",
   "execution_count": 28,
   "metadata": {},
   "outputs": [
    {
     "name": "stdout",
     "output_type": "stream",
     "text": [
      "<class 'pandas.core.frame.DataFrame'>\n",
      "RangeIndex: 241 entries, 0 to 240\n",
      "Data columns (total 18 columns):\n",
      "uf                 241 non-null object\n",
      "cargo              241 non-null object\n",
      "nome_completo      241 non-null object\n",
      "sequencial         241 non-null int64\n",
      "cpf                241 non-null object\n",
      "nome_urna          241 non-null object\n",
      "partido_eleicao    241 non-null object\n",
      "situacao           241 non-null object\n",
      "Unnamed: 0_x       241 non-null int64\n",
      "cnpj               241 non-null object\n",
      "indicador          241 non-null int64\n",
      "documento          241 non-null object\n",
      "qualificacao       241 non-null int64\n",
      "socio              241 non-null object\n",
      "estado_x           241 non-null object\n",
      "Unnamed: 0_y       241 non-null int64\n",
      "nome_empresa       241 non-null object\n",
      "estado_y           241 non-null object\n",
      "dtypes: int64(5), object(13)\n",
      "memory usage: 34.0+ KB\n"
     ]
    }
   ],
   "source": [
    "deputados_socios_empresas.info()"
   ]
  },
  {
   "cell_type": "code",
   "execution_count": null,
   "metadata": {},
   "outputs": [],
   "source": []
  },
  {
   "cell_type": "code",
   "execution_count": null,
   "metadata": {},
   "outputs": [],
   "source": [
    "profile = webdriver.FirefoxProfile()\n",
    "browser = webdriver.Firefox(profile)\n",
    "browser.get('https://www.fazenda.sp.gov.br/SigeoLei131/Paginas/ConsultaDespesaAno.aspx?orgao=')"
   ]
  },
  {
   "cell_type": "code",
   "execution_count": null,
   "metadata": {},
   "outputs": [],
   "source": []
  },
  {
   "cell_type": "code",
   "execution_count": null,
   "metadata": {},
   "outputs": [],
   "source": [
    "pagamentos = []"
   ]
  },
  {
   "cell_type": "code",
   "execution_count": null,
   "metadata": {},
   "outputs": [],
   "source": []
  },
  {
   "cell_type": "code",
   "execution_count": null,
   "metadata": {},
   "outputs": [],
   "source": [
    "for num, row in dividas.iterrows():\n",
    "    documento = (row['cnpj'])\n",
    "    nome = (row['nome_urna'])\n",
    "    cpf = (row['cpf'])\n",
    "    \n",
    "    for vez in range(1, 4):\n",
    "        conta = '/html/body/form/div[3]/table/tbody/tr[2]/td/table/tbody/tr[2]/td/table/tbody/tr[1]/td[2]/select/option[' + conta + ']'\n",
    "        browser.find_element_by_xpath(ano).click()\n",
    "        browser.find_element_by_xpath('//*[@id=\"ctl00_ContentPlaceHolder1_rblDoc_0\"]').click()\n",
    "        browser.find_element_by_xpath('//*[@id=\"ctl00_ContentPlaceHolder1_txtCPF\"]').send_keys(documento)\n",
    "        browser.find_element_by_xpath('//*[@id=\"ctl00_ContentPlaceHolder1_btnPesquisar\"]').click()\n",
    "        \n",
    "        empresa = browser.find_element_by_xpath('/html/body/form/div[3]/table/tbody/tr[2]/td/table/tbody/tr[3]/td/div/table/tbody/tr[2]/td[1]').text\n",
    "        valor = browser.find_element_by_xpath('/html/body/form/div[3]/table/tbody/tr[2]/td/table/tbody/tr[3]/td/div/table/tbody/tr[2]/td[2]').text\n",
    "        \n",
    "        if vez == 1:\n",
    "            ano = 2018\n",
    "        elif vez == 2:\n",
    "            ano = 2017\n",
    "        elif vez == 3:\n",
    "            ano = 2016\n",
    "        elif vez == 4:\n",
    "            ano = 2015\n",
    "    \n",
    "        pagamentos.append({'cnpj': str(cnpj), 'nome_empresa': str(nome).strip(), 'estado': str(estado)})\n",
    "    \n",
    "    "
   ]
  },
  {
   "cell_type": "code",
   "execution_count": 64,
   "metadata": {},
   "outputs": [],
   "source": [
    "profile = webdriver.FirefoxProfile()\n",
    "browser = webdriver.Firefox(profile)"
   ]
  },
  {
   "cell_type": "code",
   "execution_count": 65,
   "metadata": {},
   "outputs": [],
   "source": [
    "browser.get('https://www.fazenda.sp.gov.br/SigeoLei131/Paginas/ConsultaDespesaAno.aspx?orgao=')"
   ]
  },
  {
   "cell_type": "code",
   "execution_count": 66,
   "metadata": {},
   "outputs": [],
   "source": [
    "browser.find_element_by_xpath('/html/body/form/div[3]/table/tbody/tr[2]/td/table/tbody/tr[2]/td/table/tbody/tr[1]/td[2]/select/option[1]').click()"
   ]
  },
  {
   "cell_type": "code",
   "execution_count": 67,
   "metadata": {},
   "outputs": [],
   "source": [
    "browser.find_element_by_xpath('//*[@id=\"ctl00_ContentPlaceHolder1_rblDoc_0\"]').click()"
   ]
  },
  {
   "cell_type": "code",
   "execution_count": 68,
   "metadata": {},
   "outputs": [],
   "source": [
    "browser.find_element_by_xpath('//*[@id=\"ctl00_ContentPlaceHolder1_txtCPF\"]').send_keys('07022473000136')\n",
    "try:\n",
    "    browser.find_element_by_xpath('//*[@id=\"ctl00_ContentPlaceHolder1_btnPesquisar\"]').click()\n",
    "except(requests.exceptions.HTTPError, requests.exceptions.RequestException, requests.exceptions.ConnectionError, requests.exceptions.Timeout) as e:\n",
    "    print(str(e))\n",
    "except Exception as e:\n",
    "    print (\"não deu\")"
   ]
  },
  {
   "cell_type": "code",
   "execution_count": null,
   "metadata": {},
   "outputs": [],
   "source": []
  },
  {
   "cell_type": "code",
   "execution_count": 47,
   "metadata": {},
   "outputs": [],
   "source": [
    "a = browser.find_element_by_xpath('/html/body/form/div[3]/table/tbody/tr[2]/td/table/tbody/tr[3]/td/div/table/tbody/tr[2]/td[1]').text"
   ]
  },
  {
   "cell_type": "code",
   "execution_count": 48,
   "metadata": {},
   "outputs": [
    {
     "data": {
      "text/plain": [
       "'07022473000139 - RAPIDO FENIX VIACAO LTDA'"
      ]
     },
     "execution_count": 48,
     "metadata": {},
     "output_type": "execute_result"
    }
   ],
   "source": [
    "a"
   ]
  },
  {
   "cell_type": "code",
   "execution_count": 49,
   "metadata": {},
   "outputs": [],
   "source": [
    "b = browser.find_element_by_xpath('/html/body/form/div[3]/table/tbody/tr[2]/td/table/tbody/tr[3]/td/div/table/tbody/tr[2]/td[2]').text"
   ]
  },
  {
   "cell_type": "code",
   "execution_count": 50,
   "metadata": {},
   "outputs": [
    {
     "data": {
      "text/plain": [
       "'3.668,20'"
      ]
     },
     "execution_count": 50,
     "metadata": {},
     "output_type": "execute_result"
    }
   ],
   "source": [
    "b"
   ]
  },
  {
   "cell_type": "code",
   "execution_count": 51,
   "metadata": {},
   "outputs": [],
   "source": [
    "browser.find_element_by_xpath('//*[@id=\"ctl00_ContentPlaceHolder1_btnVoltar\"]').click()"
   ]
  },
  {
   "cell_type": "code",
   "execution_count": null,
   "metadata": {},
   "outputs": [],
   "source": []
  }
 ],
 "metadata": {
  "kernelspec": {
   "display_name": "Python 3",
   "language": "python",
   "name": "python3"
  },
  "language_info": {
   "codemirror_mode": {
    "name": "ipython",
    "version": 3
   },
   "file_extension": ".py",
   "mimetype": "text/x-python",
   "name": "python",
   "nbconvert_exporter": "python",
   "pygments_lexer": "ipython3",
   "version": "3.6.2"
  }
 },
 "nbformat": 4,
 "nbformat_minor": 2
}
