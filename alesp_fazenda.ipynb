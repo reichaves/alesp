{
 "cells": [
  {
   "cell_type": "code",
   "execution_count": 2,
   "metadata": {},
   "outputs": [],
   "source": [
    "# -*- coding: utf-8\n",
    "# VOLT DATA LAB (https://www.voltdata.info/)\n",
    "# Reinaldo Chaves (@paidatocandeira)\n",
    "# Mostra quais contratos estaduais têm as empresas de deputados\n",
    "#"
   ]
  },
  {
   "cell_type": "code",
   "execution_count": null,
   "metadata": {},
   "outputs": [],
   "source": []
  },
  {
   "cell_type": "code",
   "execution_count": 1,
   "metadata": {},
   "outputs": [],
   "source": [
    "from selenium import webdriver\n",
    "from selenium.common.exceptions import NoAlertPresentException\n",
    "from selenium.webdriver.support.select import Select\n",
    "import pandas as pd"
   ]
  },
  {
   "cell_type": "code",
   "execution_count": null,
   "metadata": {},
   "outputs": [],
   "source": []
  },
  {
   "cell_type": "code",
   "execution_count": 3,
   "metadata": {},
   "outputs": [],
   "source": [
    "pd.options.display.float_format = '{:,.2f}'.format"
   ]
  },
  {
   "cell_type": "code",
   "execution_count": null,
   "metadata": {},
   "outputs": [],
   "source": []
  },
  {
   "cell_type": "markdown",
   "metadata": {},
   "source": [
    "Verifica os pagamentos feitos na Execução Orçamentária do Governo do Estado de SP <br>\n",
    "Fonte: https://www.fazenda.sp.gov.br/SigeoLei131/Paginas/ConsultaDespesaAno.aspx?orgao="
   ]
  },
  {
   "cell_type": "code",
   "execution_count": null,
   "metadata": {},
   "outputs": [],
   "source": []
  },
  {
   "cell_type": "code",
   "execution_count": null,
   "metadata": {},
   "outputs": [],
   "source": [
    "deputados_socios_empresas = pd.read_csv(\"resultados/empresas_deputados.csv\",sep=',',encoding = 'utf-8', \n",
    "                                        converters={'cnpj': lambda x: str(x), \n",
    "                                                    'cpf': lambda x: str(x), \n",
    "                                                    'documento': lambda x: str(x)})\n",
    "\n",
    "profile = webdriver.FirefoxProfile()\n",
    "browser = webdriver.Firefox(profile)\n",
    "browser.implicitly_wait(10)\n",
    "\n",
    "# Site that is accessed\n",
    "browser.get('https://www.fazenda.sp.gov.br/SigeoLei131/Paginas/ConsultaDespesaAno.aspx?orgao=')\n",
    "\n",
    "# List to store the data\n",
    "pagamentos = []\n",
    "\n",
    "for num, row in deputados_socios_empresas.iterrows():\n",
    "    # Variable with code to search\n",
    "    empresa = (row['cnpj']).strip()\n",
    "    deputado = (row['nome_urna']).strip()\n",
    "\n",
    "    # Search for each code in four years\n",
    "    for vez in [2015, 2016, 2017, 2018]:\n",
    "        ano = str(vez)\n",
    "\n",
    "        # Select year\n",
    "        Select(browser.find_element_by_name('ctl00$ContentPlaceHolder1$ddlAno')).select_by_visible_text(ano)\n",
    "\n",
    "        # Fill in the code to search\n",
    "        browser.find_element_by_xpath('//*[@id=\"ctl00_ContentPlaceHolder1_rblDoc_0\"]').click()\n",
    "        browser.find_element_by_xpath('//*[@id=\"ctl00_ContentPlaceHolder1_txtCPF\"]').send_keys(empresa)\n",
    "        browser.find_element_by_xpath('//*[@id=\"ctl00_ContentPlaceHolder1_btnPesquisar\"]').click()\n",
    "\n",
    "        try:\n",
    "            found = True\n",
    "            alert = browser.switch_to.alert\n",
    "            alert.accept()\n",
    "            found = False\n",
    "            # Message shows that the code was not found that year\n",
    "            print(\"CNPJ \" + empresa + \" não encontrado no ano \" + ano)\n",
    "            browser.find_element_by_xpath('//*[@id=\"ctl00_ContentPlaceHolder1_btnVoltar\"]').click()\n",
    "        except NoAlertPresentException:\n",
    "            pass\n",
    "\n",
    "        if found:\n",
    "            results = browser.find_element_by_xpath(\"//table[@id='ctl00_ContentPlaceHolder1_gdvCredor']//tr[2]\")\n",
    "            cia = results.find_element_by_xpath(\"td[1]\").text\n",
    "            valor = results.find_element_by_xpath(\"td[2]\").text\n",
    "\n",
    "            #Message shows that the code was found that year\n",
    "            print(\"CNPJ \" + empresa + \" encontrado no ano \" + ano)\n",
    "\n",
    "            # Fills dictionary with found data\n",
    "            dicionario = {\"cnpj\": empresa,\n",
    "                          \"deputado_relacionado\": deputado,\n",
    "                          \"ano\": ano,\n",
    "                          \"empresa\": cia,\n",
    "                          \"valor\": valor,\n",
    "                         }\n",
    "            pagamentos.append(dicionario)\n",
    "\n",
    "\n",
    "            # Go back one screen to do another search\n",
    "            browser.find_element_by_xpath('//*[@id=\"ctl00_ContentPlaceHolder1_btnVoltar\"]').click()\n",
    "\n",
    "# Create the dataframe\n",
    "df_pagamentos = pd.DataFrame(pagamentos)"
   ]
  },
  {
   "cell_type": "code",
   "execution_count": 6,
   "metadata": {},
   "outputs": [
    {
     "name": "stdout",
     "output_type": "stream",
     "text": [
      "<class 'pandas.core.frame.DataFrame'>\n",
      "RangeIndex: 8 entries, 0 to 7\n",
      "Data columns (total 4 columns):\n",
      "ano        8 non-null object\n",
      "cnpj       8 non-null object\n",
      "empresa    8 non-null object\n",
      "valor      8 non-null object\n",
      "dtypes: object(4)\n",
      "memory usage: 336.0+ bytes\n"
     ]
    }
   ],
   "source": [
    "df_pagamentos.info()"
   ]
  },
  {
   "cell_type": "code",
   "execution_count": null,
   "metadata": {},
   "outputs": [],
   "source": []
  },
  {
   "cell_type": "markdown",
   "metadata": {},
   "source": [
    "Pagamentos encontrados"
   ]
  },
  {
   "cell_type": "code",
   "execution_count": 7,
   "metadata": {},
   "outputs": [
    {
     "data": {
      "text/html": [
       "<div>\n",
       "<style scoped>\n",
       "    .dataframe tbody tr th:only-of-type {\n",
       "        vertical-align: middle;\n",
       "    }\n",
       "\n",
       "    .dataframe tbody tr th {\n",
       "        vertical-align: top;\n",
       "    }\n",
       "\n",
       "    .dataframe thead th {\n",
       "        text-align: right;\n",
       "    }\n",
       "</style>\n",
       "<table border=\"1\" class=\"dataframe\">\n",
       "  <thead>\n",
       "    <tr style=\"text-align: right;\">\n",
       "      <th></th>\n",
       "      <th>index</th>\n",
       "      <th>ano</th>\n",
       "      <th>cnpj</th>\n",
       "      <th>empresa</th>\n",
       "      <th>valor</th>\n",
       "    </tr>\n",
       "  </thead>\n",
       "  <tbody>\n",
       "    <tr>\n",
       "      <th>0</th>\n",
       "      <td>0</td>\n",
       "      <td>2015</td>\n",
       "      <td>07022473000139</td>\n",
       "      <td>07022473000139 - RAPIDO FENIX VIACAO LTDA</td>\n",
       "      <td>1.275,90</td>\n",
       "    </tr>\n",
       "    <tr>\n",
       "      <th>1</th>\n",
       "      <td>1</td>\n",
       "      <td>2016</td>\n",
       "      <td>07022473000139</td>\n",
       "      <td>07022473000139 - RAPIDO FENIX VIACAO LTDA</td>\n",
       "      <td>1.027,50</td>\n",
       "    </tr>\n",
       "    <tr>\n",
       "      <th>2</th>\n",
       "      <td>2</td>\n",
       "      <td>2017</td>\n",
       "      <td>07022473000139</td>\n",
       "      <td>07022473000139 - RAPIDO FENIX VIACAO LTDA</td>\n",
       "      <td>1.125,36</td>\n",
       "    </tr>\n",
       "    <tr>\n",
       "      <th>3</th>\n",
       "      <td>3</td>\n",
       "      <td>2018</td>\n",
       "      <td>07022473000139</td>\n",
       "      <td>07022473000139 - RAPIDO FENIX VIACAO LTDA</td>\n",
       "      <td>3.742,70</td>\n",
       "    </tr>\n",
       "    <tr>\n",
       "      <th>4</th>\n",
       "      <td>4</td>\n",
       "      <td>2015</td>\n",
       "      <td>54158522000145</td>\n",
       "      <td>54158522000145 - COMAM CONSORCIO DE MUNICIPIOS...</td>\n",
       "      <td>462.300,00</td>\n",
       "    </tr>\n",
       "    <tr>\n",
       "      <th>5</th>\n",
       "      <td>5</td>\n",
       "      <td>2016</td>\n",
       "      <td>54158522000145</td>\n",
       "      <td>54158522000145 - COMAM CONSORCIO DE MUNICIPIOS...</td>\n",
       "      <td>924.600,00</td>\n",
       "    </tr>\n",
       "    <tr>\n",
       "      <th>6</th>\n",
       "      <td>6</td>\n",
       "      <td>2015</td>\n",
       "      <td>61923397000188</td>\n",
       "      <td>61923397000188 - CIMCAL COM.SERV.E SOLUCOES LO...</td>\n",
       "      <td>1.212,50</td>\n",
       "    </tr>\n",
       "    <tr>\n",
       "      <th>7</th>\n",
       "      <td>7</td>\n",
       "      <td>2016</td>\n",
       "      <td>08095624000141</td>\n",
       "      <td>08095624000141 - BONANZANET INFORM AVAL BENS E...</td>\n",
       "      <td>1.390,00</td>\n",
       "    </tr>\n",
       "  </tbody>\n",
       "</table>\n",
       "</div>"
      ],
      "text/plain": [
       "   index   ano            cnpj  \\\n",
       "0      0  2015  07022473000139   \n",
       "1      1  2016  07022473000139   \n",
       "2      2  2017  07022473000139   \n",
       "3      3  2018  07022473000139   \n",
       "4      4  2015  54158522000145   \n",
       "5      5  2016  54158522000145   \n",
       "6      6  2015  61923397000188   \n",
       "7      7  2016  08095624000141   \n",
       "\n",
       "                                             empresa       valor  \n",
       "0          07022473000139 - RAPIDO FENIX VIACAO LTDA    1.275,90  \n",
       "1          07022473000139 - RAPIDO FENIX VIACAO LTDA    1.027,50  \n",
       "2          07022473000139 - RAPIDO FENIX VIACAO LTDA    1.125,36  \n",
       "3          07022473000139 - RAPIDO FENIX VIACAO LTDA    3.742,70  \n",
       "4  54158522000145 - COMAM CONSORCIO DE MUNICIPIOS...  462.300,00  \n",
       "5  54158522000145 - COMAM CONSORCIO DE MUNICIPIOS...  924.600,00  \n",
       "6  61923397000188 - CIMCAL COM.SERV.E SOLUCOES LO...    1.212,50  \n",
       "7  08095624000141 - BONANZANET INFORM AVAL BENS E...    1.390,00  "
      ]
     },
     "execution_count": 7,
     "metadata": {},
     "output_type": "execute_result"
    }
   ],
   "source": [
    "df_pagamentos.reset_index()"
   ]
  },
  {
   "cell_type": "code",
   "execution_count": 4,
   "metadata": {},
   "outputs": [],
   "source": [
    "df_pagamentos.to_csv('resultados/pagtos_estaduais_empresas_deputados.csv', index=False, decimal=',')"
   ]
  },
  {
   "cell_type": "code",
   "execution_count": null,
   "metadata": {},
   "outputs": [],
   "source": []
  },
  {
   "cell_type": "code",
   "execution_count": 4,
   "metadata": {},
   "outputs": [],
   "source": [
    "df_pagamentos = pd.read_csv(\"resultados/pagtos_estaduais_empresas_deputados.csv\",sep=',',encoding = 'utf-8', \n",
    "                                        converters={'cnpj': lambda x: str(x)})"
   ]
  },
  {
   "cell_type": "code",
   "execution_count": 9,
   "metadata": {},
   "outputs": [],
   "source": [
    "def limpeza3(linha):\n",
    "    valor = linha[\"valor\"]\n",
    "    valor = valor.replace('.', '')\n",
    "    valor = valor.replace(',', '.')\n",
    "    return valor"
   ]
  },
  {
   "cell_type": "code",
   "execution_count": 10,
   "metadata": {},
   "outputs": [],
   "source": [
    "df_pagamentos['valor'] = df_pagamentos.apply(limpeza3, axis=1)\n",
    "df_pagamentos['valor'] = df_pagamentos.valor.astype('float64')"
   ]
  },
  {
   "cell_type": "code",
   "execution_count": 11,
   "metadata": {},
   "outputs": [
    {
     "data": {
      "text/plain": [
       "'$1,396,673.96'"
      ]
     },
     "execution_count": 11,
     "metadata": {},
     "output_type": "execute_result"
    }
   ],
   "source": [
    "\"${:,.2f}\".format(df_pagamentos.valor.sum())"
   ]
  },
  {
   "cell_type": "code",
   "execution_count": null,
   "metadata": {},
   "outputs": [],
   "source": []
  },
  {
   "cell_type": "code",
   "execution_count": null,
   "metadata": {},
   "outputs": [],
   "source": []
  },
  {
   "cell_type": "code",
   "execution_count": 8,
   "metadata": {},
   "outputs": [
    {
     "name": "stdout",
     "output_type": "stream",
     "text": [
      "<class 'pandas.core.frame.DataFrame'>\n",
      "RangeIndex: 547 entries, 0 to 546\n",
      "Data columns (total 19 columns):\n",
      "codigo_unico       547 non-null int64\n",
      "nome_deputado      547 non-null object\n",
      "uf                 547 non-null object\n",
      "nome_completo      547 non-null object\n",
      "sequencial         547 non-null int64\n",
      "cpf                547 non-null object\n",
      "nome_urna          547 non-null object\n",
      "partido_eleicao    547 non-null object\n",
      "situacao           547 non-null object\n",
      "Unnamed: 0_x       547 non-null int64\n",
      "cnpj               547 non-null object\n",
      "indicador          547 non-null int64\n",
      "documento          547 non-null object\n",
      "qualificacao       547 non-null int64\n",
      "socio              547 non-null object\n",
      "estado_x           547 non-null object\n",
      "Unnamed: 0_y       547 non-null int64\n",
      "nome_empresa       547 non-null object\n",
      "estado_y           547 non-null object\n",
      "dtypes: int64(6), object(13)\n",
      "memory usage: 81.3+ KB\n"
     ]
    }
   ],
   "source": [
    "deputados_socios_empresas.info()"
   ]
  },
  {
   "cell_type": "code",
   "execution_count": null,
   "metadata": {},
   "outputs": [],
   "source": []
  },
  {
   "cell_type": "code",
   "execution_count": 2,
   "metadata": {},
   "outputs": [],
   "source": [
    "deputados_socios_empresas = pd.read_csv(\"resultados/empresas_deputados.csv\",sep=',',encoding = 'utf-8', \n",
    "                                        converters={'cnpj': lambda x: str(x), \n",
    "                                                    'cpf': lambda x: str(x), \n",
    "                                                    'documento': lambda x: str(x)})"
   ]
  },
  {
   "cell_type": "code",
   "execution_count": 3,
   "metadata": {},
   "outputs": [],
   "source": [
    "deputados_socios_empresas['cnpj_raiz'] = deputados_socios_empresas.cnpj.str[:8]"
   ]
  },
  {
   "cell_type": "code",
   "execution_count": 4,
   "metadata": {},
   "outputs": [
    {
     "name": "stdout",
     "output_type": "stream",
     "text": [
      "<class 'pandas.core.frame.DataFrame'>\n",
      "RangeIndex: 547 entries, 0 to 546\n",
      "Data columns (total 20 columns):\n",
      "codigo_unico       547 non-null int64\n",
      "nome_deputado      547 non-null object\n",
      "uf                 547 non-null object\n",
      "nome_completo      547 non-null object\n",
      "sequencial         547 non-null int64\n",
      "cpf                547 non-null object\n",
      "nome_urna          547 non-null object\n",
      "partido_eleicao    547 non-null object\n",
      "situacao           547 non-null object\n",
      "Unnamed: 0_x       547 non-null int64\n",
      "cnpj               547 non-null object\n",
      "indicador          547 non-null int64\n",
      "documento          547 non-null object\n",
      "qualificacao       547 non-null int64\n",
      "socio              547 non-null object\n",
      "estado_x           547 non-null object\n",
      "Unnamed: 0_y       547 non-null int64\n",
      "nome_empresa       547 non-null object\n",
      "estado_y           547 non-null object\n",
      "cnpj_raiz          547 non-null object\n",
      "dtypes: int64(6), object(14)\n",
      "memory usage: 85.5+ KB\n"
     ]
    }
   ],
   "source": [
    "deputados_socios_empresas.info()"
   ]
  },
  {
   "cell_type": "code",
   "execution_count": null,
   "metadata": {},
   "outputs": [],
   "source": []
  },
  {
   "cell_type": "markdown",
   "metadata": {},
   "source": [
    "# Contratos de serviços terceirizados "
   ]
  },
  {
   "cell_type": "markdown",
   "metadata": {},
   "source": [
    "Fonte: http://www.transparencia.sp.gov.br/contratos_terc.html"
   ]
  },
  {
   "cell_type": "code",
   "execution_count": 9,
   "metadata": {},
   "outputs": [],
   "source": [
    "terceirizados = pd.read_excel('dados/contratos/contratos_terceirizados_set_2018.xls',sheet_name='Plan1')"
   ]
  },
  {
   "cell_type": "code",
   "execution_count": 10,
   "metadata": {},
   "outputs": [
    {
     "name": "stdout",
     "output_type": "stream",
     "text": [
      "<class 'pandas.core.frame.DataFrame'>\n",
      "RangeIndex: 10797 entries, 0 to 10796\n",
      "Data columns (total 12 columns):\n",
      "Nome da Secretaria                   10797 non-null object\n",
      "Unidade Gestão Orçamentária (UGO)    10797 non-null object\n",
      "Unidade Gestão Executora (UGE)       10797 non-null object\n",
      "Número do Contrato                   10796 non-null object\n",
      "Início                               10797 non-null datetime64[ns]\n",
      "Fim                                  10797 non-null datetime64[ns]\n",
      "Valor                                10797 non-null object\n",
      "CNPJ_Fornecedor                      10797 non-null object\n",
      "Nome Fornecedor                      10797 non-null object\n",
      "Objetivo do Contrato                 10797 non-null object\n",
      "Classificação do Serviço             10797 non-null object\n",
      "Tipo do Serviço                      10797 non-null object\n",
      "dtypes: datetime64[ns](2), object(10)\n",
      "memory usage: 1012.3+ KB\n"
     ]
    }
   ],
   "source": [
    "terceirizados.info()"
   ]
  },
  {
   "cell_type": "code",
   "execution_count": 11,
   "metadata": {},
   "outputs": [],
   "source": [
    "def limpeza1(linha):\n",
    "    documento = str(linha[\"CNPJ_Fornecedor\"])\n",
    "    documento = documento.strip()\n",
    "    documento = documento.replace('.', '')\n",
    "    documento = documento.replace('-', '')\n",
    "    documento = documento.replace('/', '')\n",
    "    return str(documento)\n",
    "\n",
    "def limpeza2(linha):\n",
    "    documento = str(linha[\"CNPJ_limpo\"])\n",
    "    if len(documento) > 11:\n",
    "        return documento[:8]\n",
    "    else:\n",
    "        return \"documento_cpf\"\n",
    "    \n",
    "def limpeza3(linha):\n",
    "    valor = linha[\"Valor\"]\n",
    "    valor = valor.replace('.', '')\n",
    "    valor = valor.replace(',', '.')\n",
    "    return valor"
   ]
  },
  {
   "cell_type": "code",
   "execution_count": 12,
   "metadata": {},
   "outputs": [],
   "source": [
    "terceirizados[\"CNPJ_limpo\"] = terceirizados.apply(limpeza1, axis=1)\n",
    "terceirizados['cnpj_raiz'] = terceirizados.apply(limpeza2, axis=1)\n",
    "terceirizados['Valor'] = terceirizados.apply(limpeza3, axis=1)\n",
    "\n",
    "terceirizados['Valor'] = terceirizados.Valor.astype('float64')"
   ]
  },
  {
   "cell_type": "code",
   "execution_count": 13,
   "metadata": {},
   "outputs": [
    {
     "data": {
      "text/html": [
       "<div>\n",
       "<style scoped>\n",
       "    .dataframe tbody tr th:only-of-type {\n",
       "        vertical-align: middle;\n",
       "    }\n",
       "\n",
       "    .dataframe tbody tr th {\n",
       "        vertical-align: top;\n",
       "    }\n",
       "\n",
       "    .dataframe thead th {\n",
       "        text-align: right;\n",
       "    }\n",
       "</style>\n",
       "<table border=\"1\" class=\"dataframe\">\n",
       "  <thead>\n",
       "    <tr style=\"text-align: right;\">\n",
       "      <th></th>\n",
       "      <th>index</th>\n",
       "      <th>Nome da Secretaria</th>\n",
       "      <th>Unidade Gestão Orçamentária (UGO)</th>\n",
       "      <th>Unidade Gestão Executora (UGE)</th>\n",
       "      <th>Número do Contrato</th>\n",
       "      <th>Início</th>\n",
       "      <th>Fim</th>\n",
       "      <th>Valor</th>\n",
       "      <th>CNPJ_Fornecedor</th>\n",
       "      <th>Nome Fornecedor</th>\n",
       "      <th>Objetivo do Contrato</th>\n",
       "      <th>Classificação do Serviço</th>\n",
       "      <th>Tipo do Serviço</th>\n",
       "      <th>CNPJ_limpo</th>\n",
       "      <th>cnpj_raiz</th>\n",
       "    </tr>\n",
       "  </thead>\n",
       "  <tbody>\n",
       "    <tr>\n",
       "      <th>0</th>\n",
       "      <td>0</td>\n",
       "      <td>CASA CIVIL</td>\n",
       "      <td>AGÊNCIA METROPOLITANA DA BAIXADA SANTISTA - AGEM</td>\n",
       "      <td>AGÊNCIA METROPOLITANA DA BAIXADA SANTISTA - AGEM</td>\n",
       "      <td>0001/2015</td>\n",
       "      <td>2015-01-05</td>\n",
       "      <td>2018-10-04</td>\n",
       "      <td>628140.00</td>\n",
       "      <td>10.606.395/0001-24</td>\n",
       "      <td>HS LOCADORA DE VEICULOS LTDA ME</td>\n",
       "      <td>TRANSPORTE MEDIANTE A LOCAÇÃO DE VEÍCULOS COM ...</td>\n",
       "      <td>Transporte</td>\n",
       "      <td>Transporte Mediante Locação de Veículos com Co...</td>\n",
       "      <td>10606395000124</td>\n",
       "      <td>10606395</td>\n",
       "    </tr>\n",
       "    <tr>\n",
       "      <th>1</th>\n",
       "      <td>1</td>\n",
       "      <td>CASA CIVIL</td>\n",
       "      <td>AGÊNCIA METROPOLITANA DA BAIXADA SANTISTA - AGEM</td>\n",
       "      <td>AGÊNCIA METROPOLITANA DA BAIXADA SANTISTA - AGEM</td>\n",
       "      <td>0001/2017</td>\n",
       "      <td>2017-04-10</td>\n",
       "      <td>2018-07-09</td>\n",
       "      <td>79500.00</td>\n",
       "      <td>15.182.986/0001-35</td>\n",
       "      <td>GLOBALSERVICE SERVICOS TERCEIRIZADOS EIRELI - ME</td>\n",
       "      <td>PRESTAÇÃO DE SERVIÇOS DE COPEIRAGEM COM 02 (DO...</td>\n",
       "      <td>Apoio administrativo / operacional</td>\n",
       "      <td>Apoio administrativo/operacional</td>\n",
       "      <td>15182986000135</td>\n",
       "      <td>15182986</td>\n",
       "    </tr>\n",
       "    <tr>\n",
       "      <th>2</th>\n",
       "      <td>2</td>\n",
       "      <td>CASA CIVIL</td>\n",
       "      <td>AGÊNCIA METROPOLITANA DA BAIXADA SANTISTA - AGEM</td>\n",
       "      <td>AGÊNCIA METROPOLITANA DA BAIXADA SANTISTA - AGEM</td>\n",
       "      <td>0002/2016</td>\n",
       "      <td>2016-05-10</td>\n",
       "      <td>2018-11-09</td>\n",
       "      <td>71511.45</td>\n",
       "      <td>20.811.381/0001-04</td>\n",
       "      <td>VIENA SERVIÇOS TERCEIRIZADOS EIRELI</td>\n",
       "      <td>CONTRATAÇÃO DE EMPRESA ESPECIALIZADA PARA PRES...</td>\n",
       "      <td>Limpeza</td>\n",
       "      <td>Limpeza Predial</td>\n",
       "      <td>20811381000104</td>\n",
       "      <td>20811381</td>\n",
       "    </tr>\n",
       "    <tr>\n",
       "      <th>3</th>\n",
       "      <td>3</td>\n",
       "      <td>CASA CIVIL</td>\n",
       "      <td>AGÊNCIA METROPOLITANA DA BAIXADA SANTISTA - AGEM</td>\n",
       "      <td>AGÊNCIA METROPOLITANA DA BAIXADA SANTISTA - AGEM</td>\n",
       "      <td>0003/2016</td>\n",
       "      <td>2016-06-01</td>\n",
       "      <td>2018-05-31</td>\n",
       "      <td>291000.00</td>\n",
       "      <td>65.414.476/0001-14</td>\n",
       "      <td>PHONOWAY COMER.E REPRES.DE SIST.LTDA</td>\n",
       "      <td>CONTRATAÇÃO DE EMPRESA ESPECIALIZADA PARA PRES...</td>\n",
       "      <td>Técnicos</td>\n",
       "      <td>Informática</td>\n",
       "      <td>65414476000114</td>\n",
       "      <td>65414476</td>\n",
       "    </tr>\n",
       "    <tr>\n",
       "      <th>4</th>\n",
       "      <td>4</td>\n",
       "      <td>CASA CIVIL</td>\n",
       "      <td>AGÊNCIA METROPOLITANA DA BAIXADA SANTISTA - AGEM</td>\n",
       "      <td>AGÊNCIA METROPOLITANA DA BAIXADA SANTISTA - AGEM</td>\n",
       "      <td>0003/2017</td>\n",
       "      <td>2017-06-01</td>\n",
       "      <td>2019-05-31</td>\n",
       "      <td>1310000.00</td>\n",
       "      <td>08.690.626/0001-89</td>\n",
       "      <td>PLAN CONSULTORIA E PESQUISA EM CIêNCIAS SOCIAI...</td>\n",
       "      <td>CONTRATAÇÃO DE SERVIÇOS DE CONSULTORIA PARA A ...</td>\n",
       "      <td>Técnicos</td>\n",
       "      <td>Auditoria, consultoria e assessoria financeira...</td>\n",
       "      <td>08690626000189</td>\n",
       "      <td>08690626</td>\n",
       "    </tr>\n",
       "  </tbody>\n",
       "</table>\n",
       "</div>"
      ],
      "text/plain": [
       "   index Nome da Secretaria                 Unidade Gestão Orçamentária (UGO)  \\\n",
       "0      0         CASA CIVIL  AGÊNCIA METROPOLITANA DA BAIXADA SANTISTA - AGEM   \n",
       "1      1         CASA CIVIL  AGÊNCIA METROPOLITANA DA BAIXADA SANTISTA - AGEM   \n",
       "2      2         CASA CIVIL  AGÊNCIA METROPOLITANA DA BAIXADA SANTISTA - AGEM   \n",
       "3      3         CASA CIVIL  AGÊNCIA METROPOLITANA DA BAIXADA SANTISTA - AGEM   \n",
       "4      4         CASA CIVIL  AGÊNCIA METROPOLITANA DA BAIXADA SANTISTA - AGEM   \n",
       "\n",
       "                     Unidade Gestão Executora (UGE) Número do Contrato  \\\n",
       "0  AGÊNCIA METROPOLITANA DA BAIXADA SANTISTA - AGEM          0001/2015   \n",
       "1  AGÊNCIA METROPOLITANA DA BAIXADA SANTISTA - AGEM          0001/2017   \n",
       "2  AGÊNCIA METROPOLITANA DA BAIXADA SANTISTA - AGEM          0002/2016   \n",
       "3  AGÊNCIA METROPOLITANA DA BAIXADA SANTISTA - AGEM          0003/2016   \n",
       "4  AGÊNCIA METROPOLITANA DA BAIXADA SANTISTA - AGEM          0003/2017   \n",
       "\n",
       "      Início        Fim       Valor     CNPJ_Fornecedor  \\\n",
       "0 2015-01-05 2018-10-04   628140.00  10.606.395/0001-24   \n",
       "1 2017-04-10 2018-07-09    79500.00  15.182.986/0001-35   \n",
       "2 2016-05-10 2018-11-09    71511.45  20.811.381/0001-04   \n",
       "3 2016-06-01 2018-05-31   291000.00  65.414.476/0001-14   \n",
       "4 2017-06-01 2019-05-31  1310000.00  08.690.626/0001-89   \n",
       "\n",
       "                                     Nome Fornecedor  \\\n",
       "0                    HS LOCADORA DE VEICULOS LTDA ME   \n",
       "1   GLOBALSERVICE SERVICOS TERCEIRIZADOS EIRELI - ME   \n",
       "2                VIENA SERVIÇOS TERCEIRIZADOS EIRELI   \n",
       "3               PHONOWAY COMER.E REPRES.DE SIST.LTDA   \n",
       "4  PLAN CONSULTORIA E PESQUISA EM CIêNCIAS SOCIAI...   \n",
       "\n",
       "                                Objetivo do Contrato  \\\n",
       "0  TRANSPORTE MEDIANTE A LOCAÇÃO DE VEÍCULOS COM ...   \n",
       "1  PRESTAÇÃO DE SERVIÇOS DE COPEIRAGEM COM 02 (DO...   \n",
       "2  CONTRATAÇÃO DE EMPRESA ESPECIALIZADA PARA PRES...   \n",
       "3  CONTRATAÇÃO DE EMPRESA ESPECIALIZADA PARA PRES...   \n",
       "4  CONTRATAÇÃO DE SERVIÇOS DE CONSULTORIA PARA A ...   \n",
       "\n",
       "             Classificação do Serviço  \\\n",
       "0                          Transporte   \n",
       "1  Apoio administrativo / operacional   \n",
       "2                             Limpeza   \n",
       "3                            Técnicos   \n",
       "4                            Técnicos   \n",
       "\n",
       "                                     Tipo do Serviço      CNPJ_limpo cnpj_raiz  \n",
       "0  Transporte Mediante Locação de Veículos com Co...  10606395000124  10606395  \n",
       "1                   Apoio administrativo/operacional  15182986000135  15182986  \n",
       "2                                    Limpeza Predial  20811381000104  20811381  \n",
       "3                                        Informática  65414476000114  65414476  \n",
       "4  Auditoria, consultoria e assessoria financeira...  08690626000189  08690626  "
      ]
     },
     "execution_count": 13,
     "metadata": {},
     "output_type": "execute_result"
    }
   ],
   "source": [
    "terceirizados.reset_index().head()"
   ]
  },
  {
   "cell_type": "code",
   "execution_count": null,
   "metadata": {},
   "outputs": [],
   "source": []
  },
  {
   "cell_type": "markdown",
   "metadata": {},
   "source": [
    "Cruzamentos com empresas de deputados"
   ]
  },
  {
   "cell_type": "code",
   "execution_count": 14,
   "metadata": {},
   "outputs": [],
   "source": [
    "terceirizados_deputados = pd.merge(terceirizados, deputados_socios_empresas.drop_duplicates('cnpj_raiz'), left_on='cnpj_raiz', right_on='cnpj_raiz')"
   ]
  },
  {
   "cell_type": "code",
   "execution_count": 15,
   "metadata": {},
   "outputs": [
    {
     "name": "stdout",
     "output_type": "stream",
     "text": [
      "<class 'pandas.core.frame.DataFrame'>\n",
      "Index: 0 entries\n",
      "Data columns (total 33 columns):\n",
      "Nome da Secretaria                   0 non-null object\n",
      "Unidade Gestão Orçamentária (UGO)    0 non-null object\n",
      "Unidade Gestão Executora (UGE)       0 non-null object\n",
      "Número do Contrato                   0 non-null object\n",
      "Início                               0 non-null datetime64[ns]\n",
      "Fim                                  0 non-null datetime64[ns]\n",
      "Valor                                0 non-null float64\n",
      "CNPJ_Fornecedor                      0 non-null object\n",
      "Nome Fornecedor                      0 non-null object\n",
      "Objetivo do Contrato                 0 non-null object\n",
      "Classificação do Serviço             0 non-null object\n",
      "Tipo do Serviço                      0 non-null object\n",
      "CNPJ_limpo                           0 non-null object\n",
      "cnpj_raiz                            0 non-null object\n",
      "codigo_unico                         0 non-null int64\n",
      "nome_deputado                        0 non-null object\n",
      "uf                                   0 non-null object\n",
      "nome_completo                        0 non-null object\n",
      "sequencial                           0 non-null int64\n",
      "cpf                                  0 non-null object\n",
      "nome_urna                            0 non-null object\n",
      "partido_eleicao                      0 non-null object\n",
      "situacao                             0 non-null object\n",
      "Unnamed: 0_x                         0 non-null int64\n",
      "cnpj                                 0 non-null object\n",
      "indicador                            0 non-null int64\n",
      "documento                            0 non-null object\n",
      "qualificacao                         0 non-null int64\n",
      "socio                                0 non-null object\n",
      "estado_x                             0 non-null object\n",
      "Unnamed: 0_y                         0 non-null int64\n",
      "nome_empresa                         0 non-null object\n",
      "estado_y                             0 non-null object\n",
      "dtypes: datetime64[ns](2), float64(1), int64(6), object(24)\n",
      "memory usage: 0.0+ bytes\n"
     ]
    }
   ],
   "source": [
    "terceirizados_deputados.info()"
   ]
  },
  {
   "cell_type": "code",
   "execution_count": null,
   "metadata": {},
   "outputs": [],
   "source": []
  },
  {
   "cell_type": "code",
   "execution_count": null,
   "metadata": {},
   "outputs": [],
   "source": []
  }
 ],
 "metadata": {
  "kernelspec": {
   "display_name": "Python 3",
   "language": "python",
   "name": "python3"
  },
  "language_info": {
   "codemirror_mode": {
    "name": "ipython",
    "version": 3
   },
   "file_extension": ".py",
   "mimetype": "text/x-python",
   "name": "python",
   "nbconvert_exporter": "python",
   "pygments_lexer": "ipython3",
   "version": "3.6.2"
  }
 },
 "nbformat": 4,
 "nbformat_minor": 2
}
