{
 "cells": [
  {
   "cell_type": "code",
   "execution_count": 1,
   "metadata": {},
   "outputs": [],
   "source": [
    "# -*- coding: utf-8\n",
    "# VOLT DATA LAB (https://www.voltdata.info/)\n",
    "# Reinaldo Chaves (@paidatocandeira)\n",
    "# Mostra quais projetos de lei tiveram aprovação e as falhas de transparência do sistema \n",
    "#"
   ]
  },
  {
   "cell_type": "code",
   "execution_count": null,
   "metadata": {},
   "outputs": [],
   "source": []
  },
  {
   "cell_type": "code",
   "execution_count": 2,
   "metadata": {},
   "outputs": [],
   "source": [
    "import json\n",
    "import xmltodict\n",
    "import pandas as pd\n",
    "import numpy as np\n",
    "from datetime import date"
   ]
  },
  {
   "cell_type": "code",
   "execution_count": null,
   "metadata": {},
   "outputs": [],
   "source": []
  },
  {
   "cell_type": "markdown",
   "metadata": {},
   "source": [
    "# Tramitações"
   ]
  },
  {
   "cell_type": "code",
   "execution_count": null,
   "metadata": {},
   "outputs": [],
   "source": []
  },
  {
   "cell_type": "markdown",
   "metadata": {},
   "source": [
    "# O sistema de dados abertos da Alesp tem um arquivo enorme de histórico de tramitações"
   ]
  },
  {
   "cell_type": "markdown",
   "metadata": {},
   "source": [
    "https://www.al.sp.gov.br/dados-abertos/recurso/101"
   ]
  },
  {
   "cell_type": "markdown",
   "metadata": {},
   "source": [
    "# Mas esse arquivo tem erros de formatação nos anos mais antigos e não abre"
   ]
  },
  {
   "cell_type": "code",
   "execution_count": null,
   "metadata": {},
   "outputs": [],
   "source": []
  },
  {
   "cell_type": "markdown",
   "metadata": {},
   "source": [
    "Há uma alternativa, um arquivo menor e bem formatado, mas ele cobre só até 09/2017"
   ]
  },
  {
   "cell_type": "code",
   "execution_count": null,
   "metadata": {},
   "outputs": [],
   "source": []
  },
  {
   "cell_type": "markdown",
   "metadata": {},
   "source": [
    "Atual"
   ]
  },
  {
   "cell_type": "markdown",
   "metadata": {},
   "source": [
    "https://www.al.sp.gov.br/dados-abertos/recurso/221"
   ]
  },
  {
   "cell_type": "code",
   "execution_count": 3,
   "metadata": {},
   "outputs": [],
   "source": [
    "with open(\"dados/tramitacao/documento_andamento_atual_set_2018.xml\", 'r') as f:\n",
    "    xmlString = f.read()"
   ]
  },
  {
   "cell_type": "code",
   "execution_count": 4,
   "metadata": {},
   "outputs": [],
   "source": [
    "jsonString = json.dumps(xmltodict.parse(xmlString), indent=4)"
   ]
  },
  {
   "cell_type": "code",
   "execution_count": 5,
   "metadata": {},
   "outputs": [],
   "source": [
    "with open(\"output.json\", 'w') as f:\n",
    "    f.write(jsonString)"
   ]
  },
  {
   "cell_type": "code",
   "execution_count": 6,
   "metadata": {},
   "outputs": [],
   "source": [
    "arquivo_json = open('output.json', 'r')\n",
    "dados_json = json.load(arquivo_json)"
   ]
  },
  {
   "cell_type": "code",
   "execution_count": 7,
   "metadata": {},
   "outputs": [],
   "source": [
    "#dados_json['documentos_autores']['DocumentoAutor']"
   ]
  },
  {
   "cell_type": "code",
   "execution_count": 8,
   "metadata": {},
   "outputs": [],
   "source": [
    "lista = dados_json['documentos_andamentos']['DocumentoAndamento']"
   ]
  },
  {
   "cell_type": "code",
   "execution_count": 9,
   "metadata": {},
   "outputs": [],
   "source": [
    "df_andamentos = pd.DataFrame(lista, columns = ['Descricao', \n",
    "                                               'Data', \n",
    "                                               'IdComissao', \n",
    "                                               'IdDocumento', \n",
    "                                               'IdEtapa', \n",
    "                                               'IdTpAndamento', \n",
    "                                               'NmEtapa', \n",
    "                                               'NrOrdem', \n",
    "                                               'TpAndamento'])"
   ]
  },
  {
   "cell_type": "code",
   "execution_count": 13,
   "metadata": {},
   "outputs": [
    {
     "name": "stdout",
     "output_type": "stream",
     "text": [
      "<class 'pandas.core.frame.DataFrame'>\n",
      "RangeIndex: 224514 entries, 0 to 224513\n",
      "Data columns (total 9 columns):\n",
      "Descricao        224513 non-null object\n",
      "Data             224514 non-null object\n",
      "IdComissao       224514 non-null object\n",
      "IdDocumento      224514 non-null object\n",
      "IdEtapa          224514 non-null object\n",
      "IdTpAndamento    224514 non-null object\n",
      "NmEtapa          224514 non-null object\n",
      "NrOrdem          224514 non-null object\n",
      "TpAndamento      224514 non-null object\n",
      "dtypes: object(9)\n",
      "memory usage: 15.4+ MB\n"
     ]
    }
   ],
   "source": [
    "df_andamentos.info()"
   ]
  },
  {
   "cell_type": "code",
   "execution_count": null,
   "metadata": {},
   "outputs": [],
   "source": []
  },
  {
   "cell_type": "code",
   "execution_count": 14,
   "metadata": {},
   "outputs": [
    {
     "data": {
      "text/html": [
       "<div>\n",
       "<style scoped>\n",
       "    .dataframe tbody tr th:only-of-type {\n",
       "        vertical-align: middle;\n",
       "    }\n",
       "\n",
       "    .dataframe tbody tr th {\n",
       "        vertical-align: top;\n",
       "    }\n",
       "\n",
       "    .dataframe thead th {\n",
       "        text-align: right;\n",
       "    }\n",
       "</style>\n",
       "<table border=\"1\" class=\"dataframe\">\n",
       "  <thead>\n",
       "    <tr style=\"text-align: right;\">\n",
       "      <th></th>\n",
       "      <th>index</th>\n",
       "      <th>Descricao</th>\n",
       "      <th>Data</th>\n",
       "      <th>IdComissao</th>\n",
       "      <th>IdDocumento</th>\n",
       "      <th>IdEtapa</th>\n",
       "      <th>IdTpAndamento</th>\n",
       "      <th>NmEtapa</th>\n",
       "      <th>NrOrdem</th>\n",
       "      <th>TpAndamento</th>\n",
       "    </tr>\n",
       "  </thead>\n",
       "  <tbody>\n",
       "    <tr>\n",
       "      <th>0</th>\n",
       "      <td>0</td>\n",
       "      <td>Arquivado pelo Setor de Arquivo na caixa 13.01...</td>\n",
       "      <td>2018-06-06T00:00:00-03:00</td>\n",
       "      <td>0</td>\n",
       "      <td>3239</td>\n",
       "      <td>17</td>\n",
       "      <td>32</td>\n",
       "      <td>Arquivo</td>\n",
       "      <td>0</td>\n",
       "      <td>E</td>\n",
       "    </tr>\n",
       "    <tr>\n",
       "      <th>1</th>\n",
       "      <td>1</td>\n",
       "      <td>Enviado de SERVIÇO DE ARQUIVO para DDI-DEP. DE...</td>\n",
       "      <td>2017-10-31T00:00:00-02:00</td>\n",
       "      <td>0</td>\n",
       "      <td>4389</td>\n",
       "      <td>32</td>\n",
       "      <td>53</td>\n",
       "      <td>Não Identificada</td>\n",
       "      <td>0</td>\n",
       "      <td>I</td>\n",
       "    </tr>\n",
       "    <tr>\n",
       "      <th>2</th>\n",
       "      <td>2</td>\n",
       "      <td>Recebido por DDI-DEP. DE DOCUM. INFORMAÇÃO (Gu...</td>\n",
       "      <td>2017-11-24T00:00:00-02:00</td>\n",
       "      <td>0</td>\n",
       "      <td>4389</td>\n",
       "      <td>32</td>\n",
       "      <td>53</td>\n",
       "      <td>Não Identificada</td>\n",
       "      <td>0</td>\n",
       "      <td>I</td>\n",
       "    </tr>\n",
       "    <tr>\n",
       "      <th>3</th>\n",
       "      <td>3</td>\n",
       "      <td>Enviado de DDI-DEP. DE DOCUM. INFORMAÇÃO para ...</td>\n",
       "      <td>2017-11-24T00:00:00-02:00</td>\n",
       "      <td>0</td>\n",
       "      <td>4389</td>\n",
       "      <td>32</td>\n",
       "      <td>53</td>\n",
       "      <td>Não Identificada</td>\n",
       "      <td>1</td>\n",
       "      <td>I</td>\n",
       "    </tr>\n",
       "    <tr>\n",
       "      <th>4</th>\n",
       "      <td>4</td>\n",
       "      <td>Recebido por SERVIÇO DE ARQUIVO (Guia 15001/2017)</td>\n",
       "      <td>2017-12-21T00:00:00-02:00</td>\n",
       "      <td>0</td>\n",
       "      <td>4389</td>\n",
       "      <td>32</td>\n",
       "      <td>53</td>\n",
       "      <td>Não Identificada</td>\n",
       "      <td>0</td>\n",
       "      <td>I</td>\n",
       "    </tr>\n",
       "  </tbody>\n",
       "</table>\n",
       "</div>"
      ],
      "text/plain": [
       "   index                                          Descricao  \\\n",
       "0      0  Arquivado pelo Setor de Arquivo na caixa 13.01...   \n",
       "1      1  Enviado de SERVIÇO DE ARQUIVO para DDI-DEP. DE...   \n",
       "2      2  Recebido por DDI-DEP. DE DOCUM. INFORMAÇÃO (Gu...   \n",
       "3      3  Enviado de DDI-DEP. DE DOCUM. INFORMAÇÃO para ...   \n",
       "4      4  Recebido por SERVIÇO DE ARQUIVO (Guia 15001/2017)   \n",
       "\n",
       "                        Data IdComissao IdDocumento IdEtapa IdTpAndamento  \\\n",
       "0  2018-06-06T00:00:00-03:00          0        3239      17            32   \n",
       "1  2017-10-31T00:00:00-02:00          0        4389      32            53   \n",
       "2  2017-11-24T00:00:00-02:00          0        4389      32            53   \n",
       "3  2017-11-24T00:00:00-02:00          0        4389      32            53   \n",
       "4  2017-12-21T00:00:00-02:00          0        4389      32            53   \n",
       "\n",
       "            NmEtapa NrOrdem TpAndamento  \n",
       "0           Arquivo       0           E  \n",
       "1  Não Identificada       0           I  \n",
       "2  Não Identificada       0           I  \n",
       "3  Não Identificada       1           I  \n",
       "4  Não Identificada       0           I  "
      ]
     },
     "execution_count": 14,
     "metadata": {},
     "output_type": "execute_result"
    }
   ],
   "source": [
    "df_andamentos.reset_index().head()"
   ]
  },
  {
   "cell_type": "code",
   "execution_count": null,
   "metadata": {},
   "outputs": [],
   "source": []
  },
  {
   "cell_type": "code",
   "execution_count": 12,
   "metadata": {},
   "outputs": [],
   "source": [
    "#a = df_andamentos['Descricao'].value_counts()"
   ]
  },
  {
   "cell_type": "code",
   "execution_count": null,
   "metadata": {},
   "outputs": [],
   "source": []
  },
  {
   "cell_type": "markdown",
   "metadata": {},
   "source": [
    "# Filtra só as linhas que têm alguma aprovação de projeto de lei"
   ]
  },
  {
   "cell_type": "code",
   "execution_count": 18,
   "metadata": {},
   "outputs": [],
   "source": [
    "mask = df_andamentos['Descricao'].str.contains(\"Aprovado o Projeto\", na=False)\n",
    "aprovado = df_andamentos[mask]"
   ]
  },
  {
   "cell_type": "code",
   "execution_count": 19,
   "metadata": {},
   "outputs": [
    {
     "name": "stdout",
     "output_type": "stream",
     "text": [
      "<class 'pandas.core.frame.DataFrame'>\n",
      "Int64Index: 264 entries, 1217 to 196828\n",
      "Data columns (total 9 columns):\n",
      "Descricao        264 non-null object\n",
      "Data             264 non-null object\n",
      "IdComissao       264 non-null object\n",
      "IdDocumento      264 non-null object\n",
      "IdEtapa          264 non-null object\n",
      "IdTpAndamento    264 non-null object\n",
      "NmEtapa          264 non-null object\n",
      "NrOrdem          264 non-null object\n",
      "TpAndamento      264 non-null object\n",
      "dtypes: object(9)\n",
      "memory usage: 20.6+ KB\n"
     ]
    }
   ],
   "source": [
    "aprovado.info()"
   ]
  },
  {
   "cell_type": "code",
   "execution_count": 20,
   "metadata": {},
   "outputs": [],
   "source": [
    "aprovado.to_excel('resultados/projetos_aprovados.xlsx',sheet_name='Sheet1')"
   ]
  },
  {
   "cell_type": "code",
   "execution_count": null,
   "metadata": {},
   "outputs": [],
   "source": []
  },
  {
   "cell_type": "markdown",
   "metadata": {},
   "source": [
    "# Carrega a base de palavras-chave/projetos criada no notebook alesp_projetos"
   ]
  },
  {
   "cell_type": "code",
   "execution_count": 21,
   "metadata": {},
   "outputs": [],
   "source": [
    "palavras_chave_dep = pd.read_excel(\"resultados/palavras_chave_projetos_deputados.xlsx\", sheet_name='Sheet1', converters={'IdDocumento': lambda x: str(x), \n",
    "                                                                                                                         'IdPalavra': lambda x: str(x), \n",
    "                                                                                                                                 'IdAutor': lambda x: str(x), \n",
    "                                                                                                                         'CodOriginalidade': lambda x: str(x), \n",
    "                                                                                                                         'IdNatureza': lambda x: str(x), \n",
    "                                                                                                                         'NroLegislativo': lambda x: str(x),\n",
    "                                                                                                                         'codigo_unico': lambda x: str(x),\n",
    "                                                                                                                         'sequencial': lambda x: str(x),\n",
    "                                                                                                                         'cpf': lambda x: str(x)\n",
    "                                                                                                                         })"
   ]
  },
  {
   "cell_type": "code",
   "execution_count": 22,
   "metadata": {},
   "outputs": [
    {
     "name": "stdout",
     "output_type": "stream",
     "text": [
      "<class 'pandas.core.frame.DataFrame'>\n",
      "Int64Index: 31869 entries, 0 to 31868\n",
      "Data columns (total 22 columns):\n",
      "IdAutor             31869 non-null object\n",
      "IdDocumento         31869 non-null object\n",
      "NomeAutor           31869 non-null object\n",
      "codigo_unico        31869 non-null object\n",
      "nome_deputado       31869 non-null object\n",
      "uf                  31869 non-null object\n",
      "nome_completo       31869 non-null object\n",
      "sequencial          31869 non-null object\n",
      "cpf                 31869 non-null object\n",
      "nome_urna           31869 non-null object\n",
      "partido_eleicao     31869 non-null object\n",
      "situacao            31869 non-null object\n",
      "AnoLegislativo      31869 non-null int64\n",
      "CodOriginalidade    24430 non-null object\n",
      "DtEntradaSistema    31869 non-null datetime64[ns]\n",
      "DtPublicacao        31869 non-null datetime64[ns]\n",
      "Ementa              31869 non-null object\n",
      "IdNatureza          31869 non-null object\n",
      "NroLegislativo      31869 non-null object\n",
      "IdPalavra           31869 non-null object\n",
      "Palavra             31869 non-null object\n",
      "PalavraSemAcento    31869 non-null object\n",
      "dtypes: datetime64[ns](2), int64(1), object(19)\n",
      "memory usage: 5.6+ MB\n"
     ]
    }
   ],
   "source": [
    "palavras_chave_dep.info()"
   ]
  },
  {
   "cell_type": "code",
   "execution_count": null,
   "metadata": {},
   "outputs": [],
   "source": []
  },
  {
   "cell_type": "code",
   "execution_count": 23,
   "metadata": {},
   "outputs": [],
   "source": [
    "projetos_aprovados = pd.merge(palavras_chave_dep, aprovado, left_on='IdDocumento', right_on='IdDocumento')"
   ]
  },
  {
   "cell_type": "code",
   "execution_count": 24,
   "metadata": {},
   "outputs": [
    {
     "name": "stdout",
     "output_type": "stream",
     "text": [
      "<class 'pandas.core.frame.DataFrame'>\n",
      "Int64Index: 6308 entries, 0 to 6307\n",
      "Data columns (total 30 columns):\n",
      "IdAutor             6308 non-null object\n",
      "IdDocumento         6308 non-null object\n",
      "NomeAutor           6308 non-null object\n",
      "codigo_unico        6308 non-null object\n",
      "nome_deputado       6308 non-null object\n",
      "uf                  6308 non-null object\n",
      "nome_completo       6308 non-null object\n",
      "sequencial          6308 non-null object\n",
      "cpf                 6308 non-null object\n",
      "nome_urna           6308 non-null object\n",
      "partido_eleicao     6308 non-null object\n",
      "situacao            6308 non-null object\n",
      "AnoLegislativo      6308 non-null int64\n",
      "CodOriginalidade    864 non-null object\n",
      "DtEntradaSistema    6308 non-null datetime64[ns]\n",
      "DtPublicacao        6308 non-null datetime64[ns]\n",
      "Ementa              6308 non-null object\n",
      "IdNatureza          6308 non-null object\n",
      "NroLegislativo      6308 non-null object\n",
      "IdPalavra           6308 non-null object\n",
      "Palavra             6308 non-null object\n",
      "PalavraSemAcento    6308 non-null object\n",
      "Descricao           6308 non-null object\n",
      "Data                6308 non-null object\n",
      "IdComissao          6308 non-null object\n",
      "IdEtapa             6308 non-null object\n",
      "IdTpAndamento       6308 non-null object\n",
      "NmEtapa             6308 non-null object\n",
      "NrOrdem             6308 non-null object\n",
      "TpAndamento         6308 non-null object\n",
      "dtypes: datetime64[ns](2), int64(1), object(27)\n",
      "memory usage: 1.5+ MB\n"
     ]
    }
   ],
   "source": [
    "projetos_aprovados.info()"
   ]
  },
  {
   "cell_type": "code",
   "execution_count": 25,
   "metadata": {},
   "outputs": [
    {
     "data": {
      "text/plain": [
       "95"
      ]
     },
     "execution_count": 25,
     "metadata": {},
     "output_type": "execute_result"
    }
   ],
   "source": [
    "len(projetos_aprovados['NomeAutor'].value_counts())"
   ]
  },
  {
   "cell_type": "code",
   "execution_count": 26,
   "metadata": {},
   "outputs": [
    {
     "data": {
      "text/plain": [
       "195"
      ]
     },
     "execution_count": 26,
     "metadata": {},
     "output_type": "execute_result"
    }
   ],
   "source": [
    "a = len(projetos_aprovados['IdDocumento'].value_counts())\n",
    "a"
   ]
  },
  {
   "cell_type": "code",
   "execution_count": null,
   "metadata": {},
   "outputs": [],
   "source": []
  },
  {
   "cell_type": "markdown",
   "metadata": {},
   "source": [
    "Deputados com projetos aprovados"
   ]
  },
  {
   "cell_type": "code",
   "execution_count": 27,
   "metadata": {},
   "outputs": [
    {
     "data": {
      "text/plain": [
       "NomeAutor\n",
       "Sebastião Santos                     10\n",
       "Pedro Tobias                          7\n",
       "Carlão Pignatari                      7\n",
       "Edson Giriboni                        7\n",
       "Caio França                           7\n",
       "Márcio Camargo                        7\n",
       "Afonso Lobato                         6\n",
       "Itamar Borges                         6\n",
       "Roberto Engler                        6\n",
       "Welson Gasparini                      5\n",
       "Fernando Cury                         5\n",
       "Chico Sardelli                        5\n",
       "Luiz Carlos Gondim                    5\n",
       "Marcos Damasio                        5\n",
       "Mauro Bragato                         5\n",
       "Paulo Correa Jr                       5\n",
       "Maria Lúcia Amary                     5\n",
       "Roque Barbiere                        5\n",
       "Roberto Massafera                     4\n",
       "Rita Passos                           4\n",
       "Luiz Fernando T. Ferreira             4\n",
       "Wellington Moura                      4\n",
       "Célia Leão                            4\n",
       "Davi Zaia                             4\n",
       "João Paulo Rillo                      4\n",
       "Ricardo Madalena                      4\n",
       "Edmir Chedid                          4\n",
       "André do Prado                        4\n",
       "Gil Lancaster                         3\n",
       "Doutor Ulysses                        3\n",
       "                                     ..\n",
       "Reinaldo Alguz                        2\n",
       "Raul Marcelo                          2\n",
       "Professor Auriel                      2\n",
       "Pedro Kaká                            2\n",
       "Marcos Zerbini                        2\n",
       "Marcos Martins                        2\n",
       "Fernando Capez                        2\n",
       "Luiz Turco                            2\n",
       "Léo Oliveira                          2\n",
       "Junior Aprillanti                     2\n",
       "Jorge Caruso                          2\n",
       "Geraldo Cruz                          2\n",
       "Gileno Gomes                          2\n",
       "Gilmaci Santos                        2\n",
       "Hélio Nishimoto                       2\n",
       "Gilmar Gimenes                        2\n",
       "João Caramez                          2\n",
       "Milton Leite Filho                    1\n",
       "Márcia Lia                            1\n",
       "Jorge Wilson Xerife do Consumidor     1\n",
       "Cauê Macris                           1\n",
       "Ramalho da Construção                 1\n",
       "José Zico Prado                       1\n",
       "Carlos Neder                          1\n",
       "Roberto Morais                        1\n",
       "Delegado Olim                         1\n",
       "Alencar Santana Braga                 1\n",
       "Vaz de Lima                           1\n",
       "Vitor Sapienza                        1\n",
       "Abelardo Camarinha                    1\n",
       "Name: IdDocumento, Length: 95, dtype: int64"
      ]
     },
     "execution_count": 27,
     "metadata": {},
     "output_type": "execute_result"
    }
   ],
   "source": [
    "projetos_aprovados.groupby('NomeAutor')['IdDocumento'].nunique().sort_values(ascending=False)"
   ]
  },
  {
   "cell_type": "code",
   "execution_count": null,
   "metadata": {},
   "outputs": [],
   "source": []
  },
  {
   "cell_type": "markdown",
   "metadata": {},
   "source": [
    "Palavras-chave dos projetos aprovados"
   ]
  },
  {
   "cell_type": "code",
   "execution_count": 28,
   "metadata": {},
   "outputs": [
    {
     "data": {
      "text/plain": [
       "Palavra\n",
       "DENOMINAÇÃO                               64\n",
       "TURISMO                                   28\n",
       "LAZER                                     24\n",
       "DESENVOLVIMENTO ECONÔMICO E SOCIAL        24\n",
       "ESTÂNCIA TURÍSTICA                        24\n",
       "DESENVOLVIMENTO TURÍSTICO                 24\n",
       "VIADUTO                                   18\n",
       "RODOVIA                                   13\n",
       "ESCOLA                                    12\n",
       "MUNICÍPIO DE INTERESSE TURÍSTICO          11\n",
       "PASSARELA                                  8\n",
       "PONTE                                      7\n",
       "PROIBIÇÃO                                  5\n",
       "INTERESSE TURÍSTICO                        5\n",
       "BARRETOS (MUNICÍPIO)                       4\n",
       "CONSCIENTIZAÇÃO                            4\n",
       "DISPOSITIVO DE ACESSO                      4\n",
       "MOGI DAS CRUZES (MUNICÍPIO)                4\n",
       "TREVO                                      4\n",
       "COMPLEXO VIÁRIO                            3\n",
       "VOTUPORANGA (MUNICÍPIO)                    3\n",
       "CRUZEIRO (MUNICÍPIO)                       3\n",
       "ESTADO DE SÃO PAULO                        3\n",
       "PREVENÇÃO                                  3\n",
       "PATRIMÔNIO CULTURAL                        3\n",
       "VEÍCULO                                    3\n",
       "SÃO JOÃO DA BOA VISTA (MUNICÍPIO)          3\n",
       "DIVULGAÇÃO                                 3\n",
       "CAPITAL                                    2\n",
       "SEGURANÇA                                  2\n",
       "                                          ..\n",
       "PROGRAMA                                   1\n",
       "PNEU INSERVÍVEL                            1\n",
       "PLANTÃO                                    1\n",
       "PLANTA                                     1\n",
       "PAGAMENTO                                  1\n",
       "NATUREZA                                   1\n",
       "NATUROLOGIA                                1\n",
       "NOME AFETIVO                               1\n",
       "NOVEMBRO                                   1\n",
       "NÍVEL MÉDIO                                1\n",
       "OFICIAL                                    1\n",
       "OLÍMPIA (MUNICÍPIO)                        1\n",
       "OPERAÇÃO VERÃO                             1\n",
       "ORIENTAÇÃO                                 1\n",
       "OSVALDO CRUZ (MUNICÍPIO)                   1\n",
       "PACIENTE                                   1\n",
       "PARCERIA                                   1\n",
       "PLANO DE ASSISTÊNCIA OU SEGURO À SAÚDE     1\n",
       "PARQUE ESTADUAL                            1\n",
       "PARQUE TURÍSTICO                           1\n",
       "PASSARELA DE PEDESTRES                     1\n",
       "PEIXE                                      1\n",
       "PENA                                       1\n",
       "PEREIRA BARRETO (MUNICÍPIO)                1\n",
       "PESSOA                                     1\n",
       "PESSOAS COM DEFICIÊNCIA AUDITIVA           1\n",
       "PETSHOP                                    1\n",
       "PIRANGI (MUNICÍPIO)                        1\n",
       "PIRATININGA (MUNICÍPIO)                    1\n",
       "ACADEMIA                                   1\n",
       "Name: IdDocumento, Length: 517, dtype: int64"
      ]
     },
     "execution_count": 28,
     "metadata": {},
     "output_type": "execute_result"
    }
   ],
   "source": [
    "projetos_aprovados.groupby('Palavra')['IdDocumento'].nunique().sort_values(ascending=False)"
   ]
  },
  {
   "cell_type": "code",
   "execution_count": null,
   "metadata": {},
   "outputs": [],
   "source": []
  },
  {
   "cell_type": "code",
   "execution_count": 29,
   "metadata": {},
   "outputs": [],
   "source": [
    "projetos_aprovados.to_excel('resultados/projetos_aprovados_deputados_selecioanados.xlsx',sheet_name='Sheet1')"
   ]
  },
  {
   "cell_type": "code",
   "execution_count": null,
   "metadata": {},
   "outputs": [],
   "source": []
  }
 ],
 "metadata": {
  "kernelspec": {
   "display_name": "Python 3",
   "language": "python",
   "name": "python3"
  },
  "language_info": {
   "codemirror_mode": {
    "name": "ipython",
    "version": 3
   },
   "file_extension": ".py",
   "mimetype": "text/x-python",
   "name": "python",
   "nbconvert_exporter": "python",
   "pygments_lexer": "ipython3",
   "version": "3.6.2"
  }
 },
 "nbformat": 4,
 "nbformat_minor": 2
}
