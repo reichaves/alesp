{
 "cells": [
  {
   "cell_type": "code",
   "execution_count": 1,
   "metadata": {},
   "outputs": [],
   "source": [
    "# -*- coding: utf-8\n",
    "# VOLT DATA LAB (https://www.voltdata.info/)\n",
    "# Reinaldo Chaves (@paidatocandeira)\n",
    "# Mostra quais projetos de lei tiveram aprovação e as falhas de transparência do sistema \n",
    "#"
   ]
  },
  {
   "cell_type": "code",
   "execution_count": null,
   "metadata": {},
   "outputs": [],
   "source": []
  },
  {
   "cell_type": "code",
   "execution_count": 2,
   "metadata": {},
   "outputs": [],
   "source": [
    "import json\n",
    "import xmltodict\n",
    "import pandas as pd\n",
    "import numpy as np\n",
    "from datetime import date"
   ]
  },
  {
   "cell_type": "code",
   "execution_count": null,
   "metadata": {},
   "outputs": [],
   "source": []
  },
  {
   "cell_type": "markdown",
   "metadata": {},
   "source": [
    "# Tramitações"
   ]
  },
  {
   "cell_type": "code",
   "execution_count": null,
   "metadata": {},
   "outputs": [],
   "source": []
  },
  {
   "cell_type": "markdown",
   "metadata": {},
   "source": [
    "# O sistema de dados abertos da Alesp tem um arquivo enorme de histórico de tramitações"
   ]
  },
  {
   "cell_type": "markdown",
   "metadata": {},
   "source": [
    "https://www.al.sp.gov.br/dados-abertos/recurso/101"
   ]
  },
  {
   "cell_type": "markdown",
   "metadata": {},
   "source": [
    "# Mas esse arquivo tem erros de formatação nos anos mais antigos e não abre"
   ]
  },
  {
   "cell_type": "code",
   "execution_count": null,
   "metadata": {},
   "outputs": [],
   "source": []
  },
  {
   "cell_type": "markdown",
   "metadata": {},
   "source": [
    "Há uma alternativa, um arquivo menor e bem formatado, mas ele cobre só até 09/2017"
   ]
  },
  {
   "cell_type": "code",
   "execution_count": null,
   "metadata": {},
   "outputs": [],
   "source": []
  },
  {
   "cell_type": "markdown",
   "metadata": {},
   "source": [
    "Atual"
   ]
  },
  {
   "cell_type": "markdown",
   "metadata": {},
   "source": [
    "https://www.al.sp.gov.br/dados-abertos/recurso/221"
   ]
  },
  {
   "cell_type": "code",
   "execution_count": 4,
   "metadata": {},
   "outputs": [],
   "source": [
    "with open(\"dados/tramitacao/documento_andamento_atual_set_2018.xml\", 'r') as f:\n",
    "    xmlString = f.read()"
   ]
  },
  {
   "cell_type": "code",
   "execution_count": 5,
   "metadata": {},
   "outputs": [],
   "source": [
    "jsonString = json.dumps(xmltodict.parse(xmlString), indent=4)"
   ]
  },
  {
   "cell_type": "code",
   "execution_count": 6,
   "metadata": {},
   "outputs": [],
   "source": [
    "with open(\"output.json\", 'w') as f:\n",
    "    f.write(jsonString)"
   ]
  },
  {
   "cell_type": "code",
   "execution_count": 7,
   "metadata": {},
   "outputs": [],
   "source": [
    "arquivo_json = open('output.json', 'r')\n",
    "dados_json = json.load(arquivo_json)"
   ]
  },
  {
   "cell_type": "code",
   "execution_count": 8,
   "metadata": {},
   "outputs": [],
   "source": [
    "#dados_json['documentos_autores']['DocumentoAutor']"
   ]
  },
  {
   "cell_type": "code",
   "execution_count": 9,
   "metadata": {},
   "outputs": [],
   "source": [
    "lista = dados_json['documentos_andamentos']['DocumentoAndamento']"
   ]
  },
  {
   "cell_type": "code",
   "execution_count": 10,
   "metadata": {},
   "outputs": [],
   "source": [
    "df_andamentos = pd.DataFrame(lista, columns = ['Descricao', \n",
    "                                               'Data', \n",
    "                                               'IdComissao', \n",
    "                                               'IdDocumento', \n",
    "                                               'IdEtapa', \n",
    "                                               'IdTpAndamento', \n",
    "                                               'NmEtapa', \n",
    "                                               'NrOrdem', \n",
    "                                               'TpAndamento'])"
   ]
  },
  {
   "cell_type": "code",
   "execution_count": 11,
   "metadata": {},
   "outputs": [
    {
     "name": "stdout",
     "output_type": "stream",
     "text": [
      "<class 'pandas.core.frame.DataFrame'>\n",
      "RangeIndex: 518496 entries, 0 to 518495\n",
      "Data columns (total 9 columns):\n",
      "Descricao        512734 non-null object\n",
      "Data             518496 non-null object\n",
      "IdComissao       518496 non-null object\n",
      "IdDocumento      518496 non-null object\n",
      "IdEtapa          518496 non-null object\n",
      "IdTpAndamento    518496 non-null object\n",
      "NmEtapa          518496 non-null object\n",
      "NrOrdem          518496 non-null object\n",
      "TpAndamento      518496 non-null object\n",
      "dtypes: object(9)\n",
      "memory usage: 35.6+ MB\n"
     ]
    }
   ],
   "source": [
    "df_andamentos.info()"
   ]
  },
  {
   "cell_type": "code",
   "execution_count": null,
   "metadata": {},
   "outputs": [],
   "source": []
  },
  {
   "cell_type": "code",
   "execution_count": 13,
   "metadata": {},
   "outputs": [
    {
     "data": {
      "text/html": [
       "<div>\n",
       "<style scoped>\n",
       "    .dataframe tbody tr th:only-of-type {\n",
       "        vertical-align: middle;\n",
       "    }\n",
       "\n",
       "    .dataframe tbody tr th {\n",
       "        vertical-align: top;\n",
       "    }\n",
       "\n",
       "    .dataframe thead th {\n",
       "        text-align: right;\n",
       "    }\n",
       "</style>\n",
       "<table border=\"1\" class=\"dataframe\">\n",
       "  <thead>\n",
       "    <tr style=\"text-align: right;\">\n",
       "      <th></th>\n",
       "      <th>index</th>\n",
       "      <th>Descricao</th>\n",
       "      <th>Data</th>\n",
       "      <th>IdComissao</th>\n",
       "      <th>IdDocumento</th>\n",
       "      <th>IdEtapa</th>\n",
       "      <th>IdTpAndamento</th>\n",
       "      <th>NmEtapa</th>\n",
       "      <th>NrOrdem</th>\n",
       "      <th>TpAndamento</th>\n",
       "    </tr>\n",
       "  </thead>\n",
       "  <tbody>\n",
       "    <tr>\n",
       "      <th>0</th>\n",
       "      <td>0</td>\n",
       "      <td>Arquivado pelo Setor de Arquivo na caixa: 13.0...</td>\n",
       "      <td>2017-09-15T00:00:00-03:00</td>\n",
       "      <td>0</td>\n",
       "      <td>166</td>\n",
       "      <td>17</td>\n",
       "      <td>32</td>\n",
       "      <td>Arquivo</td>\n",
       "      <td>0</td>\n",
       "      <td>E</td>\n",
       "    </tr>\n",
       "    <tr>\n",
       "      <th>1</th>\n",
       "      <td>1</td>\n",
       "      <td>Arquivado pelo Setor de Arquivo na caixa: 13.0...</td>\n",
       "      <td>2017-09-15T00:00:00-03:00</td>\n",
       "      <td>0</td>\n",
       "      <td>167</td>\n",
       "      <td>17</td>\n",
       "      <td>32</td>\n",
       "      <td>Arquivo</td>\n",
       "      <td>0</td>\n",
       "      <td>E</td>\n",
       "    </tr>\n",
       "    <tr>\n",
       "      <th>2</th>\n",
       "      <td>2</td>\n",
       "      <td>Arquivado pelo Setor de Arquivo na caixa: 13.0...</td>\n",
       "      <td>2017-09-15T00:00:00-03:00</td>\n",
       "      <td>0</td>\n",
       "      <td>171</td>\n",
       "      <td>17</td>\n",
       "      <td>32</td>\n",
       "      <td>Arquivo</td>\n",
       "      <td>0</td>\n",
       "      <td>E</td>\n",
       "    </tr>\n",
       "    <tr>\n",
       "      <th>3</th>\n",
       "      <td>3</td>\n",
       "      <td>Arquivado pelo Setor de Arquivo na caixa: 13.0...</td>\n",
       "      <td>2017-09-15T00:00:00-03:00</td>\n",
       "      <td>0</td>\n",
       "      <td>176</td>\n",
       "      <td>17</td>\n",
       "      <td>32</td>\n",
       "      <td>Arquivo</td>\n",
       "      <td>0</td>\n",
       "      <td>E</td>\n",
       "    </tr>\n",
       "    <tr>\n",
       "      <th>4</th>\n",
       "      <td>4</td>\n",
       "      <td>Arquivado pelo Setor de Arquivo na caixa: 13.0...</td>\n",
       "      <td>2017-09-15T00:00:00-03:00</td>\n",
       "      <td>0</td>\n",
       "      <td>181</td>\n",
       "      <td>17</td>\n",
       "      <td>32</td>\n",
       "      <td>Arquivo</td>\n",
       "      <td>0</td>\n",
       "      <td>E</td>\n",
       "    </tr>\n",
       "  </tbody>\n",
       "</table>\n",
       "</div>"
      ],
      "text/plain": [
       "   index                                          Descricao  \\\n",
       "0      0  Arquivado pelo Setor de Arquivo na caixa: 13.0...   \n",
       "1      1  Arquivado pelo Setor de Arquivo na caixa: 13.0...   \n",
       "2      2  Arquivado pelo Setor de Arquivo na caixa: 13.0...   \n",
       "3      3  Arquivado pelo Setor de Arquivo na caixa: 13.0...   \n",
       "4      4  Arquivado pelo Setor de Arquivo na caixa: 13.0...   \n",
       "\n",
       "                        Data IdComissao IdDocumento IdEtapa IdTpAndamento  \\\n",
       "0  2017-09-15T00:00:00-03:00          0         166      17            32   \n",
       "1  2017-09-15T00:00:00-03:00          0         167      17            32   \n",
       "2  2017-09-15T00:00:00-03:00          0         171      17            32   \n",
       "3  2017-09-15T00:00:00-03:00          0         176      17            32   \n",
       "4  2017-09-15T00:00:00-03:00          0         181      17            32   \n",
       "\n",
       "   NmEtapa NrOrdem TpAndamento  \n",
       "0  Arquivo       0           E  \n",
       "1  Arquivo       0           E  \n",
       "2  Arquivo       0           E  \n",
       "3  Arquivo       0           E  \n",
       "4  Arquivo       0           E  "
      ]
     },
     "execution_count": 13,
     "metadata": {},
     "output_type": "execute_result"
    }
   ],
   "source": [
    "df_andamentos.reset_index().head()"
   ]
  },
  {
   "cell_type": "code",
   "execution_count": null,
   "metadata": {},
   "outputs": [],
   "source": []
  },
  {
   "cell_type": "code",
   "execution_count": 14,
   "metadata": {},
   "outputs": [],
   "source": [
    "#a = df_andamentos['Descricao'].value_counts()"
   ]
  },
  {
   "cell_type": "code",
   "execution_count": null,
   "metadata": {},
   "outputs": [],
   "source": []
  },
  {
   "cell_type": "markdown",
   "metadata": {},
   "source": [
    "# Filtra só as linhas que têm alguma aprovação de projeto de lei"
   ]
  },
  {
   "cell_type": "code",
   "execution_count": 17,
   "metadata": {},
   "outputs": [],
   "source": [
    "mask = df_andamentos['Descricao'].str.contains(\"Aprovado o Projeto\", na=False)\n",
    "aprovado = df_andamentos[mask]"
   ]
  },
  {
   "cell_type": "code",
   "execution_count": 18,
   "metadata": {},
   "outputs": [
    {
     "name": "stdout",
     "output_type": "stream",
     "text": [
      "<class 'pandas.core.frame.DataFrame'>\n",
      "Int64Index: 271 entries, 30103 to 492104\n",
      "Data columns (total 9 columns):\n",
      "Descricao        271 non-null object\n",
      "Data             271 non-null object\n",
      "IdComissao       271 non-null object\n",
      "IdDocumento      271 non-null object\n",
      "IdEtapa          271 non-null object\n",
      "IdTpAndamento    271 non-null object\n",
      "NmEtapa          271 non-null object\n",
      "NrOrdem          271 non-null object\n",
      "TpAndamento      271 non-null object\n",
      "dtypes: object(9)\n",
      "memory usage: 21.2+ KB\n"
     ]
    }
   ],
   "source": [
    "aprovado.info()"
   ]
  },
  {
   "cell_type": "code",
   "execution_count": 30,
   "metadata": {},
   "outputs": [],
   "source": [
    "aprovado.to_excel('resultados/projetos_aprovados.xlsx',sheet_name='Sheet1')"
   ]
  },
  {
   "cell_type": "code",
   "execution_count": null,
   "metadata": {},
   "outputs": [],
   "source": []
  },
  {
   "cell_type": "markdown",
   "metadata": {},
   "source": [
    "# Carrega a base de palavras-chave/projetos criada no notebook alesp_projetos"
   ]
  },
  {
   "cell_type": "code",
   "execution_count": 19,
   "metadata": {},
   "outputs": [],
   "source": [
    "palavras_chave_dep = pd.read_excel(\"resultados/projetos_deputados_palavraschave.xlsx\", sheet_name='Sheet1', converters={'IdDocumento': lambda x: str(x), \n",
    "                                                                                                                         'IdPalavra': lambda x: str(x), \n",
    "                                                                                                                                 'IdAutor': lambda x: str(x), \n",
    "                                                                                                                         'CodOriginalidade': lambda x: str(x), \n",
    "                                                                                                                         'IdNatureza': lambda x: str(x), \n",
    "                                                                                                                         'NroLegislativo': lambda x: str(x),\n",
    "                                                                                                                         'codigo_unico': lambda x: str(x),\n",
    "                                                                                                                         'sequencial': lambda x: str(x),\n",
    "                                                                                                                         'cpf': lambda x: str(x)\n",
    "                                                                                                                         })"
   ]
  },
  {
   "cell_type": "code",
   "execution_count": 20,
   "metadata": {},
   "outputs": [
    {
     "name": "stdout",
     "output_type": "stream",
     "text": [
      "<class 'pandas.core.frame.DataFrame'>\n",
      "RangeIndex: 31778 entries, 0 to 31777\n",
      "Data columns (total 23 columns):\n",
      "IdAutor             31778 non-null object\n",
      "IdDocumento         31778 non-null object\n",
      "NomeAutor           31778 non-null object\n",
      "codigo_unico        31778 non-null object\n",
      "nome_deputado       31778 non-null object\n",
      "uf                  31778 non-null object\n",
      "nome_completo       31778 non-null object\n",
      "sequencial          31778 non-null object\n",
      "cpf                 31778 non-null object\n",
      "nome_urna           31778 non-null object\n",
      "partido_eleicao     31778 non-null object\n",
      "situacao            31778 non-null object\n",
      "AnoLegislativo      31778 non-null int64\n",
      "CodOriginalidade    24339 non-null object\n",
      "DtEntradaSistema    31778 non-null datetime64[ns]\n",
      "DtPublicacao        31778 non-null datetime64[ns]\n",
      "Ementa              31778 non-null object\n",
      "IdNatureza          31778 non-null object\n",
      "NroLegislativo      31778 non-null object\n",
      "chave_unica         31778 non-null object\n",
      "IdPalavra           31778 non-null object\n",
      "Palavra             31778 non-null object\n",
      "PalavraSemAcento    31778 non-null object\n",
      "dtypes: datetime64[ns](2), int64(1), object(20)\n",
      "memory usage: 5.6+ MB\n"
     ]
    }
   ],
   "source": [
    "palavras_chave_dep.info()"
   ]
  },
  {
   "cell_type": "code",
   "execution_count": null,
   "metadata": {},
   "outputs": [],
   "source": []
  },
  {
   "cell_type": "code",
   "execution_count": 21,
   "metadata": {},
   "outputs": [],
   "source": [
    "projetos_aprovados = pd.merge(palavras_chave_dep, aprovado, left_on='IdDocumento', right_on='IdDocumento')"
   ]
  },
  {
   "cell_type": "code",
   "execution_count": 22,
   "metadata": {},
   "outputs": [
    {
     "name": "stdout",
     "output_type": "stream",
     "text": [
      "<class 'pandas.core.frame.DataFrame'>\n",
      "Int64Index: 6325 entries, 0 to 6324\n",
      "Data columns (total 31 columns):\n",
      "IdAutor             6325 non-null object\n",
      "IdDocumento         6325 non-null object\n",
      "NomeAutor           6325 non-null object\n",
      "codigo_unico        6325 non-null object\n",
      "nome_deputado       6325 non-null object\n",
      "uf                  6325 non-null object\n",
      "nome_completo       6325 non-null object\n",
      "sequencial          6325 non-null object\n",
      "cpf                 6325 non-null object\n",
      "nome_urna           6325 non-null object\n",
      "partido_eleicao     6325 non-null object\n",
      "situacao            6325 non-null object\n",
      "AnoLegislativo      6325 non-null int64\n",
      "CodOriginalidade    878 non-null object\n",
      "DtEntradaSistema    6325 non-null datetime64[ns]\n",
      "DtPublicacao        6325 non-null datetime64[ns]\n",
      "Ementa              6325 non-null object\n",
      "IdNatureza          6325 non-null object\n",
      "NroLegislativo      6325 non-null object\n",
      "chave_unica         6325 non-null object\n",
      "IdPalavra           6325 non-null object\n",
      "Palavra             6325 non-null object\n",
      "PalavraSemAcento    6325 non-null object\n",
      "Descricao           6325 non-null object\n",
      "Data                6325 non-null object\n",
      "IdComissao          6325 non-null object\n",
      "IdEtapa             6325 non-null object\n",
      "IdTpAndamento       6325 non-null object\n",
      "NmEtapa             6325 non-null object\n",
      "NrOrdem             6325 non-null object\n",
      "TpAndamento         6325 non-null object\n",
      "dtypes: datetime64[ns](2), int64(1), object(28)\n",
      "memory usage: 1.5+ MB\n"
     ]
    }
   ],
   "source": [
    "projetos_aprovados.info()"
   ]
  },
  {
   "cell_type": "code",
   "execution_count": 23,
   "metadata": {},
   "outputs": [
    {
     "data": {
      "text/plain": [
       "95"
      ]
     },
     "execution_count": 23,
     "metadata": {},
     "output_type": "execute_result"
    }
   ],
   "source": [
    "len(projetos_aprovados['NomeAutor'].value_counts())"
   ]
  },
  {
   "cell_type": "code",
   "execution_count": 24,
   "metadata": {},
   "outputs": [
    {
     "data": {
      "text/plain": [
       "199"
      ]
     },
     "execution_count": 24,
     "metadata": {},
     "output_type": "execute_result"
    }
   ],
   "source": [
    "a = len(projetos_aprovados['IdDocumento'].value_counts())\n",
    "a"
   ]
  },
  {
   "cell_type": "code",
   "execution_count": null,
   "metadata": {},
   "outputs": [],
   "source": []
  },
  {
   "cell_type": "markdown",
   "metadata": {},
   "source": [
    "Deputados com projetos aprovados"
   ]
  },
  {
   "cell_type": "code",
   "execution_count": 26,
   "metadata": {},
   "outputs": [
    {
     "data": {
      "text/plain": [
       "NomeAutor\n",
       "Sebastião Santos                     10\n",
       "Pedro Tobias                          8\n",
       "Carlão Pignatari                      7\n",
       "Edson Giriboni                        7\n",
       "Roberto Engler                        7\n",
       "Caio França                           7\n",
       "Márcio Camargo                        7\n",
       "Welson Gasparini                      6\n",
       "Afonso Lobato                         6\n",
       "Itamar Borges                         6\n",
       "Fernando Cury                         5\n",
       "Chico Sardelli                        5\n",
       "Luiz Carlos Gondim                    5\n",
       "Marcos Damasio                        5\n",
       "Mauro Bragato                         5\n",
       "Paulo Correa Jr                       5\n",
       "Maria Lúcia Amary                     5\n",
       "Roque Barbiere                        5\n",
       "Roberto Massafera                     4\n",
       "Rita Passos                           4\n",
       "Luiz Fernando T. Ferreira             4\n",
       "Wellington Moura                      4\n",
       "Célia Leão                            4\n",
       "Davi Zaia                             4\n",
       "João Paulo Rillo                      4\n",
       "Ricardo Madalena                      4\n",
       "Edmir Chedid                          4\n",
       "André do Prado                        4\n",
       "Gil Lancaster                         3\n",
       "Doutor Ulysses                        3\n",
       "                                     ..\n",
       "Reinaldo Alguz                        2\n",
       "Raul Marcelo                          2\n",
       "Professor Auriel                      2\n",
       "Pedro Kaká                            2\n",
       "Marcos Zerbini                        2\n",
       "Marcos Martins                        2\n",
       "Fernando Capez                        2\n",
       "Luiz Turco                            2\n",
       "Léo Oliveira                          2\n",
       "Junior Aprillanti                     2\n",
       "Jorge Caruso                          2\n",
       "Geraldo Cruz                          2\n",
       "Gileno Gomes                          2\n",
       "Gilmaci Santos                        2\n",
       "Hélio Nishimoto                       2\n",
       "Gilmar Gimenes                        2\n",
       "João Caramez                          2\n",
       "Milton Leite Filho                    1\n",
       "Márcia Lia                            1\n",
       "Jorge Wilson Xerife do Consumidor     1\n",
       "Cauê Macris                           1\n",
       "Ramalho da Construção                 1\n",
       "José Zico Prado                       1\n",
       "Carlos Neder                          1\n",
       "Roberto Morais                        1\n",
       "Delegado Olim                         1\n",
       "Alencar Santana Braga                 1\n",
       "Vaz de Lima                           1\n",
       "Vitor Sapienza                        1\n",
       "Abelardo Camarinha                    1\n",
       "Name: IdDocumento, Length: 95, dtype: int64"
      ]
     },
     "execution_count": 26,
     "metadata": {},
     "output_type": "execute_result"
    }
   ],
   "source": [
    "projetos_aprovados.groupby('NomeAutor')['IdDocumento'].nunique().sort_values(ascending=False)"
   ]
  },
  {
   "cell_type": "code",
   "execution_count": null,
   "metadata": {},
   "outputs": [],
   "source": []
  },
  {
   "cell_type": "markdown",
   "metadata": {},
   "source": [
    "Palavras-chave dos projetos aprovados"
   ]
  },
  {
   "cell_type": "code",
   "execution_count": 27,
   "metadata": {},
   "outputs": [
    {
     "data": {
      "text/plain": [
       "Palavra\n",
       "DENOMINAÇÃO                               68\n",
       "TURISMO                                   28\n",
       "LAZER                                     24\n",
       "DESENVOLVIMENTO TURÍSTICO                 24\n",
       "DESENVOLVIMENTO ECONÔMICO E SOCIAL        24\n",
       "ESTÂNCIA TURÍSTICA                        24\n",
       "VIADUTO                                   18\n",
       "RODOVIA                                   14\n",
       "ESCOLA                                    13\n",
       "MUNICÍPIO DE INTERESSE TURÍSTICO          11\n",
       "PASSARELA                                  8\n",
       "PONTE                                      7\n",
       "PROIBIÇÃO                                  5\n",
       "DISPOSITIVO DE ACESSO                      5\n",
       "INTERESSE TURÍSTICO                        5\n",
       "MOGI DAS CRUZES (MUNICÍPIO)                4\n",
       "BARRETOS (MUNICÍPIO)                       4\n",
       "TREVO                                      4\n",
       "CONSCIENTIZAÇÃO                            4\n",
       "COMPLEXO VIÁRIO                            3\n",
       "ESTADO DE SÃO PAULO                        3\n",
       "SÃO JOÃO DA BOA VISTA (MUNICÍPIO)          3\n",
       "CRUZEIRO (MUNICÍPIO)                       3\n",
       "VOTUPORANGA (MUNICÍPIO)                    3\n",
       "PREVENÇÃO                                  3\n",
       "DIVULGAÇÃO                                 3\n",
       "PATRIMÔNIO CULTURAL                        3\n",
       "VEÍCULO                                    3\n",
       "RIBEIRÃO PRETO (MUNICÍPIO)                 2\n",
       "ESTABELECIMENTO                            2\n",
       "                                          ..\n",
       "PROFISSÃO                                  1\n",
       "PODER JUDICIÁRIO                           1\n",
       "PNEU INSERVÍVEL                            1\n",
       "PLANTÃO                                    1\n",
       "PARQUE ESTADUAL                            1\n",
       "NOME AFETIVO                               1\n",
       "NOVEMBRO                                   1\n",
       "NÍVEL MÉDIO                                1\n",
       "OFICIAL                                    1\n",
       "OLÍMPIA (MUNICÍPIO)                        1\n",
       "OPERAÇÃO VERÃO                             1\n",
       "ORIENTAÇÃO                                 1\n",
       "OSVALDO CRUZ (MUNICÍPIO)                   1\n",
       "PACIENTE                                   1\n",
       "PAGAMENTO                                  1\n",
       "PARCERIA                                   1\n",
       "PARQUE TURÍSTICO                           1\n",
       "PLANTA                                     1\n",
       "PASSARELA DE PEDESTRES                     1\n",
       "PEIXE                                      1\n",
       "PENA                                       1\n",
       "PEREIRA BARRETO (MUNICÍPIO)                1\n",
       "PESSOA                                     1\n",
       "PESSOAS COM DEFICIÊNCIA AUDITIVA           1\n",
       "PETSHOP                                    1\n",
       "PIRACICABA (MUNICÍPIO)                     1\n",
       "PIRANGI (MUNICÍPIO)                        1\n",
       "PIRATININGA (MUNICÍPIO)                    1\n",
       "PLANO DE ASSISTÊNCIA OU SEGURO À SAÚDE     1\n",
       "ACADEMIA                                   1\n",
       "Name: IdDocumento, Length: 523, dtype: int64"
      ]
     },
     "execution_count": 27,
     "metadata": {},
     "output_type": "execute_result"
    }
   ],
   "source": [
    "projetos_aprovados.groupby('Palavra')['IdDocumento'].nunique().sort_values(ascending=False)"
   ]
  },
  {
   "cell_type": "code",
   "execution_count": null,
   "metadata": {},
   "outputs": [],
   "source": []
  }
 ],
 "metadata": {
  "kernelspec": {
   "display_name": "Python 3",
   "language": "python",
   "name": "python3"
  },
  "language_info": {
   "codemirror_mode": {
    "name": "ipython",
    "version": 3
   },
   "file_extension": ".py",
   "mimetype": "text/x-python",
   "name": "python",
   "nbconvert_exporter": "python",
   "pygments_lexer": "ipython3",
   "version": "3.6.2"
  }
 },
 "nbformat": 4,
 "nbformat_minor": 2
}
