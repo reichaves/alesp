{
 "cells": [
  {
   "cell_type": "code",
   "execution_count": 1,
   "metadata": {},
   "outputs": [],
   "source": [
    "# -*- coding: utf-8\n",
    "# VOLT DATA LAB (https://www.voltdata.info/)\n",
    "# Reinaldo Chaves (@paidatocandeira)\n",
    "# Mostra quais projetos de lei tiveram aprovação e as falhas de transparência do sistema \n",
    "#"
   ]
  },
  {
   "cell_type": "code",
   "execution_count": null,
   "metadata": {},
   "outputs": [],
   "source": []
  },
  {
   "cell_type": "code",
   "execution_count": 2,
   "metadata": {},
   "outputs": [],
   "source": [
    "import json\n",
    "import xmltodict\n",
    "import pandas as pd\n",
    "import numpy as np\n",
    "from datetime import date"
   ]
  },
  {
   "cell_type": "code",
   "execution_count": null,
   "metadata": {},
   "outputs": [],
   "source": []
  },
  {
   "cell_type": "markdown",
   "metadata": {},
   "source": [
    "# Tramitações"
   ]
  },
  {
   "cell_type": "code",
   "execution_count": null,
   "metadata": {},
   "outputs": [],
   "source": []
  },
  {
   "cell_type": "markdown",
   "metadata": {},
   "source": [
    "# O sistema de dados abertos da Alesp tem um arquivo enorme de histórico de tramitações"
   ]
  },
  {
   "cell_type": "markdown",
   "metadata": {},
   "source": [
    "https://www.al.sp.gov.br/dados-abertos/recurso/101"
   ]
  },
  {
   "cell_type": "markdown",
   "metadata": {},
   "source": [
    "# Mas esse arquivo tem erros de formatação nos anos mais antigos e não abre"
   ]
  },
  {
   "cell_type": "code",
   "execution_count": null,
   "metadata": {},
   "outputs": [],
   "source": []
  },
  {
   "cell_type": "markdown",
   "metadata": {},
   "source": [
    "Há uma alternativa, um arquivo menor e bem formatado, mas ele cobre só até 09/2017"
   ]
  },
  {
   "cell_type": "code",
   "execution_count": null,
   "metadata": {},
   "outputs": [],
   "source": []
  },
  {
   "cell_type": "markdown",
   "metadata": {},
   "source": [
    "Atual"
   ]
  },
  {
   "cell_type": "markdown",
   "metadata": {},
   "source": [
    "https://www.al.sp.gov.br/dados-abertos/recurso/221"
   ]
  },
  {
   "cell_type": "code",
   "execution_count": 3,
   "metadata": {},
   "outputs": [],
   "source": [
    "with open(\"dados/tramitacao/documento_andamento_atual_set_2018.xml\", 'r') as f:\n",
    "    xmlString = f.read()"
   ]
  },
  {
   "cell_type": "code",
   "execution_count": 4,
   "metadata": {},
   "outputs": [],
   "source": [
    "jsonString = json.dumps(xmltodict.parse(xmlString), indent=4)"
   ]
  },
  {
   "cell_type": "code",
   "execution_count": 5,
   "metadata": {},
   "outputs": [],
   "source": [
    "with open(\"output.json\", 'w') as f:\n",
    "    f.write(jsonString)"
   ]
  },
  {
   "cell_type": "code",
   "execution_count": 6,
   "metadata": {},
   "outputs": [],
   "source": [
    "arquivo_json = open('output.json', 'r')\n",
    "dados_json = json.load(arquivo_json)"
   ]
  },
  {
   "cell_type": "code",
   "execution_count": 7,
   "metadata": {},
   "outputs": [],
   "source": [
    "#dados_json['documentos_autores']['DocumentoAutor']"
   ]
  },
  {
   "cell_type": "code",
   "execution_count": 8,
   "metadata": {},
   "outputs": [],
   "source": [
    "lista = dados_json['documentos_andamentos']['DocumentoAndamento']"
   ]
  },
  {
   "cell_type": "code",
   "execution_count": 9,
   "metadata": {},
   "outputs": [],
   "source": [
    "df_andamentos = pd.DataFrame(lista, columns = ['Descricao', \n",
    "                                               'Data', \n",
    "                                               'IdComissao', \n",
    "                                               'IdDocumento', \n",
    "                                               'IdEtapa', \n",
    "                                               'IdTpAndamento', \n",
    "                                               'NmEtapa', \n",
    "                                               'NrOrdem', \n",
    "                                               'TpAndamento'])"
   ]
  },
  {
   "cell_type": "code",
   "execution_count": 10,
   "metadata": {},
   "outputs": [
    {
     "name": "stdout",
     "output_type": "stream",
     "text": [
      "<class 'pandas.core.frame.DataFrame'>\n",
      "RangeIndex: 224514 entries, 0 to 224513\n",
      "Data columns (total 9 columns):\n",
      "Descricao        224513 non-null object\n",
      "Data             224514 non-null object\n",
      "IdComissao       224514 non-null object\n",
      "IdDocumento      224514 non-null object\n",
      "IdEtapa          224514 non-null object\n",
      "IdTpAndamento    224514 non-null object\n",
      "NmEtapa          224514 non-null object\n",
      "NrOrdem          224514 non-null object\n",
      "TpAndamento      224514 non-null object\n",
      "dtypes: object(9)\n",
      "memory usage: 15.4+ MB\n"
     ]
    }
   ],
   "source": [
    "df_andamentos.info()"
   ]
  },
  {
   "cell_type": "code",
   "execution_count": null,
   "metadata": {},
   "outputs": [],
   "source": []
  },
  {
   "cell_type": "code",
   "execution_count": 11,
   "metadata": {},
   "outputs": [
    {
     "data": {
      "text/html": [
       "<div>\n",
       "<style scoped>\n",
       "    .dataframe tbody tr th:only-of-type {\n",
       "        vertical-align: middle;\n",
       "    }\n",
       "\n",
       "    .dataframe tbody tr th {\n",
       "        vertical-align: top;\n",
       "    }\n",
       "\n",
       "    .dataframe thead th {\n",
       "        text-align: right;\n",
       "    }\n",
       "</style>\n",
       "<table border=\"1\" class=\"dataframe\">\n",
       "  <thead>\n",
       "    <tr style=\"text-align: right;\">\n",
       "      <th></th>\n",
       "      <th>index</th>\n",
       "      <th>Descricao</th>\n",
       "      <th>Data</th>\n",
       "      <th>IdComissao</th>\n",
       "      <th>IdDocumento</th>\n",
       "      <th>IdEtapa</th>\n",
       "      <th>IdTpAndamento</th>\n",
       "      <th>NmEtapa</th>\n",
       "      <th>NrOrdem</th>\n",
       "      <th>TpAndamento</th>\n",
       "    </tr>\n",
       "  </thead>\n",
       "  <tbody>\n",
       "    <tr>\n",
       "      <th>0</th>\n",
       "      <td>0</td>\n",
       "      <td>Arquivado pelo Setor de Arquivo na caixa 13.01...</td>\n",
       "      <td>2018-06-06T00:00:00-03:00</td>\n",
       "      <td>0</td>\n",
       "      <td>3239</td>\n",
       "      <td>17</td>\n",
       "      <td>32</td>\n",
       "      <td>Arquivo</td>\n",
       "      <td>0</td>\n",
       "      <td>E</td>\n",
       "    </tr>\n",
       "    <tr>\n",
       "      <th>1</th>\n",
       "      <td>1</td>\n",
       "      <td>Enviado de SERVIÇO DE ARQUIVO para DDI-DEP. DE...</td>\n",
       "      <td>2017-10-31T00:00:00-02:00</td>\n",
       "      <td>0</td>\n",
       "      <td>4389</td>\n",
       "      <td>32</td>\n",
       "      <td>53</td>\n",
       "      <td>Não Identificada</td>\n",
       "      <td>0</td>\n",
       "      <td>I</td>\n",
       "    </tr>\n",
       "    <tr>\n",
       "      <th>2</th>\n",
       "      <td>2</td>\n",
       "      <td>Recebido por DDI-DEP. DE DOCUM. INFORMAÇÃO (Gu...</td>\n",
       "      <td>2017-11-24T00:00:00-02:00</td>\n",
       "      <td>0</td>\n",
       "      <td>4389</td>\n",
       "      <td>32</td>\n",
       "      <td>53</td>\n",
       "      <td>Não Identificada</td>\n",
       "      <td>0</td>\n",
       "      <td>I</td>\n",
       "    </tr>\n",
       "    <tr>\n",
       "      <th>3</th>\n",
       "      <td>3</td>\n",
       "      <td>Enviado de DDI-DEP. DE DOCUM. INFORMAÇÃO para ...</td>\n",
       "      <td>2017-11-24T00:00:00-02:00</td>\n",
       "      <td>0</td>\n",
       "      <td>4389</td>\n",
       "      <td>32</td>\n",
       "      <td>53</td>\n",
       "      <td>Não Identificada</td>\n",
       "      <td>1</td>\n",
       "      <td>I</td>\n",
       "    </tr>\n",
       "    <tr>\n",
       "      <th>4</th>\n",
       "      <td>4</td>\n",
       "      <td>Recebido por SERVIÇO DE ARQUIVO (Guia 15001/2017)</td>\n",
       "      <td>2017-12-21T00:00:00-02:00</td>\n",
       "      <td>0</td>\n",
       "      <td>4389</td>\n",
       "      <td>32</td>\n",
       "      <td>53</td>\n",
       "      <td>Não Identificada</td>\n",
       "      <td>0</td>\n",
       "      <td>I</td>\n",
       "    </tr>\n",
       "  </tbody>\n",
       "</table>\n",
       "</div>"
      ],
      "text/plain": [
       "   index                                          Descricao  \\\n",
       "0      0  Arquivado pelo Setor de Arquivo na caixa 13.01...   \n",
       "1      1  Enviado de SERVIÇO DE ARQUIVO para DDI-DEP. DE...   \n",
       "2      2  Recebido por DDI-DEP. DE DOCUM. INFORMAÇÃO (Gu...   \n",
       "3      3  Enviado de DDI-DEP. DE DOCUM. INFORMAÇÃO para ...   \n",
       "4      4  Recebido por SERVIÇO DE ARQUIVO (Guia 15001/2017)   \n",
       "\n",
       "                        Data IdComissao IdDocumento IdEtapa IdTpAndamento  \\\n",
       "0  2018-06-06T00:00:00-03:00          0        3239      17            32   \n",
       "1  2017-10-31T00:00:00-02:00          0        4389      32            53   \n",
       "2  2017-11-24T00:00:00-02:00          0        4389      32            53   \n",
       "3  2017-11-24T00:00:00-02:00          0        4389      32            53   \n",
       "4  2017-12-21T00:00:00-02:00          0        4389      32            53   \n",
       "\n",
       "            NmEtapa NrOrdem TpAndamento  \n",
       "0           Arquivo       0           E  \n",
       "1  Não Identificada       0           I  \n",
       "2  Não Identificada       0           I  \n",
       "3  Não Identificada       1           I  \n",
       "4  Não Identificada       0           I  "
      ]
     },
     "execution_count": 11,
     "metadata": {},
     "output_type": "execute_result"
    }
   ],
   "source": [
    "df_andamentos.reset_index().head()"
   ]
  },
  {
   "cell_type": "code",
   "execution_count": null,
   "metadata": {},
   "outputs": [],
   "source": []
  },
  {
   "cell_type": "code",
   "execution_count": 12,
   "metadata": {},
   "outputs": [],
   "source": [
    "#a = df_andamentos['Descricao'].value_counts()"
   ]
  },
  {
   "cell_type": "code",
   "execution_count": 11,
   "metadata": {},
   "outputs": [],
   "source": [
    "df_andamentos.to_excel('resultados/andamentos_projetos.xlsx',sheet_name='Sheet1')"
   ]
  },
  {
   "cell_type": "code",
   "execution_count": null,
   "metadata": {},
   "outputs": [],
   "source": []
  },
  {
   "cell_type": "markdown",
   "metadata": {},
   "source": [
    "# Filtra só as linhas que têm alguma aprovação de projeto de lei"
   ]
  },
  {
   "cell_type": "code",
   "execution_count": 32,
   "metadata": {},
   "outputs": [],
   "source": [
    "mask = df_andamentos['Descricao'].str.contains(\"Aprovado o Projeto\", na=False)\n",
    "aprovado = df_andamentos[mask]"
   ]
  },
  {
   "cell_type": "code",
   "execution_count": 33,
   "metadata": {},
   "outputs": [
    {
     "name": "stdout",
     "output_type": "stream",
     "text": [
      "<class 'pandas.core.frame.DataFrame'>\n",
      "Int64Index: 264 entries, 1217 to 196828\n",
      "Data columns (total 9 columns):\n",
      "Descricao        264 non-null object\n",
      "Data             264 non-null object\n",
      "IdComissao       264 non-null object\n",
      "IdDocumento      264 non-null object\n",
      "IdEtapa          264 non-null object\n",
      "IdTpAndamento    264 non-null object\n",
      "NmEtapa          264 non-null object\n",
      "NrOrdem          264 non-null object\n",
      "TpAndamento      264 non-null object\n",
      "dtypes: object(9)\n",
      "memory usage: 20.6+ KB\n"
     ]
    }
   ],
   "source": [
    "aprovado.info()"
   ]
  },
  {
   "cell_type": "code",
   "execution_count": 20,
   "metadata": {},
   "outputs": [],
   "source": [
    "aprovado.to_excel('resultados/projetos_aprovados.xlsx',sheet_name='Sheet1')"
   ]
  },
  {
   "cell_type": "code",
   "execution_count": null,
   "metadata": {},
   "outputs": [],
   "source": []
  },
  {
   "cell_type": "markdown",
   "metadata": {},
   "source": [
    "Vetos"
   ]
  },
  {
   "cell_type": "code",
   "execution_count": 18,
   "metadata": {},
   "outputs": [],
   "source": [
    "str_choice = \"veto|VETO|Veto|vetos|VETOS|Vetos\" \n",
    "vetos = df_andamentos[df_andamentos['Descricao'].\\\n",
    "                               str.contains(str_choice, na=False)]"
   ]
  },
  {
   "cell_type": "code",
   "execution_count": 19,
   "metadata": {},
   "outputs": [
    {
     "name": "stdout",
     "output_type": "stream",
     "text": [
      "<class 'pandas.core.frame.DataFrame'>\n",
      "Int64Index: 1120 entries, 1253 to 196863\n",
      "Data columns (total 9 columns):\n",
      "Descricao        1120 non-null object\n",
      "Data             1120 non-null object\n",
      "IdComissao       1120 non-null object\n",
      "IdDocumento      1120 non-null object\n",
      "IdEtapa          1120 non-null object\n",
      "IdTpAndamento    1120 non-null object\n",
      "NmEtapa          1120 non-null object\n",
      "NrOrdem          1120 non-null object\n",
      "TpAndamento      1120 non-null object\n",
      "dtypes: object(9)\n",
      "memory usage: 87.5+ KB\n"
     ]
    }
   ],
   "source": [
    "vetos.info()"
   ]
  },
  {
   "cell_type": "code",
   "execution_count": null,
   "metadata": {},
   "outputs": [],
   "source": []
  },
  {
   "cell_type": "markdown",
   "metadata": {},
   "source": [
    "Emendas"
   ]
  },
  {
   "cell_type": "code",
   "execution_count": 20,
   "metadata": {},
   "outputs": [],
   "source": [
    "str_choice = \"emenda|EMENDA|Emenda|emendas|EMENDAS|Emendas\" \n",
    "emendas = df_andamentos[df_andamentos['Descricao'].\\\n",
    "                               str.contains(str_choice, na=False)]"
   ]
  },
  {
   "cell_type": "code",
   "execution_count": 21,
   "metadata": {},
   "outputs": [
    {
     "name": "stdout",
     "output_type": "stream",
     "text": [
      "<class 'pandas.core.frame.DataFrame'>\n",
      "Int64Index: 1170 entries, 797 to 223512\n",
      "Data columns (total 9 columns):\n",
      "Descricao        1170 non-null object\n",
      "Data             1170 non-null object\n",
      "IdComissao       1170 non-null object\n",
      "IdDocumento      1170 non-null object\n",
      "IdEtapa          1170 non-null object\n",
      "IdTpAndamento    1170 non-null object\n",
      "NmEtapa          1170 non-null object\n",
      "NrOrdem          1170 non-null object\n",
      "TpAndamento      1170 non-null object\n",
      "dtypes: object(9)\n",
      "memory usage: 91.4+ KB\n"
     ]
    }
   ],
   "source": [
    "emendas.info()"
   ]
  },
  {
   "cell_type": "code",
   "execution_count": null,
   "metadata": {},
   "outputs": [],
   "source": []
  },
  {
   "cell_type": "code",
   "execution_count": null,
   "metadata": {},
   "outputs": [],
   "source": []
  },
  {
   "cell_type": "markdown",
   "metadata": {},
   "source": [
    "# Carrega a base de palavras-chave/projetos criada no notebook alesp_projetos"
   ]
  },
  {
   "cell_type": "code",
   "execution_count": 22,
   "metadata": {},
   "outputs": [],
   "source": [
    "palavras_chave_dep = pd.read_excel(\"resultados/palavras_chave_projetos_deputados.xlsx\", sheet_name='Sheet1', converters={'IdDocumento': lambda x: str(x), \n",
    "                                                                                                                         'IdPalavra': lambda x: str(x), \n",
    "                                                                                                                                 'IdAutor': lambda x: str(x), \n",
    "                                                                                                                         'CodOriginalidade': lambda x: str(x), \n",
    "                                                                                                                         'IdNatureza': lambda x: str(x), \n",
    "                                                                                                                         'NroLegislativo': lambda x: str(x),\n",
    "                                                                                                                         'codigo_unico': lambda x: str(x),\n",
    "                                                                                                                         'sequencial': lambda x: str(x),\n",
    "                                                                                                                         'cpf': lambda x: str(x)\n",
    "                                                                                                                         })"
   ]
  },
  {
   "cell_type": "code",
   "execution_count": 21,
   "metadata": {},
   "outputs": [
    {
     "name": "stdout",
     "output_type": "stream",
     "text": [
      "<class 'pandas.core.frame.DataFrame'>\n",
      "Int64Index: 31869 entries, 0 to 31868\n",
      "Data columns (total 22 columns):\n",
      "IdAutor             31869 non-null object\n",
      "IdDocumento         31869 non-null object\n",
      "NomeAutor           31869 non-null object\n",
      "codigo_unico        31869 non-null object\n",
      "nome_deputado       31869 non-null object\n",
      "uf                  31869 non-null object\n",
      "nome_completo       31869 non-null object\n",
      "sequencial          31869 non-null object\n",
      "cpf                 31869 non-null object\n",
      "nome_urna           31869 non-null object\n",
      "partido_eleicao     31869 non-null object\n",
      "situacao            31869 non-null object\n",
      "AnoLegislativo      31869 non-null int64\n",
      "CodOriginalidade    24430 non-null object\n",
      "DtEntradaSistema    31869 non-null datetime64[ns]\n",
      "DtPublicacao        31869 non-null datetime64[ns]\n",
      "Ementa              31869 non-null object\n",
      "IdNatureza          31869 non-null object\n",
      "NroLegislativo      31869 non-null object\n",
      "IdPalavra           31869 non-null object\n",
      "Palavra             31869 non-null object\n",
      "PalavraSemAcento    31869 non-null object\n",
      "dtypes: datetime64[ns](2), int64(1), object(19)\n",
      "memory usage: 5.6+ MB\n"
     ]
    }
   ],
   "source": [
    "palavras_chave_dep.info()"
   ]
  },
  {
   "cell_type": "code",
   "execution_count": null,
   "metadata": {},
   "outputs": [],
   "source": []
  },
  {
   "cell_type": "code",
   "execution_count": null,
   "metadata": {},
   "outputs": [],
   "source": []
  },
  {
   "cell_type": "code",
   "execution_count": 22,
   "metadata": {},
   "outputs": [],
   "source": [
    "projetos_aprovados = pd.merge(palavras_chave_dep, aprovado, left_on='IdDocumento', right_on='IdDocumento')"
   ]
  },
  {
   "cell_type": "code",
   "execution_count": 23,
   "metadata": {},
   "outputs": [
    {
     "name": "stdout",
     "output_type": "stream",
     "text": [
      "<class 'pandas.core.frame.DataFrame'>\n",
      "Int64Index: 6308 entries, 0 to 6307\n",
      "Data columns (total 30 columns):\n",
      "IdAutor             6308 non-null object\n",
      "IdDocumento         6308 non-null object\n",
      "NomeAutor           6308 non-null object\n",
      "codigo_unico        6308 non-null object\n",
      "nome_deputado       6308 non-null object\n",
      "uf                  6308 non-null object\n",
      "nome_completo       6308 non-null object\n",
      "sequencial          6308 non-null object\n",
      "cpf                 6308 non-null object\n",
      "nome_urna           6308 non-null object\n",
      "partido_eleicao     6308 non-null object\n",
      "situacao            6308 non-null object\n",
      "AnoLegislativo      6308 non-null int64\n",
      "CodOriginalidade    864 non-null object\n",
      "DtEntradaSistema    6308 non-null datetime64[ns]\n",
      "DtPublicacao        6308 non-null datetime64[ns]\n",
      "Ementa              6308 non-null object\n",
      "IdNatureza          6308 non-null object\n",
      "NroLegislativo      6308 non-null object\n",
      "IdPalavra           6308 non-null object\n",
      "Palavra             6308 non-null object\n",
      "PalavraSemAcento    6308 non-null object\n",
      "Descricao           6308 non-null object\n",
      "Data                6308 non-null object\n",
      "IdComissao          6308 non-null object\n",
      "IdEtapa             6308 non-null object\n",
      "IdTpAndamento       6308 non-null object\n",
      "NmEtapa             6308 non-null object\n",
      "NrOrdem             6308 non-null object\n",
      "TpAndamento         6308 non-null object\n",
      "dtypes: datetime64[ns](2), int64(1), object(27)\n",
      "memory usage: 1.5+ MB\n"
     ]
    }
   ],
   "source": [
    "projetos_aprovados.info()"
   ]
  },
  {
   "cell_type": "code",
   "execution_count": 16,
   "metadata": {},
   "outputs": [
    {
     "data": {
      "text/plain": [
       "95"
      ]
     },
     "execution_count": 16,
     "metadata": {},
     "output_type": "execute_result"
    }
   ],
   "source": [
    "len(projetos_aprovados['NomeAutor'].value_counts())"
   ]
  },
  {
   "cell_type": "code",
   "execution_count": 17,
   "metadata": {},
   "outputs": [
    {
     "data": {
      "text/plain": [
       "195"
      ]
     },
     "execution_count": 17,
     "metadata": {},
     "output_type": "execute_result"
    }
   ],
   "source": [
    "a = len(projetos_aprovados['IdDocumento'].value_counts())\n",
    "a"
   ]
  },
  {
   "cell_type": "code",
   "execution_count": null,
   "metadata": {},
   "outputs": [],
   "source": []
  },
  {
   "cell_type": "markdown",
   "metadata": {},
   "source": [
    "Deputados com projetos aprovados"
   ]
  },
  {
   "cell_type": "code",
   "execution_count": 18,
   "metadata": {},
   "outputs": [
    {
     "data": {
      "text/plain": [
       "NomeAutor\n",
       "Sebastião Santos                     10\n",
       "Pedro Tobias                          7\n",
       "Carlão Pignatari                      7\n",
       "Edson Giriboni                        7\n",
       "Caio França                           7\n",
       "Márcio Camargo                        7\n",
       "Afonso Lobato                         6\n",
       "Itamar Borges                         6\n",
       "Roberto Engler                        6\n",
       "Welson Gasparini                      5\n",
       "Fernando Cury                         5\n",
       "Chico Sardelli                        5\n",
       "Luiz Carlos Gondim                    5\n",
       "Marcos Damasio                        5\n",
       "Mauro Bragato                         5\n",
       "Paulo Correa Jr                       5\n",
       "Maria Lúcia Amary                     5\n",
       "Roque Barbiere                        5\n",
       "Roberto Massafera                     4\n",
       "Rita Passos                           4\n",
       "Luiz Fernando T. Ferreira             4\n",
       "Wellington Moura                      4\n",
       "Célia Leão                            4\n",
       "Davi Zaia                             4\n",
       "João Paulo Rillo                      4\n",
       "Ricardo Madalena                      4\n",
       "Edmir Chedid                          4\n",
       "André do Prado                        4\n",
       "Gil Lancaster                         3\n",
       "Doutor Ulysses                        3\n",
       "                                     ..\n",
       "Reinaldo Alguz                        2\n",
       "Raul Marcelo                          2\n",
       "Professor Auriel                      2\n",
       "Pedro Kaká                            2\n",
       "Marcos Zerbini                        2\n",
       "Marcos Martins                        2\n",
       "Fernando Capez                        2\n",
       "Luiz Turco                            2\n",
       "Léo Oliveira                          2\n",
       "Junior Aprillanti                     2\n",
       "Jorge Caruso                          2\n",
       "Geraldo Cruz                          2\n",
       "Gileno Gomes                          2\n",
       "Gilmaci Santos                        2\n",
       "Hélio Nishimoto                       2\n",
       "Gilmar Gimenes                        2\n",
       "João Caramez                          2\n",
       "Milton Leite Filho                    1\n",
       "Márcia Lia                            1\n",
       "Jorge Wilson Xerife do Consumidor     1\n",
       "Cauê Macris                           1\n",
       "Ramalho da Construção                 1\n",
       "José Zico Prado                       1\n",
       "Carlos Neder                          1\n",
       "Roberto Morais                        1\n",
       "Delegado Olim                         1\n",
       "Alencar Santana Braga                 1\n",
       "Vaz de Lima                           1\n",
       "Vitor Sapienza                        1\n",
       "Abelardo Camarinha                    1\n",
       "Name: IdDocumento, Length: 95, dtype: int64"
      ]
     },
     "execution_count": 18,
     "metadata": {},
     "output_type": "execute_result"
    }
   ],
   "source": [
    "projetos_aprovados.groupby('NomeAutor')['IdDocumento'].nunique().sort_values(ascending=False)"
   ]
  },
  {
   "cell_type": "code",
   "execution_count": 19,
   "metadata": {},
   "outputs": [],
   "source": [
    "aprovacao = projetos_aprovados.groupby('NomeAutor')['IdDocumento'].nunique().sort_values(ascending=False)"
   ]
  },
  {
   "cell_type": "code",
   "execution_count": 20,
   "metadata": {},
   "outputs": [],
   "source": [
    "aprovacao.to_excel('resultados/deputados_aprovacao_de_projetos.xlsx',sheet_name='Sheet1')"
   ]
  },
  {
   "cell_type": "code",
   "execution_count": null,
   "metadata": {},
   "outputs": [],
   "source": []
  },
  {
   "cell_type": "markdown",
   "metadata": {},
   "source": [
    "Palavras-chave dos projetos aprovados"
   ]
  },
  {
   "cell_type": "code",
   "execution_count": 32,
   "metadata": {},
   "outputs": [
    {
     "data": {
      "text/plain": [
       "Palavra\n",
       "DENOMINAÇÃO                               64\n",
       "TURISMO                                   28\n",
       "LAZER                                     24\n",
       "DESENVOLVIMENTO ECONÔMICO E SOCIAL        24\n",
       "ESTÂNCIA TURÍSTICA                        24\n",
       "DESENVOLVIMENTO TURÍSTICO                 24\n",
       "VIADUTO                                   18\n",
       "RODOVIA                                   13\n",
       "ESCOLA                                    12\n",
       "MUNICÍPIO DE INTERESSE TURÍSTICO          11\n",
       "PASSARELA                                  8\n",
       "PONTE                                      7\n",
       "PROIBIÇÃO                                  5\n",
       "INTERESSE TURÍSTICO                        5\n",
       "BARRETOS (MUNICÍPIO)                       4\n",
       "CONSCIENTIZAÇÃO                            4\n",
       "DISPOSITIVO DE ACESSO                      4\n",
       "MOGI DAS CRUZES (MUNICÍPIO)                4\n",
       "TREVO                                      4\n",
       "COMPLEXO VIÁRIO                            3\n",
       "VOTUPORANGA (MUNICÍPIO)                    3\n",
       "CRUZEIRO (MUNICÍPIO)                       3\n",
       "ESTADO DE SÃO PAULO                        3\n",
       "PREVENÇÃO                                  3\n",
       "PATRIMÔNIO CULTURAL                        3\n",
       "VEÍCULO                                    3\n",
       "SÃO JOÃO DA BOA VISTA (MUNICÍPIO)          3\n",
       "DIVULGAÇÃO                                 3\n",
       "CAPITAL                                    2\n",
       "SEGURANÇA                                  2\n",
       "                                          ..\n",
       "PROGRAMA                                   1\n",
       "PNEU INSERVÍVEL                            1\n",
       "PLANTÃO                                    1\n",
       "PLANTA                                     1\n",
       "PAGAMENTO                                  1\n",
       "NATUREZA                                   1\n",
       "NATUROLOGIA                                1\n",
       "NOME AFETIVO                               1\n",
       "NOVEMBRO                                   1\n",
       "NÍVEL MÉDIO                                1\n",
       "OFICIAL                                    1\n",
       "OLÍMPIA (MUNICÍPIO)                        1\n",
       "OPERAÇÃO VERÃO                             1\n",
       "ORIENTAÇÃO                                 1\n",
       "OSVALDO CRUZ (MUNICÍPIO)                   1\n",
       "PACIENTE                                   1\n",
       "PARCERIA                                   1\n",
       "PLANO DE ASSISTÊNCIA OU SEGURO À SAÚDE     1\n",
       "PARQUE ESTADUAL                            1\n",
       "PARQUE TURÍSTICO                           1\n",
       "PASSARELA DE PEDESTRES                     1\n",
       "PEIXE                                      1\n",
       "PENA                                       1\n",
       "PEREIRA BARRETO (MUNICÍPIO)                1\n",
       "PESSOA                                     1\n",
       "PESSOAS COM DEFICIÊNCIA AUDITIVA           1\n",
       "PETSHOP                                    1\n",
       "PIRANGI (MUNICÍPIO)                        1\n",
       "PIRATININGA (MUNICÍPIO)                    1\n",
       "ACADEMIA                                   1\n",
       "Name: IdDocumento, Length: 517, dtype: int64"
      ]
     },
     "execution_count": 32,
     "metadata": {},
     "output_type": "execute_result"
    }
   ],
   "source": [
    "projetos_aprovados.groupby('Palavra')['IdDocumento'].nunique().sort_values(ascending=False)"
   ]
  },
  {
   "cell_type": "code",
   "execution_count": null,
   "metadata": {},
   "outputs": [],
   "source": []
  },
  {
   "cell_type": "code",
   "execution_count": 29,
   "metadata": {},
   "outputs": [],
   "source": [
    "projetos_aprovados.to_excel('resultados/projetos_aprovados_deputados_selecioanados.xlsx',sheet_name='Sheet1')"
   ]
  },
  {
   "cell_type": "code",
   "execution_count": null,
   "metadata": {},
   "outputs": [],
   "source": []
  },
  {
   "cell_type": "markdown",
   "metadata": {},
   "source": [
    "Verifica quantos projetos de deputados foram apresentados entre setembro 2017 a julho 2018"
   ]
  },
  {
   "cell_type": "code",
   "execution_count": 47,
   "metadata": {},
   "outputs": [],
   "source": [
    "mask = (palavras_chave_dep['DtEntradaSistema'] > '2017-9-1') & (palavras_chave_dep['DtEntradaSistema'] <= '2018-7-31')\n",
    "\n",
    "selecionados_atual = palavras_chave_dep[mask]"
   ]
  },
  {
   "cell_type": "code",
   "execution_count": null,
   "metadata": {},
   "outputs": [],
   "source": []
  },
  {
   "cell_type": "code",
   "execution_count": 49,
   "metadata": {},
   "outputs": [
    {
     "data": {
      "text/plain": [
       "918"
      ]
     },
     "execution_count": 49,
     "metadata": {},
     "output_type": "execute_result"
    }
   ],
   "source": [
    "selecionados_atual['IdDocumento'].nunique()"
   ]
  },
  {
   "cell_type": "markdown",
   "metadata": {},
   "source": [
    "Aprovados"
   ]
  },
  {
   "cell_type": "code",
   "execution_count": 50,
   "metadata": {},
   "outputs": [
    {
     "data": {
      "text/plain": [
       "195"
      ]
     },
     "execution_count": 50,
     "metadata": {},
     "output_type": "execute_result"
    }
   ],
   "source": [
    "projetos_aprovados['IdDocumento'].nunique()"
   ]
  },
  {
   "cell_type": "code",
   "execution_count": null,
   "metadata": {},
   "outputs": [],
   "source": []
  },
  {
   "cell_type": "code",
   "execution_count": 54,
   "metadata": {},
   "outputs": [],
   "source": [
    "pouco_uteis = projetos_aprovados[(projetos_aprovados['Palavra'] == 'DENOMINAÇÃO') |\n",
    "                                        (projetos_aprovados['Palavra'] ==  'UTILIDADE PÚBLICA') | \n",
    "                                        (projetos_aprovados['Palavra'] ==  'ESTÂNCIA TURÍSTICA') | \n",
    "                                        (projetos_aprovados['Palavra'] ==  'INTERESSE TURÍSTICO') | \n",
    "                                        (projetos_aprovados['Palavra'] ==  'CALENDÁRIO OFICIAL') | \n",
    "                                        (projetos_aprovados['Palavra'] ==  'DATA COMEMORATIVA') \n",
    "                                  ]"
   ]
  },
  {
   "cell_type": "code",
   "execution_count": 55,
   "metadata": {},
   "outputs": [
    {
     "data": {
      "text/plain": [
       "97"
      ]
     },
     "execution_count": 55,
     "metadata": {},
     "output_type": "execute_result"
    }
   ],
   "source": [
    "pouco_uteis['IdDocumento'].nunique()"
   ]
  },
  {
   "cell_type": "code",
   "execution_count": 39,
   "metadata": {},
   "outputs": [],
   "source": [
    "pouco_uteis.to_excel('resultados/projetos_aprovados_deputados_baixo_impacto.xlsx',sheet_name='Sheet1')"
   ]
  },
  {
   "cell_type": "code",
   "execution_count": null,
   "metadata": {},
   "outputs": [],
   "source": []
  },
  {
   "cell_type": "code",
   "execution_count": null,
   "metadata": {},
   "outputs": [],
   "source": []
  },
  {
   "cell_type": "markdown",
   "metadata": {},
   "source": [
    "# Carrega a base de palavras-chave/projetos criada no notebook alesp_projetos para Governador"
   ]
  },
  {
   "cell_type": "code",
   "execution_count": 30,
   "metadata": {},
   "outputs": [],
   "source": [
    "palavras_chave_gov = pd.read_excel(\"resultados/projetos_governador_palavraschave.xlsx\", sheet_name='Sheet1', converters={'IdDocumento': lambda x: str(x), \n",
    "                                                                                                                         'IdPalavra': lambda x: str(x), \n",
    "                                                                                                                                 'IdAutor': lambda x: str(x), \n",
    "                                                                                                                         'CodOriginalidade': lambda x: str(x), \n",
    "                                                                                                                         'IdNatureza': lambda x: str(x), \n",
    "                                                                                                                         'NroLegislativo': lambda x: str(x),\n",
    "                                                                                                                         'codigo_unico': lambda x: str(x),\n",
    "                                                                                                                         'sequencial': lambda x: str(x),\n",
    "                                                                                                                         'cpf': lambda x: str(x)\n",
    "                                                                                                                         })"
   ]
  },
  {
   "cell_type": "code",
   "execution_count": 34,
   "metadata": {},
   "outputs": [
    {
     "name": "stdout",
     "output_type": "stream",
     "text": [
      "<class 'pandas.core.frame.DataFrame'>\n",
      "Int64Index: 264 entries, 1217 to 196828\n",
      "Data columns (total 9 columns):\n",
      "Descricao        264 non-null object\n",
      "Data             264 non-null object\n",
      "IdComissao       264 non-null object\n",
      "IdDocumento      264 non-null object\n",
      "IdEtapa          264 non-null object\n",
      "IdTpAndamento    264 non-null object\n",
      "NmEtapa          264 non-null object\n",
      "NrOrdem          264 non-null object\n",
      "TpAndamento      264 non-null object\n",
      "dtypes: object(9)\n",
      "memory usage: 20.6+ KB\n"
     ]
    }
   ],
   "source": [
    "aprovado.info()"
   ]
  },
  {
   "cell_type": "code",
   "execution_count": 44,
   "metadata": {},
   "outputs": [],
   "source": [
    "projetos_aprovados_gov = pd.merge(palavras_chave_gov, aprovado, left_on='IdDocumento', right_on='IdDocumento')"
   ]
  },
  {
   "cell_type": "code",
   "execution_count": 45,
   "metadata": {},
   "outputs": [
    {
     "name": "stdout",
     "output_type": "stream",
     "text": [
      "<class 'pandas.core.frame.DataFrame'>\n",
      "Int64Index: 80 entries, 0 to 79\n",
      "Data columns (total 21 columns):\n",
      "IdAutor             80 non-null object\n",
      "IdDocumento         80 non-null object\n",
      "NomeAutor           80 non-null object\n",
      "AnoLegislativo      80 non-null int64\n",
      "CodOriginalidade    0 non-null object\n",
      "DtEntradaSistema    80 non-null datetime64[ns]\n",
      "DtPublicacao        80 non-null datetime64[ns]\n",
      "Ementa              80 non-null object\n",
      "IdNatureza          80 non-null object\n",
      "NroLegislativo      80 non-null object\n",
      "IdPalavra           80 non-null object\n",
      "Palavra             80 non-null object\n",
      "PalavraSemAcento    80 non-null object\n",
      "Descricao           80 non-null object\n",
      "Data                80 non-null object\n",
      "IdComissao          80 non-null object\n",
      "IdEtapa             80 non-null object\n",
      "IdTpAndamento       80 non-null object\n",
      "NmEtapa             80 non-null object\n",
      "NrOrdem             80 non-null object\n",
      "TpAndamento         80 non-null object\n",
      "dtypes: datetime64[ns](2), int64(1), object(18)\n",
      "memory usage: 13.8+ KB\n"
     ]
    }
   ],
   "source": [
    "projetos_aprovados_gov.info()"
   ]
  },
  {
   "cell_type": "code",
   "execution_count": null,
   "metadata": {},
   "outputs": [],
   "source": []
  },
  {
   "cell_type": "code",
   "execution_count": 46,
   "metadata": {},
   "outputs": [
    {
     "data": {
      "text/plain": [
       "25"
      ]
     },
     "execution_count": 46,
     "metadata": {},
     "output_type": "execute_result"
    }
   ],
   "source": [
    "projetos_aprovados_gov['IdDocumento'].nunique()"
   ]
  },
  {
   "cell_type": "code",
   "execution_count": 30,
   "metadata": {},
   "outputs": [
    {
     "data": {
      "text/plain": [
       "Palavra\n",
       "PLANO DE CARREIRA                                                   3\n",
       "AUTARQUIA                                                           3\n",
       "RECLASSIFICAÇÃO SALARIAL                                            2\n",
       "OPERAÇÃO DE CRÉDITO                                                 2\n",
       "SERVIDOR PÚBLICO                                                    2\n",
       "ÁREA DE PROTEÇÃO AMBIENTAL                                          1\n",
       "ESTATUTO DOS FUNCIONÁRIOS PÚBLICOS CIVIS DO ESTADO                  1\n",
       "ESTRADA DE FERRO CAMPOS DO JORDÃO                                   1\n",
       "FEDERAÇÃO ESPÍTITA                                                  1\n",
       "FERROVIÁRIO                                                         1\n",
       "FRANCA (MUNICÍPIO)                                                  1\n",
       "FUNDO ESPECIAL DE DESPESA                                           1\n",
       "ESTABELECIMENTO DE ENSINO                                           1\n",
       "GOVERNO FEDERAL                                                     1\n",
       "IMÓVEL                                                              1\n",
       "INCLUSÃO                                                            1\n",
       "INFORMAÇÃO                                                          1\n",
       "LEI COMPLEMENTAR Nº 1.195/2013                                      1\n",
       "ESTADO                                                              1\n",
       "DÍVIDA                                                              1\n",
       "EMPREGO PÚBLICO                                                     1\n",
       "MAGISTÉRIO                                                          1\n",
       "DOCUMENTOS                                                          1\n",
       "DEPARTAMENTO ESTADUAL DE TRÂNSITO - DETRAN                          1\n",
       "COTIA (MUNICÍPIO)                                                   1\n",
       "CONTRATAÇÃO TEMPORÁRIA                                              1\n",
       "CONFORMIDADE TRIBUTÁRIA                                             1\n",
       "CONCESSÃO                                                           1\n",
       "CAPACITAÇÃO                                                         1\n",
       "CAMPOS DO JORDÃO (MUNICÍPIO)                                        1\n",
       "                                                                   ..\n",
       "RECUPERAÇÃO                                                         1\n",
       "TRATAMENTO TRIBUTÁRIO                                               1\n",
       "TELEFONE CELULAR                                                    1\n",
       "TAXA JUDICIÁRIA                                                     1\n",
       "TAXA (PODER EXECUTIVO)                                              1\n",
       "SÃO PAULO (MUNICÍPIO)                                               1\n",
       "SERVIÇO PÚBLICO FORENSE                                             1\n",
       "SERVIÇO DE PROTEÇÃO AO CRÉDITO                                      1\n",
       "SERVIDOR PÚBLICO ESTADUAL                                           1\n",
       "SERVIDOR ESTADUAL (VENCIMENTOS)                                     1\n",
       "SECRETARIA DE ESTADO                                                1\n",
       "SECRETARIA DA EDUCAÇÃO                                              1\n",
       "RENEGOCIAR                                                          1\n",
       "REFINANCIAMENTO                                                     1\n",
       "RECEITA                                                             1\n",
       "TURISMO RURAL                                                       1\n",
       "QUADRO DO MAGISTÉRIO                                                1\n",
       "PÚBLICOS                                                            1\n",
       "PROTEÇÃO AO CONSUMIDOR                                              1\n",
       "PROGRAMA DE ESTÍMULO À CONFORMIDADE TRIBUTÁRIA - \"NOS CONFORMES\"    1\n",
       "PROCURADORIA GERAL DO ESTADO                                        1\n",
       "POLÍTICA DE FOMENTO AO TURISMO RURAL                                1\n",
       "PODER EXECUTIVO                                                     1\n",
       "PLANO DE REESTRUTURAÇÃO DE CARREIRA DO MAGISTÉRIO PAULISTA          1\n",
       "PLANO DE CARGOS, VENCIMENTOS E SALÁRIOS                             1\n",
       "PISO SALARIAL MENSAL                                                1\n",
       "PGE (PROCURADORIA GERAL DO ESTADO)                                  1\n",
       "ORÇAMENTO                                                           1\n",
       "NOMEAÇÃO                                                            1\n",
       "ABONO COMPLEMENTAR                                                  1\n",
       "Name: IdDocumento, Length: 68, dtype: int64"
      ]
     },
     "execution_count": 30,
     "metadata": {},
     "output_type": "execute_result"
    }
   ],
   "source": [
    "projetos_aprovados_gov.groupby('Palavra')['IdDocumento'].nunique().sort_values(ascending=False)"
   ]
  },
  {
   "cell_type": "code",
   "execution_count": null,
   "metadata": {},
   "outputs": [],
   "source": []
  },
  {
   "cell_type": "code",
   "execution_count": 31,
   "metadata": {},
   "outputs": [],
   "source": [
    "projetos_aprovados_gov.to_excel('resultados/governador_projetos_aprovados.xlsx',sheet_name='Sheet1')"
   ]
  },
  {
   "cell_type": "code",
   "execution_count": null,
   "metadata": {},
   "outputs": [],
   "source": []
  },
  {
   "cell_type": "code",
   "execution_count": 51,
   "metadata": {},
   "outputs": [],
   "source": [
    "mask = (palavras_chave_gov['DtEntradaSistema'] > '2017-9-1') & (palavras_chave_gov['DtEntradaSistema'] <= '2018-7-31')\n",
    "\n",
    "selecionados_atual = palavras_chave_gov[mask]"
   ]
  },
  {
   "cell_type": "code",
   "execution_count": 52,
   "metadata": {},
   "outputs": [
    {
     "data": {
      "text/plain": [
       "35"
      ]
     },
     "execution_count": 52,
     "metadata": {},
     "output_type": "execute_result"
    }
   ],
   "source": [
    "selecionados_atual['IdDocumento'].nunique()"
   ]
  },
  {
   "cell_type": "markdown",
   "metadata": {},
   "source": [
    "Aprovados"
   ]
  },
  {
   "cell_type": "code",
   "execution_count": 53,
   "metadata": {},
   "outputs": [
    {
     "data": {
      "text/plain": [
       "25"
      ]
     },
     "execution_count": 53,
     "metadata": {},
     "output_type": "execute_result"
    }
   ],
   "source": [
    "projetos_aprovados_gov['IdDocumento'].nunique()"
   ]
  },
  {
   "cell_type": "code",
   "execution_count": null,
   "metadata": {},
   "outputs": [],
   "source": []
  },
  {
   "cell_type": "code",
   "execution_count": null,
   "metadata": {},
   "outputs": [],
   "source": []
  },
  {
   "cell_type": "markdown",
   "metadata": {},
   "source": [
    "Projetos com vetos"
   ]
  },
  {
   "cell_type": "code",
   "execution_count": 23,
   "metadata": {},
   "outputs": [],
   "source": [
    "projetos_vetos = pd.merge(palavras_chave_dep, vetos, left_on='IdDocumento', right_on='IdDocumento')"
   ]
  },
  {
   "cell_type": "code",
   "execution_count": 24,
   "metadata": {},
   "outputs": [
    {
     "name": "stdout",
     "output_type": "stream",
     "text": [
      "<class 'pandas.core.frame.DataFrame'>\n",
      "Int64Index: 4510 entries, 0 to 4509\n",
      "Data columns (total 30 columns):\n",
      "IdAutor             4510 non-null object\n",
      "IdDocumento         4510 non-null object\n",
      "NomeAutor           4510 non-null object\n",
      "codigo_unico        4510 non-null object\n",
      "nome_deputado       4510 non-null object\n",
      "uf                  4510 non-null object\n",
      "nome_completo       4510 non-null object\n",
      "sequencial          4510 non-null object\n",
      "cpf                 4510 non-null object\n",
      "nome_urna           4510 non-null object\n",
      "partido_eleicao     4510 non-null object\n",
      "situacao            4510 non-null object\n",
      "AnoLegislativo      4510 non-null int64\n",
      "CodOriginalidade    4184 non-null object\n",
      "DtEntradaSistema    4510 non-null datetime64[ns]\n",
      "DtPublicacao        4510 non-null datetime64[ns]\n",
      "Ementa              4510 non-null object\n",
      "IdNatureza          4510 non-null object\n",
      "NroLegislativo      4510 non-null object\n",
      "IdPalavra           4510 non-null object\n",
      "Palavra             4510 non-null object\n",
      "PalavraSemAcento    4510 non-null object\n",
      "Descricao           4510 non-null object\n",
      "Data                4510 non-null object\n",
      "IdComissao          4510 non-null object\n",
      "IdEtapa             4510 non-null object\n",
      "IdTpAndamento       4510 non-null object\n",
      "NmEtapa             4510 non-null object\n",
      "NrOrdem             4510 non-null object\n",
      "TpAndamento         4510 non-null object\n",
      "dtypes: datetime64[ns](2), int64(1), object(27)\n",
      "memory usage: 1.1+ MB\n"
     ]
    }
   ],
   "source": [
    "projetos_vetos.info()"
   ]
  },
  {
   "cell_type": "code",
   "execution_count": 25,
   "metadata": {},
   "outputs": [],
   "source": [
    "projetos_vetos.to_excel('resultados/projetos_deputados_com_mencao_vetos.xlsx',sheet_name='Sheet1')"
   ]
  },
  {
   "cell_type": "code",
   "execution_count": null,
   "metadata": {},
   "outputs": [],
   "source": []
  },
  {
   "cell_type": "code",
   "execution_count": 35,
   "metadata": {},
   "outputs": [],
   "source": [
    "projetos_vetos_gov = pd.merge(palavras_chave_gov, vetos, left_on='IdDocumento', right_on='IdDocumento')"
   ]
  },
  {
   "cell_type": "code",
   "execution_count": 36,
   "metadata": {},
   "outputs": [
    {
     "name": "stdout",
     "output_type": "stream",
     "text": [
      "<class 'pandas.core.frame.DataFrame'>\n",
      "Int64Index: 89 entries, 0 to 88\n",
      "Data columns (total 21 columns):\n",
      "IdAutor             89 non-null object\n",
      "IdDocumento         89 non-null object\n",
      "NomeAutor           89 non-null object\n",
      "AnoLegislativo      89 non-null int64\n",
      "CodOriginalidade    0 non-null object\n",
      "DtEntradaSistema    89 non-null datetime64[ns]\n",
      "DtPublicacao        89 non-null datetime64[ns]\n",
      "Ementa              89 non-null object\n",
      "IdNatureza          89 non-null object\n",
      "NroLegislativo      89 non-null object\n",
      "IdPalavra           89 non-null object\n",
      "Palavra             89 non-null object\n",
      "PalavraSemAcento    89 non-null object\n",
      "Descricao           89 non-null object\n",
      "Data                89 non-null object\n",
      "IdComissao          89 non-null object\n",
      "IdEtapa             89 non-null object\n",
      "IdTpAndamento       89 non-null object\n",
      "NmEtapa             89 non-null object\n",
      "NrOrdem             89 non-null object\n",
      "TpAndamento         89 non-null object\n",
      "dtypes: datetime64[ns](2), int64(1), object(18)\n",
      "memory usage: 15.3+ KB\n"
     ]
    }
   ],
   "source": [
    "projetos_vetos_gov.info()"
   ]
  },
  {
   "cell_type": "code",
   "execution_count": 37,
   "metadata": {},
   "outputs": [],
   "source": [
    "projetos_vetos_gov.to_excel('resultados/projetos_governador_com_mencao_vetos.xlsx',sheet_name='Sheet1')"
   ]
  },
  {
   "cell_type": "code",
   "execution_count": null,
   "metadata": {},
   "outputs": [],
   "source": []
  },
  {
   "cell_type": "code",
   "execution_count": null,
   "metadata": {},
   "outputs": [],
   "source": []
  },
  {
   "cell_type": "markdown",
   "metadata": {},
   "source": [
    "Projetos com emendas"
   ]
  },
  {
   "cell_type": "code",
   "execution_count": 27,
   "metadata": {},
   "outputs": [],
   "source": [
    "projetos_emendas = pd.merge(palavras_chave_dep, emendas, left_on='IdDocumento', right_on='IdDocumento')"
   ]
  },
  {
   "cell_type": "code",
   "execution_count": 28,
   "metadata": {},
   "outputs": [
    {
     "name": "stdout",
     "output_type": "stream",
     "text": [
      "<class 'pandas.core.frame.DataFrame'>\n",
      "Int64Index: 21060 entries, 0 to 21059\n",
      "Data columns (total 30 columns):\n",
      "IdAutor             21060 non-null object\n",
      "IdDocumento         21060 non-null object\n",
      "NomeAutor           21060 non-null object\n",
      "codigo_unico        21060 non-null object\n",
      "nome_deputado       21060 non-null object\n",
      "uf                  21060 non-null object\n",
      "nome_completo       21060 non-null object\n",
      "sequencial          21060 non-null object\n",
      "cpf                 21060 non-null object\n",
      "nome_urna           21060 non-null object\n",
      "partido_eleicao     21060 non-null object\n",
      "situacao            21060 non-null object\n",
      "AnoLegislativo      21060 non-null int64\n",
      "CodOriginalidade    19997 non-null object\n",
      "DtEntradaSistema    21060 non-null datetime64[ns]\n",
      "DtPublicacao        21060 non-null datetime64[ns]\n",
      "Ementa              21060 non-null object\n",
      "IdNatureza          21060 non-null object\n",
      "NroLegislativo      21060 non-null object\n",
      "IdPalavra           21060 non-null object\n",
      "Palavra             21060 non-null object\n",
      "PalavraSemAcento    21060 non-null object\n",
      "Descricao           21060 non-null object\n",
      "Data                21060 non-null object\n",
      "IdComissao          21060 non-null object\n",
      "IdEtapa             21060 non-null object\n",
      "IdTpAndamento       21060 non-null object\n",
      "NmEtapa             21060 non-null object\n",
      "NrOrdem             21060 non-null object\n",
      "TpAndamento         21060 non-null object\n",
      "dtypes: datetime64[ns](2), int64(1), object(27)\n",
      "memory usage: 5.0+ MB\n"
     ]
    }
   ],
   "source": [
    "projetos_emendas.info()"
   ]
  },
  {
   "cell_type": "code",
   "execution_count": 29,
   "metadata": {},
   "outputs": [],
   "source": [
    "projetos_emendas.to_excel('resultados/projetos_deputados_com_mencao_emendas.xlsx',sheet_name='Sheet1')"
   ]
  },
  {
   "cell_type": "code",
   "execution_count": null,
   "metadata": {},
   "outputs": [],
   "source": []
  },
  {
   "cell_type": "code",
   "execution_count": 38,
   "metadata": {},
   "outputs": [],
   "source": [
    "projetos_emendas_gov = pd.merge(palavras_chave_gov, emendas, left_on='IdDocumento', right_on='IdDocumento')"
   ]
  },
  {
   "cell_type": "code",
   "execution_count": 39,
   "metadata": {},
   "outputs": [
    {
     "name": "stdout",
     "output_type": "stream",
     "text": [
      "<class 'pandas.core.frame.DataFrame'>\n",
      "Int64Index: 557 entries, 0 to 556\n",
      "Data columns (total 21 columns):\n",
      "IdAutor             557 non-null object\n",
      "IdDocumento         557 non-null object\n",
      "NomeAutor           557 non-null object\n",
      "AnoLegislativo      557 non-null int64\n",
      "CodOriginalidade    0 non-null object\n",
      "DtEntradaSistema    557 non-null datetime64[ns]\n",
      "DtPublicacao        557 non-null datetime64[ns]\n",
      "Ementa              557 non-null object\n",
      "IdNatureza          557 non-null object\n",
      "NroLegislativo      557 non-null object\n",
      "IdPalavra           557 non-null object\n",
      "Palavra             557 non-null object\n",
      "PalavraSemAcento    557 non-null object\n",
      "Descricao           557 non-null object\n",
      "Data                557 non-null object\n",
      "IdComissao          557 non-null object\n",
      "IdEtapa             557 non-null object\n",
      "IdTpAndamento       557 non-null object\n",
      "NmEtapa             557 non-null object\n",
      "NrOrdem             557 non-null object\n",
      "TpAndamento         557 non-null object\n",
      "dtypes: datetime64[ns](2), int64(1), object(18)\n",
      "memory usage: 95.7+ KB\n"
     ]
    }
   ],
   "source": [
    "projetos_emendas_gov.info()"
   ]
  },
  {
   "cell_type": "code",
   "execution_count": 40,
   "metadata": {},
   "outputs": [],
   "source": [
    "projetos_vetos_gov.to_excel('resultados/projetos_governador_com_mencao_emendas.xlsx',sheet_name='Sheet1')"
   ]
  },
  {
   "cell_type": "code",
   "execution_count": null,
   "metadata": {},
   "outputs": [],
   "source": []
  }
 ],
 "metadata": {
  "kernelspec": {
   "display_name": "Python 3",
   "language": "python",
   "name": "python3"
  },
  "language_info": {
   "codemirror_mode": {
    "name": "ipython",
    "version": 3
   },
   "file_extension": ".py",
   "mimetype": "text/x-python",
   "name": "python",
   "nbconvert_exporter": "python",
   "pygments_lexer": "ipython3",
   "version": "3.6.2"
  }
 },
 "nbformat": 4,
 "nbformat_minor": 2
}
