{
 "cells": [
  {
   "cell_type": "code",
   "execution_count": 1,
   "metadata": {},
   "outputs": [],
   "source": [
    "# -*- coding: utf-8\n",
    "# VOLT DATA LAB (https://www.voltdata.info/)\n",
    "# Reinaldo Chaves (@paidatocandeira)\n",
    "# Detalhamento de como é o gasto com funcionários em cada gabinete e detecta as falhas de transparência do sistema \n",
    "#"
   ]
  },
  {
   "cell_type": "code",
   "execution_count": null,
   "metadata": {},
   "outputs": [],
   "source": []
  },
  {
   "cell_type": "code",
   "execution_count": 1,
   "metadata": {},
   "outputs": [],
   "source": [
    "from urllib.request import urlopen\n",
    "from bs4 import BeautifulSoup\n",
    "import pandas as pd\n",
    "import unidecode\n",
    "import json\n",
    "import xmltodict\n",
    "import numpy as np\n",
    "from datetime import date"
   ]
  },
  {
   "cell_type": "code",
   "execution_count": null,
   "metadata": {},
   "outputs": [],
   "source": []
  },
  {
   "cell_type": "markdown",
   "metadata": {},
   "source": [
    "Função para retirar acentuação"
   ]
  },
  {
   "cell_type": "code",
   "execution_count": 2,
   "metadata": {},
   "outputs": [],
   "source": [
    "def f(str):\n",
    "    return (unidecode.unidecode(str))"
   ]
  },
  {
   "cell_type": "code",
   "execution_count": null,
   "metadata": {},
   "outputs": [],
   "source": []
  },
  {
   "cell_type": "markdown",
   "metadata": {},
   "source": [
    "Formato do float"
   ]
  },
  {
   "cell_type": "code",
   "execution_count": 3,
   "metadata": {},
   "outputs": [],
   "source": [
    "pd.options.display.float_format = '{:,.2f}'.format"
   ]
  },
  {
   "cell_type": "code",
   "execution_count": null,
   "metadata": {},
   "outputs": [],
   "source": []
  },
  {
   "cell_type": "markdown",
   "metadata": {},
   "source": [
    "# Remuneração de servidores da Alesp"
   ]
  },
  {
   "cell_type": "markdown",
   "metadata": {},
   "source": [
    "Fonte: https://www.al.sp.gov.br/repositorio/folha-de-pagamento/folha-2018-07.html <br>\n",
    "Último mẽs com informações - julho de 2018"
   ]
  },
  {
   "cell_type": "code",
   "execution_count": 4,
   "metadata": {},
   "outputs": [],
   "source": [
    "url_chave = ' https://www.al.sp.gov.br/repositorio/folha-de-pagamento/folha-'\n",
    "pagamentos = []"
   ]
  },
  {
   "cell_type": "markdown",
   "metadata": {},
   "source": [
    "Raspa os vencimentos a partir de 2015"
   ]
  },
  {
   "cell_type": "code",
   "execution_count": 5,
   "metadata": {},
   "outputs": [
    {
     "name": "stdout",
     "output_type": "stream",
     "text": [
      " https://www.al.sp.gov.br/repositorio/folha-de-pagamento/folha-2015-01.html\n",
      " https://www.al.sp.gov.br/repositorio/folha-de-pagamento/folha-2015-02.html\n",
      " https://www.al.sp.gov.br/repositorio/folha-de-pagamento/folha-2015-03.html\n",
      " https://www.al.sp.gov.br/repositorio/folha-de-pagamento/folha-2015-04.html\n",
      " https://www.al.sp.gov.br/repositorio/folha-de-pagamento/folha-2015-05.html\n",
      " https://www.al.sp.gov.br/repositorio/folha-de-pagamento/folha-2015-06.html\n",
      " https://www.al.sp.gov.br/repositorio/folha-de-pagamento/folha-2015-07.html\n",
      " https://www.al.sp.gov.br/repositorio/folha-de-pagamento/folha-2015-08.html\n",
      " https://www.al.sp.gov.br/repositorio/folha-de-pagamento/folha-2015-09.html\n",
      " https://www.al.sp.gov.br/repositorio/folha-de-pagamento/folha-2015-10.html\n",
      " https://www.al.sp.gov.br/repositorio/folha-de-pagamento/folha-2015-11.html\n",
      " https://www.al.sp.gov.br/repositorio/folha-de-pagamento/folha-2015-12.html\n",
      " https://www.al.sp.gov.br/repositorio/folha-de-pagamento/folha-2016-01.html\n",
      " https://www.al.sp.gov.br/repositorio/folha-de-pagamento/folha-2016-02.html\n",
      " https://www.al.sp.gov.br/repositorio/folha-de-pagamento/folha-2016-03.html\n",
      " https://www.al.sp.gov.br/repositorio/folha-de-pagamento/folha-2016-04.html\n",
      " https://www.al.sp.gov.br/repositorio/folha-de-pagamento/folha-2016-05.html\n",
      " https://www.al.sp.gov.br/repositorio/folha-de-pagamento/folha-2016-06.html\n",
      " https://www.al.sp.gov.br/repositorio/folha-de-pagamento/folha-2016-07.html\n",
      " https://www.al.sp.gov.br/repositorio/folha-de-pagamento/folha-2016-08.html\n",
      " https://www.al.sp.gov.br/repositorio/folha-de-pagamento/folha-2016-09.html\n",
      " https://www.al.sp.gov.br/repositorio/folha-de-pagamento/folha-2016-10.html\n",
      " https://www.al.sp.gov.br/repositorio/folha-de-pagamento/folha-2016-11.html\n",
      " https://www.al.sp.gov.br/repositorio/folha-de-pagamento/folha-2016-12.html\n",
      " https://www.al.sp.gov.br/repositorio/folha-de-pagamento/folha-2017-01.html\n",
      " https://www.al.sp.gov.br/repositorio/folha-de-pagamento/folha-2017-02.html\n",
      " https://www.al.sp.gov.br/repositorio/folha-de-pagamento/folha-2017-03.html\n",
      " https://www.al.sp.gov.br/repositorio/folha-de-pagamento/folha-2017-04.html\n",
      " https://www.al.sp.gov.br/repositorio/folha-de-pagamento/folha-2017-05.html\n",
      " https://www.al.sp.gov.br/repositorio/folha-de-pagamento/folha-2017-06.html\n",
      " https://www.al.sp.gov.br/repositorio/folha-de-pagamento/folha-2017-07.html\n",
      " https://www.al.sp.gov.br/repositorio/folha-de-pagamento/folha-2017-08.html\n",
      " https://www.al.sp.gov.br/repositorio/folha-de-pagamento/folha-2017-09.html\n",
      " https://www.al.sp.gov.br/repositorio/folha-de-pagamento/folha-2017-10.html\n",
      " https://www.al.sp.gov.br/repositorio/folha-de-pagamento/folha-2017-11.html\n",
      " https://www.al.sp.gov.br/repositorio/folha-de-pagamento/folha-2017-12.html\n",
      " https://www.al.sp.gov.br/repositorio/folha-de-pagamento/folha-2018-01.html\n",
      " https://www.al.sp.gov.br/repositorio/folha-de-pagamento/folha-2018-02.html\n",
      " https://www.al.sp.gov.br/repositorio/folha-de-pagamento/folha-2018-03.html\n",
      " https://www.al.sp.gov.br/repositorio/folha-de-pagamento/folha-2018-04.html\n",
      " https://www.al.sp.gov.br/repositorio/folha-de-pagamento/folha-2018-05.html\n",
      " https://www.al.sp.gov.br/repositorio/folha-de-pagamento/folha-2018-06.html\n",
      " https://www.al.sp.gov.br/repositorio/folha-de-pagamento/folha-2018-07.html\n"
     ]
    }
   ],
   "source": [
    "for vez in [2015, 2016, 2017, 2018]:\n",
    "    ano = str(vez)\n",
    "    for i in range(1, 13):\n",
    "        if ano == '2018' and i == 8:\n",
    "            break\n",
    "        else:\n",
    "            if i <= 9:\n",
    "                mes = '0' +  str(i)\n",
    "            else:\n",
    "                mes = str(i)\n",
    "                \n",
    "            \n",
    "            link = url_chave + ano + '-' + mes + '.html'\n",
    "            print(link)\n",
    "            \n",
    "            url = urlopen(link)\n",
    "            \n",
    "            bsObje = BeautifulSoup(url, \"html5lib\")\n",
    "            \n",
    "            tabela = bsObje.findAll(\"table\", {\"class\":\"tabela_simples\"})\n",
    "            \n",
    "            conta = 0\n",
    "\n",
    "            for table_ele in tabela:\n",
    "                for row in table_ele.findAll('tr'):\n",
    "                    if conta > 0:\n",
    "                        cols = row.findAll('td')\n",
    "                        dicionario = {\"ano\": ano,\n",
    "                                      \"mes\": mes,\n",
    "                                      \"nome_func\": cols[0].text.strip(), \n",
    "                                      \"remuneracao_bruta\": cols[1].text.strip(),\n",
    "                                      \"remuneracao_liquida\": cols[2].text.strip(),\n",
    "                                      \"tributos\": cols[3].text.strip()}\n",
    "                        pagamentos.append(dicionario)         \n",
    "                    conta = conta + 1           "
   ]
  },
  {
   "cell_type": "code",
   "execution_count": null,
   "metadata": {},
   "outputs": [],
   "source": []
  },
  {
   "cell_type": "code",
   "execution_count": 6,
   "metadata": {},
   "outputs": [],
   "source": [
    "df_pagamentos = pd.DataFrame(pagamentos)"
   ]
  },
  {
   "cell_type": "code",
   "execution_count": 7,
   "metadata": {},
   "outputs": [
    {
     "name": "stdout",
     "output_type": "stream",
     "text": [
      "<class 'pandas.core.frame.DataFrame'>\n",
      "RangeIndex: 211945 entries, 0 to 211944\n",
      "Data columns (total 6 columns):\n",
      "ano                    211945 non-null object\n",
      "mes                    211945 non-null object\n",
      "nome_func              211945 non-null object\n",
      "remuneracao_bruta      211945 non-null object\n",
      "remuneracao_liquida    211945 non-null object\n",
      "tributos               211945 non-null object\n",
      "dtypes: object(6)\n",
      "memory usage: 9.7+ MB\n"
     ]
    }
   ],
   "source": [
    "df_pagamentos.info()"
   ]
  },
  {
   "cell_type": "code",
   "execution_count": 8,
   "metadata": {},
   "outputs": [
    {
     "data": {
      "text/html": [
       "<div>\n",
       "<style scoped>\n",
       "    .dataframe tbody tr th:only-of-type {\n",
       "        vertical-align: middle;\n",
       "    }\n",
       "\n",
       "    .dataframe tbody tr th {\n",
       "        vertical-align: top;\n",
       "    }\n",
       "\n",
       "    .dataframe thead th {\n",
       "        text-align: right;\n",
       "    }\n",
       "</style>\n",
       "<table border=\"1\" class=\"dataframe\">\n",
       "  <thead>\n",
       "    <tr style=\"text-align: right;\">\n",
       "      <th></th>\n",
       "      <th>index</th>\n",
       "      <th>ano</th>\n",
       "      <th>mes</th>\n",
       "      <th>nome_func</th>\n",
       "      <th>remuneracao_bruta</th>\n",
       "      <th>remuneracao_liquida</th>\n",
       "      <th>tributos</th>\n",
       "    </tr>\n",
       "  </thead>\n",
       "  <tbody>\n",
       "    <tr>\n",
       "      <th>0</th>\n",
       "      <td>0</td>\n",
       "      <td>2015</td>\n",
       "      <td>01</td>\n",
       "      <td>ABEL PEREIRA</td>\n",
       "      <td>13.406,63</td>\n",
       "      <td>10.439,20</td>\n",
       "      <td>2.967,43</td>\n",
       "    </tr>\n",
       "    <tr>\n",
       "      <th>1</th>\n",
       "      <td>1</td>\n",
       "      <td>2015</td>\n",
       "      <td>01</td>\n",
       "      <td>ABENOR GARCIA FERREIRA</td>\n",
       "      <td>17.507,31</td>\n",
       "      <td>13.968,74</td>\n",
       "      <td>3.538,57</td>\n",
       "    </tr>\n",
       "    <tr>\n",
       "      <th>2</th>\n",
       "      <td>2</td>\n",
       "      <td>2015</td>\n",
       "      <td>01</td>\n",
       "      <td>ABILIO DO LIVRAMENTO P ALVES</td>\n",
       "      <td>11.160,56</td>\n",
       "      <td>7.919,77</td>\n",
       "      <td>3.240,79</td>\n",
       "    </tr>\n",
       "    <tr>\n",
       "      <th>3</th>\n",
       "      <td>3</td>\n",
       "      <td>2015</td>\n",
       "      <td>01</td>\n",
       "      <td>ABNEIA BUFFOLIN BROCANELLI</td>\n",
       "      <td>4.599,47</td>\n",
       "      <td>3.758,26</td>\n",
       "      <td>841,21</td>\n",
       "    </tr>\n",
       "    <tr>\n",
       "      <th>4</th>\n",
       "      <td>4</td>\n",
       "      <td>2015</td>\n",
       "      <td>01</td>\n",
       "      <td>ABRAO BARBOSA DIB</td>\n",
       "      <td>9.254,85</td>\n",
       "      <td>7.202,63</td>\n",
       "      <td>2.052,22</td>\n",
       "    </tr>\n",
       "  </tbody>\n",
       "</table>\n",
       "</div>"
      ],
      "text/plain": [
       "   index   ano mes                     nome_func remuneracao_bruta  \\\n",
       "0      0  2015  01                  ABEL PEREIRA         13.406,63   \n",
       "1      1  2015  01        ABENOR GARCIA FERREIRA         17.507,31   \n",
       "2      2  2015  01  ABILIO DO LIVRAMENTO P ALVES         11.160,56   \n",
       "3      3  2015  01    ABNEIA BUFFOLIN BROCANELLI          4.599,47   \n",
       "4      4  2015  01             ABRAO BARBOSA DIB          9.254,85   \n",
       "\n",
       "  remuneracao_liquida  tributos  \n",
       "0           10.439,20  2.967,43  \n",
       "1           13.968,74  3.538,57  \n",
       "2            7.919,77  3.240,79  \n",
       "3            3.758,26    841,21  \n",
       "4            7.202,63  2.052,22  "
      ]
     },
     "execution_count": 8,
     "metadata": {},
     "output_type": "execute_result"
    }
   ],
   "source": [
    "df_pagamentos.reset_index().head()"
   ]
  },
  {
   "cell_type": "code",
   "execution_count": 9,
   "metadata": {},
   "outputs": [],
   "source": [
    "df_pagamentos[\"nome_func\"] = df_pagamentos[\"nome_func\"].apply(f)"
   ]
  },
  {
   "cell_type": "code",
   "execution_count": null,
   "metadata": {},
   "outputs": [],
   "source": []
  },
  {
   "cell_type": "code",
   "execution_count": 11,
   "metadata": {},
   "outputs": [],
   "source": [
    "df_pagamentos.to_excel('resultados/pagamentos_servidores.xlsx',sheet_name='Sheet1')"
   ]
  },
  {
   "cell_type": "code",
   "execution_count": null,
   "metadata": {},
   "outputs": [],
   "source": []
  },
  {
   "cell_type": "code",
   "execution_count": 4,
   "metadata": {},
   "outputs": [],
   "source": [
    "df_pagamentos = pd.read_excel('resultados/pagamentos_servidores.xlsx',sheet_name='Sheet1')"
   ]
  },
  {
   "cell_type": "code",
   "execution_count": 11,
   "metadata": {},
   "outputs": [
    {
     "name": "stdout",
     "output_type": "stream",
     "text": [
      "<class 'pandas.core.frame.DataFrame'>\n",
      "RangeIndex: 211945 entries, 0 to 211944\n",
      "Data columns (total 6 columns):\n",
      "ano                    211945 non-null object\n",
      "mes                    211945 non-null object\n",
      "nome_func              211945 non-null object\n",
      "remuneracao_bruta      211945 non-null object\n",
      "remuneracao_liquida    211945 non-null object\n",
      "tributos               211945 non-null object\n",
      "dtypes: object(6)\n",
      "memory usage: 9.7+ MB\n"
     ]
    }
   ],
   "source": [
    "df_pagamentos.info()"
   ]
  },
  {
   "cell_type": "code",
   "execution_count": null,
   "metadata": {},
   "outputs": [],
   "source": []
  },
  {
   "cell_type": "markdown",
   "metadata": {},
   "source": [
    "# Lotação de servidores"
   ]
  },
  {
   "cell_type": "markdown",
   "metadata": {},
   "source": [
    "Versão com acesso do site que mostra a situação presente"
   ]
  },
  {
   "cell_type": "markdown",
   "metadata": {},
   "source": [
    "Fonte: https://www.al.sp.gov.br/geral/siga/servidores.jsp?todos=true"
   ]
  },
  {
   "cell_type": "code",
   "execution_count": 10,
   "metadata": {},
   "outputs": [],
   "source": [
    "url = urlopen(\"https://www.al.sp.gov.br/geral/siga/servidores.jsp?todos=true\")\n",
    "bsObje =  BeautifulSoup(url, \"html5lib\")"
   ]
  },
  {
   "cell_type": "code",
   "execution_count": 11,
   "metadata": {},
   "outputs": [],
   "source": [
    "tabela = bsObje.findAll(\"table\", {\"class\":\"tabela lotacao\"})"
   ]
  },
  {
   "cell_type": "code",
   "execution_count": 12,
   "metadata": {},
   "outputs": [],
   "source": [
    "funcionarios = []\n",
    "i = 0\n",
    "for table_ele in tabela:\n",
    "    for row in table_ele.findAll('tr'):\n",
    "        if i > 1:\n",
    "            cols = row.findAll('td')\n",
    "            dicionario = {\"nome_func\": cols[0].text.strip(), \n",
    "                              \"tipo_cargo1\": cols[1].text.strip(),\n",
    "                              \"tipo_cargo2\": cols[2].text.strip(),\n",
    "                              \"lotacao\": cols[3].text.strip()}\n",
    "            funcionarios.append(dicionario)         \n",
    "        i = i + 1"
   ]
  },
  {
   "cell_type": "code",
   "execution_count": 13,
   "metadata": {},
   "outputs": [],
   "source": [
    "df_lotacao_presente = pd.DataFrame(funcionarios)"
   ]
  },
  {
   "cell_type": "code",
   "execution_count": 14,
   "metadata": {},
   "outputs": [
    {
     "name": "stdout",
     "output_type": "stream",
     "text": [
      "<class 'pandas.core.frame.DataFrame'>\n",
      "RangeIndex: 27946 entries, 0 to 27945\n",
      "Data columns (total 4 columns):\n",
      "lotacao        27946 non-null object\n",
      "nome_func      27946 non-null object\n",
      "tipo_cargo1    27946 non-null object\n",
      "tipo_cargo2    27946 non-null object\n",
      "dtypes: object(4)\n",
      "memory usage: 873.4+ KB\n"
     ]
    }
   ],
   "source": [
    "df_lotacao_presente.info()"
   ]
  },
  {
   "cell_type": "code",
   "execution_count": 16,
   "metadata": {},
   "outputs": [
    {
     "data": {
      "text/html": [
       "<div>\n",
       "<style scoped>\n",
       "    .dataframe tbody tr th:only-of-type {\n",
       "        vertical-align: middle;\n",
       "    }\n",
       "\n",
       "    .dataframe tbody tr th {\n",
       "        vertical-align: top;\n",
       "    }\n",
       "\n",
       "    .dataframe thead th {\n",
       "        text-align: right;\n",
       "    }\n",
       "</style>\n",
       "<table border=\"1\" class=\"dataframe\">\n",
       "  <thead>\n",
       "    <tr style=\"text-align: right;\">\n",
       "      <th></th>\n",
       "      <th>index</th>\n",
       "      <th>lotacao</th>\n",
       "      <th>nome_func</th>\n",
       "      <th>tipo_cargo1</th>\n",
       "      <th>tipo_cargo2</th>\n",
       "    </tr>\n",
       "  </thead>\n",
       "  <tbody>\n",
       "    <tr>\n",
       "      <th>0</th>\n",
       "      <td>0</td>\n",
       "      <td>GABINETE DEP. ENIO TATTO</td>\n",
       "      <td>ABALDINO FERREIRA DA SILVA</td>\n",
       "      <td>ASSISTENTE PARLAMENTAR II</td>\n",
       "      <td>COMISSÃO</td>\n",
       "    </tr>\n",
       "    <tr>\n",
       "      <th>1</th>\n",
       "      <td>1</td>\n",
       "      <td>Ex-funcionário</td>\n",
       "      <td>ABDALLAH ABRÃO AUAD</td>\n",
       "      <td>AGENTE DE SEGURANÇA PARLAMENTAR</td>\n",
       "      <td>COMISSÃO</td>\n",
       "    </tr>\n",
       "    <tr>\n",
       "      <th>2</th>\n",
       "      <td>2</td>\n",
       "      <td>Ex-funcionário</td>\n",
       "      <td>ABDIAS CRISPIM DE ALMEIDA</td>\n",
       "      <td></td>\n",
       "      <td></td>\n",
       "    </tr>\n",
       "    <tr>\n",
       "      <th>3</th>\n",
       "      <td>3</td>\n",
       "      <td>Ex-funcionário</td>\n",
       "      <td>ABDIAS DA SILVA</td>\n",
       "      <td>AUXILIAR PARLAMENTAR\\n\\t\\t\\t\\t\\t\\t\\t\\n\\t\\t\\t\\t...</td>\n",
       "      <td>COMISSÃO</td>\n",
       "    </tr>\n",
       "    <tr>\n",
       "      <th>4</th>\n",
       "      <td>4</td>\n",
       "      <td>Ex-funcionário</td>\n",
       "      <td>ABDULNASSER MOHAMAD ABOU NASSIF</td>\n",
       "      <td>AGENTE DE SEGURANÇA PARLAMENTAR</td>\n",
       "      <td>COMISSÃO</td>\n",
       "    </tr>\n",
       "  </tbody>\n",
       "</table>\n",
       "</div>"
      ],
      "text/plain": [
       "   index                   lotacao                        nome_func  \\\n",
       "0      0  GABINETE DEP. ENIO TATTO       ABALDINO FERREIRA DA SILVA   \n",
       "1      1            Ex-funcionário              ABDALLAH ABRÃO AUAD   \n",
       "2      2            Ex-funcionário        ABDIAS CRISPIM DE ALMEIDA   \n",
       "3      3            Ex-funcionário                  ABDIAS DA SILVA   \n",
       "4      4            Ex-funcionário  ABDULNASSER MOHAMAD ABOU NASSIF   \n",
       "\n",
       "                                         tipo_cargo1 tipo_cargo2  \n",
       "0                          ASSISTENTE PARLAMENTAR II    COMISSÃO  \n",
       "1                    AGENTE DE SEGURANÇA PARLAMENTAR    COMISSÃO  \n",
       "2                                                                 \n",
       "3  AUXILIAR PARLAMENTAR\\n\\t\\t\\t\\t\\t\\t\\t\\n\\t\\t\\t\\t...    COMISSÃO  \n",
       "4                    AGENTE DE SEGURANÇA PARLAMENTAR    COMISSÃO  "
      ]
     },
     "execution_count": 16,
     "metadata": {},
     "output_type": "execute_result"
    }
   ],
   "source": [
    "df_lotacao_presente.reset_index().head()"
   ]
  },
  {
   "cell_type": "code",
   "execution_count": 15,
   "metadata": {},
   "outputs": [],
   "source": [
    "df_lotacao_presente[\"nome_func\"] = df_lotacao_presente[\"nome_func\"].apply(f)"
   ]
  },
  {
   "cell_type": "code",
   "execution_count": 18,
   "metadata": {},
   "outputs": [
    {
     "data": {
      "text/html": [
       "<div>\n",
       "<style scoped>\n",
       "    .dataframe tbody tr th:only-of-type {\n",
       "        vertical-align: middle;\n",
       "    }\n",
       "\n",
       "    .dataframe tbody tr th {\n",
       "        vertical-align: top;\n",
       "    }\n",
       "\n",
       "    .dataframe thead th {\n",
       "        text-align: right;\n",
       "    }\n",
       "</style>\n",
       "<table border=\"1\" class=\"dataframe\">\n",
       "  <thead>\n",
       "    <tr style=\"text-align: right;\">\n",
       "      <th></th>\n",
       "      <th>index</th>\n",
       "      <th>lotacao</th>\n",
       "      <th>nome_func</th>\n",
       "      <th>tipo_cargo1</th>\n",
       "      <th>tipo_cargo2</th>\n",
       "    </tr>\n",
       "  </thead>\n",
       "  <tbody>\n",
       "    <tr>\n",
       "      <th>0</th>\n",
       "      <td>0</td>\n",
       "      <td>GABINETE DEP. ENIO TATTO</td>\n",
       "      <td>ABALDINO FERREIRA DA SILVA</td>\n",
       "      <td>ASSISTENTE PARLAMENTAR II</td>\n",
       "      <td>COMISSÃO</td>\n",
       "    </tr>\n",
       "    <tr>\n",
       "      <th>1</th>\n",
       "      <td>1</td>\n",
       "      <td>Ex-funcionário</td>\n",
       "      <td>ABDALLAH ABRAO AUAD</td>\n",
       "      <td>AGENTE DE SEGURANÇA PARLAMENTAR</td>\n",
       "      <td>COMISSÃO</td>\n",
       "    </tr>\n",
       "    <tr>\n",
       "      <th>2</th>\n",
       "      <td>2</td>\n",
       "      <td>Ex-funcionário</td>\n",
       "      <td>ABDIAS CRISPIM DE ALMEIDA</td>\n",
       "      <td></td>\n",
       "      <td></td>\n",
       "    </tr>\n",
       "    <tr>\n",
       "      <th>3</th>\n",
       "      <td>3</td>\n",
       "      <td>Ex-funcionário</td>\n",
       "      <td>ABDIAS DA SILVA</td>\n",
       "      <td>AUXILIAR PARLAMENTAR\\n\\t\\t\\t\\t\\t\\t\\t\\n\\t\\t\\t\\t...</td>\n",
       "      <td>COMISSÃO</td>\n",
       "    </tr>\n",
       "    <tr>\n",
       "      <th>4</th>\n",
       "      <td>4</td>\n",
       "      <td>Ex-funcionário</td>\n",
       "      <td>ABDULNASSER MOHAMAD ABOU NASSIF</td>\n",
       "      <td>AGENTE DE SEGURANÇA PARLAMENTAR</td>\n",
       "      <td>COMISSÃO</td>\n",
       "    </tr>\n",
       "    <tr>\n",
       "      <th>5</th>\n",
       "      <td>5</td>\n",
       "      <td>Ex-funcionário</td>\n",
       "      <td>ABEDIAS PEREIRA DE ARAUJO</td>\n",
       "      <td></td>\n",
       "      <td></td>\n",
       "    </tr>\n",
       "    <tr>\n",
       "      <th>6</th>\n",
       "      <td>6</td>\n",
       "      <td>GABINETE DEP. CAUÊ MACRIS</td>\n",
       "      <td>ABEL CASTILHO</td>\n",
       "      <td>COMISSIONADOS</td>\n",
       "      <td>COMISSIONAMENTO SEM PREJUÍZO</td>\n",
       "    </tr>\n",
       "    <tr>\n",
       "      <th>7</th>\n",
       "      <td>7</td>\n",
       "      <td>Ex-funcionário</td>\n",
       "      <td>ABEL GARCIA DE SOUZA</td>\n",
       "      <td></td>\n",
       "      <td></td>\n",
       "    </tr>\n",
       "    <tr>\n",
       "      <th>8</th>\n",
       "      <td>8</td>\n",
       "      <td>Ex-funcionário</td>\n",
       "      <td>ABEL HILARION FERNANDEZ JUNIOR</td>\n",
       "      <td>AGENTE DE SEGURANÇA PARLAMENTAR</td>\n",
       "      <td>COMISSÃO</td>\n",
       "    </tr>\n",
       "    <tr>\n",
       "      <th>9</th>\n",
       "      <td>9</td>\n",
       "      <td>Ex-funcionário</td>\n",
       "      <td>ABEL PEREIRA</td>\n",
       "      <td></td>\n",
       "      <td></td>\n",
       "    </tr>\n",
       "  </tbody>\n",
       "</table>\n",
       "</div>"
      ],
      "text/plain": [
       "   index                    lotacao                        nome_func  \\\n",
       "0      0   GABINETE DEP. ENIO TATTO       ABALDINO FERREIRA DA SILVA   \n",
       "1      1             Ex-funcionário              ABDALLAH ABRAO AUAD   \n",
       "2      2             Ex-funcionário        ABDIAS CRISPIM DE ALMEIDA   \n",
       "3      3             Ex-funcionário                  ABDIAS DA SILVA   \n",
       "4      4             Ex-funcionário  ABDULNASSER MOHAMAD ABOU NASSIF   \n",
       "5      5             Ex-funcionário        ABEDIAS PEREIRA DE ARAUJO   \n",
       "6      6  GABINETE DEP. CAUÊ MACRIS                    ABEL CASTILHO   \n",
       "7      7             Ex-funcionário             ABEL GARCIA DE SOUZA   \n",
       "8      8             Ex-funcionário   ABEL HILARION FERNANDEZ JUNIOR   \n",
       "9      9             Ex-funcionário                     ABEL PEREIRA   \n",
       "\n",
       "                                         tipo_cargo1  \\\n",
       "0                          ASSISTENTE PARLAMENTAR II   \n",
       "1                    AGENTE DE SEGURANÇA PARLAMENTAR   \n",
       "2                                                      \n",
       "3  AUXILIAR PARLAMENTAR\\n\\t\\t\\t\\t\\t\\t\\t\\n\\t\\t\\t\\t...   \n",
       "4                    AGENTE DE SEGURANÇA PARLAMENTAR   \n",
       "5                                                      \n",
       "6                                      COMISSIONADOS   \n",
       "7                                                      \n",
       "8                    AGENTE DE SEGURANÇA PARLAMENTAR   \n",
       "9                                                      \n",
       "\n",
       "                    tipo_cargo2  \n",
       "0                      COMISSÃO  \n",
       "1                      COMISSÃO  \n",
       "2                                \n",
       "3                      COMISSÃO  \n",
       "4                      COMISSÃO  \n",
       "5                                \n",
       "6  COMISSIONAMENTO SEM PREJUÍZO  \n",
       "7                                \n",
       "8                      COMISSÃO  \n",
       "9                                "
      ]
     },
     "execution_count": 18,
     "metadata": {},
     "output_type": "execute_result"
    }
   ],
   "source": [
    "df_lotacao_presente.reset_index().head(10)"
   ]
  },
  {
   "cell_type": "markdown",
   "metadata": {},
   "source": [
    "Seleciona apenas nos gabinetes"
   ]
  },
  {
   "cell_type": "code",
   "execution_count": 16,
   "metadata": {},
   "outputs": [],
   "source": [
    "str_choice = \"GABINETE\" \n",
    "gabinetes_presente = df_lotacao_presente[df_lotacao_presente['lotacao'].\\\n",
    "                       str.contains(str_choice, na=False)]"
   ]
  },
  {
   "cell_type": "code",
   "execution_count": 44,
   "metadata": {},
   "outputs": [],
   "source": [
    "gabinetes_presente.to_excel('resultados/lotacao_servidores_atual_gabinetes.xlsx',sheet_name='Sheet1')"
   ]
  },
  {
   "cell_type": "code",
   "execution_count": null,
   "metadata": {},
   "outputs": [],
   "source": []
  },
  {
   "cell_type": "markdown",
   "metadata": {},
   "source": [
    "### Versão que acessa o histórico de lotações"
   ]
  },
  {
   "cell_type": "markdown",
   "metadata": {},
   "source": [
    "Fonte: https://www.al.sp.gov.br/dados-abertos/recurso/181"
   ]
  },
  {
   "cell_type": "markdown",
   "metadata": {},
   "source": [
    "Transforma arquivo XML em JSON "
   ]
  },
  {
   "cell_type": "code",
   "execution_count": 34,
   "metadata": {},
   "outputs": [],
   "source": [
    "with open(\"dados/administracao/funcionarios_lotacoes.xml\", 'r') as f:\n",
    "    xmlString = f.read()\n",
    "jsonString = json.dumps(xmltodict.parse(xmlString), indent=4)\n",
    "with open(\"output.json\", 'w') as f:\n",
    "    f.write(jsonString)"
   ]
  },
  {
   "cell_type": "code",
   "execution_count": 35,
   "metadata": {},
   "outputs": [],
   "source": [
    "arquivo_json = open('output.json', 'r')"
   ]
  },
  {
   "cell_type": "code",
   "execution_count": 36,
   "metadata": {},
   "outputs": [],
   "source": [
    "dados_json = json.load(arquivo_json)"
   ]
  },
  {
   "cell_type": "code",
   "execution_count": 37,
   "metadata": {},
   "outputs": [],
   "source": [
    "#dados_json"
   ]
  },
  {
   "cell_type": "code",
   "execution_count": null,
   "metadata": {},
   "outputs": [],
   "source": []
  },
  {
   "cell_type": "markdown",
   "metadata": {},
   "source": [
    "Transforma JSON em dataframe"
   ]
  },
  {
   "cell_type": "code",
   "execution_count": 38,
   "metadata": {},
   "outputs": [],
   "source": [
    "lista = dados_json['HistoricoFuncionariosLotacoes']['LotacaoFuncionario']"
   ]
  },
  {
   "cell_type": "code",
   "execution_count": 39,
   "metadata": {},
   "outputs": [],
   "source": [
    "df_lotacoes = pd.DataFrame(lista, columns = ['DataFim', 'DataInicio', 'IdUA', 'NomeFuncionario', 'NomeUA'])"
   ]
  },
  {
   "cell_type": "code",
   "execution_count": 40,
   "metadata": {},
   "outputs": [],
   "source": [
    "df_lotacoes['DataFim'] = pd.to_datetime(df_lotacoes['DataFim'])\n",
    "df_lotacoes['DataInicio'] = pd.to_datetime(df_lotacoes['DataInicio'])"
   ]
  },
  {
   "cell_type": "code",
   "execution_count": 43,
   "metadata": {},
   "outputs": [],
   "source": [
    "df_lotacoes[\"NomeFuncionario\"] = df_lotacoes[\"NomeFuncionario\"].apply(f)"
   ]
  },
  {
   "cell_type": "code",
   "execution_count": 44,
   "metadata": {},
   "outputs": [
    {
     "name": "stdout",
     "output_type": "stream",
     "text": [
      "<class 'pandas.core.frame.DataFrame'>\n",
      "RangeIndex: 51648 entries, 0 to 51647\n",
      "Data columns (total 5 columns):\n",
      "DataFim            47496 non-null datetime64[ns]\n",
      "DataInicio         51648 non-null datetime64[ns]\n",
      "IdUA               51648 non-null object\n",
      "NomeFuncionario    51648 non-null object\n",
      "NomeUA             51648 non-null object\n",
      "dtypes: datetime64[ns](2), object(3)\n",
      "memory usage: 2.0+ MB\n"
     ]
    }
   ],
   "source": [
    "df_lotacoes.info()"
   ]
  },
  {
   "cell_type": "code",
   "execution_count": null,
   "metadata": {},
   "outputs": [],
   "source": []
  },
  {
   "cell_type": "code",
   "execution_count": 45,
   "metadata": {},
   "outputs": [
    {
     "data": {
      "text/html": [
       "<div>\n",
       "<style scoped>\n",
       "    .dataframe tbody tr th:only-of-type {\n",
       "        vertical-align: middle;\n",
       "    }\n",
       "\n",
       "    .dataframe tbody tr th {\n",
       "        vertical-align: top;\n",
       "    }\n",
       "\n",
       "    .dataframe thead th {\n",
       "        text-align: right;\n",
       "    }\n",
       "</style>\n",
       "<table border=\"1\" class=\"dataframe\">\n",
       "  <thead>\n",
       "    <tr style=\"text-align: right;\">\n",
       "      <th></th>\n",
       "      <th>index</th>\n",
       "      <th>DataFim</th>\n",
       "      <th>DataInicio</th>\n",
       "      <th>IdUA</th>\n",
       "      <th>NomeFuncionario</th>\n",
       "      <th>NomeUA</th>\n",
       "    </tr>\n",
       "  </thead>\n",
       "  <tbody>\n",
       "    <tr>\n",
       "      <th>0</th>\n",
       "      <td>0</td>\n",
       "      <td>NaT</td>\n",
       "      <td>2018-08-10 03:00:00</td>\n",
       "      <td>20440</td>\n",
       "      <td>ABALDINO FERREIRA DA SILVA</td>\n",
       "      <td>Gabinete do Deputado ENIO TATTO</td>\n",
       "    </tr>\n",
       "    <tr>\n",
       "      <th>1</th>\n",
       "      <td>1</td>\n",
       "      <td>2008-08-28 03:00:00</td>\n",
       "      <td>2007-03-27 03:00:00</td>\n",
       "      <td>20447</td>\n",
       "      <td>ABDALLAH ABRAO AUAD</td>\n",
       "      <td>Gabinete do Deputado FERNANDO CAPEZ</td>\n",
       "    </tr>\n",
       "    <tr>\n",
       "      <th>2</th>\n",
       "      <td>2</td>\n",
       "      <td>2002-08-08 03:00:00</td>\n",
       "      <td>2001-04-06 03:00:00</td>\n",
       "      <td>53487</td>\n",
       "      <td>ABDIAS DA SILVA</td>\n",
       "      <td>SERVIÇO DE CONTROLE DE FROTA</td>\n",
       "    </tr>\n",
       "    <tr>\n",
       "      <th>3</th>\n",
       "      <td>3</td>\n",
       "      <td>2007-03-14 03:00:00</td>\n",
       "      <td>2006-11-08 02:00:00</td>\n",
       "      <td>20385</td>\n",
       "      <td>ABDIAS DA SILVA</td>\n",
       "      <td>Gabinete do Deputado ROMEU TUMA</td>\n",
       "    </tr>\n",
       "    <tr>\n",
       "      <th>4</th>\n",
       "      <td>4</td>\n",
       "      <td>2005-05-06 03:00:00</td>\n",
       "      <td>2004-06-30 03:00:00</td>\n",
       "      <td>53487</td>\n",
       "      <td>ABDULNASSER MOHAMAD ABOU NASSIF</td>\n",
       "      <td>SERVIÇO DE CONTROLE DE FROTA</td>\n",
       "    </tr>\n",
       "  </tbody>\n",
       "</table>\n",
       "</div>"
      ],
      "text/plain": [
       "   index             DataFim          DataInicio   IdUA  \\\n",
       "0      0                 NaT 2018-08-10 03:00:00  20440   \n",
       "1      1 2008-08-28 03:00:00 2007-03-27 03:00:00  20447   \n",
       "2      2 2002-08-08 03:00:00 2001-04-06 03:00:00  53487   \n",
       "3      3 2007-03-14 03:00:00 2006-11-08 02:00:00  20385   \n",
       "4      4 2005-05-06 03:00:00 2004-06-30 03:00:00  53487   \n",
       "\n",
       "                   NomeFuncionario                               NomeUA  \n",
       "0       ABALDINO FERREIRA DA SILVA      Gabinete do Deputado ENIO TATTO  \n",
       "1              ABDALLAH ABRAO AUAD  Gabinete do Deputado FERNANDO CAPEZ  \n",
       "2                  ABDIAS DA SILVA         SERVIÇO DE CONTROLE DE FROTA  \n",
       "3                  ABDIAS DA SILVA      Gabinete do Deputado ROMEU TUMA  \n",
       "4  ABDULNASSER MOHAMAD ABOU NASSIF         SERVIÇO DE CONTROLE DE FROTA  "
      ]
     },
     "execution_count": 45,
     "metadata": {},
     "output_type": "execute_result"
    }
   ],
   "source": [
    "df_lotacoes.reset_index().head()"
   ]
  },
  {
   "cell_type": "code",
   "execution_count": null,
   "metadata": {},
   "outputs": [],
   "source": []
  },
  {
   "cell_type": "code",
   "execution_count": null,
   "metadata": {},
   "outputs": [],
   "source": []
  },
  {
   "cell_type": "code",
   "execution_count": null,
   "metadata": {},
   "outputs": [],
   "source": []
  },
  {
   "cell_type": "code",
   "execution_count": null,
   "metadata": {},
   "outputs": [],
   "source": []
  },
  {
   "cell_type": "code",
   "execution_count": 26,
   "metadata": {},
   "outputs": [],
   "source": [
    "df_lotacoes.to_excel('resultados/lotacao_servidores_historico.xlsx',sheet_name='Sheet1')"
   ]
  },
  {
   "cell_type": "code",
   "execution_count": null,
   "metadata": {},
   "outputs": [],
   "source": []
  },
  {
   "cell_type": "code",
   "execution_count": null,
   "metadata": {},
   "outputs": [],
   "source": [
    "df_lotacoes = pd.read_excel('resultados/lotacao_servidores_historico.xlsx',sheet_name='Sheet1')"
   ]
  },
  {
   "cell_type": "code",
   "execution_count": 27,
   "metadata": {},
   "outputs": [
    {
     "name": "stdout",
     "output_type": "stream",
     "text": [
      "<class 'pandas.core.frame.DataFrame'>\n",
      "RangeIndex: 51648 entries, 0 to 51647\n",
      "Data columns (total 5 columns):\n",
      "DataFim            47496 non-null datetime64[ns]\n",
      "DataInicio         51648 non-null datetime64[ns]\n",
      "IdUA               51648 non-null object\n",
      "NomeFuncionario    51648 non-null object\n",
      "NomeUA             51648 non-null object\n",
      "dtypes: datetime64[ns](2), object(3)\n",
      "memory usage: 2.0+ MB\n"
     ]
    }
   ],
   "source": [
    "df_lotacoes.info()"
   ]
  },
  {
   "cell_type": "markdown",
   "metadata": {},
   "source": [
    "IdUA é o código da unidade administrativa"
   ]
  },
  {
   "cell_type": "code",
   "execution_count": null,
   "metadata": {},
   "outputs": [],
   "source": []
  },
  {
   "cell_type": "markdown",
   "metadata": {},
   "source": [
    "# Aqui um problema: há funcionários homônimos<br>\n",
    "# A Alesp não divulga um código identificador único dos servidores<br>\n",
    "# Aqui o exemplo de possíveis homônimos na base de lotações"
   ]
  },
  {
   "cell_type": "code",
   "execution_count": 42,
   "metadata": {},
   "outputs": [
    {
     "data": {
      "text/plain": [
       "PAULO ROBERTO DE MORAIS ALMEIDA           120\n",
       "MARCIO GAZZO                               71\n",
       "SERGIO SICILIANO                           65\n",
       "REGINA DE SOUZA MOREIRA                    55\n",
       "JOAO BOSCO DA SILVA                        53\n",
       "SHIGUEO YAMAMOTO                           53\n",
       "SIDNEY GONCALVES IZZO                      52\n",
       "MARCOS ANTONIO DEMATEI PIETRAFESA          49\n",
       "MARIA TERESA DE OLIVEIRA ROSA              49\n",
       "MARCIO LUIZ DE CAMPOS MARQUES              49\n",
       "MARTA JANETE GARCIA DE SOUZA               47\n",
       "ISABEL CRISTINA ROTHER BUHLER DE GODOY     47\n",
       "RITA DE CASSIA CESAR GOES                  47\n",
       "PATRICIA ROSSET                            46\n",
       "CARLOS EDUARDO GOMES                       45\n",
       "PAULO SERGIO CHAMMAS                       44\n",
       "GISELDA FARIAS DOS SANTOS                  44\n",
       "CELSO LEMOS                                44\n",
       "CARLOS CESAR CARREGARI                     43\n",
       "SUZANA KENIGER LISBOA                      43\n",
       "RITA DE CASSIA ATALLA SIMONATO             43\n",
       "ZENILDA DOS SANTOS BIZERRA                 42\n",
       "FERNANDO LUIZ BENTO PIRRO                  42\n",
       "ELCIO FIORI DE GODOY                       42\n",
       "SILVIA REGINA FIRMINO BRITTO               42\n",
       "CRISTIANE SANTIAGO BATISTA                 42\n",
       "JOSE EDUARDO RAMOS SOARES                  41\n",
       "MARCIA CRISTINA ALVES AZEVEDO              41\n",
       "ARTUR MACHADO SCAVONE                      41\n",
       "RITA DE CASSIA FERNANDES HADDAD            41\n",
       "                                         ... \n",
       "DANNI SCHLESINGER                           1\n",
       "GLEIDSON ELOY DOS SANTOS                    1\n",
       "PAULO HENRIQUE DE MENEZES                   1\n",
       "MARLI MAGALHAES BASTOS PRADO                1\n",
       "MARCOS ANTONIO COSTA                        1\n",
       "BENEDITO JOSE PIMENTA FERRATTO              1\n",
       "GABRIEL MARTINS ORTEGA                      1\n",
       "EDISON FARIA                                1\n",
       "CELINO BARBOSA DE SOUZA NETTO               1\n",
       "DAVID GOMES DOS SANTOS                      1\n",
       "FERNANDO OCTAVIANI                          1\n",
       "CARLOS ROBERTO MOURA SANTOS                 1\n",
       "SUSELI DE OLIVEIRA                          1\n",
       "ROSALIA QUERINO DONATO LIDIO                1\n",
       "VALDECI APARECIDO LOURENCO                  1\n",
       "ADILSON PAULO ARENA                         1\n",
       "DANIEL DO PRADO NAVAS                       1\n",
       "ADEILDO NOGUEIRA DA SILVA                   1\n",
       "LILIAN DE SOUZA                             1\n",
       "RICARDO VIANA PINTO                         1\n",
       "FABIO RICARDO AMBROSIO                      1\n",
       "FERNANDO LUCAREVSCHI BAPTISTA               1\n",
       "CLAUDINEY DE SOUZA SOARES                   1\n",
       "ELAINE CRISTINA DE ARRUDA                   1\n",
       "WALCYR GALLO                                1\n",
       "HOSANO JOSE DA SILVA                        1\n",
       "AGILDO NOGUEIRA JUNIOR                      1\n",
       "SANDRA REGINA DENNY RE                      1\n",
       "MARCELO HENRIQUE MAZEO                      1\n",
       "MARIA SOCORRO DE SOUSA                      1\n",
       "Name: NomeFuncionario, Length: 19028, dtype: int64"
      ]
     },
     "execution_count": 42,
     "metadata": {},
     "output_type": "execute_result"
    }
   ],
   "source": [
    "df_lotacoes['NomeFuncionario'].value_counts()"
   ]
  },
  {
   "cell_type": "code",
   "execution_count": 22,
   "metadata": {},
   "outputs": [],
   "source": []
  },
  {
   "cell_type": "code",
   "execution_count": null,
   "metadata": {},
   "outputs": [],
   "source": []
  },
  {
   "cell_type": "markdown",
   "metadata": {},
   "source": [
    "Número de funcionários por lotação"
   ]
  },
  {
   "cell_type": "code",
   "execution_count": 43,
   "metadata": {},
   "outputs": [
    {
     "data": {
      "text/plain": [
       "PRESIDÊNCIA                                            2038\n",
       "2ª SECRETARIA                                          1398\n",
       "1ª SECRETARIA                                          1246\n",
       "Gabinete do Deputado                                   1137\n",
       "LIDERANÇA DO PSDB                                      1083\n",
       "LIDERANÇA DO PT                                         992\n",
       "DEPARTAMENTO ADMINISTRATIVO                             842\n",
       "DIVISÃO DE TRANSPORTES                                  794\n",
       "LIDERANÇA DO PTB                                        695\n",
       "LIDERANÇA DO PMDB                                       680\n",
       "SERVIÇO DE CONTROLE DE FROTA                            653\n",
       "AFASTADOS                                               600\n",
       "DIRETORIA GERAL                                         597\n",
       "ASSISTÊNCIA POLICIAL MILITAR                            531\n",
       "2ª VICE PRESIDÊNCIA                                     456\n",
       "3ª SECRETARIA                                           441\n",
       "LIDERANÇA DO PFL                                        424\n",
       "1ª VICE-PRESIDÊNCIA                                     417\n",
       "DEPARTAMENTO PARLAMENTAR                                403\n",
       "4ª SECRETARIA                                           383\n",
       "AFASTAMENTO NOS TERMOS DO ARTIGO 66 DA LEI 10261/68     368\n",
       "Gabinete do Deputado EDMIR CHEDID                       309\n",
       "DEPARTAMENTO TÉCNICO DE FINANÇAS                        308\n",
       "Gabinete do Deputado ENIO TATTO                         302\n",
       "ASSEMBLEIA LEGISTATIVA DO ESTADO DE SÃO PAULO           292\n",
       "SECRETARIA GERAL DE ADMINISTRAÇÃO                       292\n",
       "DIVISÃO DE REDAÇÃO OFICIAL E ARTES GRÁFICAS             292\n",
       "LIDERANÇA DO PSB                                        290\n",
       "DEPARTAMENTO DE SERVIÇOS GERAIS                         257\n",
       "LIDERANÇA DO PDT                                        231\n",
       "                                                       ... \n",
       "GABINETE 62                                               1\n",
       "Gabinete do Deputado SEBASTIAO BOGNAR                     1\n",
       "GRUPO DE TRABALHO / ENGENHARIA                            1\n",
       "Gabinete do Deputado RICARDO IZAR                         1\n",
       "SERVIÇO ADMINISTRATIVO                                    1\n",
       "Gabinete do Deputado CARLOS DE ALMEIDA                    1\n",
       "Gabinete do Deputado PAULO OSORIO SILVEIRA BUENO          1\n",
       "GABINETE 77                                               1\n",
       "LICENÇA MÉDICA - SEM LOTAÇÃO                              1\n",
       "Gabinete do Deputado FAUSTO ROCHA                         1\n",
       "MESA DA ALESP                                             1\n",
       "DIVISÃO DE CONTABILIDADE                                  1\n",
       "Gabinete do Deputado FLORIANO LEANDRINI                   1\n",
       "Gabinete do Deputado WALTER DEMARCHI                      1\n",
       "GABINETE 23                                               1\n",
       "LIDERANÇA DO PARTIDO REPUBLICANO PROGRESSISTA             1\n",
       "Gabinete do Deputado WALTER LAZZARINI                     1\n",
       "Gabinete do Deputado MANOEL MOREIRA                       1\n",
       "GABINETE 19                                               1\n",
       "Gabinete do Deputado JAIR ANDREONI                        1\n",
       "Gabinete do Deputado JOSÉ GREGORI                         1\n",
       "Gabinete do Deputado ANIZIO BAPTISTA                      1\n",
       "IRMA ROSSETTO PASSONI                                     1\n",
       "Gabinete do Deputado MAURO PUERRO                         1\n",
       "Gabinete do Deputado GILBERTO DELMONT                     1\n",
       "Gabinete do Deputado ALMIR PAZZIANOTTO                    1\n",
       "Gabinete do Deputado GILBERTO PORT                        1\n",
       "AFASTAMENTO PELO ARTIGO 70                                1\n",
       "Gabinete do Deputado ARY PEDROSO                          1\n",
       "GABINETE 5                                                1\n",
       "Name: NomeUA, Length: 725, dtype: int64"
      ]
     },
     "execution_count": 43,
     "metadata": {},
     "output_type": "execute_result"
    }
   ],
   "source": [
    "df_lotacoes['NomeUA'].value_counts()"
   ]
  },
  {
   "cell_type": "code",
   "execution_count": null,
   "metadata": {},
   "outputs": [],
   "source": []
  },
  {
   "cell_type": "markdown",
   "metadata": {},
   "source": [
    "Seleciona apenas Gabinete"
   ]
  },
  {
   "cell_type": "code",
   "execution_count": 48,
   "metadata": {},
   "outputs": [],
   "source": [
    "str_choice = \"Gabinete\" \n",
    "gabinetes = df_lotacoes[df_lotacoes['NomeUA'].\\\n",
    "                       str.contains(str_choice, na=False)]"
   ]
  },
  {
   "cell_type": "code",
   "execution_count": 49,
   "metadata": {},
   "outputs": [
    {
     "name": "stdout",
     "output_type": "stream",
     "text": [
      "<class 'pandas.core.frame.DataFrame'>\n",
      "Int64Index: 23283 entries, 0 to 51647\n",
      "Data columns (total 5 columns):\n",
      "DataFim            20976 non-null datetime64[ns]\n",
      "DataInicio         23283 non-null datetime64[ns]\n",
      "IdUA               23283 non-null object\n",
      "NomeFuncionario    23283 non-null object\n",
      "NomeUA             23283 non-null object\n",
      "dtypes: datetime64[ns](2), object(3)\n",
      "memory usage: 1.1+ MB\n"
     ]
    }
   ],
   "source": [
    "gabinetes.info()"
   ]
  },
  {
   "cell_type": "code",
   "execution_count": 51,
   "metadata": {},
   "outputs": [],
   "source": [
    "#gabinetes.reset_index()"
   ]
  },
  {
   "cell_type": "code",
   "execution_count": null,
   "metadata": {},
   "outputs": [],
   "source": []
  },
  {
   "cell_type": "markdown",
   "metadata": {},
   "source": [
    "Funcionários por gabinete - historicamente"
   ]
  },
  {
   "cell_type": "code",
   "execution_count": 46,
   "metadata": {},
   "outputs": [
    {
     "data": {
      "text/plain": [
       "Gabinete do Deputado                                1137\n",
       "Gabinete do Deputado EDMIR CHEDID                    309\n",
       "Gabinete do Deputado ENIO TATTO                      302\n",
       "Gabinete do Deputado BARROS MUNHOZ                   207\n",
       "Gabinete do Deputado JOÃO CARAMEZ                    204\n",
       "Gabinete do Deputado JOSÉ ZICO PRADO                 202\n",
       "Gabinete do Deputado LUIZ CARLOS GONDIM              191\n",
       "Gabinete do Deputado ROQUE BARBIERE                  188\n",
       "Gabinete do Deputado VITOR SAPIENZA                  187\n",
       "Gabinete do Deputado Orlando Morando                 184\n",
       "Gabinete do Deputado GERALDO VINHOLI                 181\n",
       "Gabinete do Deputado RAFAEL SILVA                    180\n",
       "Gabinete do Deputado MILTON VIEIRA                   173\n",
       "Gabinete do Deputado CELSO GIGLIO                    171\n",
       "Gabinete do Deputado Vanessa Damo                    167\n",
       "Gabinete do Deputado BETH SAHÃO                      165\n",
       "Gabinete do Deputado MARIA LÚCIA AMARY               165\n",
       "Gabinete do Deputado ALDO DEMARCHI                   165\n",
       "Gabinete do Deputado DAVI ZAIA                       159\n",
       "Gabinete do Deputado DONISETE BRAGA                  154\n",
       "Gabinete do Deputado ALEX MANENTE                    154\n",
       "Gabinete do Deputado REINALDO ALGUZ                  150\n",
       "Gabinete do Deputado CARLÃO PIGNATARI                150\n",
       "Gabinete do Deputado ADILSON ROSSI                   149\n",
       "Gabinete do Deputado MILTON FLÁVIO                   146\n",
       "Gabinete do Deputado FERNANDO CAPEZ                  143\n",
       "Gabinete do Deputado ANALICE FERNANDES               142\n",
       "Gabinete do Deputado ANA DO CARMO                    140\n",
       "Gabinete do Deputado AFONSO LOBATO                   140\n",
       "Gabinete do Deputado RUI FALCÃO                      138\n",
       "                                                    ... \n",
       "Gabinete do Deputado RUBENS LARA                       2\n",
       "Gabinete do Deputado ENI GALANTE                       2\n",
       "Gabinete do Deputado TADASHI KURIKI                    2\n",
       "Gabinete do Deputado JOSE BERNARDO ORTIZ               2\n",
       "Gabinete do Deputado NEFI TALES                        2\n",
       "Gabinete do Deputado JOSE MACHADO                      2\n",
       "Gabinete do Deputado JOAO BASTOS SOARES                2\n",
       "Gabinete do Deputado PAULO OSORIO SILVEIRA BUENO       1\n",
       "Gabinete do Deputado ANIZIO BAPTISTA                   1\n",
       "Gabinete do Deputado ALMIR PAZZIANOTTO                 1\n",
       "Gabinete do Deputado ARY PEDROSO                       1\n",
       "Gabinete do Deputado RANDAL JULIANO GARCIA             1\n",
       "Gabinete do Deputado FAUSTO ROCHA                      1\n",
       "Gabinete do Deputado JOSÉ GREGORI                      1\n",
       "Gabinete do Deputado JULIO MARCONDES DE MOURA          1\n",
       "Gabinete do Deputado RICARDO IZAR                      1\n",
       "Gabinete do Deputado GILBERTO DELMONT                  1\n",
       "Gabinete do Deputado EDUARDO JORGE                     1\n",
       "Gabinete do Deputado MAURICIO SANDOVAL                 1\n",
       "Gabinete do Deputado WALTER LAZZARINI                  1\n",
       "Gabinete do Deputado SEBASTIAO BOGNAR                  1\n",
       "Gabinete do Deputado LUIZA ERUNDINA                    1\n",
       "Gabinete do Deputado WALTER DEMARCHI                   1\n",
       "Gabinete do Deputado MANOEL MOREIRA                    1\n",
       "Gabinete do Deputado FLORIANO LEANDRINI                1\n",
       "Gabinete do Deputado JAIR ANDREONI                     1\n",
       "Gabinete do Deputado GILBERTO PORT                     1\n",
       "Gabinete do Deputado FAUZE CARLOS                      1\n",
       "Gabinete do Deputado MAURO PUERRO                      1\n",
       "Gabinete do Deputado CARLOS DE ALMEIDA                 1\n",
       "Name: NomeUA, Length: 441, dtype: int64"
      ]
     },
     "execution_count": 46,
     "metadata": {},
     "output_type": "execute_result"
    }
   ],
   "source": [
    "gabinetes['NomeUA'].value_counts()"
   ]
  },
  {
   "cell_type": "code",
   "execution_count": null,
   "metadata": {},
   "outputs": [],
   "source": []
  },
  {
   "cell_type": "code",
   "execution_count": 49,
   "metadata": {},
   "outputs": [],
   "source": [
    "mask = (gabinetes['DataInicio'].dt.year >= 2015) | (gabinetes['DataFim'].isnull())\n",
    "\n",
    "gabinetes = gabinetes[mask]"
   ]
  },
  {
   "cell_type": "markdown",
   "metadata": {},
   "source": [
    "Funcionários por gabinete - última legislatura"
   ]
  },
  {
   "cell_type": "code",
   "execution_count": 50,
   "metadata": {},
   "outputs": [
    {
     "data": {
      "text/plain": [
       "Gabinete do Deputado GIL LANCASTER                        124\n",
       "Gabinete do Deputado WELLINGTON MOURA                     115\n",
       "Gabinete do Deputado ENIO TATTO                           113\n",
       "Gabinete do Deputado PROFESSOR AURIEL                      89\n",
       "Gabinete do Deputado BARROS MUNHOZ                         87\n",
       "Gabinete do Deputado EDMIR CHEDID                          87\n",
       "Gabinete do Deputado FERNANDO CURY                         86\n",
       "Gabinete do Deputado CELSO NASCIMENTO                      86\n",
       "Gabinete do Deputado JORGE WILSON XERIFE DO CONSUMIDOR     84\n",
       "Gabinete do Deputado CARLÃO PIGNATARI                      84\n",
       "Gabinete do Deputado TEONILIO BARBA                        83\n",
       "Gabinete do Deputado CEZINHA DE MADUREIRA                  81\n",
       "Gabinete do Deputado JOSÉ ZICO PRADO                       79\n",
       "Gabinete do Deputado CLÉLIA GOMES                          78\n",
       "Gabinete do Deputado MÁRCIO CAMARGO                        77\n",
       "Gabinete do Deputado RICARDO MADALENA                      75\n",
       "Gabinete do Deputado LUIZ FERNANDO T. FERREIRA             74\n",
       "Gabinete do Deputado CÁSSIO NAVARRO                        74\n",
       "Gabinete do Deputado FERNANDO CAPEZ                        73\n",
       "Gabinete do Deputado CAIO FRANÇA                           69\n",
       "Gabinete do Deputado REINALDO ALGUZ                        68\n",
       "Gabinete do Deputado PAULO CORREA JR                       66\n",
       "Gabinete do Deputado LUIZ TURCO                            66\n",
       "Gabinete do Deputado RAFAEL SILVA                          65\n",
       "Gabinete do Deputado MÁRCIA LIA                            65\n",
       "Gabinete do Deputado MARCO VINHOLI                         64\n",
       "Gabinete do Deputado DAVI ZAIA                             63\n",
       "Gabinete do Deputado                                       63\n",
       "Gabinete do Deputado RODRIGO MORAES                        63\n",
       "Gabinete do Deputado CORONEL TELHADA                       61\n",
       "                                                         ... \n",
       "Gabinete do Deputado ANDRÉ SOARES                          29\n",
       "Gabinete do Deputado ULISSES SALES                         29\n",
       "Gabinete do Deputado ROBERTO TRIPOLI                       29\n",
       "Gabinete do Deputado FELICIANO FILHO                       28\n",
       "Gabinete do Deputado CARLOS GIANNAZI                       28\n",
       "Gabinete do Deputado CONSTÂNCIA FÉLIX                      27\n",
       "Gabinete do Deputado Alexandre Pereira                     27\n",
       "Gabinete do Deputado MILTON LEITE FILHO                    27\n",
       "Gabinete do Deputado PEDRO TOBIAS                          25\n",
       "Gabinete do Deputado ANTONIO SALIM CURIATI                 24\n",
       "Gabinete do Deputado ED THOMAS                             24\n",
       "Gabinete do Deputado ORLANDO BOLÇONE                       23\n",
       "Gabinete do Deputado CAMPOS MACHADO                        23\n",
       "Gabinete do Deputado Orlando Morando                       22\n",
       "Gabinete do Deputado WELSON GASPARINI                      20\n",
       "Gabinete do Deputado ROBERTO MORAIS                        17\n",
       "Gabinete do Deputado UEBE REZECK                           17\n",
       "Gabinete do Deputado Vanessa Damo                          15\n",
       "Gabinete do Deputado ROBERTO FELÍCIO                       15\n",
       "Gabinete do Deputado Mauro Bragato                         12\n",
       "Gabinete do Deputado BETO TRÍCOLI                           6\n",
       "Gabinete do Deputado RUI FALCÃO                             5\n",
       "Gabinete do Deputado GILSON DE SOUZA                        4\n",
       "Gabinete do Deputado LUIZ CLAUDIO MARCOLINO                 2\n",
       "Gabinete do Deputado JOSÉ BITTENCOURT                       2\n",
       "Gabinete do Deputado EDINHO SILVA                           1\n",
       "Gabinete do Deputado ALEX MANENTE                           1\n",
       "Gabinete do Deputado SARAH MUNHOZ                           1\n",
       "Gabinete do Deputado LUIZ MOURA                             1\n",
       "Gabinete do Deputado LUCIANO BATISTA                        1\n",
       "Name: NomeUA, Length: 120, dtype: int64"
      ]
     },
     "execution_count": 50,
     "metadata": {},
     "output_type": "execute_result"
    }
   ],
   "source": [
    "gabinetes['NomeUA'].value_counts()"
   ]
  },
  {
   "cell_type": "code",
   "execution_count": 51,
   "metadata": {},
   "outputs": [
    {
     "data": {
      "text/html": [
       "<div>\n",
       "<style scoped>\n",
       "    .dataframe tbody tr th:only-of-type {\n",
       "        vertical-align: middle;\n",
       "    }\n",
       "\n",
       "    .dataframe tbody tr th {\n",
       "        vertical-align: top;\n",
       "    }\n",
       "\n",
       "    .dataframe thead th {\n",
       "        text-align: right;\n",
       "    }\n",
       "</style>\n",
       "<table border=\"1\" class=\"dataframe\">\n",
       "  <thead>\n",
       "    <tr style=\"text-align: right;\">\n",
       "      <th></th>\n",
       "      <th>index</th>\n",
       "      <th>DataFim</th>\n",
       "      <th>DataInicio</th>\n",
       "      <th>IdUA</th>\n",
       "      <th>NomeFuncionario</th>\n",
       "      <th>NomeUA</th>\n",
       "    </tr>\n",
       "  </thead>\n",
       "  <tbody>\n",
       "    <tr>\n",
       "      <th>0</th>\n",
       "      <td>0</td>\n",
       "      <td>NaT</td>\n",
       "      <td>2018-08-10 03:00:00</td>\n",
       "      <td>20440</td>\n",
       "      <td>ABALDINO FERREIRA DA SILVA</td>\n",
       "      <td>Gabinete do Deputado ENIO TATTO</td>\n",
       "    </tr>\n",
       "    <tr>\n",
       "      <th>1</th>\n",
       "      <td>5</td>\n",
       "      <td>NaT</td>\n",
       "      <td>2018-07-04 03:00:00</td>\n",
       "      <td>20373</td>\n",
       "      <td>ABEL CASTILHO</td>\n",
       "      <td>Gabinete do Deputado CAUÊ MACRIS</td>\n",
       "    </tr>\n",
       "    <tr>\n",
       "      <th>2</th>\n",
       "      <td>32</td>\n",
       "      <td>NaT</td>\n",
       "      <td>2018-03-14 03:00:00</td>\n",
       "      <td>20413</td>\n",
       "      <td>ABNER REISES BARBOSA</td>\n",
       "      <td>Gabinete do Deputado CELSO NASCIMENTO</td>\n",
       "    </tr>\n",
       "    <tr>\n",
       "      <th>3</th>\n",
       "      <td>35</td>\n",
       "      <td>NaT</td>\n",
       "      <td>2015-04-28 03:00:00</td>\n",
       "      <td>20413</td>\n",
       "      <td>ABNEIA BUFFOLIN BROCANELLI</td>\n",
       "      <td>Gabinete do Deputado CELSO NASCIMENTO</td>\n",
       "    </tr>\n",
       "    <tr>\n",
       "      <th>4</th>\n",
       "      <td>36</td>\n",
       "      <td>2017-05-08 03:00:00</td>\n",
       "      <td>2016-06-01 03:00:00</td>\n",
       "      <td>20454</td>\n",
       "      <td>ABRAHAO RICARDO HACKME</td>\n",
       "      <td>Gabinete do Deputado SEBASTIÃO SANTOS</td>\n",
       "    </tr>\n",
       "    <tr>\n",
       "      <th>5</th>\n",
       "      <td>37</td>\n",
       "      <td>2016-04-12 03:00:00</td>\n",
       "      <td>2015-06-23 03:00:00</td>\n",
       "      <td>20454</td>\n",
       "      <td>ABRAHAO RICARDO HACKME</td>\n",
       "      <td>Gabinete do Deputado SEBASTIÃO SANTOS</td>\n",
       "    </tr>\n",
       "    <tr>\n",
       "      <th>6</th>\n",
       "      <td>38</td>\n",
       "      <td>2016-05-31 03:00:00</td>\n",
       "      <td>2016-05-11 03:00:00</td>\n",
       "      <td>20454</td>\n",
       "      <td>ABRAHAO RICARDO HACKME</td>\n",
       "      <td>Gabinete do Deputado SEBASTIÃO SANTOS</td>\n",
       "    </tr>\n",
       "    <tr>\n",
       "      <th>7</th>\n",
       "      <td>39</td>\n",
       "      <td>NaT</td>\n",
       "      <td>2017-05-09 03:00:00</td>\n",
       "      <td>20454</td>\n",
       "      <td>ABRAHAO RICARDO HACKME</td>\n",
       "      <td>Gabinete do Deputado SEBASTIÃO SANTOS</td>\n",
       "    </tr>\n",
       "    <tr>\n",
       "      <th>8</th>\n",
       "      <td>40</td>\n",
       "      <td>NaT</td>\n",
       "      <td>2018-04-03 03:00:00</td>\n",
       "      <td>20452</td>\n",
       "      <td>ABRAAO MOREIRA DA SILVA</td>\n",
       "      <td>Gabinete do Deputado RODRIGO MORAES</td>\n",
       "    </tr>\n",
       "    <tr>\n",
       "      <th>9</th>\n",
       "      <td>48</td>\n",
       "      <td>NaT</td>\n",
       "      <td>2015-03-26 03:00:00</td>\n",
       "      <td>20435</td>\n",
       "      <td>ACLERISTON PEREIRA MARTINS</td>\n",
       "      <td>Gabinete do Deputado CORONEL CAMILO</td>\n",
       "    </tr>\n",
       "  </tbody>\n",
       "</table>\n",
       "</div>"
      ],
      "text/plain": [
       "   index             DataFim          DataInicio   IdUA  \\\n",
       "0      0                 NaT 2018-08-10 03:00:00  20440   \n",
       "1      5                 NaT 2018-07-04 03:00:00  20373   \n",
       "2     32                 NaT 2018-03-14 03:00:00  20413   \n",
       "3     35                 NaT 2015-04-28 03:00:00  20413   \n",
       "4     36 2017-05-08 03:00:00 2016-06-01 03:00:00  20454   \n",
       "5     37 2016-04-12 03:00:00 2015-06-23 03:00:00  20454   \n",
       "6     38 2016-05-31 03:00:00 2016-05-11 03:00:00  20454   \n",
       "7     39                 NaT 2017-05-09 03:00:00  20454   \n",
       "8     40                 NaT 2018-04-03 03:00:00  20452   \n",
       "9     48                 NaT 2015-03-26 03:00:00  20435   \n",
       "\n",
       "              NomeFuncionario                                 NomeUA  \n",
       "0  ABALDINO FERREIRA DA SILVA        Gabinete do Deputado ENIO TATTO  \n",
       "1               ABEL CASTILHO       Gabinete do Deputado CAUÊ MACRIS  \n",
       "2        ABNER REISES BARBOSA  Gabinete do Deputado CELSO NASCIMENTO  \n",
       "3  ABNEIA BUFFOLIN BROCANELLI  Gabinete do Deputado CELSO NASCIMENTO  \n",
       "4      ABRAHAO RICARDO HACKME  Gabinete do Deputado SEBASTIÃO SANTOS  \n",
       "5      ABRAHAO RICARDO HACKME  Gabinete do Deputado SEBASTIÃO SANTOS  \n",
       "6      ABRAHAO RICARDO HACKME  Gabinete do Deputado SEBASTIÃO SANTOS  \n",
       "7      ABRAHAO RICARDO HACKME  Gabinete do Deputado SEBASTIÃO SANTOS  \n",
       "8     ABRAAO MOREIRA DA SILVA    Gabinete do Deputado RODRIGO MORAES  \n",
       "9  ACLERISTON PEREIRA MARTINS    Gabinete do Deputado CORONEL CAMILO  "
      ]
     },
     "execution_count": 51,
     "metadata": {},
     "output_type": "execute_result"
    }
   ],
   "source": [
    "gabinetes.reset_index().head(10)"
   ]
  },
  {
   "cell_type": "code",
   "execution_count": 52,
   "metadata": {},
   "outputs": [
    {
     "data": {
      "text/plain": [
       "4206"
      ]
     },
     "execution_count": 52,
     "metadata": {},
     "output_type": "execute_result"
    }
   ],
   "source": [
    "len(gabinetes['NomeFuncionario'].value_counts())"
   ]
  },
  {
   "cell_type": "code",
   "execution_count": 29,
   "metadata": {},
   "outputs": [],
   "source": [
    "gabinetes.to_excel('resultados/funcionarios_gabinetes.xlsx',sheet_name='Sheet1')"
   ]
  },
  {
   "cell_type": "code",
   "execution_count": null,
   "metadata": {},
   "outputs": [],
   "source": []
  },
  {
   "cell_type": "code",
   "execution_count": null,
   "metadata": {},
   "outputs": [],
   "source": []
  },
  {
   "cell_type": "code",
   "execution_count": null,
   "metadata": {},
   "outputs": [],
   "source": []
  },
  {
   "cell_type": "code",
   "execution_count": null,
   "metadata": {},
   "outputs": [],
   "source": []
  },
  {
   "cell_type": "markdown",
   "metadata": {},
   "source": [
    "# Aqui o exemplo de possíveis homônimos na base de pagamentos"
   ]
  },
  {
   "cell_type": "code",
   "execution_count": 47,
   "metadata": {},
   "outputs": [
    {
     "data": {
      "text/plain": [
       "JOSE CARLOS PEREIRA                           126\n",
       "JOSE ROBERTO DA SILVA                         109\n",
       "SHIGUERO ORITA                                 86\n",
       "LUIZ FERNANDO DE CARVALHO                      86\n",
       "JOSE RUIZ NETTO                                86\n",
       "ANTONIO DOS SANTOS                             86\n",
       "REINALDO DA SILVA                              86\n",
       "RICARDO DE OLIVEIRA                            86\n",
       "JOAO CARLOS FRANCISCO DA SILVA                 86\n",
       "ANA MARIA DA SILVA                             86\n",
       "SONIA MARIA CARNEIRO D ALBUQUERQUE             86\n",
       "CLAUDIO FERREIRA                               86\n",
       "JOSE GONCALVES                                 86\n",
       "JOSE CARLOS DUARTE DE TOLEDO                   84\n",
       "SUELI SOARES FARIA DE OLIVEIRA                 82\n",
       "WILSON JOSE RIBEIRO                            69\n",
       "VICTORINA THEREZA FRUGOLI                      67\n",
       "MARIA RODRIGUES FERREIRA DE ANDRADE            64\n",
       "MARIA APARECIDA DE SOUZA                       60\n",
       "PAULO EDUARDO ALVES FERREIRA                   60\n",
       "MARILUCIA PARDINI OLBRICH ZANELATO BUCHI       60\n",
       "ANTONIO CARLOS DA SILVA                        55\n",
       "EDSON APARECIDO DA SILVA                       50\n",
       "ANA MARIA ANTON ALVAREZ                        50\n",
       "BEATRIZ DE OLIVEIRA                            49\n",
       "MARIA JOSE DA SILVA                            48\n",
       "ANA CECILIA CANONICO                           48\n",
       "FABIO PEREIRA DA SILVA                         48\n",
       "VERA LUCIA LEMES LEITE SOARES                  48\n",
       "ENICE MAGALHAES LOPES DA SILVA                 48\n",
       "                                             ... \n",
       "FRANCISCO CARLOS HOLANDA JUNIOR                 1\n",
       "ALEXANDRE DE OLIVEIRA LOPES                     1\n",
       "ROBERTO DE SOUSA ALVES                          1\n",
       "JOSELAINE CRISTINA PICCOLO                      1\n",
       "MATHEUS GOBATTI DO NASCIMENTO                   1\n",
       "SUELI APARECIDA BATISTA FRANCELINO              1\n",
       "MARIA JOSE BANHI                                1\n",
       "KELLY CHRISTINA CAMPOLONGO DE ABREU SANTOS      1\n",
       "KELVEN VALIM DE MELO                            1\n",
       "GREICE CRISTIANE FERNANDES                      1\n",
       "ROBERTO ANTONIO RIBEIRO                         1\n",
       "JOSE CARLOS DE ALMEIDA                          1\n",
       "ANTONIO JOSE DE ALMEIDA BRANDAO                 1\n",
       "NATAN DE ALMEIDA NEVES                          1\n",
       "ANDRE FERNANDO DE SEIXAS ORTIZ DE GODOY         1\n",
       "GLAUCIA LINO DE OLIVEIRA BARBOSA                1\n",
       "JORGE INACIO DE SOUZA                           1\n",
       "OTAVIO MAMEDE JUNIOR                            1\n",
       "ALEXANDRE JOSE DE SOUZA BOMBACH                 1\n",
       "DALVA DO NASCIMENTO BORG                        1\n",
       "VIVIANE MARTINS BUENO                           1\n",
       "JOSE ROGERIO SHKAIR FARHAT                      1\n",
       "LUIZ SERGIO DA SILVA                            1\n",
       "DAYANA GUIMARAES VIEIRA                         1\n",
       "SERGIO LACERDA DE PAULA                         1\n",
       "JOAO FRANCISCO ROCHA DOS SANTOS                 1\n",
       "SANDRO LIMA DOS SANTOS                          1\n",
       "FLAVIA TAVARES PEREIRA VIANA CARVALHO           1\n",
       "RODRIGO PIERRE DE FREITAS                       1\n",
       "LIBERATO FELIX DE OLIVEIRA FILHO                1\n",
       "Name: nome_func, Length: 8381, dtype: int64"
      ]
     },
     "execution_count": 47,
     "metadata": {},
     "output_type": "execute_result"
    }
   ],
   "source": [
    "df_pagamentos['nome_func'].value_counts()"
   ]
  },
  {
   "cell_type": "code",
   "execution_count": 31,
   "metadata": {},
   "outputs": [],
   "source": [
    "#df_pagamentos = df_pagamentos.drop_duplicates(['nome_func'])"
   ]
  },
  {
   "cell_type": "code",
   "execution_count": null,
   "metadata": {},
   "outputs": [],
   "source": []
  },
  {
   "cell_type": "markdown",
   "metadata": {},
   "source": [
    "# Cruza remuneração e lotação - APENAS PARA TESTAR - SERÁ NECESSÁRIO FILTRAR HOMÔNIMOS"
   ]
  },
  {
   "cell_type": "code",
   "execution_count": 53,
   "metadata": {},
   "outputs": [],
   "source": [
    "servidores_gabinetes = pd.merge(df_pagamentos, gabinetes, left_on='nome_func', right_on='NomeFuncionario')"
   ]
  },
  {
   "cell_type": "code",
   "execution_count": 54,
   "metadata": {},
   "outputs": [
    {
     "data": {
      "text/html": [
       "<div>\n",
       "<style scoped>\n",
       "    .dataframe tbody tr th:only-of-type {\n",
       "        vertical-align: middle;\n",
       "    }\n",
       "\n",
       "    .dataframe tbody tr th {\n",
       "        vertical-align: top;\n",
       "    }\n",
       "\n",
       "    .dataframe thead th {\n",
       "        text-align: right;\n",
       "    }\n",
       "</style>\n",
       "<table border=\"1\" class=\"dataframe\">\n",
       "  <thead>\n",
       "    <tr style=\"text-align: right;\">\n",
       "      <th></th>\n",
       "      <th>index</th>\n",
       "      <th>ano</th>\n",
       "      <th>mes</th>\n",
       "      <th>nome_func</th>\n",
       "      <th>remuneracao_bruta</th>\n",
       "      <th>remuneracao_liquida</th>\n",
       "      <th>tributos</th>\n",
       "      <th>DataFim</th>\n",
       "      <th>DataInicio</th>\n",
       "      <th>IdUA</th>\n",
       "      <th>NomeFuncionario</th>\n",
       "      <th>NomeUA</th>\n",
       "    </tr>\n",
       "  </thead>\n",
       "  <tbody>\n",
       "    <tr>\n",
       "      <th>0</th>\n",
       "      <td>0</td>\n",
       "      <td>2015</td>\n",
       "      <td>01</td>\n",
       "      <td>ABNEIA BUFFOLIN BROCANELLI</td>\n",
       "      <td>4.599,47</td>\n",
       "      <td>3.758,26</td>\n",
       "      <td>841,21</td>\n",
       "      <td>NaT</td>\n",
       "      <td>2015-04-28 03:00:00</td>\n",
       "      <td>20413</td>\n",
       "      <td>ABNEIA BUFFOLIN BROCANELLI</td>\n",
       "      <td>Gabinete do Deputado CELSO NASCIMENTO</td>\n",
       "    </tr>\n",
       "    <tr>\n",
       "      <th>1</th>\n",
       "      <td>1</td>\n",
       "      <td>2015</td>\n",
       "      <td>02</td>\n",
       "      <td>ABNEIA BUFFOLIN BROCANELLI</td>\n",
       "      <td>1.533,16</td>\n",
       "      <td>1.370,40</td>\n",
       "      <td>162,76</td>\n",
       "      <td>NaT</td>\n",
       "      <td>2015-04-28 03:00:00</td>\n",
       "      <td>20413</td>\n",
       "      <td>ABNEIA BUFFOLIN BROCANELLI</td>\n",
       "      <td>Gabinete do Deputado CELSO NASCIMENTO</td>\n",
       "    </tr>\n",
       "    <tr>\n",
       "      <th>2</th>\n",
       "      <td>2</td>\n",
       "      <td>2015</td>\n",
       "      <td>03</td>\n",
       "      <td>ABNEIA BUFFOLIN BROCANELLI</td>\n",
       "      <td>0,00</td>\n",
       "      <td>0,00</td>\n",
       "      <td>0,00</td>\n",
       "      <td>NaT</td>\n",
       "      <td>2015-04-28 03:00:00</td>\n",
       "      <td>20413</td>\n",
       "      <td>ABNEIA BUFFOLIN BROCANELLI</td>\n",
       "      <td>Gabinete do Deputado CELSO NASCIMENTO</td>\n",
       "    </tr>\n",
       "    <tr>\n",
       "      <th>3</th>\n",
       "      <td>3</td>\n",
       "      <td>2015</td>\n",
       "      <td>04</td>\n",
       "      <td>ABNEIA BUFFOLIN BROCANELLI</td>\n",
       "      <td>0,00</td>\n",
       "      <td>-7,43</td>\n",
       "      <td>7,43</td>\n",
       "      <td>NaT</td>\n",
       "      <td>2015-04-28 03:00:00</td>\n",
       "      <td>20413</td>\n",
       "      <td>ABNEIA BUFFOLIN BROCANELLI</td>\n",
       "      <td>Gabinete do Deputado CELSO NASCIMENTO</td>\n",
       "    </tr>\n",
       "    <tr>\n",
       "      <th>4</th>\n",
       "      <td>4</td>\n",
       "      <td>2015</td>\n",
       "      <td>05</td>\n",
       "      <td>ABNEIA BUFFOLIN BROCANELLI</td>\n",
       "      <td>5.340,57</td>\n",
       "      <td>4.348,13</td>\n",
       "      <td>992,44</td>\n",
       "      <td>NaT</td>\n",
       "      <td>2015-04-28 03:00:00</td>\n",
       "      <td>20413</td>\n",
       "      <td>ABNEIA BUFFOLIN BROCANELLI</td>\n",
       "      <td>Gabinete do Deputado CELSO NASCIMENTO</td>\n",
       "    </tr>\n",
       "  </tbody>\n",
       "</table>\n",
       "</div>"
      ],
      "text/plain": [
       "   index   ano mes                   nome_func remuneracao_bruta  \\\n",
       "0      0  2015  01  ABNEIA BUFFOLIN BROCANELLI          4.599,47   \n",
       "1      1  2015  02  ABNEIA BUFFOLIN BROCANELLI          1.533,16   \n",
       "2      2  2015  03  ABNEIA BUFFOLIN BROCANELLI              0,00   \n",
       "3      3  2015  04  ABNEIA BUFFOLIN BROCANELLI              0,00   \n",
       "4      4  2015  05  ABNEIA BUFFOLIN BROCANELLI          5.340,57   \n",
       "\n",
       "  remuneracao_liquida tributos DataFim          DataInicio   IdUA  \\\n",
       "0            3.758,26   841,21     NaT 2015-04-28 03:00:00  20413   \n",
       "1            1.370,40   162,76     NaT 2015-04-28 03:00:00  20413   \n",
       "2                0,00     0,00     NaT 2015-04-28 03:00:00  20413   \n",
       "3               -7,43     7,43     NaT 2015-04-28 03:00:00  20413   \n",
       "4            4.348,13   992,44     NaT 2015-04-28 03:00:00  20413   \n",
       "\n",
       "              NomeFuncionario                                 NomeUA  \n",
       "0  ABNEIA BUFFOLIN BROCANELLI  Gabinete do Deputado CELSO NASCIMENTO  \n",
       "1  ABNEIA BUFFOLIN BROCANELLI  Gabinete do Deputado CELSO NASCIMENTO  \n",
       "2  ABNEIA BUFFOLIN BROCANELLI  Gabinete do Deputado CELSO NASCIMENTO  \n",
       "3  ABNEIA BUFFOLIN BROCANELLI  Gabinete do Deputado CELSO NASCIMENTO  \n",
       "4  ABNEIA BUFFOLIN BROCANELLI  Gabinete do Deputado CELSO NASCIMENTO  "
      ]
     },
     "execution_count": 54,
     "metadata": {},
     "output_type": "execute_result"
    }
   ],
   "source": [
    "servidores_gabinetes.reset_index().head()"
   ]
  },
  {
   "cell_type": "code",
   "execution_count": null,
   "metadata": {},
   "outputs": [],
   "source": []
  },
  {
   "cell_type": "markdown",
   "metadata": {},
   "source": [
    "# Verifica nomes não encontrados na lista de remunerações  <br>\n",
    "# Ou seja, são servidores que não têm ou não tiveram no passado o salário divulgado"
   ]
  },
  {
   "cell_type": "code",
   "execution_count": 59,
   "metadata": {},
   "outputs": [],
   "source": [
    "nomes_naoencontrados = pd.merge(df_pagamentos,\n",
    "                        gabinetes,\n",
    "                        left_on='nome_func', \n",
    "                        right_on='NomeFuncionario',\n",
    "                        how='outer',\n",
    "                        indicator=True)\n",
    "\n",
    "rdf = nomes_naoencontrados.query(\"_merge == 'right_only'\").drop('_merge',axis=1)"
   ]
  },
  {
   "cell_type": "code",
   "execution_count": 60,
   "metadata": {},
   "outputs": [
    {
     "data": {
      "text/plain": [
       "THAUZER GUTIERREZ RODRIGUES MARTINS PINTO DOS SANTOS       3\n",
       "MARTA JANETE GARCIA DE SOUZA                               3\n",
       "ANGELITA PEREIRA DA CRUZ                                   2\n",
       "GILMAR ANDRE DOS SANTOS NEVES DE LAVOR                     2\n",
       "ADOLPHO DOS SANTOS GAMBOA JUNIOR                           2\n",
       "FRANK MARQUES JUNIOR                                       2\n",
       "PRISCILA VERISSIMO LEITE DE MORAES                         2\n",
       "MARIA DE FATIMA PEREIRA DE OLIVEIRA ARAUJO                 2\n",
       "EDISON JOSE UTINETTI                                       2\n",
       "CARMEN SILVIA VALIO DE ARAUJO MARTINS                      2\n",
       "SONIA MARIA OLIVEIRA DO CARMO                              2\n",
       "CARLA SOUSA VASCONCELOS DE ALMEIDA                         2\n",
       "SILVIA MARIA KURY DE SOUZA                                 2\n",
       "ARLINDO SOUZA MELO NETO                                    2\n",
       "JOSE CARLOS DUARTE TOLEDO                                  1\n",
       "ANA CLAUDIA GALVAO SILVA                                   1\n",
       "JACQUES SOARES LEITE SIQUEIRA                              1\n",
       "DANILO GOMES DE SOUZA                                      1\n",
       "JURANDIR BENEDITO SILVA                                    1\n",
       "RAUL MARCEL DA SILVA                                       1\n",
       "LUIZ CARLOS DE ALMEIDA PRADO ALVES FILHO                   1\n",
       "BRUNO PRAUN COELHO                                         1\n",
       "ANTONIO HENRIQUE ASSIS BRAZAO DE SOUZA                     1\n",
       "ANGELICA JESUS CASTILHO                                    1\n",
       "ANDRE ABEL DA SILVA                                        1\n",
       "JANETE RIBEIRO FRATE                                       1\n",
       "VICTOR RAMALHOSO GUERREIRO                                 1\n",
       "CLAUDIO ARAUJO MACHADO                                     1\n",
       "RODRIGO DE OLIVEIRA                                        1\n",
       "MIYOSHI NARUSE                                             1\n",
       "                                                          ..\n",
       "ABEL CASTILHO                                              1\n",
       "DEBORA CRISTINA RODRIGUES DE MORAES                        1\n",
       "HOMARIA FARIAS PRATES LIMA                                 1\n",
       "TEREZA DE JESUS SILVA FOGACA                               1\n",
       "REGINALDO BEZERRA SILVA                                    1\n",
       "DOUGLAS MACIEL DA SILVA                                    1\n",
       "GLAUCIA PASTOR                                             1\n",
       "DENISE VAZQUEZ MANFIO                                      1\n",
       "JANAINA APARECIDA NAVA NOGUEIRA                            1\n",
       "RODRIGO ANTUNES BARBOSA                                    1\n",
       "ADRIANO VIEIRA                                             1\n",
       "ANTONIO FERNANDO CABRAL SILVEIRA JUNIOR                    1\n",
       "MARIA DA GRACA OLBRICH ZANELATO BUCHI COELHO               1\n",
       "ILMA MARIA CAMPOS FRADE                                    1\n",
       "CAROLINA VIEIRA DA SILVA                                   1\n",
       "ELISA CARLA SPERANCOLO TORRES PERES                        1\n",
       "GABRIELA MENEGUINE KRAUSS                                  1\n",
       "GABRIELA DE MATTOS AFFONSO FERREIRA                        1\n",
       "NIR MARY RAQUEL                                            1\n",
       "LUCINEIA FERREIRA PREVELATI DE OLIVEIRA                    1\n",
       "ROBERTA DE CASSIA ORDONIO DE MORAIS                        1\n",
       "ELIANA YUKIE BANDO                                         1\n",
       "MERCIA APARECIDA TEIXEIRA DOURADO NOVAES                   1\n",
       "MAYRA NOVAES DE SOUSA                                      1\n",
       "JOAZ ASSIS DE SOUZA                                        1\n",
       "BRUNO NORBERTO DOS SANTOS                                  1\n",
       "ELIZABETH APARECIDA CARNEIRO DE CAMPOS SILVA ABI CHEDID    1\n",
       "LARA SANT'ANA CARDOSO                                      1\n",
       "SAMUEL DA SILVA PEREIRA                                    1\n",
       "ALEXANDRE SANT'ANNA                                        1\n",
       "Name: NomeFuncionario, Length: 120, dtype: int64"
      ]
     },
     "execution_count": 60,
     "metadata": {},
     "output_type": "execute_result"
    }
   ],
   "source": [
    "rdf['NomeFuncionario'].value_counts()"
   ]
  },
  {
   "cell_type": "code",
   "execution_count": 61,
   "metadata": {},
   "outputs": [
    {
     "data": {
      "text/plain": [
       "Gabinete do Deputado ROQUE BARBIERE               11\n",
       "Gabinete do Deputado GIL LANCASTER                 9\n",
       "Gabinete do Deputado GILMAR GIMENES                5\n",
       "Gabinete do Deputado GUSTAVO PETTA                 5\n",
       "Gabinete do Deputado MARTA COSTA                   4\n",
       "Gabinete do Deputado DELEGADO OLIM                 4\n",
       "Gabinete do Deputado FERNANDO CURY                 4\n",
       "Gabinete do Deputado LÉO OLIVEIRA                  4\n",
       "Gabinete do Deputado MARIA LÚCIA AMARY             4\n",
       "Gabinete do Deputado FERNANDO CAPEZ                3\n",
       "Gabinete do Deputado LUIZ FERNANDO T. FERREIRA     3\n",
       "Gabinete do Deputado CLÉLIA GOMES                  3\n",
       "Gabinete do Deputado ROGÉRIO NOGUEIRA              3\n",
       "Gabinete do Deputado BARROS MUNHOZ                 3\n",
       "Gabinete do Deputado EDMIR CHEDID                  3\n",
       "Gabinete do Deputado ANDRÉ SOARES                  3\n",
       "Gabinete do Deputado CAMPOS MACHADO                3\n",
       "Gabinete do Deputado RAUL MARCELO                  3\n",
       "Gabinete do Deputado MÁRCIO CAMARGO                3\n",
       "Gabinete do Deputado CORONEL TELHADA               3\n",
       "Gabinete do Deputado MILTON LEITE FILHO            2\n",
       "Gabinete do Deputado CARLÃO PIGNATARI              2\n",
       "Gabinete do Deputado ESTEVAM GALVÃO                2\n",
       "Gabinete do Deputado ANALICE FERNANDES             2\n",
       "Gabinete do Deputado GILMACI SANTOS                2\n",
       "Gabinete do Deputado ANDRÉ DO PRADO                2\n",
       "Gabinete do Deputado Marcos Neves                  2\n",
       "Gabinete do Deputado VAZ DE LIMA                   2\n",
       "Gabinete do Deputado ENIO TATTO                    2\n",
       "Gabinete do Deputado CAIO FRANÇA                   2\n",
       "                                                  ..\n",
       "Gabinete do Deputado SEBASTIÃO SANTOS              1\n",
       "Gabinete do Deputado PEDRO KAKÁ                    1\n",
       "Gabinete do Deputado CHICO SARDELLI                1\n",
       "Gabinete do Deputado DAVI ZAIA                     1\n",
       "Gabinete do Deputado RAFAEL SILVA                  1\n",
       "Gabinete do Deputado CARLOS CEZAR                  1\n",
       "Gabinete do Deputado JOÃO PAULO RILLO              1\n",
       "Gabinete do Deputado JOÃO CARAMEZ                  1\n",
       "Gabinete do Deputado CAUÊ MACRIS                   1\n",
       "Gabinete do Deputado DILADOR BORGES                1\n",
       "Gabinete do Deputado HÉLIO NISHIMOTO               1\n",
       "Gabinete do Deputado ALENCAR SANTANA BRAGA         1\n",
       "Gabinete do Deputado ROBERTO TRIPOLI               1\n",
       "Gabinete do Deputado MILTON VIEIRA                 1\n",
       "Gabinete do Deputado GILENO GOMES                  1\n",
       "Gabinete do Deputado ANTONIO SALIM CURIATI         1\n",
       "Gabinete do Deputado LUIZ CARLOS GONDIM            1\n",
       "Gabinete do Deputado RODRIGO MORAES                1\n",
       "Gabinete do Deputado CELSO NASCIMENTO              1\n",
       "Gabinete do Deputado MÁRCIA LIA                    1\n",
       "Gabinete do Deputado CEZINHA DE MADUREIRA          1\n",
       "Gabinete do Deputado TEONILIO BARBA                1\n",
       "Gabinete do Deputado MARCOS ZERBINI                1\n",
       "Gabinete do Deputado ADILSON ROSSI                 1\n",
       "Gabinete do Deputado WELSON GASPARINI              1\n",
       "Gabinete do Deputado ED THOMAS                     1\n",
       "Gabinete do Deputado GERALDO CRUZ                  1\n",
       "Gabinete do Deputado RAMALHO DA CONSTRUÇÃO         1\n",
       "Gabinete do Deputado CÁSSIO NAVARRO                1\n",
       "Gabinete do Deputado DOUTOR ULYSSES                1\n",
       "Name: NomeUA, Length: 62, dtype: int64"
      ]
     },
     "execution_count": 61,
     "metadata": {},
     "output_type": "execute_result"
    }
   ],
   "source": [
    "rdf['NomeUA'].value_counts()"
   ]
  },
  {
   "cell_type": "code",
   "execution_count": 38,
   "metadata": {},
   "outputs": [],
   "source": [
    "rdf.to_excel('resultados/servidores_naoencontrados.xlsx',sheet_name='Sheet1')"
   ]
  },
  {
   "cell_type": "code",
   "execution_count": null,
   "metadata": {},
   "outputs": [],
   "source": []
  },
  {
   "cell_type": "markdown",
   "metadata": {},
   "source": [
    "# Verifica nomes não encontrados na lista de remunerações para os funcionários de gabinete do presente - apenas 1 deles não é comissionado <br>\n",
    "# Ou seja, são servidores que não têm o salário divulgado"
   ]
  },
  {
   "cell_type": "code",
   "execution_count": 71,
   "metadata": {},
   "outputs": [],
   "source": [
    "nomes_naoencontrados = pd.merge(df_pagamentos,\n",
    "                        gabinetes_presente,\n",
    "                        left_on='nome_func', \n",
    "                        right_on='nome_func',\n",
    "                        how='outer',\n",
    "                        indicator=True)\n",
    "\n",
    "rdf = nomes_naoencontrados.query(\"_merge == 'right_only'\").drop('_merge',axis=1)"
   ]
  },
  {
   "cell_type": "code",
   "execution_count": 72,
   "metadata": {},
   "outputs": [
    {
     "data": {
      "text/plain": [
       "EDIMARA CRISTINA DE MIRANDA ANDREUCCI NAJAR HERNANDEZ    1\n",
       "CLAUDIO ARAUJO MACHADO                                   1\n",
       "TARCISIO DANIEL BOAVENTURA                               1\n",
       "LUIZ CARLOS DE ALMEIDA PRADO ALVES FILHO                 1\n",
       "JURANDIR BENEDITO SILVA                                  1\n",
       "JACQUES SOARES LEITE SIQUEIRA                            1\n",
       "ANA CLAUDIA GALVAO SILVA                                 1\n",
       "DANILO GOMES DE SOUZA                                    1\n",
       "RAUL MARCEL DA SILVA                                     1\n",
       "ANTONIO HENRIQUE ASSIS BRAZAO DE SOUZA                   1\n",
       "ANDRE ABEL DA SILVA                                      1\n",
       "VICTOR RAMALHOSO GUERREIRO                               1\n",
       "AYL DE ANDRADE MARQUES FILHO                             1\n",
       "LILIANE MOREIRA DE OLIVEIRA LIRA                         1\n",
       "SHEILLA ISAIAS PEREIRA DO NASCIMENTO                     1\n",
       "JAILTON REIS DOS SANTOS                                  1\n",
       "MARTA JANETE GARCIA DE SOUZA                             1\n",
       "MARCOS FARIA                                             1\n",
       "JAQUELINE CILLAS GONZALES BINATO                         1\n",
       "MARCELO FERREIRA                                         1\n",
       "FERNANDO VINICIUS PERAMA COSTA                           1\n",
       "TEREZA DE JESUS SILVA FOGACA                             1\n",
       "RODRIGO ANTUNES BARBOSA                                  1\n",
       "CELIA CRISTINA DA SILVA DE SOUZA                         1\n",
       "ANGELICA JESUS CASTILHO                                  1\n",
       "SILVIA MARIA KURY DE SOUZA                               1\n",
       "GLAUCIA PASTOR                                           1\n",
       "FABIANA CRISTINA VIRGILIO                                1\n",
       "FABIO RUBEMAR PINTO                                      1\n",
       "CLEBER ZUANETTI SILVA                                    1\n",
       "                                                        ..\n",
       "KASSIA ALESSANDRA AMAR DE BARRETO PALMA BEOLCHI          1\n",
       "ZILDO SEBASTIAO INOCENCIO JUNIOR                         1\n",
       "LUCIVANIA PORFIRIO DA SILVA                              1\n",
       "ANGELO ARCHIBALD GRENFELL                                1\n",
       "DEMETRIO CESAR DA SILVA XAVIER SOBRINHO EMIDIO           1\n",
       "MARCO ANTONIO DE MORAES FILHO                            1\n",
       "MARIA CECILIA ANDRADE                                    1\n",
       "ANDRE LUIZ VIEIRA DE MATOS                               1\n",
       "ILMA MARIA CAMPOS FRADE                                  1\n",
       "CAROLINA VIEIRA DA SILVA                                 1\n",
       "ELISA CARLA SPERANCOLO TORRES PERES                      1\n",
       "FRANK MARQUES JUNIOR                                     1\n",
       "REGINALDO BEZERRA SILVA                                  1\n",
       "GABRIELA MENEGUINE KRAUSS                                1\n",
       "NIR MARY RAQUEL                                          1\n",
       "ROBERTA DE CASSIA ORDONIO DE MORAIS                      1\n",
       "THAUZER GUTIERREZ RODRIGUES MARTINS PINTO DOS SANTOS     1\n",
       "ELIANA YUKIE BANDO                                       1\n",
       "MERCIA APARECIDA TEIXEIRA DOURADO NOVAES                 1\n",
       "MAYRA NOVAES DE SOUSA                                    1\n",
       "JOAZ ASSIS DE SOUZA                                      1\n",
       "ROBERTO CASSEB                                           1\n",
       "DEBORA DE LIMA SANT'ANNA                                 1\n",
       "BRUNO NORBERTO DOS SANTOS                                1\n",
       "GABRIELA DE MATTOS AFFONSO FERREIRA                      1\n",
       "HOMARIA FARIAS PRATES LIMA                               1\n",
       "APOLONIO BENITES                                         1\n",
       "DEBORA CRISTINA RODRIGUES DE MORAES                      1\n",
       "FABIO ADONIS PEREIRA                                     1\n",
       "ALEXANDRE SANT'ANNA                                      1\n",
       "Name: nome_func, Length: 102, dtype: int64"
      ]
     },
     "execution_count": 72,
     "metadata": {},
     "output_type": "execute_result"
    }
   ],
   "source": [
    "rdf['nome_func'].value_counts()"
   ]
  },
  {
   "cell_type": "code",
   "execution_count": 73,
   "metadata": {},
   "outputs": [
    {
     "data": {
      "text/plain": [
       "COMISSÃO                                                                    95\n",
       "COMISSIONAMENTO SEM PREJUÍZO                                                 4\n",
       "COMISSÃO\\n\\t\\t\\t\\t\\t\\t\\t\\n\\t\\t\\t\\t\\t\\t\\t\\t/ EFETIVO                          1\n",
       "EFETIVO                                                                      1\n",
       "COMISSIONAMENTO SEM PREJUÍZO\\n\\t\\t\\t\\t\\t\\t\\t\\n\\t\\t\\t\\t\\t\\t\\t\\t/ COMISSÃO     1\n",
       "Name: tipo_cargo2, dtype: int64"
      ]
     },
     "execution_count": 73,
     "metadata": {},
     "output_type": "execute_result"
    }
   ],
   "source": [
    "rdf['tipo_cargo2'].value_counts()"
   ]
  },
  {
   "cell_type": "code",
   "execution_count": 74,
   "metadata": {},
   "outputs": [
    {
     "data": {
      "text/html": [
       "<div>\n",
       "<style scoped>\n",
       "    .dataframe tbody tr th:only-of-type {\n",
       "        vertical-align: middle;\n",
       "    }\n",
       "\n",
       "    .dataframe tbody tr th {\n",
       "        vertical-align: top;\n",
       "    }\n",
       "\n",
       "    .dataframe thead th {\n",
       "        text-align: right;\n",
       "    }\n",
       "</style>\n",
       "<table border=\"1\" class=\"dataframe\">\n",
       "  <thead>\n",
       "    <tr style=\"text-align: right;\">\n",
       "      <th></th>\n",
       "      <th>ano</th>\n",
       "      <th>mes</th>\n",
       "      <th>nome_func</th>\n",
       "      <th>remuneracao_bruta</th>\n",
       "      <th>remuneracao_liquida</th>\n",
       "      <th>tributos</th>\n",
       "      <th>lotacao</th>\n",
       "      <th>tipo_cargo1</th>\n",
       "      <th>tipo_cargo2</th>\n",
       "    </tr>\n",
       "  </thead>\n",
       "  <tbody>\n",
       "    <tr>\n",
       "      <th>212243</th>\n",
       "      <td>NaN</td>\n",
       "      <td>NaN</td>\n",
       "      <td>LUIZ CARLOS DE ALMEIDA PRADO ALVES FILHO</td>\n",
       "      <td>NaN</td>\n",
       "      <td>NaN</td>\n",
       "      <td>NaN</td>\n",
       "      <td>GABINETE DEP. FERNANDO CURY</td>\n",
       "      <td>TÉCNICO LEGISLATIVO\\n\\t\\t\\t\\t\\t\\t\\t\\n\\t\\t\\t\\t\\...</td>\n",
       "      <td>EFETIVO</td>\n",
       "    </tr>\n",
       "  </tbody>\n",
       "</table>\n",
       "</div>"
      ],
      "text/plain": [
       "        ano  mes                                 nome_func remuneracao_bruta  \\\n",
       "212243  NaN  NaN  LUIZ CARLOS DE ALMEIDA PRADO ALVES FILHO               NaN   \n",
       "\n",
       "       remuneracao_liquida tributos                      lotacao  \\\n",
       "212243                 NaN      NaN  GABINETE DEP. FERNANDO CURY   \n",
       "\n",
       "                                              tipo_cargo1 tipo_cargo2  \n",
       "212243  TÉCNICO LEGISLATIVO\\n\\t\\t\\t\\t\\t\\t\\t\\n\\t\\t\\t\\t\\...     EFETIVO  "
      ]
     },
     "execution_count": 74,
     "metadata": {},
     "output_type": "execute_result"
    }
   ],
   "source": [
    "nome = rdf[(rdf['tipo_cargo2'] == 'EFETIVO')]\n",
    "nome"
   ]
  },
  {
   "cell_type": "code",
   "execution_count": null,
   "metadata": {},
   "outputs": [],
   "source": []
  },
  {
   "cell_type": "code",
   "execution_count": 75,
   "metadata": {},
   "outputs": [
    {
     "name": "stdout",
     "output_type": "stream",
     "text": [
      "<class 'pandas.core.frame.DataFrame'>\n",
      "Int64Index: 133970 entries, 0 to 133969\n",
      "Data columns (total 11 columns):\n",
      "ano                    133970 non-null object\n",
      "mes                    133970 non-null object\n",
      "nome_func              133970 non-null object\n",
      "remuneracao_bruta      133970 non-null object\n",
      "remuneracao_liquida    133970 non-null object\n",
      "tributos               133970 non-null object\n",
      "DataFim                68667 non-null datetime64[ns]\n",
      "DataInicio             133970 non-null datetime64[ns]\n",
      "IdUA                   133970 non-null object\n",
      "NomeFuncionario        133970 non-null object\n",
      "NomeUA                 133970 non-null object\n",
      "dtypes: datetime64[ns](2), object(9)\n",
      "memory usage: 12.3+ MB\n"
     ]
    }
   ],
   "source": [
    "servidores_gabinetes.info()"
   ]
  },
  {
   "cell_type": "code",
   "execution_count": 76,
   "metadata": {},
   "outputs": [
    {
     "data": {
      "text/html": [
       "<div>\n",
       "<style scoped>\n",
       "    .dataframe tbody tr th:only-of-type {\n",
       "        vertical-align: middle;\n",
       "    }\n",
       "\n",
       "    .dataframe tbody tr th {\n",
       "        vertical-align: top;\n",
       "    }\n",
       "\n",
       "    .dataframe thead th {\n",
       "        text-align: right;\n",
       "    }\n",
       "</style>\n",
       "<table border=\"1\" class=\"dataframe\">\n",
       "  <thead>\n",
       "    <tr style=\"text-align: right;\">\n",
       "      <th></th>\n",
       "      <th>index</th>\n",
       "      <th>ano</th>\n",
       "      <th>mes</th>\n",
       "      <th>nome_func</th>\n",
       "      <th>remuneracao_bruta</th>\n",
       "      <th>remuneracao_liquida</th>\n",
       "      <th>tributos</th>\n",
       "      <th>DataFim</th>\n",
       "      <th>DataInicio</th>\n",
       "      <th>IdUA</th>\n",
       "      <th>NomeFuncionario</th>\n",
       "      <th>NomeUA</th>\n",
       "    </tr>\n",
       "  </thead>\n",
       "  <tbody>\n",
       "    <tr>\n",
       "      <th>0</th>\n",
       "      <td>0</td>\n",
       "      <td>2015</td>\n",
       "      <td>01</td>\n",
       "      <td>ABNEIA BUFFOLIN BROCANELLI</td>\n",
       "      <td>4.599,47</td>\n",
       "      <td>3.758,26</td>\n",
       "      <td>841,21</td>\n",
       "      <td>NaT</td>\n",
       "      <td>2015-04-28 03:00:00</td>\n",
       "      <td>20413</td>\n",
       "      <td>ABNEIA BUFFOLIN BROCANELLI</td>\n",
       "      <td>Gabinete do Deputado CELSO NASCIMENTO</td>\n",
       "    </tr>\n",
       "    <tr>\n",
       "      <th>1</th>\n",
       "      <td>1</td>\n",
       "      <td>2015</td>\n",
       "      <td>02</td>\n",
       "      <td>ABNEIA BUFFOLIN BROCANELLI</td>\n",
       "      <td>1.533,16</td>\n",
       "      <td>1.370,40</td>\n",
       "      <td>162,76</td>\n",
       "      <td>NaT</td>\n",
       "      <td>2015-04-28 03:00:00</td>\n",
       "      <td>20413</td>\n",
       "      <td>ABNEIA BUFFOLIN BROCANELLI</td>\n",
       "      <td>Gabinete do Deputado CELSO NASCIMENTO</td>\n",
       "    </tr>\n",
       "    <tr>\n",
       "      <th>2</th>\n",
       "      <td>2</td>\n",
       "      <td>2015</td>\n",
       "      <td>03</td>\n",
       "      <td>ABNEIA BUFFOLIN BROCANELLI</td>\n",
       "      <td>0,00</td>\n",
       "      <td>0,00</td>\n",
       "      <td>0,00</td>\n",
       "      <td>NaT</td>\n",
       "      <td>2015-04-28 03:00:00</td>\n",
       "      <td>20413</td>\n",
       "      <td>ABNEIA BUFFOLIN BROCANELLI</td>\n",
       "      <td>Gabinete do Deputado CELSO NASCIMENTO</td>\n",
       "    </tr>\n",
       "    <tr>\n",
       "      <th>3</th>\n",
       "      <td>3</td>\n",
       "      <td>2015</td>\n",
       "      <td>04</td>\n",
       "      <td>ABNEIA BUFFOLIN BROCANELLI</td>\n",
       "      <td>0,00</td>\n",
       "      <td>-7,43</td>\n",
       "      <td>7,43</td>\n",
       "      <td>NaT</td>\n",
       "      <td>2015-04-28 03:00:00</td>\n",
       "      <td>20413</td>\n",
       "      <td>ABNEIA BUFFOLIN BROCANELLI</td>\n",
       "      <td>Gabinete do Deputado CELSO NASCIMENTO</td>\n",
       "    </tr>\n",
       "    <tr>\n",
       "      <th>4</th>\n",
       "      <td>4</td>\n",
       "      <td>2015</td>\n",
       "      <td>05</td>\n",
       "      <td>ABNEIA BUFFOLIN BROCANELLI</td>\n",
       "      <td>5.340,57</td>\n",
       "      <td>4.348,13</td>\n",
       "      <td>992,44</td>\n",
       "      <td>NaT</td>\n",
       "      <td>2015-04-28 03:00:00</td>\n",
       "      <td>20413</td>\n",
       "      <td>ABNEIA BUFFOLIN BROCANELLI</td>\n",
       "      <td>Gabinete do Deputado CELSO NASCIMENTO</td>\n",
       "    </tr>\n",
       "    <tr>\n",
       "      <th>5</th>\n",
       "      <td>5</td>\n",
       "      <td>2015</td>\n",
       "      <td>06</td>\n",
       "      <td>ABNEIA BUFFOLIN BROCANELLI</td>\n",
       "      <td>5.340,57</td>\n",
       "      <td>4.357,48</td>\n",
       "      <td>983,09</td>\n",
       "      <td>NaT</td>\n",
       "      <td>2015-04-28 03:00:00</td>\n",
       "      <td>20413</td>\n",
       "      <td>ABNEIA BUFFOLIN BROCANELLI</td>\n",
       "      <td>Gabinete do Deputado CELSO NASCIMENTO</td>\n",
       "    </tr>\n",
       "    <tr>\n",
       "      <th>6</th>\n",
       "      <td>6</td>\n",
       "      <td>2015</td>\n",
       "      <td>07</td>\n",
       "      <td>ABNEIA BUFFOLIN BROCANELLI</td>\n",
       "      <td>5.340,57</td>\n",
       "      <td>4.357,48</td>\n",
       "      <td>983,09</td>\n",
       "      <td>NaT</td>\n",
       "      <td>2015-04-28 03:00:00</td>\n",
       "      <td>20413</td>\n",
       "      <td>ABNEIA BUFFOLIN BROCANELLI</td>\n",
       "      <td>Gabinete do Deputado CELSO NASCIMENTO</td>\n",
       "    </tr>\n",
       "    <tr>\n",
       "      <th>7</th>\n",
       "      <td>7</td>\n",
       "      <td>2015</td>\n",
       "      <td>08</td>\n",
       "      <td>ABNEIA BUFFOLIN BROCANELLI</td>\n",
       "      <td>5.340,57</td>\n",
       "      <td>4.357,48</td>\n",
       "      <td>983,09</td>\n",
       "      <td>NaT</td>\n",
       "      <td>2015-04-28 03:00:00</td>\n",
       "      <td>20413</td>\n",
       "      <td>ABNEIA BUFFOLIN BROCANELLI</td>\n",
       "      <td>Gabinete do Deputado CELSO NASCIMENTO</td>\n",
       "    </tr>\n",
       "    <tr>\n",
       "      <th>8</th>\n",
       "      <td>8</td>\n",
       "      <td>2015</td>\n",
       "      <td>09</td>\n",
       "      <td>ABNEIA BUFFOLIN BROCANELLI</td>\n",
       "      <td>5.340,57</td>\n",
       "      <td>4.357,48</td>\n",
       "      <td>983,09</td>\n",
       "      <td>NaT</td>\n",
       "      <td>2015-04-28 03:00:00</td>\n",
       "      <td>20413</td>\n",
       "      <td>ABNEIA BUFFOLIN BROCANELLI</td>\n",
       "      <td>Gabinete do Deputado CELSO NASCIMENTO</td>\n",
       "    </tr>\n",
       "    <tr>\n",
       "      <th>9</th>\n",
       "      <td>9</td>\n",
       "      <td>2015</td>\n",
       "      <td>10</td>\n",
       "      <td>ABNEIA BUFFOLIN BROCANELLI</td>\n",
       "      <td>5.340,57</td>\n",
       "      <td>4.357,48</td>\n",
       "      <td>983,09</td>\n",
       "      <td>NaT</td>\n",
       "      <td>2015-04-28 03:00:00</td>\n",
       "      <td>20413</td>\n",
       "      <td>ABNEIA BUFFOLIN BROCANELLI</td>\n",
       "      <td>Gabinete do Deputado CELSO NASCIMENTO</td>\n",
       "    </tr>\n",
       "  </tbody>\n",
       "</table>\n",
       "</div>"
      ],
      "text/plain": [
       "   index   ano mes                   nome_func remuneracao_bruta  \\\n",
       "0      0  2015  01  ABNEIA BUFFOLIN BROCANELLI          4.599,47   \n",
       "1      1  2015  02  ABNEIA BUFFOLIN BROCANELLI          1.533,16   \n",
       "2      2  2015  03  ABNEIA BUFFOLIN BROCANELLI              0,00   \n",
       "3      3  2015  04  ABNEIA BUFFOLIN BROCANELLI              0,00   \n",
       "4      4  2015  05  ABNEIA BUFFOLIN BROCANELLI          5.340,57   \n",
       "5      5  2015  06  ABNEIA BUFFOLIN BROCANELLI          5.340,57   \n",
       "6      6  2015  07  ABNEIA BUFFOLIN BROCANELLI          5.340,57   \n",
       "7      7  2015  08  ABNEIA BUFFOLIN BROCANELLI          5.340,57   \n",
       "8      8  2015  09  ABNEIA BUFFOLIN BROCANELLI          5.340,57   \n",
       "9      9  2015  10  ABNEIA BUFFOLIN BROCANELLI          5.340,57   \n",
       "\n",
       "  remuneracao_liquida tributos DataFim          DataInicio   IdUA  \\\n",
       "0            3.758,26   841,21     NaT 2015-04-28 03:00:00  20413   \n",
       "1            1.370,40   162,76     NaT 2015-04-28 03:00:00  20413   \n",
       "2                0,00     0,00     NaT 2015-04-28 03:00:00  20413   \n",
       "3               -7,43     7,43     NaT 2015-04-28 03:00:00  20413   \n",
       "4            4.348,13   992,44     NaT 2015-04-28 03:00:00  20413   \n",
       "5            4.357,48   983,09     NaT 2015-04-28 03:00:00  20413   \n",
       "6            4.357,48   983,09     NaT 2015-04-28 03:00:00  20413   \n",
       "7            4.357,48   983,09     NaT 2015-04-28 03:00:00  20413   \n",
       "8            4.357,48   983,09     NaT 2015-04-28 03:00:00  20413   \n",
       "9            4.357,48   983,09     NaT 2015-04-28 03:00:00  20413   \n",
       "\n",
       "              NomeFuncionario                                 NomeUA  \n",
       "0  ABNEIA BUFFOLIN BROCANELLI  Gabinete do Deputado CELSO NASCIMENTO  \n",
       "1  ABNEIA BUFFOLIN BROCANELLI  Gabinete do Deputado CELSO NASCIMENTO  \n",
       "2  ABNEIA BUFFOLIN BROCANELLI  Gabinete do Deputado CELSO NASCIMENTO  \n",
       "3  ABNEIA BUFFOLIN BROCANELLI  Gabinete do Deputado CELSO NASCIMENTO  \n",
       "4  ABNEIA BUFFOLIN BROCANELLI  Gabinete do Deputado CELSO NASCIMENTO  \n",
       "5  ABNEIA BUFFOLIN BROCANELLI  Gabinete do Deputado CELSO NASCIMENTO  \n",
       "6  ABNEIA BUFFOLIN BROCANELLI  Gabinete do Deputado CELSO NASCIMENTO  \n",
       "7  ABNEIA BUFFOLIN BROCANELLI  Gabinete do Deputado CELSO NASCIMENTO  \n",
       "8  ABNEIA BUFFOLIN BROCANELLI  Gabinete do Deputado CELSO NASCIMENTO  \n",
       "9  ABNEIA BUFFOLIN BROCANELLI  Gabinete do Deputado CELSO NASCIMENTO  "
      ]
     },
     "execution_count": 76,
     "metadata": {},
     "output_type": "execute_result"
    }
   ],
   "source": [
    "servidores_gabinetes.reset_index().head(10)"
   ]
  },
  {
   "cell_type": "code",
   "execution_count": null,
   "metadata": {},
   "outputs": [],
   "source": []
  },
  {
   "cell_type": "markdown",
   "metadata": {},
   "source": [
    "# Transforma valores para padrão decimal que permite operações matemáticas"
   ]
  },
  {
   "cell_type": "code",
   "execution_count": 17,
   "metadata": {},
   "outputs": [],
   "source": [
    "def limpeza1(linha):\n",
    "    valor = linha[\"remuneracao_bruta\"]\n",
    "    valor = valor.replace('.', '')\n",
    "    valor = valor.replace(',', '.')\n",
    "    return valor\n",
    "\n",
    "def limpeza2(linha):\n",
    "    valor = linha[\"remuneracao_liquida\"]\n",
    "    valor = valor.replace('.', '')\n",
    "    valor = valor.replace(',', '.')\n",
    "    return valor"
   ]
  },
  {
   "cell_type": "code",
   "execution_count": 18,
   "metadata": {},
   "outputs": [],
   "source": [
    "df_pagamentos[\"remuneracao_bruta\"] = df_pagamentos.apply(limpeza1, axis=1)\n",
    "df_pagamentos[\"remuneracao_liquida\"] = df_pagamentos.apply(limpeza2, axis=1)\n",
    "\n",
    "df_pagamentos['remuneracao_bruta'] = df_pagamentos.remuneracao_bruta.astype('float64')\n",
    "df_pagamentos['remuneracao_liquida'] = df_pagamentos.remuneracao_liquida.astype('float64')"
   ]
  },
  {
   "cell_type": "code",
   "execution_count": 19,
   "metadata": {},
   "outputs": [
    {
     "data": {
      "text/html": [
       "<div>\n",
       "<style scoped>\n",
       "    .dataframe tbody tr th:only-of-type {\n",
       "        vertical-align: middle;\n",
       "    }\n",
       "\n",
       "    .dataframe tbody tr th {\n",
       "        vertical-align: top;\n",
       "    }\n",
       "\n",
       "    .dataframe thead th {\n",
       "        text-align: right;\n",
       "    }\n",
       "</style>\n",
       "<table border=\"1\" class=\"dataframe\">\n",
       "  <thead>\n",
       "    <tr style=\"text-align: right;\">\n",
       "      <th></th>\n",
       "      <th>index</th>\n",
       "      <th>ano</th>\n",
       "      <th>mes</th>\n",
       "      <th>nome_func</th>\n",
       "      <th>remuneracao_bruta</th>\n",
       "      <th>remuneracao_liquida</th>\n",
       "      <th>tributos</th>\n",
       "    </tr>\n",
       "  </thead>\n",
       "  <tbody>\n",
       "    <tr>\n",
       "      <th>0</th>\n",
       "      <td>0</td>\n",
       "      <td>2015</td>\n",
       "      <td>01</td>\n",
       "      <td>ABEL PEREIRA</td>\n",
       "      <td>13,406.63</td>\n",
       "      <td>10,439.20</td>\n",
       "      <td>2.967,43</td>\n",
       "    </tr>\n",
       "    <tr>\n",
       "      <th>1</th>\n",
       "      <td>1</td>\n",
       "      <td>2015</td>\n",
       "      <td>01</td>\n",
       "      <td>ABENOR GARCIA FERREIRA</td>\n",
       "      <td>17,507.31</td>\n",
       "      <td>13,968.74</td>\n",
       "      <td>3.538,57</td>\n",
       "    </tr>\n",
       "    <tr>\n",
       "      <th>2</th>\n",
       "      <td>2</td>\n",
       "      <td>2015</td>\n",
       "      <td>01</td>\n",
       "      <td>ABILIO DO LIVRAMENTO P ALVES</td>\n",
       "      <td>11,160.56</td>\n",
       "      <td>7,919.77</td>\n",
       "      <td>3.240,79</td>\n",
       "    </tr>\n",
       "    <tr>\n",
       "      <th>3</th>\n",
       "      <td>3</td>\n",
       "      <td>2015</td>\n",
       "      <td>01</td>\n",
       "      <td>ABNEIA BUFFOLIN BROCANELLI</td>\n",
       "      <td>4,599.47</td>\n",
       "      <td>3,758.26</td>\n",
       "      <td>841,21</td>\n",
       "    </tr>\n",
       "    <tr>\n",
       "      <th>4</th>\n",
       "      <td>4</td>\n",
       "      <td>2015</td>\n",
       "      <td>01</td>\n",
       "      <td>ABRAO BARBOSA DIB</td>\n",
       "      <td>9,254.85</td>\n",
       "      <td>7,202.63</td>\n",
       "      <td>2.052,22</td>\n",
       "    </tr>\n",
       "    <tr>\n",
       "      <th>5</th>\n",
       "      <td>5</td>\n",
       "      <td>2015</td>\n",
       "      <td>01</td>\n",
       "      <td>ACACIA DE ASSIS NEGREIROS</td>\n",
       "      <td>6,658.91</td>\n",
       "      <td>5,961.02</td>\n",
       "      <td>697,89</td>\n",
       "    </tr>\n",
       "    <tr>\n",
       "      <th>6</th>\n",
       "      <td>6</td>\n",
       "      <td>2015</td>\n",
       "      <td>01</td>\n",
       "      <td>ACACIO GONSALES FERREIRA</td>\n",
       "      <td>2,858.20</td>\n",
       "      <td>2,451.84</td>\n",
       "      <td>406,36</td>\n",
       "    </tr>\n",
       "    <tr>\n",
       "      <th>7</th>\n",
       "      <td>7</td>\n",
       "      <td>2015</td>\n",
       "      <td>01</td>\n",
       "      <td>ACIDALIA ARGENTE</td>\n",
       "      <td>11,288.34</td>\n",
       "      <td>8,883.67</td>\n",
       "      <td>2.404,67</td>\n",
       "    </tr>\n",
       "    <tr>\n",
       "      <th>8</th>\n",
       "      <td>8</td>\n",
       "      <td>2015</td>\n",
       "      <td>01</td>\n",
       "      <td>ACY DUARTE CINQUE</td>\n",
       "      <td>11,849.48</td>\n",
       "      <td>8,904.21</td>\n",
       "      <td>2.945,27</td>\n",
       "    </tr>\n",
       "    <tr>\n",
       "      <th>9</th>\n",
       "      <td>9</td>\n",
       "      <td>2015</td>\n",
       "      <td>01</td>\n",
       "      <td>ADALBERTO CRISTOVAO MOREIRA</td>\n",
       "      <td>16,199.44</td>\n",
       "      <td>11,155.76</td>\n",
       "      <td>5.043,68</td>\n",
       "    </tr>\n",
       "  </tbody>\n",
       "</table>\n",
       "</div>"
      ],
      "text/plain": [
       "   index   ano mes                     nome_func  remuneracao_bruta  \\\n",
       "0      0  2015  01                  ABEL PEREIRA          13,406.63   \n",
       "1      1  2015  01        ABENOR GARCIA FERREIRA          17,507.31   \n",
       "2      2  2015  01  ABILIO DO LIVRAMENTO P ALVES          11,160.56   \n",
       "3      3  2015  01    ABNEIA BUFFOLIN BROCANELLI           4,599.47   \n",
       "4      4  2015  01             ABRAO BARBOSA DIB           9,254.85   \n",
       "5      5  2015  01     ACACIA DE ASSIS NEGREIROS           6,658.91   \n",
       "6      6  2015  01      ACACIO GONSALES FERREIRA           2,858.20   \n",
       "7      7  2015  01              ACIDALIA ARGENTE          11,288.34   \n",
       "8      8  2015  01             ACY DUARTE CINQUE          11,849.48   \n",
       "9      9  2015  01   ADALBERTO CRISTOVAO MOREIRA          16,199.44   \n",
       "\n",
       "   remuneracao_liquida  tributos  \n",
       "0            10,439.20  2.967,43  \n",
       "1            13,968.74  3.538,57  \n",
       "2             7,919.77  3.240,79  \n",
       "3             3,758.26    841,21  \n",
       "4             7,202.63  2.052,22  \n",
       "5             5,961.02    697,89  \n",
       "6             2,451.84    406,36  \n",
       "7             8,883.67  2.404,67  \n",
       "8             8,904.21  2.945,27  \n",
       "9            11,155.76  5.043,68  "
      ]
     },
     "execution_count": 19,
     "metadata": {},
     "output_type": "execute_result"
    }
   ],
   "source": [
    "df_pagamentos.reset_index().head(10)"
   ]
  },
  {
   "cell_type": "code",
   "execution_count": null,
   "metadata": {},
   "outputs": [],
   "source": []
  },
  {
   "cell_type": "markdown",
   "metadata": {},
   "source": [
    "# Análise de gastos de apenas um mês - julho 2018\n",
    "# A análise de cada mês em separado - retirando homônimos é a forma mais precisa de trabalhar porque falta mais transparência da Alesp"
   ]
  },
  {
   "cell_type": "code",
   "execution_count": 20,
   "metadata": {},
   "outputs": [],
   "source": [
    "julho_pagamentos = df_pagamentos[(df_pagamentos['ano'] == '2018') &\n",
    "                            (df_pagamentos['mes'] == '07') \n",
    "                           ]"
   ]
  },
  {
   "cell_type": "code",
   "execution_count": 21,
   "metadata": {},
   "outputs": [
    {
     "name": "stdout",
     "output_type": "stream",
     "text": [
      "<class 'pandas.core.frame.DataFrame'>\n",
      "Int64Index: 4996 entries, 206949 to 211944\n",
      "Data columns (total 6 columns):\n",
      "ano                    4996 non-null object\n",
      "mes                    4996 non-null object\n",
      "nome_func              4996 non-null object\n",
      "remuneracao_bruta      4996 non-null float64\n",
      "remuneracao_liquida    4996 non-null float64\n",
      "tributos               4996 non-null object\n",
      "dtypes: float64(2), object(4)\n",
      "memory usage: 273.2+ KB\n"
     ]
    }
   ],
   "source": [
    "julho_pagamentos.info()"
   ]
  },
  {
   "cell_type": "markdown",
   "metadata": {},
   "source": [
    "Total nos gabinetes em julho"
   ]
  },
  {
   "cell_type": "code",
   "execution_count": 22,
   "metadata": {},
   "outputs": [
    {
     "data": {
      "text/plain": [
       "2349"
      ]
     },
     "execution_count": 22,
     "metadata": {},
     "output_type": "execute_result"
    }
   ],
   "source": [
    "gabinetes_presente['nome_func'].nunique()"
   ]
  },
  {
   "cell_type": "markdown",
   "metadata": {},
   "source": [
    "Comissionados"
   ]
  },
  {
   "cell_type": "code",
   "execution_count": 23,
   "metadata": {},
   "outputs": [
    {
     "data": {
      "text/plain": [
       "2286"
      ]
     },
     "execution_count": 23,
     "metadata": {},
     "output_type": "execute_result"
    }
   ],
   "source": [
    "#str_choice = \"COMISSÃO\" \n",
    "#comissionados = gabinetes_presente[gabinetes_presente['tipo_cargo2'].\\\n",
    "#                       str.contains(str_choice, na=False)]\n",
    "comissionados = gabinetes_presente[(gabinetes_presente['tipo_cargo2'] == 'COMISSÃO')]\n",
    "comissionados['nome_func'].nunique()"
   ]
  },
  {
   "cell_type": "markdown",
   "metadata": {},
   "source": [
    "Homônimos que não é possível diferenciar"
   ]
  },
  {
   "cell_type": "code",
   "execution_count": 24,
   "metadata": {},
   "outputs": [
    {
     "data": {
      "text/plain": [
       "JOSE CARLOS PEREIRA                         3\n",
       "JOSE ROBERTO DA SILVA                       2\n",
       "CLAUDIO FERREIRA                            2\n",
       "ANTONIO DOS SANTOS                          2\n",
       "RICARDO DE OLIVEIRA                         2\n",
       "CARLOS ROBERTO SPARTANI PIRANI              2\n",
       "MARIA APARECIDA DE SOUZA                    2\n",
       "SHIGUERO ORITA                              2\n",
       "ANA MARIA DA SILVA                          2\n",
       "JOSE RUIZ NETTO                             2\n",
       "MARILUCIA PARDINI OLBRICH ZANELATO BUCHI    2\n",
       "JOSE CARLOS DUARTE DE TOLEDO                2\n",
       "LUIZ FERNANDO DE CARVALHO                   2\n",
       "SUELI SOARES FARIA DE OLIVEIRA              2\n",
       "JOSE GONCALVES                              2\n",
       "PAULO EDUARDO ALVES FERREIRA                2\n",
       "JOAO CARLOS FRANCISCO DA SILVA              2\n",
       "REINALDO DA SILVA                           2\n",
       "SONIA MARIA CARNEIRO D ALBUQUERQUE          2\n",
       "SANDRA FILOMENA L DOS SANTOS                1\n",
       "VINICIUS DE MELO CARDOSO                    1\n",
       "EDI CARLOS VIEIRA                           1\n",
       "JORGE NUBIO FURBETTA                        1\n",
       "SONIA ELIZABETH FURUE                       1\n",
       "CLAUDIO ROBERTO BARBOSA DE SOUZA            1\n",
       "ROBERTO DE OLIVEIRA BALOTTA                 1\n",
       "JOSE HELDER ANGELO                          1\n",
       "ALTIERIS MARCOS SECCATTO LEONE              1\n",
       "EVANDRO CUNHA ASSIS SANTOS                  1\n",
       "VICENTE AVELINO ANDRADE                     1\n",
       "                                           ..\n",
       "LEONARDO DAVID QUINTILIANO                  1\n",
       "DARCY MIYOKO TANIGUTI                       1\n",
       "CHRISTINA FELICIO DE ALMEIDA                1\n",
       "ROBERTO CURY                                1\n",
       "THIAGO VINICIUS PEREIRA DE MORAIS           1\n",
       "LUCI GLORIA RIBEIRO MARTINS                 1\n",
       "JOSE PEREIRA SOBRINHO                       1\n",
       "ERIK NETTO LIMA                             1\n",
       "SYLVIA CRISTINA AUGUSTO                     1\n",
       "MIRIAM CARLA DA SILVA OLIVEIRA              1\n",
       "WALDEMAR LOPES FERRAZ FILHO                 1\n",
       "LAURA REGINA ROHNELT SENA                   1\n",
       "PAULO JOSE DE ALMEIDA                       1\n",
       "FREDERICO HANNAH MATTAR ROZANSKI            1\n",
       "ORIVALDO BANZATTO FILHO                     1\n",
       "CARLOS ROBERTO GARCIA                       1\n",
       "PAULO ROBERTO DINIZ                         1\n",
       "EDNA DE ASSIS CANDIDO                       1\n",
       "ANTONIA ERDILANE GONCALVES DA SILVA         1\n",
       "MARIA ZOE CAMARGO DE ARRUDA PENTEADO        1\n",
       "YOLANDA ORSI                                1\n",
       "JULIANA BATALHAO DE OLIVEIRA                1\n",
       "CLAUDIA CIUFATELLI BARALE                   1\n",
       "RAFAEL CAVALIN INACIO DOS SANTOS            1\n",
       "GABRIELLE NEVES CARLOS                      1\n",
       "FERNANDO CELESTINO DE LUNA                  1\n",
       "DEBORAH TEREZA REMONDI WERNER               1\n",
       "FERNANDO SERIO VITORIA                      1\n",
       "ELIANA DO CARMO MARTELINI FERRARI           1\n",
       "WALMIR MELHADO                              1\n",
       "Name: nome_func, Length: 4976, dtype: int64"
      ]
     },
     "execution_count": 24,
     "metadata": {},
     "output_type": "execute_result"
    }
   ],
   "source": [
    "julho_pagamentos['nome_func'].value_counts()"
   ]
  },
  {
   "cell_type": "markdown",
   "metadata": {},
   "source": [
    "Retira duplicados"
   ]
  },
  {
   "cell_type": "code",
   "execution_count": 25,
   "metadata": {},
   "outputs": [],
   "source": [
    "julho_pagamentos = julho_pagamentos.drop_duplicates(['nome_func'])"
   ]
  },
  {
   "cell_type": "code",
   "execution_count": 26,
   "metadata": {},
   "outputs": [],
   "source": [
    "gabinetes_presente = gabinetes_presente.drop_duplicates(['nome_func'])"
   ]
  },
  {
   "cell_type": "code",
   "execution_count": null,
   "metadata": {},
   "outputs": [],
   "source": []
  },
  {
   "cell_type": "markdown",
   "metadata": {},
   "source": [
    "Cruza com os gabinetes - tira nomes duplicados também em gabinetes"
   ]
  },
  {
   "cell_type": "code",
   "execution_count": 27,
   "metadata": {},
   "outputs": [],
   "source": [
    "servidores_gabinetes_julho = pd.merge(julho_pagamentos, gabinetes_presente, left_on='nome_func', right_on='nome_func')"
   ]
  },
  {
   "cell_type": "code",
   "execution_count": 28,
   "metadata": {},
   "outputs": [
    {
     "name": "stdout",
     "output_type": "stream",
     "text": [
      "<class 'pandas.core.frame.DataFrame'>\n",
      "Int64Index: 2236 entries, 0 to 2235\n",
      "Data columns (total 9 columns):\n",
      "ano                    2236 non-null object\n",
      "mes                    2236 non-null object\n",
      "nome_func              2236 non-null object\n",
      "remuneracao_bruta      2236 non-null float64\n",
      "remuneracao_liquida    2236 non-null float64\n",
      "tributos               2236 non-null object\n",
      "lotacao                2236 non-null object\n",
      "tipo_cargo1            2236 non-null object\n",
      "tipo_cargo2            2236 non-null object\n",
      "dtypes: float64(2), object(7)\n",
      "memory usage: 174.7+ KB\n"
     ]
    }
   ],
   "source": [
    "servidores_gabinetes_julho.info()"
   ]
  },
  {
   "cell_type": "code",
   "execution_count": null,
   "metadata": {},
   "outputs": [],
   "source": []
  },
  {
   "cell_type": "code",
   "execution_count": 29,
   "metadata": {},
   "outputs": [
    {
     "data": {
      "text/plain": [
       "COMISSÃO                                                                    104\n",
       "COMISSIONAMENTO SEM PREJUÍZO                                                  6\n",
       "COMISSIONAMENTO SEM PREJUÍZO\\n\\t\\t\\t\\t\\t\\t\\t\\n\\t\\t\\t\\t\\t\\t\\t\\t/ COMISSÃO      1\n",
       "EFETIVO                                                                       1\n",
       "COMISSÃO\\n\\t\\t\\t\\t\\t\\t\\t\\n\\t\\t\\t\\t\\t\\t\\t\\t/ EFETIVO                           1\n",
       "Name: tipo_cargo2, dtype: int64"
      ]
     },
     "execution_count": 29,
     "metadata": {},
     "output_type": "execute_result"
    }
   ],
   "source": [
    "nomes_naoencontrados = pd.merge(julho_pagamentos,\n",
    "                        gabinetes_presente.drop_duplicates('nome_func'),\n",
    "                        left_on='nome_func', \n",
    "                        right_on='nome_func',\n",
    "                        how='outer',\n",
    "                        indicator=True)\n",
    "\n",
    "rdf = nomes_naoencontrados.query(\"_merge == 'right_only'\").drop('_merge',axis=1)\n",
    "\n",
    "rdf['tipo_cargo2'].value_counts()"
   ]
  },
  {
   "cell_type": "code",
   "execution_count": 30,
   "metadata": {},
   "outputs": [
    {
     "name": "stdout",
     "output_type": "stream",
     "text": [
      "<class 'pandas.core.frame.DataFrame'>\n",
      "Int64Index: 113 entries, 4976 to 5088\n",
      "Data columns (total 9 columns):\n",
      "ano                    0 non-null object\n",
      "mes                    0 non-null object\n",
      "nome_func              113 non-null object\n",
      "remuneracao_bruta      0 non-null float64\n",
      "remuneracao_liquida    0 non-null float64\n",
      "tributos               0 non-null object\n",
      "lotacao                113 non-null object\n",
      "tipo_cargo1            113 non-null object\n",
      "tipo_cargo2            113 non-null object\n",
      "dtypes: float64(2), object(7)\n",
      "memory usage: 8.8+ KB\n"
     ]
    }
   ],
   "source": [
    "rdf.info()"
   ]
  },
  {
   "cell_type": "code",
   "execution_count": 63,
   "metadata": {},
   "outputs": [],
   "source": [
    "rdf.to_excel('resultados/servidores_semsalariodivulgado.xlsx',sheet_name='Sheet1')"
   ]
  },
  {
   "cell_type": "code",
   "execution_count": null,
   "metadata": {},
   "outputs": [],
   "source": []
  },
  {
   "cell_type": "markdown",
   "metadata": {},
   "source": [
    "Gabinetes com gastos"
   ]
  },
  {
   "cell_type": "code",
   "execution_count": 45,
   "metadata": {},
   "outputs": [
    {
     "data": {
      "text/plain": [
       "101"
      ]
     },
     "execution_count": 45,
     "metadata": {},
     "output_type": "execute_result"
    }
   ],
   "source": [
    "#a = len(servidores_gabinetes_julho['lotacao'].value_counts())\n",
    "#a\n",
    "servidores_gabinetes_julho['lotacao'].nunique()"
   ]
  },
  {
   "cell_type": "markdown",
   "metadata": {},
   "source": [
    "Soma dos gastos com servidores"
   ]
  },
  {
   "cell_type": "code",
   "execution_count": 46,
   "metadata": {},
   "outputs": [
    {
     "data": {
      "text/plain": [
       "'$18,825,139.33'"
      ]
     },
     "execution_count": 46,
     "metadata": {},
     "output_type": "execute_result"
    }
   ],
   "source": [
    "\"${:,.2f}\".format(servidores_gabinetes_julho.remuneracao_bruta.sum())\n",
    "#servidores_gabinetes_julho['remuneracao_bruta'].sum()"
   ]
  },
  {
   "cell_type": "markdown",
   "metadata": {},
   "source": [
    "Média"
   ]
  },
  {
   "cell_type": "code",
   "execution_count": 47,
   "metadata": {},
   "outputs": [
    {
     "data": {
      "text/plain": [
       "8419.114190518783"
      ]
     },
     "execution_count": 47,
     "metadata": {},
     "output_type": "execute_result"
    }
   ],
   "source": [
    "servidores_gabinetes_julho['remuneracao_bruta'].mean()"
   ]
  },
  {
   "cell_type": "markdown",
   "metadata": {},
   "source": [
    "Mediana"
   ]
  },
  {
   "cell_type": "code",
   "execution_count": 34,
   "metadata": {},
   "outputs": [
    {
     "data": {
      "text/plain": [
       "'$6,530'"
      ]
     },
     "execution_count": 34,
     "metadata": {},
     "output_type": "execute_result"
    }
   ],
   "source": [
    "\"${:,.0f}\".format(servidores_gabinetes_julho.remuneracao_bruta.median())"
   ]
  },
  {
   "cell_type": "code",
   "execution_count": null,
   "metadata": {},
   "outputs": [],
   "source": []
  },
  {
   "cell_type": "markdown",
   "metadata": {},
   "source": [
    "Gastos com servidores por gabinete - sem contar homônimos"
   ]
  },
  {
   "cell_type": "code",
   "execution_count": 35,
   "metadata": {},
   "outputs": [
    {
     "data": {
      "text/html": [
       "<div>\n",
       "<style scoped>\n",
       "    .dataframe tbody tr th:only-of-type {\n",
       "        vertical-align: middle;\n",
       "    }\n",
       "\n",
       "    .dataframe tbody tr th {\n",
       "        vertical-align: top;\n",
       "    }\n",
       "\n",
       "    .dataframe thead th {\n",
       "        text-align: right;\n",
       "    }\n",
       "</style>\n",
       "<table border=\"1\" class=\"dataframe\">\n",
       "  <thead>\n",
       "    <tr style=\"text-align: right;\">\n",
       "      <th></th>\n",
       "      <th>lotacao</th>\n",
       "      <th>remuneracao_liquida</th>\n",
       "    </tr>\n",
       "  </thead>\n",
       "  <tbody>\n",
       "    <tr>\n",
       "      <th>8</th>\n",
       "      <td>GABINETE DEP. ALDO DEMARCHI</td>\n",
       "      <td>223,293.18</td>\n",
       "    </tr>\n",
       "    <tr>\n",
       "      <th>43</th>\n",
       "      <td>GABINETE DEP. FERNANDO CAPEZ</td>\n",
       "      <td>200,979.43</td>\n",
       "    </tr>\n",
       "    <tr>\n",
       "      <th>10</th>\n",
       "      <td>GABINETE DEP. ANA DO CARMO</td>\n",
       "      <td>198,855.39</td>\n",
       "    </tr>\n",
       "    <tr>\n",
       "      <th>62</th>\n",
       "      <td>GABINETE DEP. LUIZ TURCO</td>\n",
       "      <td>194,680.31</td>\n",
       "    </tr>\n",
       "    <tr>\n",
       "      <th>90</th>\n",
       "      <td>GABINETE DEP. ROGÉRIO NOGUEIRA</td>\n",
       "      <td>183,070.67</td>\n",
       "    </tr>\n",
       "    <tr>\n",
       "      <th>38</th>\n",
       "      <td>GABINETE DEP. EDMIR CHEDID</td>\n",
       "      <td>182,801.44</td>\n",
       "    </tr>\n",
       "    <tr>\n",
       "      <th>89</th>\n",
       "      <td>GABINETE DEP. RODRIGO MORAES</td>\n",
       "      <td>179,932.84</td>\n",
       "    </tr>\n",
       "    <tr>\n",
       "      <th>60</th>\n",
       "      <td>GABINETE DEP. LUIZ CARLOS GONDIM</td>\n",
       "      <td>176,779.53</td>\n",
       "    </tr>\n",
       "    <tr>\n",
       "      <th>93</th>\n",
       "      <td>GABINETE DEP. TEONILIO BARBA</td>\n",
       "      <td>174,406.65</td>\n",
       "    </tr>\n",
       "    <tr>\n",
       "      <th>41</th>\n",
       "      <td>GABINETE DEP. ESTEVAM GALVÃO</td>\n",
       "      <td>173,397.34</td>\n",
       "    </tr>\n",
       "    <tr>\n",
       "      <th>7</th>\n",
       "      <td>GABINETE DEP. AFONSO LOBATO</td>\n",
       "      <td>173,207.02</td>\n",
       "    </tr>\n",
       "    <tr>\n",
       "      <th>86</th>\n",
       "      <td>GABINETE DEP. ROBERTO MASSAFERA</td>\n",
       "      <td>171,875.58</td>\n",
       "    </tr>\n",
       "    <tr>\n",
       "      <th>54</th>\n",
       "      <td>GABINETE DEP. JORGE CARUSO</td>\n",
       "      <td>171,147.76</td>\n",
       "    </tr>\n",
       "    <tr>\n",
       "      <th>78</th>\n",
       "      <td>GABINETE DEP. PROFESSOR AURIEL</td>\n",
       "      <td>169,566.81</td>\n",
       "    </tr>\n",
       "    <tr>\n",
       "      <th>61</th>\n",
       "      <td>GABINETE DEP. LUIZ FERNANDO T. FERREIRA</td>\n",
       "      <td>169,271.94</td>\n",
       "    </tr>\n",
       "    <tr>\n",
       "      <th>20</th>\n",
       "      <td>GABINETE DEP. CARLOS CEZAR</td>\n",
       "      <td>168,217.66</td>\n",
       "    </tr>\n",
       "    <tr>\n",
       "      <th>79</th>\n",
       "      <td>GABINETE DEP. RAFAEL SILVA</td>\n",
       "      <td>166,772.42</td>\n",
       "    </tr>\n",
       "    <tr>\n",
       "      <th>25</th>\n",
       "      <td>GABINETE DEP. CELINO CARDOSO</td>\n",
       "      <td>164,108.79</td>\n",
       "    </tr>\n",
       "    <tr>\n",
       "      <th>94</th>\n",
       "      <td>GABINETE DEP. VAZ DE LIMA</td>\n",
       "      <td>164,020.23</td>\n",
       "    </tr>\n",
       "    <tr>\n",
       "      <th>87</th>\n",
       "      <td>GABINETE DEP. ROBERTO MORAIS</td>\n",
       "      <td>163,142.53</td>\n",
       "    </tr>\n",
       "    <tr>\n",
       "      <th>40</th>\n",
       "      <td>GABINETE DEP. ENIO TATTO</td>\n",
       "      <td>162,129.92</td>\n",
       "    </tr>\n",
       "    <tr>\n",
       "      <th>96</th>\n",
       "      <td>GABINETE DEP. WELLINGTON MOURA</td>\n",
       "      <td>161,993.10</td>\n",
       "    </tr>\n",
       "    <tr>\n",
       "      <th>9</th>\n",
       "      <td>GABINETE DEP. ALENCAR SANTANA BRAGA</td>\n",
       "      <td>161,513.04</td>\n",
       "    </tr>\n",
       "    <tr>\n",
       "      <th>26</th>\n",
       "      <td>GABINETE DEP. CELSO NASCIMENTO</td>\n",
       "      <td>161,362.44</td>\n",
       "    </tr>\n",
       "    <tr>\n",
       "      <th>16</th>\n",
       "      <td>GABINETE DEP. BETH SAHÃO</td>\n",
       "      <td>161,188.61</td>\n",
       "    </tr>\n",
       "    <tr>\n",
       "      <th>82</th>\n",
       "      <td>GABINETE DEP. REINALDO ALGUZ</td>\n",
       "      <td>161,076.75</td>\n",
       "    </tr>\n",
       "    <tr>\n",
       "      <th>66</th>\n",
       "      <td>GABINETE DEP. MARCOS MARTINS</td>\n",
       "      <td>160,523.15</td>\n",
       "    </tr>\n",
       "    <tr>\n",
       "      <th>69</th>\n",
       "      <td>GABINETE DEP. MARTA COSTA</td>\n",
       "      <td>160,407.12</td>\n",
       "    </tr>\n",
       "    <tr>\n",
       "      <th>45</th>\n",
       "      <td>GABINETE DEP. GERALDO CRUZ</td>\n",
       "      <td>160,382.64</td>\n",
       "    </tr>\n",
       "    <tr>\n",
       "      <th>51</th>\n",
       "      <td>GABINETE DEP. HÉLIO NISHIMOTO</td>\n",
       "      <td>159,942.64</td>\n",
       "    </tr>\n",
       "    <tr>\n",
       "      <th>...</th>\n",
       "      <td>...</td>\n",
       "      <td>...</td>\n",
       "    </tr>\n",
       "    <tr>\n",
       "      <th>48</th>\n",
       "      <td>GABINETE DEP. GILMACI SANTOS</td>\n",
       "      <td>141,794.41</td>\n",
       "    </tr>\n",
       "    <tr>\n",
       "      <th>76</th>\n",
       "      <td>GABINETE DEP. PEDRO KAKÁ</td>\n",
       "      <td>141,477.28</td>\n",
       "    </tr>\n",
       "    <tr>\n",
       "      <th>97</th>\n",
       "      <td>GABINETE DEP. WELSON GASPARINI</td>\n",
       "      <td>140,852.51</td>\n",
       "    </tr>\n",
       "    <tr>\n",
       "      <th>6</th>\n",
       "      <td>GABINETE DEP. ADILSON ROSSI</td>\n",
       "      <td>138,938.80</td>\n",
       "    </tr>\n",
       "    <tr>\n",
       "      <th>73</th>\n",
       "      <td>GABINETE DEP. MÁRCIO CAMARGO</td>\n",
       "      <td>137,682.62</td>\n",
       "    </tr>\n",
       "    <tr>\n",
       "      <th>31</th>\n",
       "      <td>GABINETE DEP. CORONEL TELHADA</td>\n",
       "      <td>137,672.19</td>\n",
       "    </tr>\n",
       "    <tr>\n",
       "      <th>12</th>\n",
       "      <td>GABINETE DEP. ANDRÉ DO PRADO</td>\n",
       "      <td>134,312.49</td>\n",
       "    </tr>\n",
       "    <tr>\n",
       "      <th>32</th>\n",
       "      <td>GABINETE DEP. CÁSSIO NAVARRO</td>\n",
       "      <td>132,152.89</td>\n",
       "    </tr>\n",
       "    <tr>\n",
       "      <th>13</th>\n",
       "      <td>GABINETE DEP. ANDRÉ SOARES</td>\n",
       "      <td>130,590.07</td>\n",
       "    </tr>\n",
       "    <tr>\n",
       "      <th>44</th>\n",
       "      <td>GABINETE DEP. FERNANDO CURY</td>\n",
       "      <td>130,535.00</td>\n",
       "    </tr>\n",
       "    <tr>\n",
       "      <th>63</th>\n",
       "      <td>GABINETE DEP. LÉO OLIVEIRA</td>\n",
       "      <td>130,022.51</td>\n",
       "    </tr>\n",
       "    <tr>\n",
       "      <th>17</th>\n",
       "      <td>GABINETE DEP. CAIO FRANÇA</td>\n",
       "      <td>129,175.85</td>\n",
       "    </tr>\n",
       "    <tr>\n",
       "      <th>55</th>\n",
       "      <td>GABINETE DEP. JORGE WILSON XERIFE DO CONSUMIDOR</td>\n",
       "      <td>128,946.54</td>\n",
       "    </tr>\n",
       "    <tr>\n",
       "      <th>27</th>\n",
       "      <td>GABINETE DEP. CEZINHA DE MADUREIRA</td>\n",
       "      <td>128,397.24</td>\n",
       "    </tr>\n",
       "    <tr>\n",
       "      <th>67</th>\n",
       "      <td>GABINETE DEP. MARCOS ZERBINI</td>\n",
       "      <td>128,167.54</td>\n",
       "    </tr>\n",
       "    <tr>\n",
       "      <th>34</th>\n",
       "      <td>GABINETE DEP. DAVI ZAIA</td>\n",
       "      <td>127,546.75</td>\n",
       "    </tr>\n",
       "    <tr>\n",
       "      <th>42</th>\n",
       "      <td>GABINETE DEP. FELICIANO FILHO</td>\n",
       "      <td>123,703.94</td>\n",
       "    </tr>\n",
       "    <tr>\n",
       "      <th>81</th>\n",
       "      <td>GABINETE DEP. RAUL MARCELO</td>\n",
       "      <td>121,914.52</td>\n",
       "    </tr>\n",
       "    <tr>\n",
       "      <th>19</th>\n",
       "      <td>GABINETE DEP. CARLOS BEZERRA JR.</td>\n",
       "      <td>118,023.54</td>\n",
       "    </tr>\n",
       "    <tr>\n",
       "      <th>49</th>\n",
       "      <td>GABINETE DEP. GILMAR GIMENES</td>\n",
       "      <td>115,800.07</td>\n",
       "    </tr>\n",
       "    <tr>\n",
       "      <th>50</th>\n",
       "      <td>GABINETE DEP. GUSTAVO PETTA</td>\n",
       "      <td>113,230.73</td>\n",
       "    </tr>\n",
       "    <tr>\n",
       "      <th>91</th>\n",
       "      <td>GABINETE DEP. ROQUE BARBIERE</td>\n",
       "      <td>108,555.59</td>\n",
       "    </tr>\n",
       "    <tr>\n",
       "      <th>46</th>\n",
       "      <td>GABINETE DEP. GIL LANCASTER</td>\n",
       "      <td>103,278.89</td>\n",
       "    </tr>\n",
       "    <tr>\n",
       "      <th>98</th>\n",
       "      <td>GABINETE DO EX-1º SECRETÁRIO</td>\n",
       "      <td>55,718.69</td>\n",
       "    </tr>\n",
       "    <tr>\n",
       "      <th>99</th>\n",
       "      <td>GABINETE DO EX-2º SECRETÁRIO</td>\n",
       "      <td>23,282.94</td>\n",
       "    </tr>\n",
       "    <tr>\n",
       "      <th>4</th>\n",
       "      <td>GABINETE 86</td>\n",
       "      <td>11,813.22</td>\n",
       "    </tr>\n",
       "    <tr>\n",
       "      <th>100</th>\n",
       "      <td>GABINETE DO EX-PRESIDENTE</td>\n",
       "      <td>11,015.97</td>\n",
       "    </tr>\n",
       "    <tr>\n",
       "      <th>1</th>\n",
       "      <td>GABINETE 5</td>\n",
       "      <td>10,142.42</td>\n",
       "    </tr>\n",
       "    <tr>\n",
       "      <th>3</th>\n",
       "      <td>GABINETE 82</td>\n",
       "      <td>5,950.11</td>\n",
       "    </tr>\n",
       "    <tr>\n",
       "      <th>2</th>\n",
       "      <td>GABINETE 67</td>\n",
       "      <td>2,776.83</td>\n",
       "    </tr>\n",
       "  </tbody>\n",
       "</table>\n",
       "<p>101 rows × 2 columns</p>\n",
       "</div>"
      ],
      "text/plain": [
       "                                             lotacao  remuneracao_liquida\n",
       "8                        GABINETE DEP. ALDO DEMARCHI           223,293.18\n",
       "43                      GABINETE DEP. FERNANDO CAPEZ           200,979.43\n",
       "10                        GABINETE DEP. ANA DO CARMO           198,855.39\n",
       "62                          GABINETE DEP. LUIZ TURCO           194,680.31\n",
       "90                    GABINETE DEP. ROGÉRIO NOGUEIRA           183,070.67\n",
       "38                        GABINETE DEP. EDMIR CHEDID           182,801.44\n",
       "89                      GABINETE DEP. RODRIGO MORAES           179,932.84\n",
       "60                  GABINETE DEP. LUIZ CARLOS GONDIM           176,779.53\n",
       "93                      GABINETE DEP. TEONILIO BARBA           174,406.65\n",
       "41                      GABINETE DEP. ESTEVAM GALVÃO           173,397.34\n",
       "7                        GABINETE DEP. AFONSO LOBATO           173,207.02\n",
       "86                   GABINETE DEP. ROBERTO MASSAFERA           171,875.58\n",
       "54                        GABINETE DEP. JORGE CARUSO           171,147.76\n",
       "78                    GABINETE DEP. PROFESSOR AURIEL           169,566.81\n",
       "61           GABINETE DEP. LUIZ FERNANDO T. FERREIRA           169,271.94\n",
       "20                        GABINETE DEP. CARLOS CEZAR           168,217.66\n",
       "79                        GABINETE DEP. RAFAEL SILVA           166,772.42\n",
       "25                      GABINETE DEP. CELINO CARDOSO           164,108.79\n",
       "94                         GABINETE DEP. VAZ DE LIMA           164,020.23\n",
       "87                      GABINETE DEP. ROBERTO MORAIS           163,142.53\n",
       "40                          GABINETE DEP. ENIO TATTO           162,129.92\n",
       "96                    GABINETE DEP. WELLINGTON MOURA           161,993.10\n",
       "9                GABINETE DEP. ALENCAR SANTANA BRAGA           161,513.04\n",
       "26                    GABINETE DEP. CELSO NASCIMENTO           161,362.44\n",
       "16                          GABINETE DEP. BETH SAHÃO           161,188.61\n",
       "82                      GABINETE DEP. REINALDO ALGUZ           161,076.75\n",
       "66                      GABINETE DEP. MARCOS MARTINS           160,523.15\n",
       "69                         GABINETE DEP. MARTA COSTA           160,407.12\n",
       "45                        GABINETE DEP. GERALDO CRUZ           160,382.64\n",
       "51                     GABINETE DEP. HÉLIO NISHIMOTO           159,942.64\n",
       "..                                               ...                  ...\n",
       "48                      GABINETE DEP. GILMACI SANTOS           141,794.41\n",
       "76                          GABINETE DEP. PEDRO KAKÁ           141,477.28\n",
       "97                    GABINETE DEP. WELSON GASPARINI           140,852.51\n",
       "6                        GABINETE DEP. ADILSON ROSSI           138,938.80\n",
       "73                      GABINETE DEP. MÁRCIO CAMARGO           137,682.62\n",
       "31                     GABINETE DEP. CORONEL TELHADA           137,672.19\n",
       "12                      GABINETE DEP. ANDRÉ DO PRADO           134,312.49\n",
       "32                      GABINETE DEP. CÁSSIO NAVARRO           132,152.89\n",
       "13                        GABINETE DEP. ANDRÉ SOARES           130,590.07\n",
       "44                       GABINETE DEP. FERNANDO CURY           130,535.00\n",
       "63                        GABINETE DEP. LÉO OLIVEIRA           130,022.51\n",
       "17                         GABINETE DEP. CAIO FRANÇA           129,175.85\n",
       "55   GABINETE DEP. JORGE WILSON XERIFE DO CONSUMIDOR           128,946.54\n",
       "27                GABINETE DEP. CEZINHA DE MADUREIRA           128,397.24\n",
       "67                      GABINETE DEP. MARCOS ZERBINI           128,167.54\n",
       "34                           GABINETE DEP. DAVI ZAIA           127,546.75\n",
       "42                     GABINETE DEP. FELICIANO FILHO           123,703.94\n",
       "81                        GABINETE DEP. RAUL MARCELO           121,914.52\n",
       "19                  GABINETE DEP. CARLOS BEZERRA JR.           118,023.54\n",
       "49                      GABINETE DEP. GILMAR GIMENES           115,800.07\n",
       "50                       GABINETE DEP. GUSTAVO PETTA           113,230.73\n",
       "91                      GABINETE DEP. ROQUE BARBIERE           108,555.59\n",
       "46                       GABINETE DEP. GIL LANCASTER           103,278.89\n",
       "98                      GABINETE DO EX-1º SECRETÁRIO            55,718.69\n",
       "99                      GABINETE DO EX-2º SECRETÁRIO            23,282.94\n",
       "4                                        GABINETE 86            11,813.22\n",
       "100                        GABINETE DO EX-PRESIDENTE            11,015.97\n",
       "1                                         GABINETE 5            10,142.42\n",
       "3                                        GABINETE 82             5,950.11\n",
       "2                                        GABINETE 67             2,776.83\n",
       "\n",
       "[101 rows x 2 columns]"
      ]
     },
     "execution_count": 35,
     "metadata": {},
     "output_type": "execute_result"
    }
   ],
   "source": [
    "servidores_gabinetes_julho.groupby(\"lotacao\").remuneracao_liquida.sum().reset_index().sort_values(\"remuneracao_liquida\", ascending=False)"
   ]
  },
  {
   "cell_type": "code",
   "execution_count": 48,
   "metadata": {},
   "outputs": [],
   "source": [
    "servidores_gabinetes_julho.to_excel('resultados/gastos_servidores_julho.xlsx',sheet_name='Sheet1')"
   ]
  },
  {
   "cell_type": "code",
   "execution_count": null,
   "metadata": {},
   "outputs": [],
   "source": []
  },
  {
   "cell_type": "code",
   "execution_count": 49,
   "metadata": {},
   "outputs": [],
   "source": [
    "gasto_total = servidores_gabinetes_julho.groupby(\"lotacao\").remuneracao_liquida.sum().reset_index().sort_values(\"remuneracao_liquida\", ascending=False)"
   ]
  },
  {
   "cell_type": "code",
   "execution_count": 50,
   "metadata": {},
   "outputs": [
    {
     "data": {
      "text/plain": [
       "142514.90237623762"
      ]
     },
     "execution_count": 50,
     "metadata": {},
     "output_type": "execute_result"
    }
   ],
   "source": [
    "gasto_total['remuneracao_liquida'].mean()"
   ]
  },
  {
   "cell_type": "code",
   "execution_count": null,
   "metadata": {},
   "outputs": [],
   "source": []
  },
  {
   "cell_type": "markdown",
   "metadata": {},
   "source": [
    "Porcentagens em relação ao total - Gastos com servidores por gabinete - total mensal - sem contar homônimos"
   ]
  },
  {
   "cell_type": "code",
   "execution_count": 51,
   "metadata": {},
   "outputs": [
    {
     "name": "stderr",
     "output_type": "stream",
     "text": [
      "/home/reinaldo/Documentos/Code/volt/alesp/lib/python3.6/site-packages/ipykernel_launcher.py:8: SettingWithCopyWarning: \n",
      "A value is trying to be set on a copy of a slice from a DataFrame\n",
      "\n",
      "See the caveats in the documentation: http://pandas.pydata.org/pandas-docs/stable/indexing.html#indexing-view-versus-copy\n",
      "  \n"
     ]
    },
    {
     "data": {
      "text/html": [
       "<div>\n",
       "<style scoped>\n",
       "    .dataframe tbody tr th:only-of-type {\n",
       "        vertical-align: middle;\n",
       "    }\n",
       "\n",
       "    .dataframe tbody tr th {\n",
       "        vertical-align: top;\n",
       "    }\n",
       "\n",
       "    .dataframe thead th {\n",
       "        text-align: right;\n",
       "    }\n",
       "</style>\n",
       "<table border=\"1\" class=\"dataframe\">\n",
       "  <thead>\n",
       "    <tr style=\"text-align: right;\">\n",
       "      <th></th>\n",
       "      <th>index</th>\n",
       "      <th>lotacao</th>\n",
       "      <th>remuneracao_bruta</th>\n",
       "      <th>porcentagem</th>\n",
       "    </tr>\n",
       "  </thead>\n",
       "  <tbody>\n",
       "    <tr>\n",
       "      <th>0</th>\n",
       "      <td>0</td>\n",
       "      <td>GABINETE DEP. ALDO DEMARCHI</td>\n",
       "      <td>296,176.65</td>\n",
       "      <td>1.57</td>\n",
       "    </tr>\n",
       "    <tr>\n",
       "      <th>1</th>\n",
       "      <td>1</td>\n",
       "      <td>GABINETE DEP. FERNANDO CAPEZ</td>\n",
       "      <td>267,229.72</td>\n",
       "      <td>1.42</td>\n",
       "    </tr>\n",
       "    <tr>\n",
       "      <th>2</th>\n",
       "      <td>2</td>\n",
       "      <td>GABINETE DEP. ANA DO CARMO</td>\n",
       "      <td>258,767.89</td>\n",
       "      <td>1.37</td>\n",
       "    </tr>\n",
       "    <tr>\n",
       "      <th>3</th>\n",
       "      <td>3</td>\n",
       "      <td>GABINETE DEP. LUIZ TURCO</td>\n",
       "      <td>253,377.06</td>\n",
       "      <td>1.35</td>\n",
       "    </tr>\n",
       "    <tr>\n",
       "      <th>4</th>\n",
       "      <td>4</td>\n",
       "      <td>GABINETE DEP. ROGÉRIO NOGUEIRA</td>\n",
       "      <td>247,269.38</td>\n",
       "      <td>1.31</td>\n",
       "    </tr>\n",
       "    <tr>\n",
       "      <th>5</th>\n",
       "      <td>5</td>\n",
       "      <td>GABINETE DEP. EDMIR CHEDID</td>\n",
       "      <td>240,248.31</td>\n",
       "      <td>1.28</td>\n",
       "    </tr>\n",
       "    <tr>\n",
       "      <th>6</th>\n",
       "      <td>6</td>\n",
       "      <td>GABINETE DEP. RODRIGO MORAES</td>\n",
       "      <td>236,039.87</td>\n",
       "      <td>1.25</td>\n",
       "    </tr>\n",
       "    <tr>\n",
       "      <th>7</th>\n",
       "      <td>7</td>\n",
       "      <td>GABINETE DEP. LUIZ CARLOS GONDIM</td>\n",
       "      <td>233,583.00</td>\n",
       "      <td>1.24</td>\n",
       "    </tr>\n",
       "    <tr>\n",
       "      <th>8</th>\n",
       "      <td>8</td>\n",
       "      <td>GABINETE DEP. AFONSO LOBATO</td>\n",
       "      <td>226,592.05</td>\n",
       "      <td>1.20</td>\n",
       "    </tr>\n",
       "    <tr>\n",
       "      <th>9</th>\n",
       "      <td>9</td>\n",
       "      <td>GABINETE DEP. ESTEVAM GALVÃO</td>\n",
       "      <td>226,318.11</td>\n",
       "      <td>1.20</td>\n",
       "    </tr>\n",
       "  </tbody>\n",
       "</table>\n",
       "</div>"
      ],
      "text/plain": [
       "   index                           lotacao  remuneracao_bruta porcentagem\n",
       "0      0       GABINETE DEP. ALDO DEMARCHI         296,176.65        1.57\n",
       "1      1      GABINETE DEP. FERNANDO CAPEZ         267,229.72        1.42\n",
       "2      2        GABINETE DEP. ANA DO CARMO         258,767.89        1.37\n",
       "3      3          GABINETE DEP. LUIZ TURCO         253,377.06        1.35\n",
       "4      4    GABINETE DEP. ROGÉRIO NOGUEIRA         247,269.38        1.31\n",
       "5      5        GABINETE DEP. EDMIR CHEDID         240,248.31        1.28\n",
       "6      6      GABINETE DEP. RODRIGO MORAES         236,039.87        1.25\n",
       "7      7  GABINETE DEP. LUIZ CARLOS GONDIM         233,583.00        1.24\n",
       "8      8       GABINETE DEP. AFONSO LOBATO         226,592.05        1.20\n",
       "9      9      GABINETE DEP. ESTEVAM GALVÃO         226,318.11        1.20"
      ]
     },
     "execution_count": 51,
     "metadata": {},
     "output_type": "execute_result"
    }
   ],
   "source": [
    "# Agrupamento dos gastos por categoria\n",
    "df_gabinete = servidores_gabinetes_julho.groupby(['lotacao']).agg({'remuneracao_bruta': sum})\\\n",
    "                                .sort_values('remuneracao_bruta', ascending = False)\\\n",
    "                                .reset_index().copy()\n",
    "\n",
    "# Cálculo de porcentagem de cada categoria no total de gastos\n",
    "df_gabinete['porcentagem'] = (df_gabinete['remuneracao_bruta'] / df_gabinete['remuneracao_bruta'].sum()) * 100\n",
    "\n",
    "# Formatação de números para duas casas decimais\n",
    "df_gabinete['remuneracao_bruta']['remuneracao_bruta'] = df_gabinete['remuneracao_bruta'].map('{:,.2f}'.format)\n",
    "df_gabinete['porcentagem'] = df_gabinete['porcentagem'].map('{:,.2f}'.format)\n",
    "\n",
    "# Resultado\n",
    "df_gabinete.reset_index().head(10)"
   ]
  },
  {
   "cell_type": "code",
   "execution_count": 52,
   "metadata": {},
   "outputs": [],
   "source": [
    "df_gabinete.to_excel('resultados/maiores_gastos_comservidores_gabinetes.xlsx',sheet_name='Sheet1')"
   ]
  },
  {
   "cell_type": "code",
   "execution_count": null,
   "metadata": {},
   "outputs": [],
   "source": []
  },
  {
   "cell_type": "markdown",
   "metadata": {},
   "source": [
    "Quantidade de servidores por gabinete - sem contar homônimos"
   ]
  },
  {
   "cell_type": "code",
   "execution_count": 41,
   "metadata": {},
   "outputs": [
    {
     "data": {
      "text/plain": [
       "lotacao\n",
       "GABINETE DEP. LUIZ TURCO                   33\n",
       "GABINETE DEP. ANA DO CARMO                 32\n",
       "GABINETE DEP. TEONILIO BARBA               31\n",
       "GABINETE DEP. PROFESSOR AURIEL             30\n",
       "GABINETE DEP. GILENO GOMES                 30\n",
       "GABINETE DEP. ENIO TATTO                   30\n",
       "GABINETE DEP. LUIZ FERNANDO T. FERREIRA    29\n",
       "GABINETE DEP. ALENCAR SANTANA BRAGA        29\n",
       "GABINETE DEP. ANALICE FERNANDES            29\n",
       "GABINETE DEP. GERALDO CRUZ                 29\n",
       "GABINETE DEP. CORONEL CAMILO               29\n",
       "GABINETE DEP. CARLOS NEDER                 29\n",
       "GABINETE DEP. JORGE CARUSO                 28\n",
       "GABINETE DEP. CAUÊ MACRIS                  28\n",
       "GABINETE DEP. MARCOS DAMASIO               28\n",
       "GABINETE 48                                28\n",
       "GABINETE DEP. JOSÉ ZICO PRADO              27\n",
       "GABINETE DEP. LUIZ CARLOS GONDIM           27\n",
       "GABINETE DEP. CAIO FRANÇA                  27\n",
       "GABINETE DEP. REINALDO ALGUZ               27\n",
       "GABINETE DEP. RODRIGO MORAES               27\n",
       "GABINETE DEP. ADILSON ROSSI                27\n",
       "GABINETE DEP. SEBASTIÃO SANTOS             27\n",
       "GABINETE DEP. CÁSSIO NAVARRO               26\n",
       "GABINETE DEP. GILMACI SANTOS               26\n",
       "GABINETE DEP. LECI BRANDÃO                 26\n",
       "GABINETE DEP. ESTEVAM GALVÃO               26\n",
       "GABINETE DEP. MARCO VINHOLI                26\n",
       "GABINETE DEP. JOOJI HATO                   26\n",
       "GABINETE DEP. MARTA COSTA                  26\n",
       "                                           ..\n",
       "GABINETE DEP. VAZ DE LIMA                  20\n",
       "GABINETE DEP. ANDRÉ DO PRADO               20\n",
       "GABINETE DEP. LÉO OLIVEIRA                 20\n",
       "GABINETE DEP. FERNANDO CURY                19\n",
       "GABINETE DEP. CORONEL TELHADA              19\n",
       "GABINETE DEP. CHICO SARDELLI               19\n",
       "GABINETE DEP. ROBERTO ENGLER               19\n",
       "GABINETE DEP. RAFAEL SILVA                 19\n",
       "GABINETE DEP. ROBERTO TRIPOLI              19\n",
       "GABINETE DEP. ANDRÉ SOARES                 19\n",
       "GABINETE DEP. CARLOS BEZERRA JR.           19\n",
       "GABINETE DEP. ROGÉRIO NOGUEIRA             19\n",
       "GABINETE DEP. PAULO CORREA JR              19\n",
       "GABINETE DEP. GUSTAVO PETTA                18\n",
       "GABINETE DEP. CAMPOS MACHADO               18\n",
       "GABINETE DEP. RAUL MARCELO                 18\n",
       "GABINETE DEP. WELSON GASPARINI             18\n",
       "GABINETE DEP. FELICIANO FILHO              17\n",
       "GABINETE DEP. ORLANDO BOLÇONE              17\n",
       "GABINETE DEP. ROBERTO MORAIS               17\n",
       "GABINETE DEP. CARLOS GIANNAZI              16\n",
       "GABINETE DEP. ANTONIO SALIM CURIATI        15\n",
       "GABINETE DEP. ROQUE BARBIERE               15\n",
       "GABINETE DO EX-1º SECRETÁRIO                6\n",
       "GABINETE DO EX-2º SECRETÁRIO                4\n",
       "GABINETE DO EX-PRESIDENTE                   3\n",
       "GABINETE 86                                 1\n",
       "GABINETE 82                                 1\n",
       "GABINETE 67                                 1\n",
       "GABINETE 5                                  1\n",
       "Name: nome_func, Length: 101, dtype: int64"
      ]
     },
     "execution_count": 41,
     "metadata": {},
     "output_type": "execute_result"
    }
   ],
   "source": [
    "servidores_gabinetes_julho.groupby(\"lotacao\").nome_func.count().sort_values(ascending=False)"
   ]
  },
  {
   "cell_type": "code",
   "execution_count": null,
   "metadata": {},
   "outputs": [],
   "source": []
  },
  {
   "cell_type": "markdown",
   "metadata": {},
   "source": [
    "Servidores com maiores remunerações"
   ]
  },
  {
   "cell_type": "code",
   "execution_count": 42,
   "metadata": {},
   "outputs": [
    {
     "data": {
      "text/html": [
       "<div>\n",
       "<style scoped>\n",
       "    .dataframe tbody tr th:only-of-type {\n",
       "        vertical-align: middle;\n",
       "    }\n",
       "\n",
       "    .dataframe tbody tr th {\n",
       "        vertical-align: top;\n",
       "    }\n",
       "\n",
       "    .dataframe thead th {\n",
       "        text-align: right;\n",
       "    }\n",
       "</style>\n",
       "<table border=\"1\" class=\"dataframe\">\n",
       "  <thead>\n",
       "    <tr style=\"text-align: right;\">\n",
       "      <th></th>\n",
       "      <th>nome_func</th>\n",
       "      <th>remuneracao_bruta</th>\n",
       "    </tr>\n",
       "  </thead>\n",
       "  <tbody>\n",
       "    <tr>\n",
       "      <th>1467</th>\n",
       "      <td>MARIA APARECIDA JANUARIO</td>\n",
       "      <td>25,322.25</td>\n",
       "    </tr>\n",
       "    <tr>\n",
       "      <th>198</th>\n",
       "      <td>ANTONIO CARLOS DIAS PEREIRA FILHO</td>\n",
       "      <td>25,322.25</td>\n",
       "    </tr>\n",
       "    <tr>\n",
       "      <th>1468</th>\n",
       "      <td>MARIA BETANIA DE AQUINO MORAES</td>\n",
       "      <td>25,322.25</td>\n",
       "    </tr>\n",
       "    <tr>\n",
       "      <th>1511</th>\n",
       "      <td>MARIA TERESA DOS SANTOS SIQUEIRA</td>\n",
       "      <td>25,322.25</td>\n",
       "    </tr>\n",
       "    <tr>\n",
       "      <th>1293</th>\n",
       "      <td>LUIS EDUARDO LACERDA</td>\n",
       "      <td>25,322.25</td>\n",
       "    </tr>\n",
       "    <tr>\n",
       "      <th>154</th>\n",
       "      <td>ANDRE LUIS CHUFULI AMOROSO</td>\n",
       "      <td>25,322.25</td>\n",
       "    </tr>\n",
       "    <tr>\n",
       "      <th>1120</th>\n",
       "      <td>JOSE LUIZ ALVES</td>\n",
       "      <td>25,322.25</td>\n",
       "    </tr>\n",
       "    <tr>\n",
       "      <th>1092</th>\n",
       "      <td>JOSE CAVALLI JUNIOR</td>\n",
       "      <td>25,322.25</td>\n",
       "    </tr>\n",
       "    <tr>\n",
       "      <th>1382</th>\n",
       "      <td>MARCELO SOUZA SERPA</td>\n",
       "      <td>25,322.25</td>\n",
       "    </tr>\n",
       "    <tr>\n",
       "      <th>695</th>\n",
       "      <td>EVALDO PEREIRA DA SILVA</td>\n",
       "      <td>25,322.25</td>\n",
       "    </tr>\n",
       "  </tbody>\n",
       "</table>\n",
       "</div>"
      ],
      "text/plain": [
       "                              nome_func  remuneracao_bruta\n",
       "1467           MARIA APARECIDA JANUARIO          25,322.25\n",
       "198   ANTONIO CARLOS DIAS PEREIRA FILHO          25,322.25\n",
       "1468     MARIA BETANIA DE AQUINO MORAES          25,322.25\n",
       "1511   MARIA TERESA DOS SANTOS SIQUEIRA          25,322.25\n",
       "1293               LUIS EDUARDO LACERDA          25,322.25\n",
       "154          ANDRE LUIS CHUFULI AMOROSO          25,322.25\n",
       "1120                    JOSE LUIZ ALVES          25,322.25\n",
       "1092                JOSE CAVALLI JUNIOR          25,322.25\n",
       "1382                MARCELO SOUZA SERPA          25,322.25\n",
       "695             EVALDO PEREIRA DA SILVA          25,322.25"
      ]
     },
     "execution_count": 42,
     "metadata": {},
     "output_type": "execute_result"
    }
   ],
   "source": [
    "servidores_gabinetes_julho.groupby(\"nome_func\").remuneracao_bruta.sum().reset_index().sort_values(\"remuneracao_bruta\", ascending=False).head(10)"
   ]
  },
  {
   "cell_type": "markdown",
   "metadata": {},
   "source": [
    "Mostra o gabinete relacionado de um servidor"
   ]
  },
  {
   "cell_type": "code",
   "execution_count": 43,
   "metadata": {},
   "outputs": [
    {
     "data": {
      "text/html": [
       "<div>\n",
       "<style scoped>\n",
       "    .dataframe tbody tr th:only-of-type {\n",
       "        vertical-align: middle;\n",
       "    }\n",
       "\n",
       "    .dataframe tbody tr th {\n",
       "        vertical-align: top;\n",
       "    }\n",
       "\n",
       "    .dataframe thead th {\n",
       "        text-align: right;\n",
       "    }\n",
       "</style>\n",
       "<table border=\"1\" class=\"dataframe\">\n",
       "  <thead>\n",
       "    <tr style=\"text-align: right;\">\n",
       "      <th></th>\n",
       "      <th>ano</th>\n",
       "      <th>mes</th>\n",
       "      <th>nome_func</th>\n",
       "      <th>remuneracao_bruta</th>\n",
       "      <th>remuneracao_liquida</th>\n",
       "      <th>tributos</th>\n",
       "      <th>lotacao</th>\n",
       "      <th>tipo_cargo1</th>\n",
       "      <th>tipo_cargo2</th>\n",
       "    </tr>\n",
       "  </thead>\n",
       "  <tbody>\n",
       "    <tr>\n",
       "      <th>1293</th>\n",
       "      <td>2018</td>\n",
       "      <td>07</td>\n",
       "      <td>LUIS EDUARDO LACERDA</td>\n",
       "      <td>25,322.25</td>\n",
       "      <td>18,559.57</td>\n",
       "      <td>6.762,68</td>\n",
       "      <td>GABINETE DEP. ROBERTO MASSAFERA</td>\n",
       "      <td>ASSISTENTE TÉCNICO PARLAMENTAR\\n\\t\\t\\t\\t\\t\\t\\t...</td>\n",
       "      <td>COMISSÃO</td>\n",
       "    </tr>\n",
       "  </tbody>\n",
       "</table>\n",
       "</div>"
      ],
      "text/plain": [
       "       ano mes             nome_func  remuneracao_bruta  remuneracao_liquida  \\\n",
       "1293  2018  07  LUIS EDUARDO LACERDA          25,322.25            18,559.57   \n",
       "\n",
       "      tributos                          lotacao  \\\n",
       "1293  6.762,68  GABINETE DEP. ROBERTO MASSAFERA   \n",
       "\n",
       "                                            tipo_cargo1 tipo_cargo2  \n",
       "1293  ASSISTENTE TÉCNICO PARLAMENTAR\\n\\t\\t\\t\\t\\t\\t\\t...    COMISSÃO  "
      ]
     },
     "execution_count": 43,
     "metadata": {},
     "output_type": "execute_result"
    }
   ],
   "source": [
    "nome = servidores_gabinetes_julho[(servidores_gabinetes_julho['nome_func'] == 'LUIS EDUARDO LACERDA')].copy()\n",
    "nome"
   ]
  },
  {
   "cell_type": "code",
   "execution_count": null,
   "metadata": {},
   "outputs": [],
   "source": []
  },
  {
   "cell_type": "code",
   "execution_count": null,
   "metadata": {},
   "outputs": [],
   "source": []
  }
 ],
 "metadata": {
  "kernelspec": {
   "display_name": "Python 3",
   "language": "python",
   "name": "python3"
  },
  "language_info": {
   "codemirror_mode": {
    "name": "ipython",
    "version": 3
   },
   "file_extension": ".py",
   "mimetype": "text/x-python",
   "name": "python",
   "nbconvert_exporter": "python",
   "pygments_lexer": "ipython3",
   "version": "3.6.2"
  }
 },
 "nbformat": 4,
 "nbformat_minor": 2
}
