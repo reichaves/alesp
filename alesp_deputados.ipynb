{
 "cells": [
  {
   "cell_type": "code",
   "execution_count": 9,
   "metadata": {},
   "outputs": [],
   "source": [
    "import json\n",
    "import xmltodict\n",
    "import pandas as pd"
   ]
  },
  {
   "cell_type": "code",
   "execution_count": null,
   "metadata": {},
   "outputs": [],
   "source": []
  },
  {
   "cell_type": "markdown",
   "metadata": {},
   "source": [
    "Informações sobre deputados da atual legislatura - só tem de 94"
   ]
  },
  {
   "cell_type": "markdown",
   "metadata": {},
   "source": [
    "Fonte: https://www.al.sp.gov.br/dados-abertos/dataset/41"
   ]
  },
  {
   "cell_type": "code",
   "execution_count": 2,
   "metadata": {},
   "outputs": [],
   "source": [
    "with open(\"dados/deputados/deputados_julho_2018.xml\", 'r') as f:\n",
    "    xmlString = f.read()\n",
    "\n",
    "jsonString = json.dumps(xmltodict.parse(xmlString), indent=4)\n",
    "\n",
    "with open(\"output.json\", 'w') as f:\n",
    "    f.write(jsonString)"
   ]
  },
  {
   "cell_type": "code",
   "execution_count": 3,
   "metadata": {},
   "outputs": [],
   "source": [
    "arquivo_json = open('output.json', 'r')\n",
    "dados_json = json.load(arquivo_json)\n",
    "#dados_json"
   ]
  },
  {
   "cell_type": "code",
   "execution_count": 4,
   "metadata": {},
   "outputs": [],
   "source": [
    "lista = dados_json['Deputados']['Deputado']"
   ]
  },
  {
   "cell_type": "code",
   "execution_count": 5,
   "metadata": {},
   "outputs": [],
   "source": [
    "# lista"
   ]
  },
  {
   "cell_type": "code",
   "execution_count": 6,
   "metadata": {},
   "outputs": [],
   "source": [
    "df_deputados = pd.DataFrame(lista, columns = ['Andar', 'Aniversario', 'Biografia', 'Email', 'HomePage', 'IdDeputado', 'IdSPL', 'IdUA', 'Matricula', 'NomeParlamentar', 'Partido', 'PathFoto', 'PlacaVeiculo', 'Sala', 'Situacao', 'Telefone' ])"
   ]
  },
  {
   "cell_type": "code",
   "execution_count": 7,
   "metadata": {},
   "outputs": [
    {
     "name": "stdout",
     "output_type": "stream",
     "text": [
      "<class 'pandas.core.frame.DataFrame'>\n",
      "RangeIndex: 94 entries, 0 to 93\n",
      "Data columns (total 16 columns):\n",
      "Andar              94 non-null object\n",
      "Aniversario        94 non-null object\n",
      "Biografia          94 non-null object\n",
      "Email              93 non-null object\n",
      "HomePage           10 non-null object\n",
      "IdDeputado         94 non-null object\n",
      "IdSPL              94 non-null object\n",
      "IdUA               94 non-null object\n",
      "Matricula          94 non-null object\n",
      "NomeParlamentar    94 non-null object\n",
      "Partido            94 non-null object\n",
      "PathFoto           94 non-null object\n",
      "PlacaVeiculo       90 non-null object\n",
      "Sala               94 non-null object\n",
      "Situacao           94 non-null object\n",
      "Telefone           94 non-null object\n",
      "dtypes: object(16)\n",
      "memory usage: 11.8+ KB\n"
     ]
    }
   ],
   "source": [
    "df_deputados.info()"
   ]
  },
  {
   "cell_type": "code",
   "execution_count": 8,
   "metadata": {},
   "outputs": [
    {
     "data": {
      "text/html": [
       "<div>\n",
       "<style scoped>\n",
       "    .dataframe tbody tr th:only-of-type {\n",
       "        vertical-align: middle;\n",
       "    }\n",
       "\n",
       "    .dataframe tbody tr th {\n",
       "        vertical-align: top;\n",
       "    }\n",
       "\n",
       "    .dataframe thead th {\n",
       "        text-align: right;\n",
       "    }\n",
       "</style>\n",
       "<table border=\"1\" class=\"dataframe\">\n",
       "  <thead>\n",
       "    <tr style=\"text-align: right;\">\n",
       "      <th></th>\n",
       "      <th>index</th>\n",
       "      <th>Andar</th>\n",
       "      <th>Aniversario</th>\n",
       "      <th>Biografia</th>\n",
       "      <th>Email</th>\n",
       "      <th>HomePage</th>\n",
       "      <th>IdDeputado</th>\n",
       "      <th>IdSPL</th>\n",
       "      <th>IdUA</th>\n",
       "      <th>Matricula</th>\n",
       "      <th>NomeParlamentar</th>\n",
       "      <th>Partido</th>\n",
       "      <th>PathFoto</th>\n",
       "      <th>PlacaVeiculo</th>\n",
       "      <th>Sala</th>\n",
       "      <th>Situacao</th>\n",
       "      <th>Telefone</th>\n",
       "    </tr>\n",
       "  </thead>\n",
       "  <tbody>\n",
       "    <tr>\n",
       "      <th>0</th>\n",
       "      <td>0</td>\n",
       "      <td>1º</td>\n",
       "      <td>22/03</td>\n",
       "      <td>&lt;p&gt;Abelardo Camarinha foi l&amp;iacute;der estudan...</td>\n",
       "      <td>dep.abelardocamarinha@al.sp.gov.br</td>\n",
       "      <td>NaN</td>\n",
       "      <td>275</td>\n",
       "      <td>52</td>\n",
       "      <td>20394</td>\n",
       "      <td>300257</td>\n",
       "      <td>Abelardo Camarinha</td>\n",
       "      <td>PSB</td>\n",
       "      <td>http://www3.al.sp.gov.br/repositorio/deputadoP...</td>\n",
       "      <td>AL 86</td>\n",
       "      <td>1110</td>\n",
       "      <td>EXE</td>\n",
       "      <td>3886-6346/6348</td>\n",
       "    </tr>\n",
       "    <tr>\n",
       "      <th>1</th>\n",
       "      <td>1</td>\n",
       "      <td>2º</td>\n",
       "      <td>30/01</td>\n",
       "      <td>&lt;p&gt;Adilson Rossi nasceu em Itatiba. &amp;Eacute; f...</td>\n",
       "      <td>adilsonrossi@al.sp.gov.br</td>\n",
       "      <td>NaN</td>\n",
       "      <td>155</td>\n",
       "      <td>440</td>\n",
       "      <td>20450</td>\n",
       "      <td>300432</td>\n",
       "      <td>Adilson Rossi</td>\n",
       "      <td>PSB</td>\n",
       "      <td>http://www3.al.sp.gov.br/repositorio/deputadoP...</td>\n",
       "      <td>AL 094</td>\n",
       "      <td>2020</td>\n",
       "      <td>EXE</td>\n",
       "      <td>3886-6742/6758</td>\n",
       "    </tr>\n",
       "    <tr>\n",
       "      <th>2</th>\n",
       "      <td>2</td>\n",
       "      <td>3º</td>\n",
       "      <td>28/02</td>\n",
       "      <td>&lt;p style=\"margin: 0cm 0cm 6pt; text-align: jus...</td>\n",
       "      <td>padreafonso@al.sp.gov.br</td>\n",
       "      <td>NaN</td>\n",
       "      <td>36</td>\n",
       "      <td>442</td>\n",
       "      <td>20377</td>\n",
       "      <td>300404</td>\n",
       "      <td>Afonso Lobato</td>\n",
       "      <td>PV</td>\n",
       "      <td>http://www3.al.sp.gov.br/repositorio/deputadoP...</td>\n",
       "      <td>AL 164</td>\n",
       "      <td>3106</td>\n",
       "      <td>EXE</td>\n",
       "      <td>3886-6638/6662</td>\n",
       "    </tr>\n",
       "    <tr>\n",
       "      <th>3</th>\n",
       "      <td>3</td>\n",
       "      <td>2º</td>\n",
       "      <td>04/01</td>\n",
       "      <td>&lt;p&gt;Aldo Demarchi &amp;eacute; administrador de emp...</td>\n",
       "      <td>ademarchi@al.sp.gov.br</td>\n",
       "      <td>NaN</td>\n",
       "      <td>128</td>\n",
       "      <td>39</td>\n",
       "      <td>20369</td>\n",
       "      <td>300288</td>\n",
       "      <td>Aldo Demarchi</td>\n",
       "      <td>DEM</td>\n",
       "      <td>http://www3.al.sp.gov.br/repositorio/deputadoP...</td>\n",
       "      <td>AL 146</td>\n",
       "      <td>2006</td>\n",
       "      <td>EXE</td>\n",
       "      <td>3886-6453/6454</td>\n",
       "    </tr>\n",
       "    <tr>\n",
       "      <th>4</th>\n",
       "      <td>4</td>\n",
       "      <td>3º</td>\n",
       "      <td>14/03</td>\n",
       "      <td>&lt;p&gt;Alencar Santana &amp;eacute; advogado, formado ...</td>\n",
       "      <td>alencarsantana@al.sp.gov.br</td>\n",
       "      <td>NaN</td>\n",
       "      <td>122</td>\n",
       "      <td>12386</td>\n",
       "      <td>20399</td>\n",
       "      <td>300496</td>\n",
       "      <td>Alencar Santana</td>\n",
       "      <td>PT</td>\n",
       "      <td>http://www3.al.sp.gov.br/repositorio/deputadoP...</td>\n",
       "      <td>AL 018</td>\n",
       "      <td>3035</td>\n",
       "      <td>EXE</td>\n",
       "      <td>3886-6848/6854</td>\n",
       "    </tr>\n",
       "  </tbody>\n",
       "</table>\n",
       "</div>"
      ],
      "text/plain": [
       "   index Andar Aniversario                                          Biografia  \\\n",
       "0      0    1º       22/03  <p>Abelardo Camarinha foi l&iacute;der estudan...   \n",
       "1      1    2º       30/01  <p>Adilson Rossi nasceu em Itatiba. &Eacute; f...   \n",
       "2      2    3º       28/02  <p style=\"margin: 0cm 0cm 6pt; text-align: jus...   \n",
       "3      3    2º       04/01  <p>Aldo Demarchi &eacute; administrador de emp...   \n",
       "4      4    3º       14/03  <p>Alencar Santana &eacute; advogado, formado ...   \n",
       "\n",
       "                                Email HomePage IdDeputado  IdSPL   IdUA  \\\n",
       "0  dep.abelardocamarinha@al.sp.gov.br      NaN        275     52  20394   \n",
       "1           adilsonrossi@al.sp.gov.br      NaN        155    440  20450   \n",
       "2            padreafonso@al.sp.gov.br      NaN         36    442  20377   \n",
       "3              ademarchi@al.sp.gov.br      NaN        128     39  20369   \n",
       "4         alencarsantana@al.sp.gov.br      NaN        122  12386  20399   \n",
       "\n",
       "  Matricula     NomeParlamentar Partido  \\\n",
       "0    300257  Abelardo Camarinha     PSB   \n",
       "1    300432       Adilson Rossi     PSB   \n",
       "2    300404       Afonso Lobato      PV   \n",
       "3    300288       Aldo Demarchi     DEM   \n",
       "4    300496     Alencar Santana      PT   \n",
       "\n",
       "                                            PathFoto PlacaVeiculo  Sala  \\\n",
       "0  http://www3.al.sp.gov.br/repositorio/deputadoP...        AL 86  1110   \n",
       "1  http://www3.al.sp.gov.br/repositorio/deputadoP...       AL 094  2020   \n",
       "2  http://www3.al.sp.gov.br/repositorio/deputadoP...       AL 164  3106   \n",
       "3  http://www3.al.sp.gov.br/repositorio/deputadoP...       AL 146  2006   \n",
       "4  http://www3.al.sp.gov.br/repositorio/deputadoP...       AL 018  3035   \n",
       "\n",
       "  Situacao        Telefone  \n",
       "0      EXE  3886-6346/6348  \n",
       "1      EXE  3886-6742/6758  \n",
       "2      EXE  3886-6638/6662  \n",
       "3      EXE  3886-6453/6454  \n",
       "4      EXE  3886-6848/6854  "
      ]
     },
     "execution_count": 8,
     "metadata": {},
     "output_type": "execute_result"
    }
   ],
   "source": [
    "df_deputados.reset_index().head()"
   ]
  },
  {
   "cell_type": "code",
   "execution_count": null,
   "metadata": {},
   "outputs": [],
   "source": []
  }
 ],
 "metadata": {
  "kernelspec": {
   "display_name": "Python 3",
   "language": "python",
   "name": "python3"
  },
  "language_info": {
   "codemirror_mode": {
    "name": "ipython",
    "version": 3
   },
   "file_extension": ".py",
   "mimetype": "text/x-python",
   "name": "python",
   "nbconvert_exporter": "python",
   "pygments_lexer": "ipython3",
   "version": "3.6.2"
  }
 },
 "nbformat": 4,
 "nbformat_minor": 2
}
