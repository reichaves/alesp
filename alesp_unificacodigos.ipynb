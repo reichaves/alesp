{
 "cells": [
  {
   "cell_type": "code",
   "execution_count": 49,
   "metadata": {},
   "outputs": [],
   "source": [
    "import json\n",
    "import xmltodict\n",
    "import pandas as pd\n",
    "import unidecode"
   ]
  },
  {
   "cell_type": "code",
   "execution_count": null,
   "metadata": {},
   "outputs": [],
   "source": []
  },
  {
   "cell_type": "code",
   "execution_count": 50,
   "metadata": {},
   "outputs": [],
   "source": [
    "# Função para retirar acentuação \n",
    "def f(str):\n",
    "    return (unidecode.unidecode(str))"
   ]
  },
  {
   "cell_type": "code",
   "execution_count": null,
   "metadata": {},
   "outputs": [],
   "source": []
  },
  {
   "cell_type": "markdown",
   "metadata": {},
   "source": [
    "### A intenção é estudar 136 deputados estaduais. O corte são deputados com despesas de gabinete, ou seja, os 94 eleitos em 2014 e os 42 restantes, que podem ser suplentes que assumiram o cargo em algum período e usaram a verba de gabinete ou nomes da legislatura passada que registram gastos em 2015 e precisarão ser excluídos"
   ]
  },
  {
   "cell_type": "markdown",
   "metadata": {},
   "source": [
    "### O problema é que o código único que identifica os deputados tem nomes diferentes nas bases de dados abertos (IdMembro, IdAutor etc.)"
   ]
  },
  {
   "cell_type": "markdown",
   "metadata": {},
   "source": [
    "### Ou nem existe na base de despesas"
   ]
  },
  {
   "cell_type": "markdown",
   "metadata": {},
   "source": [
    "### A solução encontrada foi criar uma base única com os nomes de deputados que usaram a cota parlamentar na atual legislatura. No final sobrarão 120 nomes"
   ]
  },
  {
   "cell_type": "code",
   "execution_count": null,
   "metadata": {},
   "outputs": [],
   "source": []
  },
  {
   "cell_type": "markdown",
   "metadata": {},
   "source": [
    "### Carrega arquivo gerado em alesp_despesas"
   ]
  },
  {
   "cell_type": "code",
   "execution_count": 61,
   "metadata": {},
   "outputs": [],
   "source": [
    "nomes_deputados_atual_legislatura = pd.read_csv('resultados/nomes_deputados_atual_legislatura.csv')"
   ]
  },
  {
   "cell_type": "code",
   "execution_count": 62,
   "metadata": {},
   "outputs": [],
   "source": [
    "nomes_deputados_atual_legislatura[\"Deputado\"] = nomes_deputados_atual_legislatura[\"Deputado\"].apply(f)"
   ]
  },
  {
   "cell_type": "code",
   "execution_count": 63,
   "metadata": {},
   "outputs": [
    {
     "name": "stdout",
     "output_type": "stream",
     "text": [
      "<class 'pandas.core.frame.DataFrame'>\n",
      "RangeIndex: 136 entries, 0 to 135\n",
      "Data columns (total 1 columns):\n",
      "Deputado    136 non-null object\n",
      "dtypes: object(1)\n",
      "memory usage: 1.1+ KB\n"
     ]
    }
   ],
   "source": [
    "nomes_deputados_atual_legislatura.info()"
   ]
  },
  {
   "cell_type": "code",
   "execution_count": null,
   "metadata": {},
   "outputs": [],
   "source": []
  },
  {
   "cell_type": "markdown",
   "metadata": {},
   "source": [
    "### Agora cruzo com a base do TSE para ter só eleitos e suplentes, gerado em alesp_doacoes"
   ]
  },
  {
   "cell_type": "code",
   "execution_count": 64,
   "metadata": {},
   "outputs": [],
   "source": [
    "deputados_queconcorreram_2014_sp = pd.read_csv('resultados/deputados_queconcorreram_2014_sp.csv', converters={'sequencial': lambda x: str(x), 'cpf': lambda x: str(x)})"
   ]
  },
  {
   "cell_type": "code",
   "execution_count": 65,
   "metadata": {},
   "outputs": [],
   "source": [
    "deputados_queconcorreram_2014_sp['nome_urna'] = deputados_queconcorreram_2014_sp['nome_urna'].apply(f)"
   ]
  },
  {
   "cell_type": "markdown",
   "metadata": {},
   "source": [
    "Seleciona só eleitos e suplentes"
   ]
  },
  {
   "cell_type": "markdown",
   "metadata": {},
   "source": [
    "VANESSA DAMO foi incluída abaixo porque perdeu o mandato depois de eleita, apenas em 2016. Na base que o TSE gera ela aparece erroneamente como NÂO ELEITO"
   ]
  },
  {
   "cell_type": "code",
   "execution_count": 66,
   "metadata": {},
   "outputs": [],
   "source": [
    "eleitos_supl = deputados_queconcorreram_2014_sp[(deputados_queconcorreram_2014_sp['situacao'] == 'ELEITO POR QP') |\n",
    "                                           (deputados_queconcorreram_2014_sp['situacao'] == 'ELEITO POR MÉDIA') |\n",
    "                                           (deputados_queconcorreram_2014_sp['situacao'] == 'ELEITO') |\n",
    "                                           (deputados_queconcorreram_2014_sp['situacao'] == 'SUPLENTE') |\n",
    "                                           (deputados_queconcorreram_2014_sp['nome_completo'] == 'VANESSA DAMO OROSCO')]"
   ]
  },
  {
   "cell_type": "code",
   "execution_count": 67,
   "metadata": {},
   "outputs": [
    {
     "name": "stdout",
     "output_type": "stream",
     "text": [
      "<class 'pandas.core.frame.DataFrame'>\n",
      "Int64Index: 1522 entries, 0 to 2126\n",
      "Data columns (total 8 columns):\n",
      "uf                 1522 non-null object\n",
      "cargo              1522 non-null object\n",
      "nome_completo      1522 non-null object\n",
      "sequencial         1522 non-null object\n",
      "cpf                1522 non-null object\n",
      "nome_urna          1522 non-null object\n",
      "partido_eleicao    1522 non-null object\n",
      "situacao           1522 non-null object\n",
      "dtypes: object(8)\n",
      "memory usage: 107.0+ KB\n"
     ]
    }
   ],
   "source": [
    "eleitos_supl.info()"
   ]
  },
  {
   "cell_type": "code",
   "execution_count": 68,
   "metadata": {},
   "outputs": [],
   "source": [
    "eleitos_supl.to_csv(\"resultados/deputadoseleitossuplentes.csv\", index=False)"
   ]
  },
  {
   "cell_type": "markdown",
   "metadata": {},
   "source": [
    "Cruza bases"
   ]
  },
  {
   "cell_type": "code",
   "execution_count": 69,
   "metadata": {},
   "outputs": [],
   "source": [
    "df_tse = pd.merge(eleitos_supl, nomes_deputados_atual_legislatura, left_on='nome_urna', right_on='Deputado')"
   ]
  },
  {
   "cell_type": "code",
   "execution_count": 70,
   "metadata": {},
   "outputs": [
    {
     "name": "stdout",
     "output_type": "stream",
     "text": [
      "<class 'pandas.core.frame.DataFrame'>\n",
      "Int64Index: 95 entries, 0 to 94\n",
      "Data columns (total 9 columns):\n",
      "uf                 95 non-null object\n",
      "cargo              95 non-null object\n",
      "nome_completo      95 non-null object\n",
      "sequencial         95 non-null object\n",
      "cpf                95 non-null object\n",
      "nome_urna          95 non-null object\n",
      "partido_eleicao    95 non-null object\n",
      "situacao           95 non-null object\n",
      "Deputado           95 non-null object\n",
      "dtypes: object(9)\n",
      "memory usage: 7.4+ KB\n"
     ]
    }
   ],
   "source": [
    "df_tse.info()"
   ]
  },
  {
   "cell_type": "code",
   "execution_count": null,
   "metadata": {},
   "outputs": [],
   "source": []
  },
  {
   "cell_type": "markdown",
   "metadata": {},
   "source": [
    "### Verifica os nomes não encontrados na base que veio de despesas, do lado direito"
   ]
  },
  {
   "cell_type": "code",
   "execution_count": 71,
   "metadata": {},
   "outputs": [
    {
     "data": {
      "text/plain": [
       "1522                   LUIZ CARLOS GONDIM\n",
       "1523                       EDSON GIRIBONI\n",
       "1524                       ROQUE BARBIERE\n",
       "1525                     CELSO NASCIMENTO\n",
       "1526                      FELICIANO FILHO\n",
       "1527                      ROBERTO TRIPOLI\n",
       "1528                 CEZINHA DE MADUREIRA\n",
       "1529                       CELINO CARDOSO\n",
       "1530                     PROFESSOR AURIEL\n",
       "1531                   CARLOS BEZERRA JR.\n",
       "1532                       TEONILIO BARBA\n",
       "1533                         CARLOS CEZAR\n",
       "1534                        AFONSO LOBATO\n",
       "1535                ALENCAR SANTANA BRAGA\n",
       "1536                         GILENO GOMES\n",
       "1537    JORGE WILSON XERIFE DO CONSUMIDOR\n",
       "1538                         JORGE CARUSO\n",
       "1539                       DOUTOR ULYSSES\n",
       "1540                      ORLANDO BOLCONE\n",
       "1541                   ABELARDO CAMARINHA\n",
       "1542                      ATILA JACOMUSSI\n",
       "1543                      JOSE ZICO PRADO\n",
       "1544                ANTONIO SALIM CURIATI\n",
       "1545                FRANCISCO CAMPOS TITO\n",
       "1546                        MARCO AURELIO\n",
       "1547                     HAMILTON PEREIRA\n",
       "1548                     CONSTANCIA FELIX\n",
       "1549                        ADRIANO DIOGO\n",
       "1550                           RUI FALCAO\n",
       "1551                      HEROILMA SOARES\n",
       "1552                     DILMO DOS SANTOS\n",
       "1553                         SARAH MUNHOZ\n",
       "1554               LUIZ CLAUDIO MARCOLINO\n",
       "1555                         EDINHO SILVA\n",
       "1556                        OLIMPIO GOMES\n",
       "1557                      EDSON FERRARINI\n",
       "1558                         ALEX MANENTE\n",
       "1559                       SAMUEL MOREIRA\n",
       "1560                            ISAC REIS\n",
       "1561                          BRUNO COVAS\n",
       "1562                           LUIZ MOURA\n",
       "Name: Deputado, dtype: object"
      ]
     },
     "execution_count": 71,
     "metadata": {},
     "output_type": "execute_result"
    }
   ],
   "source": [
    "nomes_naoencontrados = pd.merge(eleitos_supl, \n",
    "                        nomes_deputados_atual_legislatura, \n",
    "                        left_on='nome_urna', \n",
    "                        right_on='Deputado',\n",
    "                        how='outer',\n",
    "                        indicator=True)\n",
    "\n",
    "rdf = nomes_naoencontrados.query(\"_merge == 'right_only'\").drop('_merge',axis=1)\n",
    "\n",
    "rdf.Deputado"
   ]
  },
  {
   "cell_type": "markdown",
   "metadata": {},
   "source": [
    "### Agora é feita checagem manual dos nome_urna no TSE. Se estiverem diferentes dos nomes vindo de despesa serão alterados. Mas se forem deputados NÂO ELEITOS serão descartados"
   ]
  },
  {
   "cell_type": "markdown",
   "metadata": {},
   "source": [
    "Foram alteradas grafias (exemplo TEONILIO BARBA no TSE está como BARBA) e este nomes não são suplentes no registro do TSE e são da 17ª Legislatura, portanto não vão entrar 16: "
   ]
  },
  {
   "cell_type": "markdown",
   "metadata": {},
   "source": [
    "FRANCISCO CAMPOS TITO, \n",
    "MARCO AURELIO, \n",
    "HAMILTON PEREIRA, \n",
    "CONSTANCIA FELIX, \n",
    "ADRIANO DIOGO, \n",
    "RUI FALCAO, \n",
    "HEROILMA SOARES, \n",
    "DILMO DOS SANTOS, \n",
    "LUIZ CLAUDIO MARCOLINO, \n",
    "EDINHO SILVA, \n",
    "OLIMPIO GOMES, \n",
    "ALEX MANENTE, \n",
    "SAMUEL MOREIRA, \n",
    "ISAC REIS, \n",
    "BRUNO COVAS e \n",
    "LUIZ MOURA"
   ]
  },
  {
   "cell_type": "code",
   "execution_count": null,
   "metadata": {},
   "outputs": [],
   "source": []
  },
  {
   "cell_type": "markdown",
   "metadata": {},
   "source": [
    "### Carrega arquivo do TSE com a grafia dos nomes ajustada"
   ]
  },
  {
   "cell_type": "code",
   "execution_count": 76,
   "metadata": {},
   "outputs": [],
   "source": [
    "eleitos_supl = pd.read_csv('resultados/deputadoseleitossuplentes.csv', converters={'sequencial': lambda x: str(x), 'cpf': lambda x: str(x)})"
   ]
  },
  {
   "cell_type": "code",
   "execution_count": null,
   "metadata": {},
   "outputs": [],
   "source": []
  },
  {
   "cell_type": "markdown",
   "metadata": {},
   "source": [
    "### Cruza novamente e checa se ficaram de fora apenas os 16 acima"
   ]
  },
  {
   "cell_type": "code",
   "execution_count": 77,
   "metadata": {},
   "outputs": [
    {
     "name": "stdout",
     "output_type": "stream",
     "text": [
      "<class 'pandas.core.frame.DataFrame'>\n",
      "Int64Index: 120 entries, 0 to 119\n",
      "Data columns (total 9 columns):\n",
      "uf                 120 non-null object\n",
      "cargo              120 non-null object\n",
      "nome_completo      120 non-null object\n",
      "sequencial         120 non-null object\n",
      "cpf                120 non-null object\n",
      "nome_urna          120 non-null object\n",
      "partido_eleicao    120 non-null object\n",
      "situacao           120 non-null object\n",
      "Deputado           120 non-null object\n",
      "dtypes: object(9)\n",
      "memory usage: 9.4+ KB\n"
     ]
    }
   ],
   "source": [
    "df_tse = pd.merge(eleitos_supl, nomes_deputados_atual_legislatura, left_on='nome_urna', right_on='Deputado')\n",
    "df_tse.info()"
   ]
  },
  {
   "cell_type": "code",
   "execution_count": 78,
   "metadata": {},
   "outputs": [],
   "source": [
    "df_tse.to_csv(\"resultados/deputadoseleitossuplentes_parcial.csv\", index=False)"
   ]
  },
  {
   "cell_type": "code",
   "execution_count": 79,
   "metadata": {},
   "outputs": [
    {
     "data": {
      "text/plain": [
       "1522     FRANCISCO CAMPOS TITO\n",
       "1523             MARCO AURELIO\n",
       "1524          HAMILTON PEREIRA\n",
       "1525          CONSTANCIA FELIX\n",
       "1526             ADRIANO DIOGO\n",
       "1527                RUI FALCAO\n",
       "1528           HEROILMA SOARES\n",
       "1529          DILMO DOS SANTOS\n",
       "1530    LUIZ CLAUDIO MARCOLINO\n",
       "1531              EDINHO SILVA\n",
       "1532             OLIMPIO GOMES\n",
       "1533              ALEX MANENTE\n",
       "1534            SAMUEL MOREIRA\n",
       "1535                 ISAC REIS\n",
       "1536               BRUNO COVAS\n",
       "1537                LUIZ MOURA\n",
       "Name: Deputado, dtype: object"
      ]
     },
     "execution_count": 79,
     "metadata": {},
     "output_type": "execute_result"
    }
   ],
   "source": [
    "nomes_naoencontrados = pd.merge(eleitos_supl, \n",
    "                        nomes_deputados_atual_legislatura, \n",
    "                        left_on='nome_urna', \n",
    "                        right_on='Deputado',\n",
    "                        how='outer',\n",
    "                        indicator=True)\n",
    "\n",
    "rdf = nomes_naoencontrados.query(\"_merge == 'right_only'\").drop('_merge',axis=1)\n",
    "\n",
    "rdf.Deputado"
   ]
  },
  {
   "cell_type": "code",
   "execution_count": null,
   "metadata": {},
   "outputs": [],
   "source": []
  },
  {
   "cell_type": "markdown",
   "metadata": {},
   "source": [
    "### Agora cruzo esses nomes com uma base que tem o código único dos deputados, no caso autores de projetos (IdAutor) - gerado em alesp_projetos"
   ]
  },
  {
   "cell_type": "code",
   "execution_count": 80,
   "metadata": {},
   "outputs": [],
   "source": [
    "def ajeitar_nomes(nome):\n",
    "    nome = nome.upper()\n",
    "    return nome"
   ]
  },
  {
   "cell_type": "code",
   "execution_count": 81,
   "metadata": {},
   "outputs": [],
   "source": [
    "autores_deputados = pd.read_csv(\"resultados/todos_autores_projetos.csv\", sep=',',encoding = 'utf-8', converters={'IdAutor': lambda x: str(x), 'IdDocumento': lambda x: str(x)})\n",
    "\n",
    "autores_deputados['NomeAutor'] = autores_deputados['NomeAutor'].apply(ajeitar_nomes)\n",
    "\n",
    "autores_deputados['NomeAutor'] = autores_deputados['NomeAutor'].apply(f)"
   ]
  },
  {
   "cell_type": "code",
   "execution_count": 82,
   "metadata": {},
   "outputs": [
    {
     "name": "stdout",
     "output_type": "stream",
     "text": [
      "<class 'pandas.core.frame.DataFrame'>\n",
      "RangeIndex: 700123 entries, 0 to 700122\n",
      "Data columns (total 3 columns):\n",
      "IdAutor        700123 non-null object\n",
      "IdDocumento    700123 non-null object\n",
      "NomeAutor      700123 non-null object\n",
      "dtypes: object(3)\n",
      "memory usage: 16.0+ MB\n"
     ]
    }
   ],
   "source": [
    "autores_deputados.info()"
   ]
  },
  {
   "cell_type": "code",
   "execution_count": null,
   "metadata": {},
   "outputs": [],
   "source": []
  },
  {
   "cell_type": "code",
   "execution_count": 83,
   "metadata": {},
   "outputs": [],
   "source": [
    "df_deputados_codigos = pd.merge(autores_deputados, df_tse, left_on='NomeAutor', right_on='Deputado')"
   ]
  },
  {
   "cell_type": "code",
   "execution_count": 84,
   "metadata": {},
   "outputs": [
    {
     "name": "stdout",
     "output_type": "stream",
     "text": [
      "<class 'pandas.core.frame.DataFrame'>\n",
      "Int64Index: 345844 entries, 0 to 345843\n",
      "Data columns (total 12 columns):\n",
      "IdAutor            345844 non-null object\n",
      "IdDocumento        345844 non-null object\n",
      "NomeAutor          345844 non-null object\n",
      "uf                 345844 non-null object\n",
      "cargo              345844 non-null object\n",
      "nome_completo      345844 non-null object\n",
      "sequencial         345844 non-null object\n",
      "cpf                345844 non-null object\n",
      "nome_urna          345844 non-null object\n",
      "partido_eleicao    345844 non-null object\n",
      "situacao           345844 non-null object\n",
      "Deputado           345844 non-null object\n",
      "dtypes: object(12)\n",
      "memory usage: 34.3+ MB\n"
     ]
    }
   ],
   "source": [
    "df_deputados_codigos.info()"
   ]
  },
  {
   "cell_type": "code",
   "execution_count": null,
   "metadata": {},
   "outputs": [],
   "source": []
  },
  {
   "cell_type": "markdown",
   "metadata": {},
   "source": [
    "Verifica se há nomes não encontrados"
   ]
  },
  {
   "cell_type": "code",
   "execution_count": 85,
   "metadata": {},
   "outputs": [
    {
     "data": {
      "text/plain": [
       "700123    LUIZ FERNANDO\n",
       "Name: Deputado, dtype: object"
      ]
     },
     "execution_count": 85,
     "metadata": {},
     "output_type": "execute_result"
    }
   ],
   "source": [
    "nomes_naoencontrados = pd.merge(autores_deputados, \n",
    "                        df_tse, \n",
    "                        left_on='NomeAutor', \n",
    "                        right_on='Deputado',\n",
    "                        how='outer',\n",
    "                        indicator=True)\n",
    "rdf = nomes_naoencontrados.query(\"_merge == 'right_only'\").drop('_merge',axis=1)\n",
    "rdf.Deputado"
   ]
  },
  {
   "cell_type": "markdown",
   "metadata": {},
   "source": [
    "LUIZ FERNANDO precisa mudar a grafia para LUIZ FERNANDO T. FERREIRA"
   ]
  },
  {
   "cell_type": "code",
   "execution_count": 86,
   "metadata": {},
   "outputs": [],
   "source": [
    "def limpeza1(linha):\n",
    "    nome = str(linha[\"Deputado\"])\n",
    "    if nome == 'LUIZ FERNANDO':\n",
    "        return 'LUIZ FERNANDO T. FERREIRA'\n",
    "    else:\n",
    "        return nome\n",
    "\n",
    "df_tse['Deputado'] = df_tse.apply(limpeza1, axis=1)"
   ]
  },
  {
   "cell_type": "markdown",
   "metadata": {},
   "source": [
    "Testa de novo"
   ]
  },
  {
   "cell_type": "code",
   "execution_count": 87,
   "metadata": {},
   "outputs": [
    {
     "data": {
      "text/plain": [
       "Series([], Name: Deputado, dtype: object)"
      ]
     },
     "execution_count": 87,
     "metadata": {},
     "output_type": "execute_result"
    }
   ],
   "source": [
    "nomes_naoencontrados = pd.merge(autores_deputados, \n",
    "                        df_tse, \n",
    "                        left_on='NomeAutor', \n",
    "                        right_on='Deputado',\n",
    "                        how='outer',\n",
    "                        indicator=True)\n",
    "rdf = nomes_naoencontrados.query(\"_merge == 'right_only'\").drop('_merge',axis=1)\n",
    "rdf.Deputado"
   ]
  },
  {
   "cell_type": "code",
   "execution_count": 88,
   "metadata": {},
   "outputs": [],
   "source": [
    "df_deputados_codigos = pd.merge(autores_deputados, df_tse, left_on='NomeAutor', right_on='Deputado')"
   ]
  },
  {
   "cell_type": "code",
   "execution_count": 89,
   "metadata": {},
   "outputs": [
    {
     "name": "stdout",
     "output_type": "stream",
     "text": [
      "<class 'pandas.core.frame.DataFrame'>\n",
      "Int64Index: 347649 entries, 0 to 347648\n",
      "Data columns (total 12 columns):\n",
      "IdAutor            347649 non-null object\n",
      "IdDocumento        347649 non-null object\n",
      "NomeAutor          347649 non-null object\n",
      "uf                 347649 non-null object\n",
      "cargo              347649 non-null object\n",
      "nome_completo      347649 non-null object\n",
      "sequencial         347649 non-null object\n",
      "cpf                347649 non-null object\n",
      "nome_urna          347649 non-null object\n",
      "partido_eleicao    347649 non-null object\n",
      "situacao           347649 non-null object\n",
      "Deputado           347649 non-null object\n",
      "dtypes: object(12)\n",
      "memory usage: 34.5+ MB\n"
     ]
    }
   ],
   "source": [
    "df_deputados_codigos.info()"
   ]
  },
  {
   "cell_type": "code",
   "execution_count": null,
   "metadata": {},
   "outputs": [],
   "source": []
  },
  {
   "cell_type": "markdown",
   "metadata": {},
   "source": [
    "## Cria o dataframe final"
   ]
  },
  {
   "cell_type": "code",
   "execution_count": null,
   "metadata": {},
   "outputs": [],
   "source": []
  },
  {
   "cell_type": "code",
   "execution_count": 98,
   "metadata": {},
   "outputs": [],
   "source": [
    "copia = df_deputados_codigos[['IdAutor','NomeAutor', 'uf', 'nome_completo', 'sequencial', 'cpf', 'nome_urna', 'partido_eleicao', 'situacao']]"
   ]
  },
  {
   "cell_type": "code",
   "execution_count": 99,
   "metadata": {},
   "outputs": [],
   "source": [
    "selecionados_final = copia.drop_duplicates()"
   ]
  },
  {
   "cell_type": "code",
   "execution_count": 100,
   "metadata": {},
   "outputs": [
    {
     "name": "stdout",
     "output_type": "stream",
     "text": [
      "<class 'pandas.core.frame.DataFrame'>\n",
      "Int64Index: 120 entries, 0 to 347646\n",
      "Data columns (total 9 columns):\n",
      "IdAutor            120 non-null object\n",
      "NomeAutor          120 non-null object\n",
      "uf                 120 non-null object\n",
      "nome_completo      120 non-null object\n",
      "sequencial         120 non-null object\n",
      "cpf                120 non-null object\n",
      "nome_urna          120 non-null object\n",
      "partido_eleicao    120 non-null object\n",
      "situacao           120 non-null object\n",
      "dtypes: object(9)\n",
      "memory usage: 9.4+ KB\n"
     ]
    }
   ],
   "source": [
    "selecionados_final.info()"
   ]
  },
  {
   "cell_type": "code",
   "execution_count": 101,
   "metadata": {},
   "outputs": [
    {
     "name": "stderr",
     "output_type": "stream",
     "text": [
      "/home/reinaldo/Documentos/Code/volt/alesp/lib/python3.6/site-packages/pandas/core/frame.py:3778: SettingWithCopyWarning: \n",
      "A value is trying to be set on a copy of a slice from a DataFrame\n",
      "\n",
      "See the caveats in the documentation: http://pandas.pydata.org/pandas-docs/stable/indexing.html#indexing-view-versus-copy\n",
      "  return super(DataFrame, self).rename(**kwargs)\n"
     ]
    }
   ],
   "source": [
    "selecionados_final.rename(columns={\"IdAutor\": \"codigo_unico\", \"NomeAutor\": \"nome_deputado\"}, inplace=True)"
   ]
  },
  {
   "cell_type": "code",
   "execution_count": 102,
   "metadata": {},
   "outputs": [
    {
     "data": {
      "text/html": [
       "<div>\n",
       "<style scoped>\n",
       "    .dataframe tbody tr th:only-of-type {\n",
       "        vertical-align: middle;\n",
       "    }\n",
       "\n",
       "    .dataframe tbody tr th {\n",
       "        vertical-align: top;\n",
       "    }\n",
       "\n",
       "    .dataframe thead th {\n",
       "        text-align: right;\n",
       "    }\n",
       "</style>\n",
       "<table border=\"1\" class=\"dataframe\">\n",
       "  <thead>\n",
       "    <tr style=\"text-align: right;\">\n",
       "      <th></th>\n",
       "      <th>index</th>\n",
       "      <th>codigo_unico</th>\n",
       "      <th>nome_deputado</th>\n",
       "      <th>uf</th>\n",
       "      <th>nome_completo</th>\n",
       "      <th>sequencial</th>\n",
       "      <th>cpf</th>\n",
       "      <th>nome_urna</th>\n",
       "      <th>partido_eleicao</th>\n",
       "      <th>situacao</th>\n",
       "    </tr>\n",
       "  </thead>\n",
       "  <tbody>\n",
       "    <tr>\n",
       "      <th>0</th>\n",
       "      <td>0</td>\n",
       "      <td>31</td>\n",
       "      <td>VAZ DE LIMA</td>\n",
       "      <td>SP</td>\n",
       "      <td>JOSE CARLOS VAZ DE LIMA</td>\n",
       "      <td>250000001566</td>\n",
       "      <td>57339333800</td>\n",
       "      <td>VAZ DE LIMA</td>\n",
       "      <td>PSDB</td>\n",
       "      <td>ELEITO POR QP</td>\n",
       "    </tr>\n",
       "    <tr>\n",
       "      <th>1</th>\n",
       "      <td>2412</td>\n",
       "      <td>68</td>\n",
       "      <td>EDMIR CHEDID</td>\n",
       "      <td>SP</td>\n",
       "      <td>EDMIR JOSÉ ABI CHEDID</td>\n",
       "      <td>250000001645</td>\n",
       "      <td>06837351877</td>\n",
       "      <td>EDMIR CHEDID</td>\n",
       "      <td>DEM</td>\n",
       "      <td>ELEITO POR QP</td>\n",
       "    </tr>\n",
       "    <tr>\n",
       "      <th>2</th>\n",
       "      <td>17191</td>\n",
       "      <td>39</td>\n",
       "      <td>ALDO DEMARCHI</td>\n",
       "      <td>SP</td>\n",
       "      <td>JOSÉ ALDO DEMARCHI</td>\n",
       "      <td>250000001654</td>\n",
       "      <td>02755653868</td>\n",
       "      <td>ALDO DEMARCHI</td>\n",
       "      <td>DEM</td>\n",
       "      <td>ELEITO POR QP</td>\n",
       "    </tr>\n",
       "    <tr>\n",
       "      <th>3</th>\n",
       "      <td>21392</td>\n",
       "      <td>64</td>\n",
       "      <td>ROBERTO ENGLER</td>\n",
       "      <td>SP</td>\n",
       "      <td>ROBERTO CARVALHO ENGLER PINTO</td>\n",
       "      <td>250000001532</td>\n",
       "      <td>01561715891</td>\n",
       "      <td>ROBERTO ENGLER</td>\n",
       "      <td>PSDB</td>\n",
       "      <td>ELEITO POR QP</td>\n",
       "    </tr>\n",
       "    <tr>\n",
       "      <th>4</th>\n",
       "      <td>23802</td>\n",
       "      <td>40</td>\n",
       "      <td>LEO OLIVEIRA</td>\n",
       "      <td>SP</td>\n",
       "      <td>OCIMAR DONIZETI LÉO OLIVEIRA</td>\n",
       "      <td>250000002709</td>\n",
       "      <td>07318813897</td>\n",
       "      <td>LEO OLIVEIRA</td>\n",
       "      <td>PMDB</td>\n",
       "      <td>ELEITO POR QP</td>\n",
       "    </tr>\n",
       "  </tbody>\n",
       "</table>\n",
       "</div>"
      ],
      "text/plain": [
       "   index codigo_unico   nome_deputado  uf                  nome_completo  \\\n",
       "0      0           31     VAZ DE LIMA  SP        JOSE CARLOS VAZ DE LIMA   \n",
       "1   2412           68    EDMIR CHEDID  SP          EDMIR JOSÉ ABI CHEDID   \n",
       "2  17191           39   ALDO DEMARCHI  SP             JOSÉ ALDO DEMARCHI   \n",
       "3  21392           64  ROBERTO ENGLER  SP  ROBERTO CARVALHO ENGLER PINTO   \n",
       "4  23802           40    LEO OLIVEIRA  SP   OCIMAR DONIZETI LÉO OLIVEIRA   \n",
       "\n",
       "     sequencial          cpf       nome_urna partido_eleicao       situacao  \n",
       "0  250000001566  57339333800     VAZ DE LIMA            PSDB  ELEITO POR QP  \n",
       "1  250000001645  06837351877    EDMIR CHEDID             DEM  ELEITO POR QP  \n",
       "2  250000001654  02755653868   ALDO DEMARCHI             DEM  ELEITO POR QP  \n",
       "3  250000001532  01561715891  ROBERTO ENGLER            PSDB  ELEITO POR QP  \n",
       "4  250000002709  07318813897    LEO OLIVEIRA            PMDB  ELEITO POR QP  "
      ]
     },
     "execution_count": 102,
     "metadata": {},
     "output_type": "execute_result"
    }
   ],
   "source": [
    "selecionados_final.reset_index().head()"
   ]
  },
  {
   "cell_type": "code",
   "execution_count": 103,
   "metadata": {},
   "outputs": [],
   "source": [
    "selecionados_final.to_csv('resultados/deputados_selecionados_final.csv', index=False)"
   ]
  },
  {
   "cell_type": "code",
   "execution_count": null,
   "metadata": {},
   "outputs": [],
   "source": []
  }
 ],
 "metadata": {
  "kernelspec": {
   "display_name": "Python 3",
   "language": "python",
   "name": "python3"
  },
  "language_info": {
   "codemirror_mode": {
    "name": "ipython",
    "version": 3
   },
   "file_extension": ".py",
   "mimetype": "text/x-python",
   "name": "python",
   "nbconvert_exporter": "python",
   "pygments_lexer": "ipython3",
   "version": "3.6.2"
  }
 },
 "nbformat": 4,
 "nbformat_minor": 2
}
