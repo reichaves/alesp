{
 "cells": [
  {
   "cell_type": "code",
   "execution_count": 94,
   "metadata": {},
   "outputs": [],
   "source": [
    "# -*- coding: utf-8\n",
    "# VOLT DATA LAB (https://www.voltdata.info/)\n",
    "# Reinaldo Chaves (@paidatocandeira)\n",
    "# Detalhamento dos projetos de lei tramitados pelos deputados estaduais - quantidades e assuntos - em legislatura passada\n",
    "#"
   ]
  },
  {
   "cell_type": "code",
   "execution_count": null,
   "metadata": {},
   "outputs": [],
   "source": []
  },
  {
   "cell_type": "code",
   "execution_count": 1,
   "metadata": {},
   "outputs": [],
   "source": [
    "import json\n",
    "import xmltodict\n",
    "import pandas as pd\n",
    "import numpy as np\n",
    "from datetime import date"
   ]
  },
  {
   "cell_type": "markdown",
   "metadata": {},
   "source": [
    "# Autores"
   ]
  },
  {
   "cell_type": "markdown",
   "metadata": {},
   "source": [
    "Fonte\n",
    " https://www.al.sp.gov.br/dados-abertos/recurso/81"
   ]
  },
  {
   "cell_type": "code",
   "execution_count": 2,
   "metadata": {},
   "outputs": [],
   "source": [
    "with open(\"dados/processo_legislativo/documento_autor_set_2018.xml\", 'r') as f:\n",
    "    xmlString = f.read()"
   ]
  },
  {
   "cell_type": "code",
   "execution_count": 3,
   "metadata": {},
   "outputs": [],
   "source": [
    "jsonString = json.dumps(xmltodict.parse(xmlString), indent=4)"
   ]
  },
  {
   "cell_type": "code",
   "execution_count": 4,
   "metadata": {},
   "outputs": [],
   "source": [
    "with open(\"output.json\", 'w') as f:\n",
    "    f.write(jsonString)"
   ]
  },
  {
   "cell_type": "code",
   "execution_count": null,
   "metadata": {},
   "outputs": [],
   "source": []
  },
  {
   "cell_type": "code",
   "execution_count": 5,
   "metadata": {},
   "outputs": [],
   "source": [
    "arquivo_json = open('output.json', 'r')\n",
    "dados_json = json.load(arquivo_json)"
   ]
  },
  {
   "cell_type": "code",
   "execution_count": 6,
   "metadata": {},
   "outputs": [],
   "source": [
    "#dados_json['documentos_autores']['DocumentoAutor']"
   ]
  },
  {
   "cell_type": "code",
   "execution_count": null,
   "metadata": {},
   "outputs": [],
   "source": []
  },
  {
   "cell_type": "code",
   "execution_count": 7,
   "metadata": {},
   "outputs": [],
   "source": [
    "lista = dados_json['documentos_autores']['DocumentoAutor']"
   ]
  },
  {
   "cell_type": "code",
   "execution_count": 8,
   "metadata": {},
   "outputs": [],
   "source": [
    "df_autores = pd.DataFrame(lista, columns = ['IdAutor', 'IdDocumento', 'NomeAutor'])"
   ]
  },
  {
   "cell_type": "code",
   "execution_count": 9,
   "metadata": {},
   "outputs": [
    {
     "name": "stdout",
     "output_type": "stream",
     "text": [
      "<class 'pandas.core.frame.DataFrame'>\n",
      "RangeIndex: 702398 entries, 0 to 702397\n",
      "Data columns (total 3 columns):\n",
      "IdAutor        702398 non-null object\n",
      "IdDocumento    702398 non-null object\n",
      "NomeAutor      702398 non-null object\n",
      "dtypes: object(3)\n",
      "memory usage: 16.1+ MB\n"
     ]
    }
   ],
   "source": [
    "df_autores.info()"
   ]
  },
  {
   "cell_type": "markdown",
   "metadata": {},
   "source": [
    "Exemplo de busca de um autor"
   ]
  },
  {
   "cell_type": "code",
   "execution_count": null,
   "metadata": {},
   "outputs": [],
   "source": []
  },
  {
   "cell_type": "markdown",
   "metadata": {},
   "source": [
    "# Proposituras"
   ]
  },
  {
   "cell_type": "markdown",
   "metadata": {},
   "source": [
    "https://www.al.sp.gov.br/dados-abertos/recurso/56"
   ]
  },
  {
   "cell_type": "code",
   "execution_count": 10,
   "metadata": {},
   "outputs": [],
   "source": [
    "with open(\"dados/processo_legislativo/proposituras_set_2018.xml\", 'r') as f:\n",
    "    xmlString = f.read()"
   ]
  },
  {
   "cell_type": "code",
   "execution_count": 11,
   "metadata": {},
   "outputs": [],
   "source": [
    "jsonString = json.dumps(xmltodict.parse(xmlString), indent=4)"
   ]
  },
  {
   "cell_type": "code",
   "execution_count": 12,
   "metadata": {},
   "outputs": [],
   "source": [
    "with open(\"output.json\", 'w') as f:\n",
    "    f.write(jsonString)"
   ]
  },
  {
   "cell_type": "code",
   "execution_count": null,
   "metadata": {},
   "outputs": [],
   "source": []
  },
  {
   "cell_type": "code",
   "execution_count": 13,
   "metadata": {},
   "outputs": [],
   "source": [
    "arquivo_json = open('output.json', 'r')\n",
    "dados_json = json.load(arquivo_json)"
   ]
  },
  {
   "cell_type": "code",
   "execution_count": 14,
   "metadata": {},
   "outputs": [],
   "source": [
    "#dados_json['proposituras']['propositura']"
   ]
  },
  {
   "cell_type": "code",
   "execution_count": 15,
   "metadata": {},
   "outputs": [],
   "source": [
    "lista = dados_json['proposituras']['propositura']"
   ]
  },
  {
   "cell_type": "code",
   "execution_count": 16,
   "metadata": {},
   "outputs": [],
   "source": [
    "df_proposituras = pd.DataFrame(lista, columns = ['AnoLegislativo', 'CodOriginalidade', 'DtEntradaSistema', 'DtPublicacao', 'Ementa', 'IdDocumento', 'IdNatureza', 'NroLegislativo'])"
   ]
  },
  {
   "cell_type": "code",
   "execution_count": 17,
   "metadata": {},
   "outputs": [],
   "source": [
    "df_proposituras['DtEntradaSistema'] = pd.to_datetime(df_proposituras['DtEntradaSistema'])\n",
    "df_proposituras['DtPublicacao'] = pd.to_datetime(df_proposituras['DtPublicacao'])"
   ]
  },
  {
   "cell_type": "code",
   "execution_count": 18,
   "metadata": {},
   "outputs": [
    {
     "name": "stdout",
     "output_type": "stream",
     "text": [
      "<class 'pandas.core.frame.DataFrame'>\n",
      "RangeIndex: 192727 entries, 0 to 192726\n",
      "Data columns (total 8 columns):\n",
      "AnoLegislativo      192727 non-null object\n",
      "CodOriginalidade    140485 non-null object\n",
      "DtEntradaSistema    192699 non-null datetime64[ns]\n",
      "DtPublicacao        192727 non-null datetime64[ns]\n",
      "Ementa              192727 non-null object\n",
      "IdDocumento         192727 non-null object\n",
      "IdNatureza          192727 non-null object\n",
      "NroLegislativo      192727 non-null object\n",
      "dtypes: datetime64[ns](2), object(6)\n",
      "memory usage: 11.8+ MB\n"
     ]
    }
   ],
   "source": [
    "df_proposituras.info()"
   ]
  },
  {
   "cell_type": "markdown",
   "metadata": {},
   "source": [
    "De 2011 a 2014"
   ]
  },
  {
   "cell_type": "code",
   "execution_count": 19,
   "metadata": {},
   "outputs": [],
   "source": [
    "df_proposituras_2011_2014 = df_proposituras[(df_proposituras['AnoLegislativo'] == '2011') | \n",
    "                                  (df_proposituras['AnoLegislativo'] == '2012') | \n",
    "                                  (df_proposituras['AnoLegislativo'] == '2013') | \n",
    "                                  (df_proposituras['AnoLegislativo'] == '2014')]"
   ]
  },
  {
   "cell_type": "code",
   "execution_count": 20,
   "metadata": {},
   "outputs": [
    {
     "data": {
      "text/html": [
       "<div>\n",
       "<style scoped>\n",
       "    .dataframe tbody tr th:only-of-type {\n",
       "        vertical-align: middle;\n",
       "    }\n",
       "\n",
       "    .dataframe tbody tr th {\n",
       "        vertical-align: top;\n",
       "    }\n",
       "\n",
       "    .dataframe thead th {\n",
       "        text-align: right;\n",
       "    }\n",
       "</style>\n",
       "<table border=\"1\" class=\"dataframe\">\n",
       "  <thead>\n",
       "    <tr style=\"text-align: right;\">\n",
       "      <th></th>\n",
       "      <th>index</th>\n",
       "      <th>AnoLegislativo</th>\n",
       "      <th>CodOriginalidade</th>\n",
       "      <th>DtEntradaSistema</th>\n",
       "      <th>DtPublicacao</th>\n",
       "      <th>Ementa</th>\n",
       "      <th>IdDocumento</th>\n",
       "      <th>IdNatureza</th>\n",
       "      <th>NroLegislativo</th>\n",
       "    </tr>\n",
       "  </thead>\n",
       "  <tbody>\n",
       "    <tr>\n",
       "      <th>0</th>\n",
       "      <td>130352</td>\n",
       "      <td>2011</td>\n",
       "      <td>942078 160410 1440</td>\n",
       "      <td>2010-04-15 03:00:00</td>\n",
       "      <td>2011-03-25 03:00:00</td>\n",
       "      <td>Apela para os Srs. Presidentes do Senado Feder...</td>\n",
       "      <td>942078</td>\n",
       "      <td>6</td>\n",
       "      <td>10</td>\n",
       "    </tr>\n",
       "    <tr>\n",
       "      <th>1</th>\n",
       "      <td>130957</td>\n",
       "      <td>2011</td>\n",
       "      <td>972063 261010 1320</td>\n",
       "      <td>2010-10-26 02:00:00</td>\n",
       "      <td>2011-02-16 02:00:00</td>\n",
       "      <td>Requer do Sr.Secretário de Estado do Meio Ambi...</td>\n",
       "      <td>972063</td>\n",
       "      <td>8</td>\n",
       "      <td>16</td>\n",
       "    </tr>\n",
       "    <tr>\n",
       "      <th>2</th>\n",
       "      <td>131120</td>\n",
       "      <td>2011</td>\n",
       "      <td>954991 181010 1704</td>\n",
       "      <td>2010-06-11 03:00:00</td>\n",
       "      <td>2011-04-26 03:00:00</td>\n",
       "      <td>Torna obrigatório que todo documento fiscal em...</td>\n",
       "      <td>954991</td>\n",
       "      <td>1</td>\n",
       "      <td>360</td>\n",
       "    </tr>\n",
       "    <tr>\n",
       "      <th>3</th>\n",
       "      <td>131430</td>\n",
       "      <td>2011</td>\n",
       "      <td>966529 010910 1639</td>\n",
       "      <td>2010-09-01 03:00:00</td>\n",
       "      <td>2011-09-23 03:00:00</td>\n",
       "      <td>Dá a denominação de \"Dr. Luiz Roberto Barradas...</td>\n",
       "      <td>966529</td>\n",
       "      <td>1</td>\n",
       "      <td>917</td>\n",
       "    </tr>\n",
       "    <tr>\n",
       "      <th>4</th>\n",
       "      <td>131959</td>\n",
       "      <td>2011</td>\n",
       "      <td>963402 110810 1637</td>\n",
       "      <td>2010-08-11 03:00:00</td>\n",
       "      <td>2011-02-03 02:00:00</td>\n",
       "      <td>Dispõe sobre a criação do Serviço de Acupuntur...</td>\n",
       "      <td>963402</td>\n",
       "      <td>1</td>\n",
       "      <td>3</td>\n",
       "    </tr>\n",
       "  </tbody>\n",
       "</table>\n",
       "</div>"
      ],
      "text/plain": [
       "    index AnoLegislativo    CodOriginalidade    DtEntradaSistema  \\\n",
       "0  130352           2011  942078 160410 1440 2010-04-15 03:00:00   \n",
       "1  130957           2011  972063 261010 1320 2010-10-26 02:00:00   \n",
       "2  131120           2011  954991 181010 1704 2010-06-11 03:00:00   \n",
       "3  131430           2011  966529 010910 1639 2010-09-01 03:00:00   \n",
       "4  131959           2011  963402 110810 1637 2010-08-11 03:00:00   \n",
       "\n",
       "         DtPublicacao                                             Ementa  \\\n",
       "0 2011-03-25 03:00:00  Apela para os Srs. Presidentes do Senado Feder...   \n",
       "1 2011-02-16 02:00:00  Requer do Sr.Secretário de Estado do Meio Ambi...   \n",
       "2 2011-04-26 03:00:00  Torna obrigatório que todo documento fiscal em...   \n",
       "3 2011-09-23 03:00:00  Dá a denominação de \"Dr. Luiz Roberto Barradas...   \n",
       "4 2011-02-03 02:00:00  Dispõe sobre a criação do Serviço de Acupuntur...   \n",
       "\n",
       "  IdDocumento IdNatureza NroLegislativo  \n",
       "0      942078          6             10  \n",
       "1      972063          8             16  \n",
       "2      954991          1            360  \n",
       "3      966529          1            917  \n",
       "4      963402          1              3  "
      ]
     },
     "execution_count": 20,
     "metadata": {},
     "output_type": "execute_result"
    }
   ],
   "source": [
    "df_proposituras_2011_2014.reset_index().head()"
   ]
  },
  {
   "cell_type": "code",
   "execution_count": 21,
   "metadata": {},
   "outputs": [
    {
     "data": {
      "text/plain": [
       "30370"
      ]
     },
     "execution_count": 21,
     "metadata": {},
     "output_type": "execute_result"
    }
   ],
   "source": [
    "df_proposituras_2011_2014.IdDocumento.count()"
   ]
  },
  {
   "cell_type": "code",
   "execution_count": 23,
   "metadata": {},
   "outputs": [],
   "source": [
    "#df_proposituras_2011_2014['IdDocumento'].value_counts()"
   ]
  },
  {
   "cell_type": "code",
   "execution_count": null,
   "metadata": {},
   "outputs": [],
   "source": []
  },
  {
   "cell_type": "markdown",
   "metadata": {},
   "source": [
    "# Natureza"
   ]
  },
  {
   "cell_type": "markdown",
   "metadata": {},
   "source": [
    "https://www.al.sp.gov.br/dados-abertos/recurso/44"
   ]
  },
  {
   "cell_type": "code",
   "execution_count": 24,
   "metadata": {},
   "outputs": [],
   "source": [
    "with open(\"dados/processo_legislativo/naturezasSpl.xml\", 'r') as f:\n",
    "    xmlString = f.read()\n",
    "jsonString = json.dumps(xmltodict.parse(xmlString), indent=4)\n",
    "with open(\"output.json\", 'w') as f:\n",
    "    f.write(jsonString)"
   ]
  },
  {
   "cell_type": "code",
   "execution_count": 25,
   "metadata": {},
   "outputs": [],
   "source": [
    "arquivo_json = open('output.json', 'r')\n",
    "dados_json = json.load(arquivo_json)"
   ]
  },
  {
   "cell_type": "code",
   "execution_count": 26,
   "metadata": {},
   "outputs": [],
   "source": [
    "#dados_json"
   ]
  },
  {
   "cell_type": "code",
   "execution_count": 27,
   "metadata": {},
   "outputs": [],
   "source": [
    "lista = dados_json['natureza']['natureza']\n",
    "df_natureza = pd.DataFrame(lista, columns = ['idNatureza', 'nmNatureza', 'sgNatureza', 'tpNatureza'])"
   ]
  },
  {
   "cell_type": "code",
   "execution_count": 28,
   "metadata": {},
   "outputs": [],
   "source": [
    "df_natureza.to_csv('resultados/natureza_projetos_alesp.csv', index=False)"
   ]
  },
  {
   "cell_type": "code",
   "execution_count": null,
   "metadata": {},
   "outputs": [],
   "source": []
  },
  {
   "cell_type": "markdown",
   "metadata": {},
   "source": [
    "Temas escolhidos"
   ]
  },
  {
   "cell_type": "markdown",
   "metadata": {},
   "source": [
    "141\tProjeto de lei de PPA <br>\n",
    "142\tProjeto de lei do Orçamento <br>\n",
    "147\tReq. de Comissão Parlamentar Especial <br>\n",
    "1\tProjeto de lei <br>\n",
    "2\tProjeto de lei Complementar <br>\n",
    "3\tProjeto de resolução <br>\n",
    "4\tProjeto de decreto legislativo <br>\n",
    "5\tProposta de emenda à Constituição <br>\n",
    "10\tProjeto de Constituição <br>\n",
    "24\tLei <br>\n",
    "33\tLei Complementar <br>\n",
    "35\tLei (§ 7ª - artigo 28) <br>\n",
    "40\tDecreto Legislativo"
   ]
  },
  {
   "cell_type": "code",
   "execution_count": 29,
   "metadata": {},
   "outputs": [],
   "source": [
    "projetos_acao_parlamentar = df_proposituras_2011_2014[(df_proposituras_2011_2014['IdNatureza'] == '141') | \n",
    "                                            (df_proposituras_2011_2014['IdNatureza'] == '142') | \n",
    "                                            (df_proposituras_2011_2014['IdNatureza'] == '147') | \n",
    "                                            (df_proposituras_2011_2014['IdNatureza'] == '1') | \n",
    "                                            (df_proposituras_2011_2014['IdNatureza'] == '2') | \n",
    "                                            (df_proposituras_2011_2014['IdNatureza'] == '3') | \n",
    "                                            (df_proposituras_2011_2014['IdNatureza'] == '4') | \n",
    "                                            (df_proposituras_2011_2014['IdNatureza'] == '5') | \n",
    "                                            (df_proposituras_2011_2014['IdNatureza'] == '10') | \n",
    "                                            (df_proposituras_2011_2014['IdNatureza'] == '24') | \n",
    "                                            (df_proposituras_2011_2014['IdNatureza'] == '33') | \n",
    "                                            (df_proposituras_2011_2014['IdNatureza'] == '35') | \n",
    "                                            (df_proposituras_2011_2014['IdNatureza'] == '40')]"
   ]
  },
  {
   "cell_type": "code",
   "execution_count": 30,
   "metadata": {},
   "outputs": [],
   "source": [
    "autores_projetos = pd.merge(df_autores, projetos_acao_parlamentar, left_on='IdDocumento', right_on='IdDocumento')"
   ]
  },
  {
   "cell_type": "code",
   "execution_count": 31,
   "metadata": {},
   "outputs": [
    {
     "data": {
      "text/html": [
       "<div>\n",
       "<style scoped>\n",
       "    .dataframe tbody tr th:only-of-type {\n",
       "        vertical-align: middle;\n",
       "    }\n",
       "\n",
       "    .dataframe tbody tr th {\n",
       "        vertical-align: top;\n",
       "    }\n",
       "\n",
       "    .dataframe thead th {\n",
       "        text-align: right;\n",
       "    }\n",
       "</style>\n",
       "<table border=\"1\" class=\"dataframe\">\n",
       "  <thead>\n",
       "    <tr style=\"text-align: right;\">\n",
       "      <th></th>\n",
       "      <th>index</th>\n",
       "      <th>IdAutor</th>\n",
       "      <th>IdDocumento</th>\n",
       "      <th>NomeAutor</th>\n",
       "      <th>AnoLegislativo</th>\n",
       "      <th>CodOriginalidade</th>\n",
       "      <th>DtEntradaSistema</th>\n",
       "      <th>DtPublicacao</th>\n",
       "      <th>Ementa</th>\n",
       "      <th>IdNatureza</th>\n",
       "      <th>NroLegislativo</th>\n",
       "    </tr>\n",
       "  </thead>\n",
       "  <tbody>\n",
       "    <tr>\n",
       "      <th>0</th>\n",
       "      <td>0</td>\n",
       "      <td>94</td>\n",
       "      <td>993734</td>\n",
       "      <td>Campos Machado</td>\n",
       "      <td>2011</td>\n",
       "      <td>993734 140111 1530</td>\n",
       "      <td>2011-01-14 02:00:00</td>\n",
       "      <td>2011-02-03 02:00:00</td>\n",
       "      <td>Dá a denominação de \"Prof. Bruno Florenzano\" à...</td>\n",
       "      <td>1</td>\n",
       "      <td>5</td>\n",
       "    </tr>\n",
       "    <tr>\n",
       "      <th>1</th>\n",
       "      <td>1</td>\n",
       "      <td>449</td>\n",
       "      <td>994148</td>\n",
       "      <td>Waldir Agnello</td>\n",
       "      <td>2011</td>\n",
       "      <td>994148 010211 1350</td>\n",
       "      <td>2011-02-01 02:00:00</td>\n",
       "      <td>2011-02-02 02:00:00</td>\n",
       "      <td>Dispõe sobre o Programa Permanente de Especial...</td>\n",
       "      <td>1</td>\n",
       "      <td>2</td>\n",
       "    </tr>\n",
       "    <tr>\n",
       "      <th>2</th>\n",
       "      <td>2</td>\n",
       "      <td>222</td>\n",
       "      <td>994157</td>\n",
       "      <td>Geraldo Vinholi</td>\n",
       "      <td>2011</td>\n",
       "      <td>994157 080211 1134</td>\n",
       "      <td>2011-02-01 02:00:00</td>\n",
       "      <td>2011-02-09 02:00:00</td>\n",
       "      <td>Autoriza o Poder Executivo a criar o \"Programa...</td>\n",
       "      <td>1</td>\n",
       "      <td>17</td>\n",
       "    </tr>\n",
       "    <tr>\n",
       "      <th>3</th>\n",
       "      <td>3</td>\n",
       "      <td>106</td>\n",
       "      <td>994352</td>\n",
       "      <td>Tribunal de Justiça</td>\n",
       "      <td>2011</td>\n",
       "      <td>NaN</td>\n",
       "      <td>2011-02-02 02:00:00</td>\n",
       "      <td>2011-02-02 02:00:00</td>\n",
       "      <td>Altera o art. 9° da Lei Complementar nº 851, d...</td>\n",
       "      <td>2</td>\n",
       "      <td>1</td>\n",
       "    </tr>\n",
       "    <tr>\n",
       "      <th>4</th>\n",
       "      <td>4</td>\n",
       "      <td>10592</td>\n",
       "      <td>994543</td>\n",
       "      <td>Carlos Giannazi</td>\n",
       "      <td>2011</td>\n",
       "      <td>994543 030211 1218</td>\n",
       "      <td>2011-02-03 02:00:00</td>\n",
       "      <td>2011-02-08 02:00:00</td>\n",
       "      <td>Dá a denominação de \"Takashi Morita\" à Escola ...</td>\n",
       "      <td>1</td>\n",
       "      <td>12</td>\n",
       "    </tr>\n",
       "  </tbody>\n",
       "</table>\n",
       "</div>"
      ],
      "text/plain": [
       "   index IdAutor IdDocumento            NomeAutor AnoLegislativo  \\\n",
       "0      0      94      993734       Campos Machado           2011   \n",
       "1      1     449      994148       Waldir Agnello           2011   \n",
       "2      2     222      994157      Geraldo Vinholi           2011   \n",
       "3      3     106      994352  Tribunal de Justiça           2011   \n",
       "4      4   10592      994543      Carlos Giannazi           2011   \n",
       "\n",
       "     CodOriginalidade    DtEntradaSistema        DtPublicacao  \\\n",
       "0  993734 140111 1530 2011-01-14 02:00:00 2011-02-03 02:00:00   \n",
       "1  994148 010211 1350 2011-02-01 02:00:00 2011-02-02 02:00:00   \n",
       "2  994157 080211 1134 2011-02-01 02:00:00 2011-02-09 02:00:00   \n",
       "3                 NaN 2011-02-02 02:00:00 2011-02-02 02:00:00   \n",
       "4  994543 030211 1218 2011-02-03 02:00:00 2011-02-08 02:00:00   \n",
       "\n",
       "                                              Ementa IdNatureza NroLegislativo  \n",
       "0  Dá a denominação de \"Prof. Bruno Florenzano\" à...          1              5  \n",
       "1  Dispõe sobre o Programa Permanente de Especial...          1              2  \n",
       "2  Autoriza o Poder Executivo a criar o \"Programa...          1             17  \n",
       "3  Altera o art. 9° da Lei Complementar nº 851, d...          2              1  \n",
       "4  Dá a denominação de \"Takashi Morita\" à Escola ...          1             12  "
      ]
     },
     "execution_count": 31,
     "metadata": {},
     "output_type": "execute_result"
    }
   ],
   "source": [
    "autores_projetos.reset_index().head()"
   ]
  },
  {
   "cell_type": "code",
   "execution_count": null,
   "metadata": {},
   "outputs": [],
   "source": []
  },
  {
   "cell_type": "code",
   "execution_count": 46,
   "metadata": {},
   "outputs": [],
   "source": [
    "autores_projetos = autores_projetos[(autores_projetos['NomeAutor'] != 'Comissão de Ciência, Tecnologia, Inovação e Informação') &\n",
    "                                   (autores_projetos['NomeAutor'] !=  'Comissão de Constituição, Justiça e Redação') &\n",
    "                                   (autores_projetos['NomeAutor'] !=  'Comissão de Defesa dos Direitos da Pessoa Humana, da Cidadania, da Participação e das Questões Sociais') &\n",
    "                                   (autores_projetos['NomeAutor'] !=  'Comissão de Finanças, Orçamento e Planejamento') &\n",
    "                                   (autores_projetos['NomeAutor'] !=  'Comissão de Segurança Pública e Assuntos Penitenciários') &\n",
    "                                   (autores_projetos['NomeAutor'] !=  'Comissão de Transportes e Comunicações') & \n",
    "                                   (autores_projetos['NomeAutor'] !=  'CPI Acidentes no Transporte Ferroviário de Carga') &\n",
    "                                   (autores_projetos['NomeAutor'] !=  'CPI Obesidade Infantil') &\n",
    "                                   (autores_projetos['NomeAutor'] !=  'CPI Violações dos Direitos Humanos nas Faculdades Paulistas') &\n",
    "                                   (autores_projetos['NomeAutor'] !=  'Defensoria Pública do Estado') &\n",
    "                                   (autores_projetos['NomeAutor'] !=  'Governador') &\n",
    "                                   (autores_projetos['NomeAutor'] !=  'Mesa') &\n",
    "                                   (autores_projetos['NomeAutor'] !=  'Procurador-Geral de Justiça') &\n",
    "                                   (autores_projetos['NomeAutor'] !=  'Tribunal de Contas') &\n",
    "                                   (autores_projetos['NomeAutor'] !=  'Tribunal de Justiça') \n",
    "                                  ]"
   ]
  },
  {
   "cell_type": "code",
   "execution_count": null,
   "metadata": {},
   "outputs": [],
   "source": []
  },
  {
   "cell_type": "code",
   "execution_count": 47,
   "metadata": {},
   "outputs": [],
   "source": [
    "#autores_projetos.to_csv('resultados/autores_projetos.csv', index=False)"
   ]
  },
  {
   "cell_type": "code",
   "execution_count": null,
   "metadata": {},
   "outputs": [],
   "source": []
  },
  {
   "cell_type": "code",
   "execution_count": 48,
   "metadata": {},
   "outputs": [
    {
     "data": {
      "text/plain": [
       "1004188    70\n",
       "999959     69\n",
       "1090526    64\n",
       "999317     62\n",
       "1079153    60\n",
       "1208485    55\n",
       "1243979    54\n",
       "1225044    49\n",
       "999951     48\n",
       "1135542    48\n",
       "1149981    37\n",
       "1081175    37\n",
       "1227783    37\n",
       "1194013    36\n",
       "1226465    36\n",
       "1003926    35\n",
       "1019108    34\n",
       "1218462    34\n",
       "1012898    34\n",
       "1010592    34\n",
       "1215196    34\n",
       "1150832    34\n",
       "1218453    34\n",
       "1073052    33\n",
       "1061304    33\n",
       "1115645    33\n",
       "1166826    33\n",
       "1141407    33\n",
       "1049426    33\n",
       "1040166    33\n",
       "           ..\n",
       "1217120     1\n",
       "1044309     1\n",
       "1073148     1\n",
       "1112634     1\n",
       "1000423     1\n",
       "1019797     1\n",
       "1134367     1\n",
       "1191151     1\n",
       "1003385     1\n",
       "1050624     1\n",
       "1010560     1\n",
       "1092890     1\n",
       "1156524     1\n",
       "996283      1\n",
       "1086910     1\n",
       "1119633     1\n",
       "1059659     1\n",
       "1241032     1\n",
       "1158144     1\n",
       "999464      1\n",
       "1082874     1\n",
       "1125915     1\n",
       "1030113     1\n",
       "1140196     1\n",
       "999320      1\n",
       "1238352     1\n",
       "1201902     1\n",
       "1181961     1\n",
       "1012038     1\n",
       "1090483     1\n",
       "Name: IdDocumento, Length: 4580, dtype: int64"
      ]
     },
     "execution_count": 48,
     "metadata": {},
     "output_type": "execute_result"
    }
   ],
   "source": [
    "autores_projetos['IdDocumento'].value_counts()"
   ]
  },
  {
   "cell_type": "code",
   "execution_count": 49,
   "metadata": {},
   "outputs": [],
   "source": [
    "seleciona = autores_projetos[(autores_projetos['IdDocumento'] == '1000038268')]"
   ]
  },
  {
   "cell_type": "code",
   "execution_count": 50,
   "metadata": {},
   "outputs": [
    {
     "data": {
      "text/plain": [
       "Series([], Name: IdDocumento, dtype: int64)"
      ]
     },
     "execution_count": 50,
     "metadata": {},
     "output_type": "execute_result"
    }
   ],
   "source": [
    "seleciona['IdDocumento'].value_counts()"
   ]
  },
  {
   "cell_type": "code",
   "execution_count": 51,
   "metadata": {},
   "outputs": [
    {
     "data": {
      "text/plain": [
       "{'NomeAutor': {0: 'Campos Machado',\n",
       "  1: 'Waldir Agnello',\n",
       "  2: 'Geraldo Vinholi',\n",
       "  4: 'Carlos Giannazi',\n",
       "  5: 'relator especial pela Comissão de Finanças'},\n",
       " 'NroLegislativo': {0: '5', 1: '2', 2: '17', 4: '12', 5: '1'},\n",
       " 'CodOriginalidade': {0: '993734 140111 1530',\n",
       "  1: '994148 010211 1350',\n",
       "  2: '994157 080211 1134',\n",
       "  4: '994543 030211 1218',\n",
       "  5: nan},\n",
       " 'IdNatureza': {0: '1', 1: '1', 2: '1', 4: '1', 5: '4'},\n",
       " 'AnoLegislativo': {0: '2011', 1: '2011', 2: '2011', 4: '2011', 5: '2011'}}"
      ]
     },
     "execution_count": 51,
     "metadata": {},
     "output_type": "execute_result"
    }
   ],
   "source": [
    "autores_projetos[['NomeAutor', 'NroLegislativo', 'CodOriginalidade', 'IdNatureza', 'AnoLegislativo']].head(5).to_dict()"
   ]
  },
  {
   "cell_type": "code",
   "execution_count": null,
   "metadata": {},
   "outputs": [],
   "source": []
  },
  {
   "cell_type": "markdown",
   "metadata": {},
   "source": [
    "Cria chave única"
   ]
  },
  {
   "cell_type": "code",
   "execution_count": 52,
   "metadata": {},
   "outputs": [],
   "source": [
    "def limpeza1(linha):\n",
    "    IdDocumento = str(linha[\"IdDocumento\"])\n",
    "    NroLegislativo = str(linha[\"NroLegislativo\"])\n",
    "    CodOriginalidade = str(linha[\"CodOriginalidade\"])\n",
    "    IdNatureza = str(linha[\"IdNatureza\"])\n",
    "    AnoLegislativo = str(linha[\"AnoLegislativo\"])\n",
    "    documento = IdDocumento+NroLegislativo+CodOriginalidade+IdNatureza+AnoLegislativo\n",
    "    return str(documento)"
   ]
  },
  {
   "cell_type": "code",
   "execution_count": 53,
   "metadata": {},
   "outputs": [],
   "source": [
    "autores_projetos[\"chave_unica\"] = autores_projetos.apply(limpeza1, axis=1)"
   ]
  },
  {
   "cell_type": "code",
   "execution_count": 54,
   "metadata": {},
   "outputs": [
    {
     "data": {
      "text/html": [
       "<div>\n",
       "<style scoped>\n",
       "    .dataframe tbody tr th:only-of-type {\n",
       "        vertical-align: middle;\n",
       "    }\n",
       "\n",
       "    .dataframe tbody tr th {\n",
       "        vertical-align: top;\n",
       "    }\n",
       "\n",
       "    .dataframe thead th {\n",
       "        text-align: right;\n",
       "    }\n",
       "</style>\n",
       "<table border=\"1\" class=\"dataframe\">\n",
       "  <thead>\n",
       "    <tr style=\"text-align: right;\">\n",
       "      <th></th>\n",
       "      <th>IdAutor</th>\n",
       "      <th>IdDocumento</th>\n",
       "      <th>NomeAutor</th>\n",
       "      <th>AnoLegislativo</th>\n",
       "      <th>CodOriginalidade</th>\n",
       "      <th>DtEntradaSistema</th>\n",
       "      <th>DtPublicacao</th>\n",
       "      <th>Ementa</th>\n",
       "      <th>IdNatureza</th>\n",
       "      <th>NroLegislativo</th>\n",
       "      <th>chave_unica</th>\n",
       "    </tr>\n",
       "  </thead>\n",
       "  <tbody>\n",
       "    <tr>\n",
       "      <th>0</th>\n",
       "      <td>94</td>\n",
       "      <td>993734</td>\n",
       "      <td>Campos Machado</td>\n",
       "      <td>2011</td>\n",
       "      <td>993734 140111 1530</td>\n",
       "      <td>2011-01-14 02:00:00</td>\n",
       "      <td>2011-02-03 02:00:00</td>\n",
       "      <td>Dá a denominação de \"Prof. Bruno Florenzano\" à...</td>\n",
       "      <td>1</td>\n",
       "      <td>5</td>\n",
       "      <td>9937345993734 140111 153012011</td>\n",
       "    </tr>\n",
       "    <tr>\n",
       "      <th>1</th>\n",
       "      <td>449</td>\n",
       "      <td>994148</td>\n",
       "      <td>Waldir Agnello</td>\n",
       "      <td>2011</td>\n",
       "      <td>994148 010211 1350</td>\n",
       "      <td>2011-02-01 02:00:00</td>\n",
       "      <td>2011-02-02 02:00:00</td>\n",
       "      <td>Dispõe sobre o Programa Permanente de Especial...</td>\n",
       "      <td>1</td>\n",
       "      <td>2</td>\n",
       "      <td>9941482994148 010211 135012011</td>\n",
       "    </tr>\n",
       "    <tr>\n",
       "      <th>2</th>\n",
       "      <td>222</td>\n",
       "      <td>994157</td>\n",
       "      <td>Geraldo Vinholi</td>\n",
       "      <td>2011</td>\n",
       "      <td>994157 080211 1134</td>\n",
       "      <td>2011-02-01 02:00:00</td>\n",
       "      <td>2011-02-09 02:00:00</td>\n",
       "      <td>Autoriza o Poder Executivo a criar o \"Programa...</td>\n",
       "      <td>1</td>\n",
       "      <td>17</td>\n",
       "      <td>99415717994157 080211 113412011</td>\n",
       "    </tr>\n",
       "    <tr>\n",
       "      <th>4</th>\n",
       "      <td>10592</td>\n",
       "      <td>994543</td>\n",
       "      <td>Carlos Giannazi</td>\n",
       "      <td>2011</td>\n",
       "      <td>994543 030211 1218</td>\n",
       "      <td>2011-02-03 02:00:00</td>\n",
       "      <td>2011-02-08 02:00:00</td>\n",
       "      <td>Dá a denominação de \"Takashi Morita\" à Escola ...</td>\n",
       "      <td>1</td>\n",
       "      <td>12</td>\n",
       "      <td>99454312994543 030211 121812011</td>\n",
       "    </tr>\n",
       "    <tr>\n",
       "      <th>5</th>\n",
       "      <td>10073</td>\n",
       "      <td>994822</td>\n",
       "      <td>relator especial pela Comissão de Finanças</td>\n",
       "      <td>2011</td>\n",
       "      <td>NaN</td>\n",
       "      <td>2011-02-07 02:00:00</td>\n",
       "      <td>2011-02-05 02:00:00</td>\n",
       "      <td>Reconhece a decisão do Tribunal de Contas do E...</td>\n",
       "      <td>4</td>\n",
       "      <td>1</td>\n",
       "      <td>9948221nan42011</td>\n",
       "    </tr>\n",
       "  </tbody>\n",
       "</table>\n",
       "</div>"
      ],
      "text/plain": [
       "  IdAutor IdDocumento                                   NomeAutor  \\\n",
       "0      94      993734                              Campos Machado   \n",
       "1     449      994148                              Waldir Agnello   \n",
       "2     222      994157                             Geraldo Vinholi   \n",
       "4   10592      994543                             Carlos Giannazi   \n",
       "5   10073      994822  relator especial pela Comissão de Finanças   \n",
       "\n",
       "  AnoLegislativo    CodOriginalidade    DtEntradaSistema        DtPublicacao  \\\n",
       "0           2011  993734 140111 1530 2011-01-14 02:00:00 2011-02-03 02:00:00   \n",
       "1           2011  994148 010211 1350 2011-02-01 02:00:00 2011-02-02 02:00:00   \n",
       "2           2011  994157 080211 1134 2011-02-01 02:00:00 2011-02-09 02:00:00   \n",
       "4           2011  994543 030211 1218 2011-02-03 02:00:00 2011-02-08 02:00:00   \n",
       "5           2011                 NaN 2011-02-07 02:00:00 2011-02-05 02:00:00   \n",
       "\n",
       "                                              Ementa IdNatureza  \\\n",
       "0  Dá a denominação de \"Prof. Bruno Florenzano\" à...          1   \n",
       "1  Dispõe sobre o Programa Permanente de Especial...          1   \n",
       "2  Autoriza o Poder Executivo a criar o \"Programa...          1   \n",
       "4  Dá a denominação de \"Takashi Morita\" à Escola ...          1   \n",
       "5  Reconhece a decisão do Tribunal de Contas do E...          4   \n",
       "\n",
       "  NroLegislativo                      chave_unica  \n",
       "0              5   9937345993734 140111 153012011  \n",
       "1              2   9941482994148 010211 135012011  \n",
       "2             17  99415717994157 080211 113412011  \n",
       "4             12  99454312994543 030211 121812011  \n",
       "5              1                  9948221nan42011  "
      ]
     },
     "execution_count": 54,
     "metadata": {},
     "output_type": "execute_result"
    }
   ],
   "source": [
    "autores_projetos.head()"
   ]
  },
  {
   "cell_type": "code",
   "execution_count": 55,
   "metadata": {},
   "outputs": [
    {
     "data": {
      "text/plain": [
       "NomeAutor\n",
       "Enio Tatto                                                  726\n",
       "José Bittencourt                                            279\n",
       "Carlos Giannazi                                             220\n",
       "Mauro Bragato                                               205\n",
       "Itamar Borges                                               184\n",
       "Campos Machado                                              167\n",
       "Fernando Capez                                              116\n",
       "Edmir Chedid                                                106\n",
       "Luiz Carlos Gondim                                          103\n",
       "Rita Passos                                                  89\n",
       "Welson Gasparini                                             83\n",
       "Leci Brandão                                                 82\n",
       "Antonio Salim Curiati                                        79\n",
       "Célia Leão                                                   78\n",
       "Olímpio Gomes                                                77\n",
       "Chico Sardelli                                               76\n",
       "Ed Thomas                                                    73\n",
       "Baleia Rossi                                                 73\n",
       "Jorge Caruso                                                 70\n",
       "Afonso Lobato                                                70\n",
       "Roberto Engler                                               69\n",
       "Alex Manente                                                 67\n",
       "Sebastião Santos                                             67\n",
       "Beth Sahão                                                   67\n",
       "Carlão Pignatari                                             66\n",
       "Hélio Nishimoto                                              66\n",
       "Beto Trícoli                                                 66\n",
       "Pedro Tobias                                                 65\n",
       "Heroilma Soares Tavares                                      65\n",
       "Cauê Macris                                                  64\n",
       "                                                           ... \n",
       "Luciano Batista                                              22\n",
       "Alcides Amazonas                                             19\n",
       "Milton Leite Filho                                           19\n",
       "Paulo Alexandre Barbosa                                      18\n",
       "Ary Fossen                                                   18\n",
       "Marcos Zerbini                                               18\n",
       "Bruno Covas                                                  17\n",
       "Barros Munhoz                                                16\n",
       "Davi Zaia                                                    14\n",
       "Ramalho da Construção                                        14\n",
       "Edson Giriboni                                               14\n",
       "Leandro KLB                                                  13\n",
       "Gil Arantes                                                  11\n",
       "Corauci Sobrinho                                              7\n",
       "Dilador Borges                                                7\n",
       "relator especial pela Comissão de Finanças                    5\n",
       "CPI do Desaparecimento de Pessoas                             3\n",
       "Terezinha da Paulina                                          3\n",
       "Widerson Tadeu Anzelotti                                      3\n",
       "Comissão de Assuntos Metropolitanos e Municipais              2\n",
       "Waldir Agnello                                                2\n",
       "Ricardo Montoro                                               1\n",
       "CPI da Cartelização do Mercado de Autopeças de Reposição      1\n",
       "CPI da TV por Assinatura                                      1\n",
       "Mauro Menuchi                                                 1\n",
       "Comissão de Educação e Cultura                                1\n",
       "Comissão de Infraestrutura                                    1\n",
       "Comissão de Serviços e Obras Públicas                         1\n",
       "Iduigues Martins                                              1\n",
       "Camilo Gava                                                   1\n",
       "Name: chave_unica, Length: 125, dtype: int64"
      ]
     },
     "execution_count": 55,
     "metadata": {},
     "output_type": "execute_result"
    }
   ],
   "source": [
    "#autores_projetos.groupby(\"NomeAutor\").chave_unica.count().sort_values(ascending=False)\n",
    "autores_projetos.groupby('NomeAutor')['chave_unica'].nunique().sort_values(ascending=False)"
   ]
  },
  {
   "cell_type": "code",
   "execution_count": null,
   "metadata": {},
   "outputs": [],
   "source": []
  },
  {
   "cell_type": "markdown",
   "metadata": {},
   "source": [
    "Número de autores em geral"
   ]
  },
  {
   "cell_type": "code",
   "execution_count": 56,
   "metadata": {},
   "outputs": [
    {
     "data": {
      "text/plain": [
       "125"
      ]
     },
     "execution_count": 56,
     "metadata": {},
     "output_type": "execute_result"
    }
   ],
   "source": [
    "conta = len(autores_projetos['NomeAutor'].value_counts())\n",
    "conta"
   ]
  },
  {
   "cell_type": "markdown",
   "metadata": {},
   "source": [
    "Número de projetos"
   ]
  },
  {
   "cell_type": "code",
   "execution_count": 57,
   "metadata": {},
   "outputs": [
    {
     "data": {
      "text/plain": [
       "4580"
      ]
     },
     "execution_count": 57,
     "metadata": {},
     "output_type": "execute_result"
    }
   ],
   "source": [
    "conta = len(autores_projetos['IdDocumento'].value_counts())\n",
    "conta"
   ]
  },
  {
   "cell_type": "code",
   "execution_count": null,
   "metadata": {},
   "outputs": [],
   "source": []
  },
  {
   "cell_type": "code",
   "execution_count": 171,
   "metadata": {},
   "outputs": [],
   "source": [
    "autores_projetos.to_csv('resultados/deputados_autores_projetos.csv', index=False)"
   ]
  },
  {
   "cell_type": "code",
   "execution_count": null,
   "metadata": {},
   "outputs": [],
   "source": []
  },
  {
   "cell_type": "markdown",
   "metadata": {},
   "source": [
    "Total de autores"
   ]
  },
  {
   "cell_type": "code",
   "execution_count": 58,
   "metadata": {},
   "outputs": [
    {
     "data": {
      "text/plain": [
       "125"
      ]
     },
     "execution_count": 58,
     "metadata": {},
     "output_type": "execute_result"
    }
   ],
   "source": [
    "len(autores_projetos['NomeAutor'].value_counts())"
   ]
  },
  {
   "cell_type": "markdown",
   "metadata": {},
   "source": [
    "Autores com mais projetos"
   ]
  },
  {
   "cell_type": "code",
   "execution_count": 59,
   "metadata": {},
   "outputs": [
    {
     "data": {
      "text/plain": [
       "NomeAutor\n",
       "Enio Tatto                                                  726\n",
       "José Bittencourt                                            279\n",
       "Carlos Giannazi                                             220\n",
       "Mauro Bragato                                               205\n",
       "Itamar Borges                                               184\n",
       "Campos Machado                                              167\n",
       "Fernando Capez                                              116\n",
       "Edmir Chedid                                                106\n",
       "Luiz Carlos Gondim                                          103\n",
       "Rita Passos                                                  89\n",
       "Welson Gasparini                                             83\n",
       "Leci Brandão                                                 82\n",
       "Antonio Salim Curiati                                        79\n",
       "Célia Leão                                                   78\n",
       "Olímpio Gomes                                                77\n",
       "Chico Sardelli                                               76\n",
       "Ed Thomas                                                    73\n",
       "Baleia Rossi                                                 73\n",
       "Jorge Caruso                                                 70\n",
       "Afonso Lobato                                                70\n",
       "Roberto Engler                                               69\n",
       "Alex Manente                                                 67\n",
       "Sebastião Santos                                             67\n",
       "Beth Sahão                                                   67\n",
       "Carlão Pignatari                                             66\n",
       "Hélio Nishimoto                                              66\n",
       "Beto Trícoli                                                 66\n",
       "Pedro Tobias                                                 65\n",
       "Heroilma Soares Tavares                                      65\n",
       "Cauê Macris                                                  64\n",
       "                                                           ... \n",
       "Luciano Batista                                              22\n",
       "Alcides Amazonas                                             19\n",
       "Milton Leite Filho                                           19\n",
       "Paulo Alexandre Barbosa                                      18\n",
       "Ary Fossen                                                   18\n",
       "Marcos Zerbini                                               18\n",
       "Bruno Covas                                                  17\n",
       "Barros Munhoz                                                16\n",
       "Davi Zaia                                                    14\n",
       "Ramalho da Construção                                        14\n",
       "Edson Giriboni                                               14\n",
       "Leandro KLB                                                  13\n",
       "Gil Arantes                                                  11\n",
       "Corauci Sobrinho                                              7\n",
       "Dilador Borges                                                7\n",
       "relator especial pela Comissão de Finanças                    5\n",
       "CPI do Desaparecimento de Pessoas                             3\n",
       "Terezinha da Paulina                                          3\n",
       "Widerson Tadeu Anzelotti                                      3\n",
       "Comissão de Assuntos Metropolitanos e Municipais              2\n",
       "Waldir Agnello                                                2\n",
       "Ricardo Montoro                                               1\n",
       "CPI da Cartelização do Mercado de Autopeças de Reposição      1\n",
       "CPI da TV por Assinatura                                      1\n",
       "Mauro Menuchi                                                 1\n",
       "Comissão de Educação e Cultura                                1\n",
       "Comissão de Infraestrutura                                    1\n",
       "Comissão de Serviços e Obras Públicas                         1\n",
       "Iduigues Martins                                              1\n",
       "Camilo Gava                                                   1\n",
       "Name: chave_unica, Length: 125, dtype: int64"
      ]
     },
     "execution_count": 59,
     "metadata": {},
     "output_type": "execute_result"
    }
   ],
   "source": [
    "#autores_deputados.groupby(\"NomeAutor\").NroLegislativo.count().sort_values(ascending=False)\n",
    "#autores_projetos.groupby(\"NomeAutor\").IdDocumento.count().sort_values(ascending=False)\n",
    "autores_projetos.groupby('NomeAutor')['chave_unica'].nunique().sort_values(ascending=False)"
   ]
  },
  {
   "cell_type": "code",
   "execution_count": 101,
   "metadata": {},
   "outputs": [],
   "source": [
    "autores_projetos.to_excel('resultados/deputados_autores_projetos_legislatura_passada.xlsx',sheet_name='Sheet1', index=False)"
   ]
  },
  {
   "cell_type": "code",
   "execution_count": null,
   "metadata": {},
   "outputs": [],
   "source": []
  },
  {
   "cell_type": "code",
   "execution_count": 60,
   "metadata": {},
   "outputs": [
    {
     "data": {
      "text/plain": [
       "4580"
      ]
     },
     "execution_count": 60,
     "metadata": {},
     "output_type": "execute_result"
    }
   ],
   "source": [
    "a = len(autores_projetos['chave_unica'].value_counts())\n",
    "a"
   ]
  },
  {
   "cell_type": "code",
   "execution_count": null,
   "metadata": {},
   "outputs": [],
   "source": []
  },
  {
   "cell_type": "code",
   "execution_count": 61,
   "metadata": {},
   "outputs": [
    {
     "data": {
      "text/html": [
       "<div>\n",
       "<style scoped>\n",
       "    .dataframe tbody tr th:only-of-type {\n",
       "        vertical-align: middle;\n",
       "    }\n",
       "\n",
       "    .dataframe tbody tr th {\n",
       "        vertical-align: top;\n",
       "    }\n",
       "\n",
       "    .dataframe thead th {\n",
       "        text-align: right;\n",
       "    }\n",
       "</style>\n",
       "<table border=\"1\" class=\"dataframe\">\n",
       "  <thead>\n",
       "    <tr style=\"text-align: right;\">\n",
       "      <th></th>\n",
       "      <th>index</th>\n",
       "      <th>IdAutor</th>\n",
       "      <th>IdDocumento</th>\n",
       "      <th>NomeAutor</th>\n",
       "      <th>AnoLegislativo</th>\n",
       "      <th>CodOriginalidade</th>\n",
       "      <th>DtEntradaSistema</th>\n",
       "      <th>DtPublicacao</th>\n",
       "      <th>Ementa</th>\n",
       "      <th>IdNatureza</th>\n",
       "      <th>NroLegislativo</th>\n",
       "      <th>chave_unica</th>\n",
       "    </tr>\n",
       "  </thead>\n",
       "  <tbody>\n",
       "    <tr>\n",
       "      <th>0</th>\n",
       "      <td>0</td>\n",
       "      <td>94</td>\n",
       "      <td>993734</td>\n",
       "      <td>Campos Machado</td>\n",
       "      <td>2011</td>\n",
       "      <td>993734 140111 1530</td>\n",
       "      <td>2011-01-14 02:00:00</td>\n",
       "      <td>2011-02-03 02:00:00</td>\n",
       "      <td>Dá a denominação de \"Prof. Bruno Florenzano\" à...</td>\n",
       "      <td>1</td>\n",
       "      <td>5</td>\n",
       "      <td>9937345993734 140111 153012011</td>\n",
       "    </tr>\n",
       "    <tr>\n",
       "      <th>1</th>\n",
       "      <td>1</td>\n",
       "      <td>449</td>\n",
       "      <td>994148</td>\n",
       "      <td>Waldir Agnello</td>\n",
       "      <td>2011</td>\n",
       "      <td>994148 010211 1350</td>\n",
       "      <td>2011-02-01 02:00:00</td>\n",
       "      <td>2011-02-02 02:00:00</td>\n",
       "      <td>Dispõe sobre o Programa Permanente de Especial...</td>\n",
       "      <td>1</td>\n",
       "      <td>2</td>\n",
       "      <td>9941482994148 010211 135012011</td>\n",
       "    </tr>\n",
       "    <tr>\n",
       "      <th>2</th>\n",
       "      <td>2</td>\n",
       "      <td>222</td>\n",
       "      <td>994157</td>\n",
       "      <td>Geraldo Vinholi</td>\n",
       "      <td>2011</td>\n",
       "      <td>994157 080211 1134</td>\n",
       "      <td>2011-02-01 02:00:00</td>\n",
       "      <td>2011-02-09 02:00:00</td>\n",
       "      <td>Autoriza o Poder Executivo a criar o \"Programa...</td>\n",
       "      <td>1</td>\n",
       "      <td>17</td>\n",
       "      <td>99415717994157 080211 113412011</td>\n",
       "    </tr>\n",
       "    <tr>\n",
       "      <th>3</th>\n",
       "      <td>4</td>\n",
       "      <td>10592</td>\n",
       "      <td>994543</td>\n",
       "      <td>Carlos Giannazi</td>\n",
       "      <td>2011</td>\n",
       "      <td>994543 030211 1218</td>\n",
       "      <td>2011-02-03 02:00:00</td>\n",
       "      <td>2011-02-08 02:00:00</td>\n",
       "      <td>Dá a denominação de \"Takashi Morita\" à Escola ...</td>\n",
       "      <td>1</td>\n",
       "      <td>12</td>\n",
       "      <td>99454312994543 030211 121812011</td>\n",
       "    </tr>\n",
       "    <tr>\n",
       "      <th>4</th>\n",
       "      <td>5</td>\n",
       "      <td>10073</td>\n",
       "      <td>994822</td>\n",
       "      <td>relator especial pela Comissão de Finanças</td>\n",
       "      <td>2011</td>\n",
       "      <td>NaN</td>\n",
       "      <td>2011-02-07 02:00:00</td>\n",
       "      <td>2011-02-05 02:00:00</td>\n",
       "      <td>Reconhece a decisão do Tribunal de Contas do E...</td>\n",
       "      <td>4</td>\n",
       "      <td>1</td>\n",
       "      <td>9948221nan42011</td>\n",
       "    </tr>\n",
       "  </tbody>\n",
       "</table>\n",
       "</div>"
      ],
      "text/plain": [
       "   index IdAutor IdDocumento                                   NomeAutor  \\\n",
       "0      0      94      993734                              Campos Machado   \n",
       "1      1     449      994148                              Waldir Agnello   \n",
       "2      2     222      994157                             Geraldo Vinholi   \n",
       "3      4   10592      994543                             Carlos Giannazi   \n",
       "4      5   10073      994822  relator especial pela Comissão de Finanças   \n",
       "\n",
       "  AnoLegislativo    CodOriginalidade    DtEntradaSistema        DtPublicacao  \\\n",
       "0           2011  993734 140111 1530 2011-01-14 02:00:00 2011-02-03 02:00:00   \n",
       "1           2011  994148 010211 1350 2011-02-01 02:00:00 2011-02-02 02:00:00   \n",
       "2           2011  994157 080211 1134 2011-02-01 02:00:00 2011-02-09 02:00:00   \n",
       "3           2011  994543 030211 1218 2011-02-03 02:00:00 2011-02-08 02:00:00   \n",
       "4           2011                 NaN 2011-02-07 02:00:00 2011-02-05 02:00:00   \n",
       "\n",
       "                                              Ementa IdNatureza  \\\n",
       "0  Dá a denominação de \"Prof. Bruno Florenzano\" à...          1   \n",
       "1  Dispõe sobre o Programa Permanente de Especial...          1   \n",
       "2  Autoriza o Poder Executivo a criar o \"Programa...          1   \n",
       "3  Dá a denominação de \"Takashi Morita\" à Escola ...          1   \n",
       "4  Reconhece a decisão do Tribunal de Contas do E...          4   \n",
       "\n",
       "  NroLegislativo                      chave_unica  \n",
       "0              5   9937345993734 140111 153012011  \n",
       "1              2   9941482994148 010211 135012011  \n",
       "2             17  99415717994157 080211 113412011  \n",
       "3             12  99454312994543 030211 121812011  \n",
       "4              1                  9948221nan42011  "
      ]
     },
     "execution_count": 61,
     "metadata": {},
     "output_type": "execute_result"
    }
   ],
   "source": [
    "autores_projetos.reset_index().head()"
   ]
  },
  {
   "cell_type": "code",
   "execution_count": 49,
   "metadata": {},
   "outputs": [],
   "source": [
    "seleciona_deputado.to_excel('resultados/exemplo_deputados_autores_projetos.xlsx',sheet_name='Sheet1', index=False)"
   ]
  },
  {
   "cell_type": "code",
   "execution_count": null,
   "metadata": {},
   "outputs": [],
   "source": []
  },
  {
   "cell_type": "markdown",
   "metadata": {},
   "source": [
    "# Códigos das palavras-chave"
   ]
  },
  {
   "cell_type": "markdown",
   "metadata": {},
   "source": [
    "https://www.al.sp.gov.br/dados-abertos/recurso/42 <br>\n",
    "https://www.al.sp.gov.br/dados-abertos/recurso/41"
   ]
  },
  {
   "cell_type": "code",
   "execution_count": 63,
   "metadata": {},
   "outputs": [],
   "source": [
    "with open(\"dados/processo_legislativo/documento_palavras_set_2018.xml\", 'r') as f:\n",
    "    xmlString = f.read()\n",
    "jsonString = json.dumps(xmltodict.parse(xmlString), indent=4)\n",
    "with open(\"output.json\", 'w') as f:\n",
    "    f.write(jsonString)"
   ]
  },
  {
   "cell_type": "code",
   "execution_count": 64,
   "metadata": {},
   "outputs": [],
   "source": [
    "arquivo_json = open('output.json', 'r')\n",
    "dados_json = json.load(arquivo_json)"
   ]
  },
  {
   "cell_type": "code",
   "execution_count": 65,
   "metadata": {},
   "outputs": [],
   "source": [
    "#dados_json"
   ]
  },
  {
   "cell_type": "code",
   "execution_count": 66,
   "metadata": {},
   "outputs": [],
   "source": [
    "lista = dados_json['documentos_palavras']['DocumentoPalavra']\n",
    "df_codpalavras = pd.DataFrame(lista, columns = ['IdDocumento', 'IdPalavra'])"
   ]
  },
  {
   "cell_type": "markdown",
   "metadata": {},
   "source": [
    "# Palavras-chave"
   ]
  },
  {
   "cell_type": "code",
   "execution_count": 67,
   "metadata": {},
   "outputs": [],
   "source": [
    "with open(\"dados/processo_legislativo/palavras_chave_set_2018.xml\", 'r') as f:\n",
    "    xmlString = f.read()\n",
    "jsonString = json.dumps(xmltodict.parse(xmlString), indent=4)\n",
    "with open(\"output.json\", 'w') as f:\n",
    "    f.write(jsonString)"
   ]
  },
  {
   "cell_type": "code",
   "execution_count": 68,
   "metadata": {},
   "outputs": [],
   "source": [
    "arquivo_json = open('output.json', 'r')\n",
    "dados_json = json.load(arquivo_json)"
   ]
  },
  {
   "cell_type": "code",
   "execution_count": 69,
   "metadata": {},
   "outputs": [],
   "source": [
    "#dados_json"
   ]
  },
  {
   "cell_type": "code",
   "execution_count": 70,
   "metadata": {},
   "outputs": [],
   "source": [
    "lista = dados_json['palavras_chave']['PalavraChave']\n",
    "df_palavras = pd.DataFrame(lista, columns = ['IdPalavra', 'Palavra', 'PalavraSemAcento'])"
   ]
  },
  {
   "cell_type": "code",
   "execution_count": null,
   "metadata": {},
   "outputs": [],
   "source": []
  },
  {
   "cell_type": "markdown",
   "metadata": {},
   "source": [
    "Une as palavras-chave com os códigos"
   ]
  },
  {
   "cell_type": "code",
   "execution_count": 71,
   "metadata": {},
   "outputs": [],
   "source": [
    "palavras_chave = pd.merge(df_codpalavras, df_palavras, left_on='IdPalavra', right_on='IdPalavra')"
   ]
  },
  {
   "cell_type": "code",
   "execution_count": 72,
   "metadata": {},
   "outputs": [
    {
     "data": {
      "text/html": [
       "<div>\n",
       "<style scoped>\n",
       "    .dataframe tbody tr th:only-of-type {\n",
       "        vertical-align: middle;\n",
       "    }\n",
       "\n",
       "    .dataframe tbody tr th {\n",
       "        vertical-align: top;\n",
       "    }\n",
       "\n",
       "    .dataframe thead th {\n",
       "        text-align: right;\n",
       "    }\n",
       "</style>\n",
       "<table border=\"1\" class=\"dataframe\">\n",
       "  <thead>\n",
       "    <tr style=\"text-align: right;\">\n",
       "      <th></th>\n",
       "      <th>index</th>\n",
       "      <th>IdDocumento</th>\n",
       "      <th>IdPalavra</th>\n",
       "      <th>Palavra</th>\n",
       "      <th>PalavraSemAcento</th>\n",
       "    </tr>\n",
       "  </thead>\n",
       "  <tbody>\n",
       "    <tr>\n",
       "      <th>0</th>\n",
       "      <td>0</td>\n",
       "      <td>166</td>\n",
       "      <td>3128</td>\n",
       "      <td>UTILIDADE PÚBLICA</td>\n",
       "      <td>UTILIDADE PUBLICA</td>\n",
       "    </tr>\n",
       "    <tr>\n",
       "      <th>1</th>\n",
       "      <td>1</td>\n",
       "      <td>167</td>\n",
       "      <td>3128</td>\n",
       "      <td>UTILIDADE PÚBLICA</td>\n",
       "      <td>UTILIDADE PUBLICA</td>\n",
       "    </tr>\n",
       "    <tr>\n",
       "      <th>2</th>\n",
       "      <td>2</td>\n",
       "      <td>195</td>\n",
       "      <td>3128</td>\n",
       "      <td>UTILIDADE PÚBLICA</td>\n",
       "      <td>UTILIDADE PUBLICA</td>\n",
       "    </tr>\n",
       "    <tr>\n",
       "      <th>3</th>\n",
       "      <td>3</td>\n",
       "      <td>200</td>\n",
       "      <td>3128</td>\n",
       "      <td>UTILIDADE PÚBLICA</td>\n",
       "      <td>UTILIDADE PUBLICA</td>\n",
       "    </tr>\n",
       "    <tr>\n",
       "      <th>4</th>\n",
       "      <td>4</td>\n",
       "      <td>212</td>\n",
       "      <td>3128</td>\n",
       "      <td>UTILIDADE PÚBLICA</td>\n",
       "      <td>UTILIDADE PUBLICA</td>\n",
       "    </tr>\n",
       "  </tbody>\n",
       "</table>\n",
       "</div>"
      ],
      "text/plain": [
       "   index IdDocumento IdPalavra            Palavra   PalavraSemAcento\n",
       "0      0         166      3128  UTILIDADE PÚBLICA  UTILIDADE PUBLICA\n",
       "1      1         167      3128  UTILIDADE PÚBLICA  UTILIDADE PUBLICA\n",
       "2      2         195      3128  UTILIDADE PÚBLICA  UTILIDADE PUBLICA\n",
       "3      3         200      3128  UTILIDADE PÚBLICA  UTILIDADE PUBLICA\n",
       "4      4         212      3128  UTILIDADE PÚBLICA  UTILIDADE PUBLICA"
      ]
     },
     "execution_count": 72,
     "metadata": {},
     "output_type": "execute_result"
    }
   ],
   "source": [
    "palavras_chave.reset_index().head()"
   ]
  },
  {
   "cell_type": "code",
   "execution_count": 59,
   "metadata": {},
   "outputs": [],
   "source": [
    "palavras_chave.to_csv('resultados/palavras_chave_projetos.csv', index=False)"
   ]
  },
  {
   "cell_type": "code",
   "execution_count": 73,
   "metadata": {},
   "outputs": [
    {
     "name": "stdout",
     "output_type": "stream",
     "text": [
      "<class 'pandas.core.frame.DataFrame'>\n",
      "Int64Index: 1424347 entries, 0 to 1424346\n",
      "Data columns (total 4 columns):\n",
      "IdDocumento         1424347 non-null object\n",
      "IdPalavra           1424347 non-null object\n",
      "Palavra             1424347 non-null object\n",
      "PalavraSemAcento    1424347 non-null object\n",
      "dtypes: object(4)\n",
      "memory usage: 54.3+ MB\n"
     ]
    }
   ],
   "source": [
    "palavras_chave.info()"
   ]
  },
  {
   "cell_type": "code",
   "execution_count": null,
   "metadata": {},
   "outputs": [],
   "source": []
  },
  {
   "cell_type": "markdown",
   "metadata": {},
   "source": [
    "Exemplo de palavras em um projeto"
   ]
  },
  {
   "cell_type": "code",
   "execution_count": 74,
   "metadata": {},
   "outputs": [],
   "source": [
    "seleciona = palavras_chave[(palavras_chave['IdDocumento'] == '330')]"
   ]
  },
  {
   "cell_type": "code",
   "execution_count": 75,
   "metadata": {},
   "outputs": [
    {
     "data": {
      "text/html": [
       "<div>\n",
       "<style scoped>\n",
       "    .dataframe tbody tr th:only-of-type {\n",
       "        vertical-align: middle;\n",
       "    }\n",
       "\n",
       "    .dataframe tbody tr th {\n",
       "        vertical-align: top;\n",
       "    }\n",
       "\n",
       "    .dataframe thead th {\n",
       "        text-align: right;\n",
       "    }\n",
       "</style>\n",
       "<table border=\"1\" class=\"dataframe\">\n",
       "  <thead>\n",
       "    <tr style=\"text-align: right;\">\n",
       "      <th></th>\n",
       "      <th>IdDocumento</th>\n",
       "      <th>IdPalavra</th>\n",
       "      <th>Palavra</th>\n",
       "      <th>PalavraSemAcento</th>\n",
       "    </tr>\n",
       "  </thead>\n",
       "  <tbody>\n",
       "    <tr>\n",
       "      <th>80500</th>\n",
       "      <td>330</td>\n",
       "      <td>847</td>\n",
       "      <td>HOSPITAL</td>\n",
       "      <td>HOSPITAL</td>\n",
       "    </tr>\n",
       "    <tr>\n",
       "      <th>82934</th>\n",
       "      <td>330</td>\n",
       "      <td>1654</td>\n",
       "      <td>SÃO PAULO (MUNICÍPIO)</td>\n",
       "      <td>SAO PAULO (MUNICIPIO)</td>\n",
       "    </tr>\n",
       "    <tr>\n",
       "      <th>152818</th>\n",
       "      <td>330</td>\n",
       "      <td>371</td>\n",
       "      <td>MEDICAMENTO</td>\n",
       "      <td>MEDICAMENTO</td>\n",
       "    </tr>\n",
       "    <tr>\n",
       "      <th>221063</th>\n",
       "      <td>330</td>\n",
       "      <td>919</td>\n",
       "      <td>OBRA</td>\n",
       "      <td>OBRA</td>\n",
       "    </tr>\n",
       "    <tr>\n",
       "      <th>247476</th>\n",
       "      <td>330</td>\n",
       "      <td>845</td>\n",
       "      <td>RESERVA DE CONTINGÊNCIA</td>\n",
       "      <td>RESERVA DE CONTINGENCIA</td>\n",
       "    </tr>\n",
       "    <tr>\n",
       "      <th>261724</th>\n",
       "      <td>330</td>\n",
       "      <td>681</td>\n",
       "      <td>ASSISTÊNCIA MÉDICA</td>\n",
       "      <td>ASSISTENCIA MEDICA</td>\n",
       "    </tr>\n",
       "    <tr>\n",
       "      <th>290460</th>\n",
       "      <td>330</td>\n",
       "      <td>3575</td>\n",
       "      <td>ASSISTÊNCIA</td>\n",
       "      <td>ASSISTENCIA</td>\n",
       "    </tr>\n",
       "    <tr>\n",
       "      <th>294717</th>\n",
       "      <td>330</td>\n",
       "      <td>3401</td>\n",
       "      <td>PLANO</td>\n",
       "      <td>PLANO</td>\n",
       "    </tr>\n",
       "    <tr>\n",
       "      <th>343911</th>\n",
       "      <td>330</td>\n",
       "      <td>892</td>\n",
       "      <td>COMPLEXO HOSPITALAR</td>\n",
       "      <td>COMPLEXO HOSPITALAR</td>\n",
       "    </tr>\n",
       "    <tr>\n",
       "      <th>359690</th>\n",
       "      <td>330</td>\n",
       "      <td>160</td>\n",
       "      <td>USP - UNIVERSIDADE DE SÃO PAULO</td>\n",
       "      <td>USP - UNIVERSIDADE DE SAO PAULO</td>\n",
       "    </tr>\n",
       "    <tr>\n",
       "      <th>360213</th>\n",
       "      <td>330</td>\n",
       "      <td>161</td>\n",
       "      <td>HOSPITAL DAS CLÍNICAS</td>\n",
       "      <td>HOSPITAL DAS CLINICAS</td>\n",
       "    </tr>\n",
       "    <tr>\n",
       "      <th>360581</th>\n",
       "      <td>330</td>\n",
       "      <td>426</td>\n",
       "      <td>FACULDADE DE MEDICINA</td>\n",
       "      <td>FACULDADE DE MEDICINA</td>\n",
       "    </tr>\n",
       "    <tr>\n",
       "      <th>360927</th>\n",
       "      <td>330</td>\n",
       "      <td>610</td>\n",
       "      <td>ASSISTÊNCIA MÉDICO HOSPITALAR</td>\n",
       "      <td>ASSISTENCIA MEDICO HOSPITALAR</td>\n",
       "    </tr>\n",
       "    <tr>\n",
       "      <th>361191</th>\n",
       "      <td>330</td>\n",
       "      <td>3740</td>\n",
       "      <td>FACULDADE DE MEDICINA DA USP</td>\n",
       "      <td>FACULDADE DE MEDICINA DA USP</td>\n",
       "    </tr>\n",
       "    <tr>\n",
       "      <th>361280</th>\n",
       "      <td>330</td>\n",
       "      <td>3741</td>\n",
       "      <td>OBRA (PLANO)</td>\n",
       "      <td>OBRA (PLANO)</td>\n",
       "    </tr>\n",
       "  </tbody>\n",
       "</table>\n",
       "</div>"
      ],
      "text/plain": [
       "       IdDocumento IdPalavra                          Palavra  \\\n",
       "80500          330       847                         HOSPITAL   \n",
       "82934          330      1654            SÃO PAULO (MUNICÍPIO)   \n",
       "152818         330       371                      MEDICAMENTO   \n",
       "221063         330       919                             OBRA   \n",
       "247476         330       845          RESERVA DE CONTINGÊNCIA   \n",
       "261724         330       681               ASSISTÊNCIA MÉDICA   \n",
       "290460         330      3575                      ASSISTÊNCIA   \n",
       "294717         330      3401                            PLANO   \n",
       "343911         330       892              COMPLEXO HOSPITALAR   \n",
       "359690         330       160  USP - UNIVERSIDADE DE SÃO PAULO   \n",
       "360213         330       161            HOSPITAL DAS CLÍNICAS   \n",
       "360581         330       426            FACULDADE DE MEDICINA   \n",
       "360927         330       610    ASSISTÊNCIA MÉDICO HOSPITALAR   \n",
       "361191         330      3740     FACULDADE DE MEDICINA DA USP   \n",
       "361280         330      3741                     OBRA (PLANO)   \n",
       "\n",
       "                       PalavraSemAcento  \n",
       "80500                          HOSPITAL  \n",
       "82934             SAO PAULO (MUNICIPIO)  \n",
       "152818                      MEDICAMENTO  \n",
       "221063                             OBRA  \n",
       "247476          RESERVA DE CONTINGENCIA  \n",
       "261724               ASSISTENCIA MEDICA  \n",
       "290460                      ASSISTENCIA  \n",
       "294717                            PLANO  \n",
       "343911              COMPLEXO HOSPITALAR  \n",
       "359690  USP - UNIVERSIDADE DE SAO PAULO  \n",
       "360213            HOSPITAL DAS CLINICAS  \n",
       "360581            FACULDADE DE MEDICINA  \n",
       "360927    ASSISTENCIA MEDICO HOSPITALAR  \n",
       "361191     FACULDADE DE MEDICINA DA USP  \n",
       "361280                     OBRA (PLANO)  "
      ]
     },
     "execution_count": 75,
     "metadata": {},
     "output_type": "execute_result"
    }
   ],
   "source": [
    "seleciona"
   ]
  },
  {
   "cell_type": "code",
   "execution_count": null,
   "metadata": {},
   "outputs": [],
   "source": []
  },
  {
   "cell_type": "markdown",
   "metadata": {},
   "source": [
    "# Une os autores de projetos e palavras-chave"
   ]
  },
  {
   "cell_type": "code",
   "execution_count": 51,
   "metadata": {},
   "outputs": [],
   "source": [
    "palavras_chave = pd.read_csv(\"resultados/palavras_chave_projetos.csv\", sep=',',encoding = 'utf-8', converters={'IdDocumento': lambda x: str(x), \n",
    "                                                                                                                         'IdPalavra': lambda x: str(x)\n",
    "                                                                                                                         })"
   ]
  },
  {
   "cell_type": "code",
   "execution_count": 52,
   "metadata": {},
   "outputs": [],
   "source": [
    "autores_projetos = pd.read_csv(\"resultados/deputados_autores_projetos.csv\", sep=',',encoding = 'utf-8', converters={'IdAutor': lambda x: str(x), \n",
    "                                                                                                                         'IdDocumento': lambda x: str(x), \n",
    "                                                                                                                         'CodOriginalidade': lambda x: str(x), \n",
    "                                                                                                                         'IdNatureza': lambda x: str(x), \n",
    "                                                                                                                         'NroLegislativo': lambda x: str(x),\n",
    "                                                                                                                         'codigo_unico': lambda x: str(x),\n",
    "                                                                                                                         'sequencial': lambda x: str(x),\n",
    "                                                                                                                         'cpf': lambda x: str(x)\n",
    "                                                                                                                         })"
   ]
  },
  {
   "cell_type": "code",
   "execution_count": 93,
   "metadata": {},
   "outputs": [
    {
     "name": "stdout",
     "output_type": "stream",
     "text": [
      "<class 'pandas.core.frame.DataFrame'>\n",
      "Int64Index: 7268 entries, 0 to 7267\n",
      "Data columns (total 11 columns):\n",
      "IdAutor             7268 non-null object\n",
      "IdDocumento         7268 non-null object\n",
      "NomeAutor           7268 non-null object\n",
      "AnoLegislativo      7268 non-null object\n",
      "CodOriginalidade    6026 non-null object\n",
      "DtEntradaSistema    7268 non-null datetime64[ns]\n",
      "DtPublicacao        7268 non-null datetime64[ns]\n",
      "Ementa              7268 non-null object\n",
      "IdNatureza          7268 non-null object\n",
      "NroLegislativo      7268 non-null object\n",
      "chave_unica         7268 non-null object\n",
      "dtypes: datetime64[ns](2), object(9)\n",
      "memory usage: 681.4+ KB\n"
     ]
    }
   ],
   "source": [
    "autores_projetos.info()"
   ]
  },
  {
   "cell_type": "code",
   "execution_count": 94,
   "metadata": {},
   "outputs": [
    {
     "name": "stdout",
     "output_type": "stream",
     "text": [
      "<class 'pandas.core.frame.DataFrame'>\n",
      "Int64Index: 1417539 entries, 0 to 1417538\n",
      "Data columns (total 4 columns):\n",
      "IdDocumento         1417539 non-null object\n",
      "IdPalavra           1417539 non-null object\n",
      "Palavra             1417539 non-null object\n",
      "PalavraSemAcento    1417539 non-null object\n",
      "dtypes: object(4)\n",
      "memory usage: 54.1+ MB\n"
     ]
    }
   ],
   "source": [
    "palavras_chave.info()"
   ]
  },
  {
   "cell_type": "code",
   "execution_count": 76,
   "metadata": {},
   "outputs": [],
   "source": [
    "palavras_chave_dep = pd.merge(autores_projetos, palavras_chave, left_on='IdDocumento', right_on='IdDocumento')"
   ]
  },
  {
   "cell_type": "code",
   "execution_count": null,
   "metadata": {},
   "outputs": [],
   "source": []
  },
  {
   "cell_type": "markdown",
   "metadata": {},
   "source": [
    "# Análises"
   ]
  },
  {
   "cell_type": "markdown",
   "metadata": {},
   "source": [
    "Quantidade de autores"
   ]
  },
  {
   "cell_type": "code",
   "execution_count": 79,
   "metadata": {},
   "outputs": [
    {
     "data": {
      "text/plain": [
       "125"
      ]
     },
     "execution_count": 79,
     "metadata": {},
     "output_type": "execute_result"
    }
   ],
   "source": [
    "len(palavras_chave_dep['NomeAutor'].value_counts())"
   ]
  },
  {
   "cell_type": "code",
   "execution_count": 80,
   "metadata": {},
   "outputs": [
    {
     "name": "stdout",
     "output_type": "stream",
     "text": [
      "<class 'pandas.core.frame.DataFrame'>\n",
      "Int64Index: 27368 entries, 0 to 27367\n",
      "Data columns (total 14 columns):\n",
      "IdAutor             27368 non-null object\n",
      "IdDocumento         27368 non-null object\n",
      "NomeAutor           27368 non-null object\n",
      "AnoLegislativo      27368 non-null object\n",
      "CodOriginalidade    24018 non-null object\n",
      "DtEntradaSistema    27368 non-null datetime64[ns]\n",
      "DtPublicacao        27368 non-null datetime64[ns]\n",
      "Ementa              27368 non-null object\n",
      "IdNatureza          27368 non-null object\n",
      "NroLegislativo      27368 non-null object\n",
      "chave_unica         27368 non-null object\n",
      "IdPalavra           27368 non-null object\n",
      "Palavra             27368 non-null object\n",
      "PalavraSemAcento    27368 non-null object\n",
      "dtypes: datetime64[ns](2), object(12)\n",
      "memory usage: 3.1+ MB\n"
     ]
    }
   ],
   "source": [
    "palavras_chave_dep.info()"
   ]
  },
  {
   "cell_type": "code",
   "execution_count": null,
   "metadata": {},
   "outputs": [],
   "source": []
  },
  {
   "cell_type": "markdown",
   "metadata": {},
   "source": [
    "Maiores autores"
   ]
  },
  {
   "cell_type": "code",
   "execution_count": 81,
   "metadata": {},
   "outputs": [
    {
     "data": {
      "text/plain": [
       "NomeAutor\n",
       "Enio Tatto                                                  724\n",
       "José Bittencourt                                            277\n",
       "Carlos Giannazi                                             218\n",
       "Mauro Bragato                                               205\n",
       "Itamar Borges                                               184\n",
       "Campos Machado                                              166\n",
       "Fernando Capez                                              116\n",
       "Edmir Chedid                                                104\n",
       "Luiz Carlos Gondim                                          102\n",
       "Rita Passos                                                  88\n",
       "Welson Gasparini                                             82\n",
       "Leci Brandão                                                 81\n",
       "Antonio Salim Curiati                                        77\n",
       "Célia Leão                                                   77\n",
       "Chico Sardelli                                               76\n",
       "Olímpio Gomes                                                76\n",
       "Baleia Rossi                                                 73\n",
       "Ed Thomas                                                    73\n",
       "Jorge Caruso                                                 70\n",
       "Afonso Lobato                                                70\n",
       "Roberto Engler                                               68\n",
       "Alex Manente                                                 67\n",
       "Sebastião Santos                                             67\n",
       "Carlão Pignatari                                             66\n",
       "Beto Trícoli                                                 66\n",
       "Beth Sahão                                                   66\n",
       "Pedro Tobias                                                 65\n",
       "Hélio Nishimoto                                              65\n",
       "Cauê Macris                                                  64\n",
       "Gerson Bittencourt                                           63\n",
       "                                                           ... \n",
       "Luciano Batista                                              21\n",
       "Milton Leite Filho                                           19\n",
       "Alcides Amazonas                                             19\n",
       "Marcos Zerbini                                               18\n",
       "Ary Fossen                                                   18\n",
       "Paulo Alexandre Barbosa                                      18\n",
       "Bruno Covas                                                  17\n",
       "Barros Munhoz                                                16\n",
       "Ramalho da Construção                                        14\n",
       "Edson Giriboni                                               14\n",
       "Davi Zaia                                                    14\n",
       "Leandro KLB                                                  13\n",
       "Gil Arantes                                                  10\n",
       "Dilador Borges                                                7\n",
       "Corauci Sobrinho                                              7\n",
       "relator especial pela Comissão de Finanças                    5\n",
       "CPI do Desaparecimento de Pessoas                             3\n",
       "Widerson Tadeu Anzelotti                                      3\n",
       "Terezinha da Paulina                                          3\n",
       "Waldir Agnello                                                2\n",
       "Comissão de Assuntos Metropolitanos e Municipais              2\n",
       "Iduigues Martins                                              1\n",
       "CPI da Cartelização do Mercado de Autopeças de Reposição      1\n",
       "CPI da TV por Assinatura                                      1\n",
       "Comissão de Infraestrutura                                    1\n",
       "Comissão de Educação e Cultura                                1\n",
       "Ricardo Montoro                                               1\n",
       "Mauro Menuchi                                                 1\n",
       "Camilo Gava                                                   1\n",
       "Comissão de Serviços e Obras Públicas                         1\n",
       "Name: chave_unica, Length: 125, dtype: int64"
      ]
     },
     "execution_count": 81,
     "metadata": {},
     "output_type": "execute_result"
    }
   ],
   "source": [
    "#palavras_chave_dep.groupby(\"NomeAutor\").CodOriginalidade.count().sort_values(ascending=False)\n",
    "palavras_chave_dep.groupby('NomeAutor')['chave_unica'].nunique().sort_values(ascending=False)"
   ]
  },
  {
   "cell_type": "code",
   "execution_count": null,
   "metadata": {},
   "outputs": [],
   "source": []
  },
  {
   "cell_type": "markdown",
   "metadata": {},
   "source": [
    "Palavras-chave que mais apareceram"
   ]
  },
  {
   "cell_type": "code",
   "execution_count": 82,
   "metadata": {},
   "outputs": [
    {
     "data": {
      "text/plain": [
       "Palavra\n",
       "DENOMINAÇÃO                                                                       729\n",
       "UTILIDADE PÚBLICA                                                                 702\n",
       "IDOSO POBRE                                                                       523\n",
       "IDOSO                                                                             360\n",
       "REPÚBLICA PARA A 3ª IDADE                                                         337\n",
       "IDOSOS                                                                            330\n",
       "REPÚBLICAS PARA IDOSOS                                                            322\n",
       "IDOSO (REPÚBLICA)                                                                 304\n",
       "CALENDÁRIO OFICIAL                                                                244\n",
       "ESTÂNCIA TURÍSTICA                                                                230\n",
       "CASA                                                                              203\n",
       "SALÁRIO MÍNIMO                                                                    201\n",
       "VIADUTO                                                                           196\n",
       "RENDA                                                                             176\n",
       "DESENVOLVIMENTO TURÍSTICO                                                         162\n",
       "DESENVOLVIMENTO ECONÔMICO E SOCIAL                                                139\n",
       "DIA DE                                                                            138\n",
       "ESCOLA                                                                            137\n",
       "TURISMO                                                                           132\n",
       "PROIBIÇÃO                                                                         128\n",
       "LAZER                                                                             127\n",
       "INTERESSE TURÍSTICO                                                               117\n",
       "DATA COMEMORATIVA                                                                 108\n",
       "EVENTO                                                                            103\n",
       "MUNICÍPIO DE INTERESSE TURÍSTICO                                                  101\n",
       "OBRIGATORIEDADE                                                                    88\n",
       "FESTIVIDADE                                                                        87\n",
       "CLASSIFICAÇÃO                                                                      82\n",
       "SÃO PAULO (CAPITAL)                                                                79\n",
       "INSTALAÇÃO                                                                         69\n",
       "                                                                                 ... \n",
       "HINO NACIONAL                                                                       1\n",
       "PROGRAMA ESTADUAL DE INCLUSÃO SOCIOPRODUTIVA                                        1\n",
       "PROGRAMA ESTADUAL DE PROTEÇÃO AOS DEFENSORES DE DIREITOS HUMANOS                    1\n",
       "HIDRÔMETRO                                                                          1\n",
       "HIDRANTE                                                                            1\n",
       "HERCULÂNDIA (MUNICÍPIO)                                                             1\n",
       "HC (HOSPITAL DAS CLÍNICAS)                                                          1\n",
       "HABITAÇÃO RURAL                                                                     1\n",
       "PROGRAMA ESTADUAL DE RECICLAGEM ENERGÉTICA DE RESÍDUOS SÓLIDOS                      1\n",
       "HOMICÍDIOS                                                                          1\n",
       "HOMOFOBIA                                                                           1\n",
       "HOMOSSEXUAIS                                                                        1\n",
       "PROGRAMA DE SAÚDE                                                                   1\n",
       "PROGRAMA DE METAS                                                                   1\n",
       "HOSPITAL DE MISERICÓRDIA NOSSA SENHORA APARECIDA                                    1\n",
       "HOSPITAL DAS CLÍNICAS                                                               1\n",
       "HOSPITAL AMIGO DO IDOSO                                                             1\n",
       "PROGRAMA DE PREVENÇÃO E TRATAMENTO DO DEPENDENTE DE ALCOOL E/OU DROGAS              1\n",
       "PROGRAMA DE PREVENÇÃO, CONTROLE E ORIENTAÇÃO DA OSTEOPOROSE                         1\n",
       "PROGRAMA DE RESGATE DE VALORES MORAIS, ÉTICOS E ESPIRITUAIS                         1\n",
       "PROGRAMA DIAGNÓSTICO AMIGO DA CRIANÇA                                               1\n",
       "HORTICULTURA                                                                        1\n",
       "HORÁRIO PERMITIDO                                                                   1\n",
       "HORÁRIO DIFERENCIADO DE TRABALHO                                                    1\n",
       "HORÁRIO DE USO                                                                      1\n",
       "PROGRAMA EDUCACIONAL DE PREVENÇÃO DE ACIDENTES NA INFÂNCIA                          1\n",
       "HORÁRIO DE FUNCIONAMENTO                                                            1\n",
       "PROGRAMA ESTADUAL DE DESENVOLVIMENTO DE AGROVILAS                                   1\n",
       "PROGRAMA ESTADUAL DE FOMENTO AO TEATRO AMADOR ESTUDANTIL NAS ESCOLAS ESTADUAIS      1\n",
       "LAN HOUSES                                                                          1\n",
       "Name: chave_unica, Length: 4279, dtype: int64"
      ]
     },
     "execution_count": 82,
     "metadata": {},
     "output_type": "execute_result"
    }
   ],
   "source": [
    "#palavras_chave_dep.groupby(\"Palavra\").IdDocumento.count().sort_values(ascending=False)\n",
    "palavras_chave_dep.groupby('Palavra')['chave_unica'].nunique().sort_values(ascending=False)"
   ]
  },
  {
   "cell_type": "code",
   "execution_count": 83,
   "metadata": {},
   "outputs": [
    {
     "data": {
      "text/plain": [
       "4561"
      ]
     },
     "execution_count": 83,
     "metadata": {},
     "output_type": "execute_result"
    }
   ],
   "source": [
    "a = len(palavras_chave_dep['chave_unica'].value_counts())\n",
    "a"
   ]
  },
  {
   "cell_type": "code",
   "execution_count": null,
   "metadata": {},
   "outputs": [],
   "source": []
  },
  {
   "cell_type": "code",
   "execution_count": 100,
   "metadata": {},
   "outputs": [],
   "source": [
    "palavras_chave_dep.to_excel('resultados/projetos_deputados_palavraschave_legislatura_passada.xlsx',sheet_name='Sheet1', index=False)"
   ]
  },
  {
   "cell_type": "code",
   "execution_count": null,
   "metadata": {},
   "outputs": [],
   "source": []
  },
  {
   "cell_type": "code",
   "execution_count": 84,
   "metadata": {},
   "outputs": [],
   "source": [
    "seleciona = palavras_chave_dep[(palavras_chave_dep['Palavra'] == 'DENOMINAÇÃO')]"
   ]
  },
  {
   "cell_type": "code",
   "execution_count": 85,
   "metadata": {},
   "outputs": [
    {
     "data": {
      "text/html": [
       "<div>\n",
       "<style scoped>\n",
       "    .dataframe tbody tr th:only-of-type {\n",
       "        vertical-align: middle;\n",
       "    }\n",
       "\n",
       "    .dataframe tbody tr th {\n",
       "        vertical-align: top;\n",
       "    }\n",
       "\n",
       "    .dataframe thead th {\n",
       "        text-align: right;\n",
       "    }\n",
       "</style>\n",
       "<table border=\"1\" class=\"dataframe\">\n",
       "  <thead>\n",
       "    <tr style=\"text-align: right;\">\n",
       "      <th></th>\n",
       "      <th>index</th>\n",
       "      <th>IdAutor</th>\n",
       "      <th>IdDocumento</th>\n",
       "      <th>NomeAutor</th>\n",
       "      <th>AnoLegislativo</th>\n",
       "      <th>CodOriginalidade</th>\n",
       "      <th>DtEntradaSistema</th>\n",
       "      <th>DtPublicacao</th>\n",
       "      <th>Ementa</th>\n",
       "      <th>IdNatureza</th>\n",
       "      <th>NroLegislativo</th>\n",
       "      <th>chave_unica</th>\n",
       "      <th>IdPalavra</th>\n",
       "      <th>Palavra</th>\n",
       "      <th>PalavraSemAcento</th>\n",
       "    </tr>\n",
       "  </thead>\n",
       "  <tbody>\n",
       "    <tr>\n",
       "      <th>0</th>\n",
       "      <td>0</td>\n",
       "      <td>94</td>\n",
       "      <td>993734</td>\n",
       "      <td>Campos Machado</td>\n",
       "      <td>2011</td>\n",
       "      <td>993734 140111 1530</td>\n",
       "      <td>2011-01-14 02:00:00</td>\n",
       "      <td>2011-02-03 02:00:00</td>\n",
       "      <td>Dá a denominação de \"Prof. Bruno Florenzano\" à...</td>\n",
       "      <td>1</td>\n",
       "      <td>5</td>\n",
       "      <td>9937345993734 140111 153012011</td>\n",
       "      <td>3127</td>\n",
       "      <td>DENOMINAÇÃO</td>\n",
       "      <td>DENOMINACAO</td>\n",
       "    </tr>\n",
       "    <tr>\n",
       "      <th>1</th>\n",
       "      <td>9</td>\n",
       "      <td>10592</td>\n",
       "      <td>994543</td>\n",
       "      <td>Carlos Giannazi</td>\n",
       "      <td>2011</td>\n",
       "      <td>994543 030211 1218</td>\n",
       "      <td>2011-02-03 02:00:00</td>\n",
       "      <td>2011-02-08 02:00:00</td>\n",
       "      <td>Dá a denominação de \"Takashi Morita\" à Escola ...</td>\n",
       "      <td>1</td>\n",
       "      <td>12</td>\n",
       "      <td>99454312994543 030211 121812011</td>\n",
       "      <td>3127</td>\n",
       "      <td>DENOMINAÇÃO</td>\n",
       "      <td>DENOMINACAO</td>\n",
       "    </tr>\n",
       "    <tr>\n",
       "      <th>2</th>\n",
       "      <td>27</td>\n",
       "      <td>454</td>\n",
       "      <td>996099</td>\n",
       "      <td>Rogério Nogueira</td>\n",
       "      <td>2011</td>\n",
       "      <td>996099 150211 1547</td>\n",
       "      <td>2011-02-15 02:00:00</td>\n",
       "      <td>2011-02-16 02:00:00</td>\n",
       "      <td>Dá a denominação de \"Benedicto Amstalden\" ao v...</td>\n",
       "      <td>1</td>\n",
       "      <td>24</td>\n",
       "      <td>99609924996099 150211 154712011</td>\n",
       "      <td>3127</td>\n",
       "      <td>DENOMINAÇÃO</td>\n",
       "      <td>DENOMINACAO</td>\n",
       "    </tr>\n",
       "    <tr>\n",
       "      <th>3</th>\n",
       "      <td>56</td>\n",
       "      <td>10621</td>\n",
       "      <td>996616</td>\n",
       "      <td>Rita Passos</td>\n",
       "      <td>2011</td>\n",
       "      <td>996616 170211 2050</td>\n",
       "      <td>2011-02-17 02:00:00</td>\n",
       "      <td>2011-02-25 03:00:00</td>\n",
       "      <td>Dá a denominação de \"Antonio Beluci\" ao viadut...</td>\n",
       "      <td>1</td>\n",
       "      <td>49</td>\n",
       "      <td>99661649996616 170211 205012011</td>\n",
       "      <td>3127</td>\n",
       "      <td>DENOMINAÇÃO</td>\n",
       "      <td>DENOMINACAO</td>\n",
       "    </tr>\n",
       "    <tr>\n",
       "      <th>4</th>\n",
       "      <td>74</td>\n",
       "      <td>232</td>\n",
       "      <td>996873</td>\n",
       "      <td>Roberto Morais</td>\n",
       "      <td>2011</td>\n",
       "      <td>996873 210211 1241</td>\n",
       "      <td>2011-02-21 03:00:00</td>\n",
       "      <td>2011-02-24 03:00:00</td>\n",
       "      <td>Dá a denominação de \"Engenheiro Raul Andrade C...</td>\n",
       "      <td>1</td>\n",
       "      <td>39</td>\n",
       "      <td>99687339996873 210211 124112011</td>\n",
       "      <td>3127</td>\n",
       "      <td>DENOMINAÇÃO</td>\n",
       "      <td>DENOMINACAO</td>\n",
       "    </tr>\n",
       "  </tbody>\n",
       "</table>\n",
       "</div>"
      ],
      "text/plain": [
       "   index IdAutor IdDocumento         NomeAutor AnoLegislativo  \\\n",
       "0      0      94      993734    Campos Machado           2011   \n",
       "1      9   10592      994543   Carlos Giannazi           2011   \n",
       "2     27     454      996099  Rogério Nogueira           2011   \n",
       "3     56   10621      996616       Rita Passos           2011   \n",
       "4     74     232      996873    Roberto Morais           2011   \n",
       "\n",
       "     CodOriginalidade    DtEntradaSistema        DtPublicacao  \\\n",
       "0  993734 140111 1530 2011-01-14 02:00:00 2011-02-03 02:00:00   \n",
       "1  994543 030211 1218 2011-02-03 02:00:00 2011-02-08 02:00:00   \n",
       "2  996099 150211 1547 2011-02-15 02:00:00 2011-02-16 02:00:00   \n",
       "3  996616 170211 2050 2011-02-17 02:00:00 2011-02-25 03:00:00   \n",
       "4  996873 210211 1241 2011-02-21 03:00:00 2011-02-24 03:00:00   \n",
       "\n",
       "                                              Ementa IdNatureza  \\\n",
       "0  Dá a denominação de \"Prof. Bruno Florenzano\" à...          1   \n",
       "1  Dá a denominação de \"Takashi Morita\" à Escola ...          1   \n",
       "2  Dá a denominação de \"Benedicto Amstalden\" ao v...          1   \n",
       "3  Dá a denominação de \"Antonio Beluci\" ao viadut...          1   \n",
       "4  Dá a denominação de \"Engenheiro Raul Andrade C...          1   \n",
       "\n",
       "  NroLegislativo                      chave_unica IdPalavra      Palavra  \\\n",
       "0              5   9937345993734 140111 153012011      3127  DENOMINAÇÃO   \n",
       "1             12  99454312994543 030211 121812011      3127  DENOMINAÇÃO   \n",
       "2             24  99609924996099 150211 154712011      3127  DENOMINAÇÃO   \n",
       "3             49  99661649996616 170211 205012011      3127  DENOMINAÇÃO   \n",
       "4             39  99687339996873 210211 124112011      3127  DENOMINAÇÃO   \n",
       "\n",
       "  PalavraSemAcento  \n",
       "0      DENOMINACAO  \n",
       "1      DENOMINACAO  \n",
       "2      DENOMINACAO  \n",
       "3      DENOMINACAO  \n",
       "4      DENOMINACAO  "
      ]
     },
     "execution_count": 85,
     "metadata": {},
     "output_type": "execute_result"
    }
   ],
   "source": [
    "seleciona.reset_index().head(5)"
   ]
  },
  {
   "cell_type": "code",
   "execution_count": 59,
   "metadata": {},
   "outputs": [],
   "source": [
    "seleciona.to_excel('resultados/projetos_denominacao.xlsx',sheet_name='Sheet1')"
   ]
  },
  {
   "cell_type": "code",
   "execution_count": null,
   "metadata": {},
   "outputs": [],
   "source": []
  },
  {
   "cell_type": "code",
   "execution_count": 86,
   "metadata": {},
   "outputs": [
    {
     "data": {
      "text/html": [
       "<div>\n",
       "<style scoped>\n",
       "    .dataframe tbody tr th:only-of-type {\n",
       "        vertical-align: middle;\n",
       "    }\n",
       "\n",
       "    .dataframe tbody tr th {\n",
       "        vertical-align: top;\n",
       "    }\n",
       "\n",
       "    .dataframe thead th {\n",
       "        text-align: right;\n",
       "    }\n",
       "</style>\n",
       "<table border=\"1\" class=\"dataframe\">\n",
       "  <thead>\n",
       "    <tr style=\"text-align: right;\">\n",
       "      <th></th>\n",
       "      <th>IdAutor</th>\n",
       "      <th>IdDocumento</th>\n",
       "      <th>NomeAutor</th>\n",
       "      <th>AnoLegislativo</th>\n",
       "      <th>CodOriginalidade</th>\n",
       "      <th>DtEntradaSistema</th>\n",
       "      <th>DtPublicacao</th>\n",
       "      <th>Ementa</th>\n",
       "      <th>IdNatureza</th>\n",
       "      <th>NroLegislativo</th>\n",
       "      <th>chave_unica</th>\n",
       "      <th>IdPalavra</th>\n",
       "      <th>Palavra</th>\n",
       "      <th>PalavraSemAcento</th>\n",
       "    </tr>\n",
       "  </thead>\n",
       "  <tbody>\n",
       "    <tr>\n",
       "      <th>9603</th>\n",
       "      <td>462</td>\n",
       "      <td>1173796</td>\n",
       "      <td>José Bittencourt</td>\n",
       "      <td>2013</td>\n",
       "      <td>1173796 051113 1335</td>\n",
       "      <td>2013-11-05 02:00:00</td>\n",
       "      <td>2013-11-07 02:00:00</td>\n",
       "      <td>Classifica Tambaú como Município de Interesse ...</td>\n",
       "      <td>1</td>\n",
       "      <td>805</td>\n",
       "      <td>11737968051173796 051113 133512013</td>\n",
       "      <td>32424</td>\n",
       "      <td>INTERESSE TURÍSTICO</td>\n",
       "      <td>INTERESSE TURISTICO</td>\n",
       "    </tr>\n",
       "    <tr>\n",
       "      <th>9897</th>\n",
       "      <td>12785</td>\n",
       "      <td>1197403</td>\n",
       "      <td>Alexandre da Farmácia</td>\n",
       "      <td>2014</td>\n",
       "      <td>1197403 240314 1244</td>\n",
       "      <td>2014-03-24 03:00:00</td>\n",
       "      <td>2014-03-28 03:00:00</td>\n",
       "      <td>Classifica Monteiro Lobato como Município de I...</td>\n",
       "      <td>1</td>\n",
       "      <td>223</td>\n",
       "      <td>11974032231197403 240314 124412014</td>\n",
       "      <td>32424</td>\n",
       "      <td>INTERESSE TURÍSTICO</td>\n",
       "      <td>INTERESSE TURISTICO</td>\n",
       "    </tr>\n",
       "    <tr>\n",
       "      <th>10140</th>\n",
       "      <td>462</td>\n",
       "      <td>1197718</td>\n",
       "      <td>José Bittencourt</td>\n",
       "      <td>2014</td>\n",
       "      <td>1197718 250314 1224</td>\n",
       "      <td>2014-03-25 03:00:00</td>\n",
       "      <td>2014-03-27 03:00:00</td>\n",
       "      <td>Classifica Mineiros do Tietê como \"Município d...</td>\n",
       "      <td>1</td>\n",
       "      <td>216</td>\n",
       "      <td>11977182161197718 250314 122412014</td>\n",
       "      <td>32424</td>\n",
       "      <td>INTERESSE TURÍSTICO</td>\n",
       "      <td>INTERESSE TURISTICO</td>\n",
       "    </tr>\n",
       "    <tr>\n",
       "      <th>10155</th>\n",
       "      <td>462</td>\n",
       "      <td>1197727</td>\n",
       "      <td>José Bittencourt</td>\n",
       "      <td>2014</td>\n",
       "      <td>1197727 250314 1305</td>\n",
       "      <td>2014-03-25 03:00:00</td>\n",
       "      <td>2014-03-27 03:00:00</td>\n",
       "      <td>Classifica Dois Córregos como \"Município de In...</td>\n",
       "      <td>1</td>\n",
       "      <td>217</td>\n",
       "      <td>11977272171197727 250314 130512014</td>\n",
       "      <td>32424</td>\n",
       "      <td>INTERESSE TURÍSTICO</td>\n",
       "      <td>INTERESSE TURISTICO</td>\n",
       "    </tr>\n",
       "    <tr>\n",
       "      <th>12142</th>\n",
       "      <td>12409</td>\n",
       "      <td>1140738</td>\n",
       "      <td>Orlando Bolçone</td>\n",
       "      <td>2013</td>\n",
       "      <td>1140738 130613 1217</td>\n",
       "      <td>2013-06-13 03:00:00</td>\n",
       "      <td>2013-06-19 03:00:00</td>\n",
       "      <td>Classifica como Município de Interesse Turísti...</td>\n",
       "      <td>1</td>\n",
       "      <td>382</td>\n",
       "      <td>11407383821140738 130613 121712013</td>\n",
       "      <td>32424</td>\n",
       "      <td>INTERESSE TURÍSTICO</td>\n",
       "      <td>INTERESSE TURISTICO</td>\n",
       "    </tr>\n",
       "  </tbody>\n",
       "</table>\n",
       "</div>"
      ],
      "text/plain": [
       "      IdAutor IdDocumento              NomeAutor AnoLegislativo  \\\n",
       "9603      462     1173796       José Bittencourt           2013   \n",
       "9897    12785     1197403  Alexandre da Farmácia           2014   \n",
       "10140     462     1197718       José Bittencourt           2014   \n",
       "10155     462     1197727       José Bittencourt           2014   \n",
       "12142   12409     1140738        Orlando Bolçone           2013   \n",
       "\n",
       "          CodOriginalidade    DtEntradaSistema        DtPublicacao  \\\n",
       "9603   1173796 051113 1335 2013-11-05 02:00:00 2013-11-07 02:00:00   \n",
       "9897   1197403 240314 1244 2014-03-24 03:00:00 2014-03-28 03:00:00   \n",
       "10140  1197718 250314 1224 2014-03-25 03:00:00 2014-03-27 03:00:00   \n",
       "10155  1197727 250314 1305 2014-03-25 03:00:00 2014-03-27 03:00:00   \n",
       "12142  1140738 130613 1217 2013-06-13 03:00:00 2013-06-19 03:00:00   \n",
       "\n",
       "                                                  Ementa IdNatureza  \\\n",
       "9603   Classifica Tambaú como Município de Interesse ...          1   \n",
       "9897   Classifica Monteiro Lobato como Município de I...          1   \n",
       "10140  Classifica Mineiros do Tietê como \"Município d...          1   \n",
       "10155  Classifica Dois Córregos como \"Município de In...          1   \n",
       "12142  Classifica como Município de Interesse Turísti...          1   \n",
       "\n",
       "      NroLegislativo                         chave_unica IdPalavra  \\\n",
       "9603             805  11737968051173796 051113 133512013     32424   \n",
       "9897             223  11974032231197403 240314 124412014     32424   \n",
       "10140            216  11977182161197718 250314 122412014     32424   \n",
       "10155            217  11977272171197727 250314 130512014     32424   \n",
       "12142            382  11407383821140738 130613 121712013     32424   \n",
       "\n",
       "                   Palavra     PalavraSemAcento  \n",
       "9603   INTERESSE TURÍSTICO  INTERESSE TURISTICO  \n",
       "9897   INTERESSE TURÍSTICO  INTERESSE TURISTICO  \n",
       "10140  INTERESSE TURÍSTICO  INTERESSE TURISTICO  \n",
       "10155  INTERESSE TURÍSTICO  INTERESSE TURISTICO  \n",
       "12142  INTERESSE TURÍSTICO  INTERESSE TURISTICO  "
      ]
     },
     "execution_count": 86,
     "metadata": {},
     "output_type": "execute_result"
    }
   ],
   "source": [
    "seleciona = palavras_chave_dep[(palavras_chave_dep['Palavra'] == 'INTERESSE TURÍSTICO')]\n",
    "seleciona.head(5)"
   ]
  },
  {
   "cell_type": "code",
   "execution_count": null,
   "metadata": {},
   "outputs": [],
   "source": []
  },
  {
   "cell_type": "code",
   "execution_count": null,
   "metadata": {},
   "outputs": [],
   "source": []
  },
  {
   "cell_type": "markdown",
   "metadata": {},
   "source": [
    "Contagem de deputados específicos"
   ]
  },
  {
   "cell_type": "code",
   "execution_count": 90,
   "metadata": {},
   "outputs": [],
   "source": [
    "nome = palavras_chave_dep[(palavras_chave_dep['NomeAutor'] == 'Enio Tatto')]"
   ]
  },
  {
   "cell_type": "code",
   "execution_count": 91,
   "metadata": {},
   "outputs": [
    {
     "data": {
      "text/plain": [
       "1"
      ]
     },
     "execution_count": 91,
     "metadata": {},
     "output_type": "execute_result"
    }
   ],
   "source": [
    "len(nome['NomeAutor'].value_counts())"
   ]
  },
  {
   "cell_type": "code",
   "execution_count": 92,
   "metadata": {},
   "outputs": [
    {
     "data": {
      "text/plain": [
       "Palavra\n",
       "IDOSO POBRE                                    523\n",
       "REPÚBLICA PARA A 3ª IDADE                      337\n",
       "IDOSO                                          336\n",
       "REPÚBLICAS PARA IDOSOS                         322\n",
       "IDOSOS                                         321\n",
       "IDOSO (REPÚBLICA)                              304\n",
       "CASA                                           200\n",
       "SALÁRIO MÍNIMO                                 198\n",
       "RENDA                                          176\n",
       "MORADIA                                         27\n",
       "CONSTITUIÇÃO ESTADUAL                           12\n",
       "HABITAÇÃO                                       10\n",
       "UTILIDADE PÚBLICA                                6\n",
       "ASSEMBLÉIA LEGISLATIVA DE SÃO PAULO - ALESP      6\n",
       "DENOMINAÇÃO                                      5\n",
       "PODER EXECUTIVO                                  5\n",
       "INCLUSÃO                                         4\n",
       "MUNICÍPIOS                                       4\n",
       "GUARUJÁ (MUNICÍPIO)                              4\n",
       "SÃO PAULO (CAPITAL)                              4\n",
       "FACULDADE DE TECNOLOGIA - FATEC                  3\n",
       "SAÚDE                                            3\n",
       "CALENDÁRIO OFICIAL                               3\n",
       "DELIBERAÇÃO                                      3\n",
       "ESCOLA                                           3\n",
       "REALIZAÇÃO                                       3\n",
       "OBRIGATORIEDADE                                  3\n",
       "VETO                                             3\n",
       "FORNECIMENTO                                     2\n",
       "CONTROLE                                         2\n",
       "                                              ... \n",
       "PARAÍSO (MUNICÍPIO)                              1\n",
       "PARAPUÃ (MUNICÍPIO)                              1\n",
       "PARANAPUÃ (MUNICÍPIO)                            1\n",
       "PARAIBUNA (MUNICÍPIO)                            1\n",
       "PARAGUAÇU PAULISTA (MUNICÍPIO)                   1\n",
       "PANORAMA (MUNICÍPIO)                             1\n",
       "PEDRO DE TOLEDO (MUNICÍPIO)                      1\n",
       "PEDÁGIO (TARIFA)                                 1\n",
       "PEREIRAS (MUNICÍPIO)                             1\n",
       "PERUÍBE (MUNICÍPIO)                              1\n",
       "PITANGUEIRAS (MUNICÍPIO)                         1\n",
       "PIRATININGA (MUNICÍPIO)                          1\n",
       "PIRASSUNUNGA (MUNICÍPIO)                         1\n",
       "PIRAPOZINHO (MUNICÍPIO)                          1\n",
       "PIRAPORA DO BOM JESUS (MUNICÍPIO)                1\n",
       "PIRANGI (MUNICÍPIO)                              1\n",
       "PIRAJUÍ (MUNICÍPIO)                              1\n",
       "PIRACICABA (MUNICÍPIO)                           1\n",
       "PIRACAIA (MUNICÍPIO)                             1\n",
       "PIQUETE (MUNICÍPIO)                              1\n",
       "PIQUEROBI (MUNICÍPIO)                            1\n",
       "PINHALZINHO (MUNICÍPIO)                          1\n",
       "PINDORAMA (MUNICÍPIO)                            1\n",
       "PINDAMONHANGABA (MUNICÍPIO)                      1\n",
       "PILAR DO SUL (MUNICÍPIO)                         1\n",
       "PIERCING                                         1\n",
       "PIEDADE (MUNICÍPIO)                              1\n",
       "PETRÓLEO                                         1\n",
       "PESSOA COM NECESSIDADE ESPECIAL                  1\n",
       "ACESSIBILIDADE                                   1\n",
       "Name: IdDocumento, Length: 787, dtype: int64"
      ]
     },
     "execution_count": 92,
     "metadata": {},
     "output_type": "execute_result"
    }
   ],
   "source": [
    "nome.groupby(\"Palavra\").IdDocumento.count().sort_values(ascending=False)"
   ]
  },
  {
   "cell_type": "code",
   "execution_count": null,
   "metadata": {},
   "outputs": [],
   "source": []
  },
  {
   "cell_type": "code",
   "execution_count": 93,
   "metadata": {},
   "outputs": [
    {
     "data": {
      "text/plain": [
       "Palavra\n",
       "CALENDÁRIO OFICIAL                    50\n",
       "ESTÂNCIA TURÍSTICA                    31\n",
       "EVENTO                                29\n",
       "FESTIVIDADE                           28\n",
       "DIA DE                                25\n",
       "DESENVOLVIMENTO TURÍSTICO             24\n",
       "DESENVOLVIMENTO ECONÔMICO E SOCIAL    23\n",
       "UTILIDADE PÚBLICA                     21\n",
       "LAZER                                 21\n",
       "TURISMO                               21\n",
       "DATA COMEMORATIVA                     18\n",
       "PROIBIÇÃO                             17\n",
       "MUNICÍPIO DE INTERESSE TURÍSTICO      17\n",
       "INTERESSE TURÍSTICO                   16\n",
       "SEMANA DE                             12\n",
       "CLASSIFICAÇÃO                         11\n",
       "CONSTITUIÇÃO ESTADUAL                 10\n",
       "CALENDARIO OFICIAL DO ESTADO           9\n",
       "MAIO (CALENDÁRIO OFICIAL)              9\n",
       "INCLUSÃO                               9\n",
       "OBRIGATORIEDADE                        9\n",
       "ANIMAL                                 8\n",
       "SANTO ANDRÉ (MUNICÍPIO)                8\n",
       "ESCOLA                                 8\n",
       "ESTADO DE SÃO PAULO                    7\n",
       "SÃO PAULO (ESTADO)                     6\n",
       "HOSPITAL                               5\n",
       "DECLARAÇÃO                             5\n",
       "DENOMINAÇÃO                            5\n",
       "RELIGIÃO                               4\n",
       "                                      ..\n",
       "NOVA REDAÇÃO                           1\n",
       "NOTA FISCAL ELETRÔNICA                 1\n",
       "MANDATO DE DEPUTADO                    1\n",
       "MANDATO PARLAMENTAR                    1\n",
       "MANIFESTAÇÃO                           1\n",
       "MANIFESTAÇÃO PÚBLICA                   1\n",
       "MANUTENÇÃO                             1\n",
       "MARCHA                                 1\n",
       "MATERNIDADE                            1\n",
       "MATERNIDADES                           1\n",
       "MEDICAMENTO                            1\n",
       "MEIA ENTRADA                           1\n",
       "MEIOS DE COMUNICAÇÃO DE MASSA          1\n",
       "MENSAGEM EDUCATIVA                     1\n",
       "METRÔ                                  1\n",
       "MICROÔNIBUS                            1\n",
       "MIRACATU (MUNICÍPIO)                   1\n",
       "MOBILIDADE URBANA                      1\n",
       "MONGAGUÁ (MUNICÍPIO)                   1\n",
       "MORUNGABA (MUNICÍPIO)                  1\n",
       "MOTORISTA DE ÔNIBUS                    1\n",
       "MULTA                                  1\n",
       "MUNICÍPIO                              1\n",
       "MÁ FORMAÇÃO CONGÊNITA                  1\n",
       "MÁSCARA                                1\n",
       "MÉDICO                                 1\n",
       "NOMEAÇÃO                               1\n",
       "NOMEAÇÃO PELO GOVERNADOR               1\n",
       "NOMES                                  1\n",
       "2ª VIA                                 1\n",
       "Name: IdDocumento, Length: 590, dtype: int64"
      ]
     },
     "execution_count": 93,
     "metadata": {},
     "output_type": "execute_result"
    }
   ],
   "source": [
    "nome = palavras_chave_dep[(palavras_chave_dep['NomeAutor'] == 'José Bittencourt')]\n",
    "nome.groupby(\"Palavra\").IdDocumento.count().sort_values(ascending=False)"
   ]
  },
  {
   "cell_type": "code",
   "execution_count": null,
   "metadata": {},
   "outputs": [],
   "source": []
  },
  {
   "cell_type": "code",
   "execution_count": null,
   "metadata": {},
   "outputs": [],
   "source": []
  }
 ],
 "metadata": {
  "kernelspec": {
   "display_name": "Python 3",
   "language": "python",
   "name": "python3"
  },
  "language_info": {
   "codemirror_mode": {
    "name": "ipython",
    "version": 3
   },
   "file_extension": ".py",
   "mimetype": "text/x-python",
   "name": "python",
   "nbconvert_exporter": "python",
   "pygments_lexer": "ipython3",
   "version": "3.6.2"
  }
 },
 "nbformat": 4,
 "nbformat_minor": 2
}
