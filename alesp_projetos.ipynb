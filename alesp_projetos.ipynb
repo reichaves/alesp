{
 "cells": [
  {
   "cell_type": "code",
   "execution_count": 1,
   "metadata": {},
   "outputs": [],
   "source": [
    "# -*- coding: utf-8\n",
    "# VOLT DATA LAB (https://www.voltdata.info/)\n",
    "# Reinaldo Chaves (@paidatocandeira)\n",
    "# Detalhamento dos projetos de lei tramitados pelos deputados estaduais - quantidades e assuntos\n",
    "#"
   ]
  },
  {
   "cell_type": "code",
   "execution_count": null,
   "metadata": {},
   "outputs": [],
   "source": []
  },
  {
   "cell_type": "code",
   "execution_count": 1,
   "metadata": {},
   "outputs": [],
   "source": [
    "import json\n",
    "import xmltodict\n",
    "import pandas as pd\n",
    "import numpy as np\n",
    "from datetime import date"
   ]
  },
  {
   "cell_type": "code",
   "execution_count": null,
   "metadata": {},
   "outputs": [],
   "source": []
  },
  {
   "cell_type": "markdown",
   "metadata": {},
   "source": [
    "# Autores"
   ]
  },
  {
   "cell_type": "markdown",
   "metadata": {},
   "source": [
    "Fonte\n",
    " https://www.al.sp.gov.br/dados-abertos/recurso/81"
   ]
  },
  {
   "cell_type": "code",
   "execution_count": 2,
   "metadata": {},
   "outputs": [],
   "source": [
    "with open(\"dados/processo_legislativo/documento_autor_set_2018.xml\", 'r') as f:\n",
    "    xmlString = f.read()"
   ]
  },
  {
   "cell_type": "code",
   "execution_count": 3,
   "metadata": {},
   "outputs": [],
   "source": [
    "jsonString = json.dumps(xmltodict.parse(xmlString), indent=4)"
   ]
  },
  {
   "cell_type": "code",
   "execution_count": 4,
   "metadata": {},
   "outputs": [],
   "source": [
    "with open(\"output.json\", 'w') as f:\n",
    "    f.write(jsonString)"
   ]
  },
  {
   "cell_type": "code",
   "execution_count": null,
   "metadata": {},
   "outputs": [],
   "source": []
  },
  {
   "cell_type": "code",
   "execution_count": 5,
   "metadata": {},
   "outputs": [],
   "source": [
    "arquivo_json = open('output.json', 'r')\n",
    "dados_json = json.load(arquivo_json)"
   ]
  },
  {
   "cell_type": "code",
   "execution_count": 6,
   "metadata": {},
   "outputs": [],
   "source": [
    "#dados_json['documentos_autores']['DocumentoAutor']"
   ]
  },
  {
   "cell_type": "code",
   "execution_count": null,
   "metadata": {},
   "outputs": [],
   "source": []
  },
  {
   "cell_type": "code",
   "execution_count": 7,
   "metadata": {},
   "outputs": [],
   "source": [
    "lista = dados_json['documentos_autores']['DocumentoAutor']"
   ]
  },
  {
   "cell_type": "code",
   "execution_count": 8,
   "metadata": {},
   "outputs": [],
   "source": [
    "df_autores = pd.DataFrame(lista, columns = ['IdAutor', 'IdDocumento', 'NomeAutor'])"
   ]
  },
  {
   "cell_type": "code",
   "execution_count": 9,
   "metadata": {},
   "outputs": [
    {
     "name": "stdout",
     "output_type": "stream",
     "text": [
      "<class 'pandas.core.frame.DataFrame'>\n",
      "RangeIndex: 702502 entries, 0 to 702501\n",
      "Data columns (total 3 columns):\n",
      "IdAutor        702502 non-null object\n",
      "IdDocumento    702502 non-null object\n",
      "NomeAutor      702502 non-null object\n",
      "dtypes: object(3)\n",
      "memory usage: 16.1+ MB\n"
     ]
    }
   ],
   "source": [
    "df_autores.info()"
   ]
  },
  {
   "cell_type": "code",
   "execution_count": 13,
   "metadata": {},
   "outputs": [],
   "source": [
    "df_autores.to_csv('resultados/todos_autores_projetos.csv', index=False) "
   ]
  },
  {
   "cell_type": "markdown",
   "metadata": {},
   "source": [
    "Exemplo de busca de um autor"
   ]
  },
  {
   "cell_type": "code",
   "execution_count": 11,
   "metadata": {},
   "outputs": [
    {
     "data": {
      "text/html": [
       "<div>\n",
       "<style scoped>\n",
       "    .dataframe tbody tr th:only-of-type {\n",
       "        vertical-align: middle;\n",
       "    }\n",
       "\n",
       "    .dataframe tbody tr th {\n",
       "        vertical-align: top;\n",
       "    }\n",
       "\n",
       "    .dataframe thead th {\n",
       "        text-align: right;\n",
       "    }\n",
       "</style>\n",
       "<table border=\"1\" class=\"dataframe\">\n",
       "  <thead>\n",
       "    <tr style=\"text-align: right;\">\n",
       "      <th></th>\n",
       "      <th>IdAutor</th>\n",
       "      <th>IdDocumento</th>\n",
       "      <th>NomeAutor</th>\n",
       "    </tr>\n",
       "  </thead>\n",
       "  <tbody>\n",
       "    <tr>\n",
       "      <th>560494</th>\n",
       "      <td>1000000242</td>\n",
       "      <td>1000229169</td>\n",
       "      <td>Gustavo Petta</td>\n",
       "    </tr>\n",
       "    <tr>\n",
       "      <th>560673</th>\n",
       "      <td>1000000242</td>\n",
       "      <td>1000226780</td>\n",
       "      <td>Gustavo Petta</td>\n",
       "    </tr>\n",
       "    <tr>\n",
       "      <th>636337</th>\n",
       "      <td>1000000242</td>\n",
       "      <td>1000214907</td>\n",
       "      <td>Gustavo Petta</td>\n",
       "    </tr>\n",
       "    <tr>\n",
       "      <th>637500</th>\n",
       "      <td>1000000242</td>\n",
       "      <td>1000225263</td>\n",
       "      <td>Gustavo Petta</td>\n",
       "    </tr>\n",
       "    <tr>\n",
       "      <th>639173</th>\n",
       "      <td>1000000242</td>\n",
       "      <td>1000221120</td>\n",
       "      <td>Gustavo Petta</td>\n",
       "    </tr>\n",
       "    <tr>\n",
       "      <th>643408</th>\n",
       "      <td>1000000242</td>\n",
       "      <td>1000224520</td>\n",
       "      <td>Gustavo Petta</td>\n",
       "    </tr>\n",
       "    <tr>\n",
       "      <th>643471</th>\n",
       "      <td>1000000242</td>\n",
       "      <td>1000225080</td>\n",
       "      <td>Gustavo Petta</td>\n",
       "    </tr>\n",
       "    <tr>\n",
       "      <th>645100</th>\n",
       "      <td>1000000242</td>\n",
       "      <td>1000215996</td>\n",
       "      <td>Gustavo Petta</td>\n",
       "    </tr>\n",
       "    <tr>\n",
       "      <th>647893</th>\n",
       "      <td>1000000242</td>\n",
       "      <td>1000213599</td>\n",
       "      <td>Gustavo Petta</td>\n",
       "    </tr>\n",
       "    <tr>\n",
       "      <th>673995</th>\n",
       "      <td>1000000242</td>\n",
       "      <td>1000225235</td>\n",
       "      <td>Gustavo Petta</td>\n",
       "    </tr>\n",
       "    <tr>\n",
       "      <th>675045</th>\n",
       "      <td>1000000242</td>\n",
       "      <td>1000222975</td>\n",
       "      <td>Gustavo Petta</td>\n",
       "    </tr>\n",
       "    <tr>\n",
       "      <th>675928</th>\n",
       "      <td>1000000242</td>\n",
       "      <td>1000214709</td>\n",
       "      <td>Gustavo Petta</td>\n",
       "    </tr>\n",
       "    <tr>\n",
       "      <th>676082</th>\n",
       "      <td>1000000242</td>\n",
       "      <td>1000217233</td>\n",
       "      <td>Gustavo Petta</td>\n",
       "    </tr>\n",
       "    <tr>\n",
       "      <th>676083</th>\n",
       "      <td>1000000242</td>\n",
       "      <td>1000217234</td>\n",
       "      <td>Gustavo Petta</td>\n",
       "    </tr>\n",
       "    <tr>\n",
       "      <th>677027</th>\n",
       "      <td>1000000242</td>\n",
       "      <td>1000218265</td>\n",
       "      <td>Gustavo Petta</td>\n",
       "    </tr>\n",
       "    <tr>\n",
       "      <th>702318</th>\n",
       "      <td>1000000242</td>\n",
       "      <td>1000215523</td>\n",
       "      <td>Gustavo Petta</td>\n",
       "    </tr>\n",
       "    <tr>\n",
       "      <th>702350</th>\n",
       "      <td>1000000242</td>\n",
       "      <td>1000221675</td>\n",
       "      <td>Gustavo Petta</td>\n",
       "    </tr>\n",
       "  </tbody>\n",
       "</table>\n",
       "</div>"
      ],
      "text/plain": [
       "           IdAutor IdDocumento      NomeAutor\n",
       "560494  1000000242  1000229169  Gustavo Petta\n",
       "560673  1000000242  1000226780  Gustavo Petta\n",
       "636337  1000000242  1000214907  Gustavo Petta\n",
       "637500  1000000242  1000225263  Gustavo Petta\n",
       "639173  1000000242  1000221120  Gustavo Petta\n",
       "643408  1000000242  1000224520  Gustavo Petta\n",
       "643471  1000000242  1000225080  Gustavo Petta\n",
       "645100  1000000242  1000215996  Gustavo Petta\n",
       "647893  1000000242  1000213599  Gustavo Petta\n",
       "673995  1000000242  1000225235  Gustavo Petta\n",
       "675045  1000000242  1000222975  Gustavo Petta\n",
       "675928  1000000242  1000214709  Gustavo Petta\n",
       "676082  1000000242  1000217233  Gustavo Petta\n",
       "676083  1000000242  1000217234  Gustavo Petta\n",
       "677027  1000000242  1000218265  Gustavo Petta\n",
       "702318  1000000242  1000215523  Gustavo Petta\n",
       "702350  1000000242  1000221675  Gustavo Petta"
      ]
     },
     "execution_count": 11,
     "metadata": {},
     "output_type": "execute_result"
    }
   ],
   "source": [
    "nome = df_autores [(df_autores ['IdAutor'] == '1000000242')]\n",
    "nome"
   ]
  },
  {
   "cell_type": "code",
   "execution_count": 10,
   "metadata": {},
   "outputs": [],
   "source": [
    "#df_autores.reset_index()"
   ]
  },
  {
   "cell_type": "code",
   "execution_count": null,
   "metadata": {},
   "outputs": [],
   "source": []
  },
  {
   "cell_type": "markdown",
   "metadata": {},
   "source": [
    "Carrega nomes de deputados da atual legislatura"
   ]
  },
  {
   "cell_type": "code",
   "execution_count": 10,
   "metadata": {},
   "outputs": [
    {
     "name": "stdout",
     "output_type": "stream",
     "text": [
      "<class 'pandas.core.frame.DataFrame'>\n",
      "RangeIndex: 120 entries, 0 to 119\n",
      "Data columns (total 9 columns):\n",
      "codigo_unico       120 non-null object\n",
      "nome_deputado      120 non-null object\n",
      "uf                 120 non-null object\n",
      "nome_completo      120 non-null object\n",
      "sequencial         120 non-null object\n",
      "cpf                120 non-null object\n",
      "nome_urna          120 non-null object\n",
      "partido_eleicao    120 non-null object\n",
      "situacao           120 non-null object\n",
      "dtypes: object(9)\n",
      "memory usage: 8.5+ KB\n"
     ]
    }
   ],
   "source": [
    "nomes_deputados_atual_legislatura = pd.read_csv('resultados/deputados_selecionados_final.csv', converters={'sequencial': lambda x: str(x), 'cpf': lambda x: str(x), 'codigo_unico': lambda x: str(x) })\n",
    "nomes_deputados_atual_legislatura.info()"
   ]
  },
  {
   "cell_type": "code",
   "execution_count": null,
   "metadata": {},
   "outputs": [],
   "source": []
  },
  {
   "cell_type": "markdown",
   "metadata": {},
   "source": [
    "Filtra por esses nomes, com o código"
   ]
  },
  {
   "cell_type": "code",
   "execution_count": 11,
   "metadata": {},
   "outputs": [],
   "source": [
    "df_autores_atuais = pd.merge(df_autores, nomes_deputados_atual_legislatura, left_on='IdAutor', right_on='codigo_unico')"
   ]
  },
  {
   "cell_type": "code",
   "execution_count": 12,
   "metadata": {},
   "outputs": [
    {
     "name": "stdout",
     "output_type": "stream",
     "text": [
      "<class 'pandas.core.frame.DataFrame'>\n",
      "Int64Index: 349959 entries, 0 to 349958\n",
      "Data columns (total 12 columns):\n",
      "IdAutor            349959 non-null object\n",
      "IdDocumento        349959 non-null object\n",
      "NomeAutor          349959 non-null object\n",
      "codigo_unico       349959 non-null object\n",
      "nome_deputado      349959 non-null object\n",
      "uf                 349959 non-null object\n",
      "nome_completo      349959 non-null object\n",
      "sequencial         349959 non-null object\n",
      "cpf                349959 non-null object\n",
      "nome_urna          349959 non-null object\n",
      "partido_eleicao    349959 non-null object\n",
      "situacao           349959 non-null object\n",
      "dtypes: object(12)\n",
      "memory usage: 34.7+ MB\n"
     ]
    }
   ],
   "source": [
    "df_autores_atuais.info()"
   ]
  },
  {
   "cell_type": "code",
   "execution_count": null,
   "metadata": {},
   "outputs": [],
   "source": []
  },
  {
   "cell_type": "markdown",
   "metadata": {},
   "source": [
    "Todos os 120 deputados têm pelo menos um projeto na história"
   ]
  },
  {
   "cell_type": "code",
   "execution_count": 13,
   "metadata": {},
   "outputs": [
    {
     "data": {
      "text/plain": [
       "120"
      ]
     },
     "execution_count": 13,
     "metadata": {},
     "output_type": "execute_result"
    }
   ],
   "source": [
    "conta = len(df_autores_atuais['IdAutor'].value_counts())\n",
    "conta"
   ]
  },
  {
   "cell_type": "code",
   "execution_count": null,
   "metadata": {},
   "outputs": [],
   "source": []
  },
  {
   "cell_type": "markdown",
   "metadata": {},
   "source": [
    "# Proposituras"
   ]
  },
  {
   "cell_type": "markdown",
   "metadata": {},
   "source": [
    "https://www.al.sp.gov.br/dados-abertos/recurso/56"
   ]
  },
  {
   "cell_type": "code",
   "execution_count": 14,
   "metadata": {},
   "outputs": [],
   "source": [
    "with open(\"dados/processo_legislativo/proposituras_set_2018.xml\", 'r') as f:\n",
    "    xmlString = f.read()"
   ]
  },
  {
   "cell_type": "code",
   "execution_count": 15,
   "metadata": {},
   "outputs": [],
   "source": [
    "jsonString = json.dumps(xmltodict.parse(xmlString), indent=4)"
   ]
  },
  {
   "cell_type": "code",
   "execution_count": 16,
   "metadata": {},
   "outputs": [],
   "source": [
    "with open(\"output.json\", 'w') as f:\n",
    "    f.write(jsonString)"
   ]
  },
  {
   "cell_type": "code",
   "execution_count": null,
   "metadata": {},
   "outputs": [],
   "source": []
  },
  {
   "cell_type": "code",
   "execution_count": 17,
   "metadata": {},
   "outputs": [],
   "source": [
    "arquivo_json = open('output.json', 'r')\n",
    "dados_json = json.load(arquivo_json)"
   ]
  },
  {
   "cell_type": "code",
   "execution_count": 18,
   "metadata": {},
   "outputs": [],
   "source": [
    "#dados_json['proposituras']['propositura']"
   ]
  },
  {
   "cell_type": "code",
   "execution_count": 19,
   "metadata": {},
   "outputs": [],
   "source": [
    "lista = dados_json['proposituras']['propositura']"
   ]
  },
  {
   "cell_type": "code",
   "execution_count": 20,
   "metadata": {},
   "outputs": [],
   "source": [
    "df_proposituras = pd.DataFrame(lista, columns = ['AnoLegislativo', 'CodOriginalidade', 'DtEntradaSistema', 'DtPublicacao', 'Ementa', 'IdDocumento', 'IdNatureza', 'NroLegislativo'])"
   ]
  },
  {
   "cell_type": "code",
   "execution_count": 21,
   "metadata": {},
   "outputs": [],
   "source": [
    "df_proposituras['DtEntradaSistema'] = pd.to_datetime(df_proposituras['DtEntradaSistema'])\n",
    "df_proposituras['DtPublicacao'] = pd.to_datetime(df_proposituras['DtPublicacao'])"
   ]
  },
  {
   "cell_type": "code",
   "execution_count": 22,
   "metadata": {},
   "outputs": [
    {
     "name": "stdout",
     "output_type": "stream",
     "text": [
      "<class 'pandas.core.frame.DataFrame'>\n",
      "RangeIndex: 192781 entries, 0 to 192780\n",
      "Data columns (total 8 columns):\n",
      "AnoLegislativo      192781 non-null object\n",
      "CodOriginalidade    140539 non-null object\n",
      "DtEntradaSistema    192753 non-null datetime64[ns]\n",
      "DtPublicacao        192781 non-null datetime64[ns]\n",
      "Ementa              192781 non-null object\n",
      "IdDocumento         192781 non-null object\n",
      "IdNatureza          192781 non-null object\n",
      "NroLegislativo      192781 non-null object\n",
      "dtypes: datetime64[ns](2), object(6)\n",
      "memory usage: 11.8+ MB\n"
     ]
    }
   ],
   "source": [
    "df_proposituras.info()"
   ]
  },
  {
   "cell_type": "code",
   "execution_count": null,
   "metadata": {},
   "outputs": [],
   "source": []
  },
  {
   "cell_type": "markdown",
   "metadata": {},
   "source": [
    "Seleciona apenas as da atual legislatura"
   ]
  },
  {
   "cell_type": "code",
   "execution_count": 23,
   "metadata": {},
   "outputs": [],
   "source": [
    "df_proposituras = df_proposituras[(df_proposituras['AnoLegislativo'] == '2015') | \n",
    "                                  (df_proposituras['AnoLegislativo'] == '2016') | \n",
    "                                  (df_proposituras['AnoLegislativo'] == '2017') | \n",
    "                                  (df_proposituras['AnoLegislativo'] == '2018')]"
   ]
  },
  {
   "cell_type": "code",
   "execution_count": 24,
   "metadata": {},
   "outputs": [
    {
     "data": {
      "text/html": [
       "<div>\n",
       "<style scoped>\n",
       "    .dataframe tbody tr th:only-of-type {\n",
       "        vertical-align: middle;\n",
       "    }\n",
       "\n",
       "    .dataframe tbody tr th {\n",
       "        vertical-align: top;\n",
       "    }\n",
       "\n",
       "    .dataframe thead th {\n",
       "        text-align: right;\n",
       "    }\n",
       "</style>\n",
       "<table border=\"1\" class=\"dataframe\">\n",
       "  <thead>\n",
       "    <tr style=\"text-align: right;\">\n",
       "      <th></th>\n",
       "      <th>index</th>\n",
       "      <th>AnoLegislativo</th>\n",
       "      <th>CodOriginalidade</th>\n",
       "      <th>DtEntradaSistema</th>\n",
       "      <th>DtPublicacao</th>\n",
       "      <th>Ementa</th>\n",
       "      <th>IdDocumento</th>\n",
       "      <th>IdNatureza</th>\n",
       "      <th>NroLegislativo</th>\n",
       "    </tr>\n",
       "  </thead>\n",
       "  <tbody>\n",
       "    <tr>\n",
       "      <th>0</th>\n",
       "      <td>160212</td>\n",
       "      <td>2015</td>\n",
       "      <td>1201264 120215 1518</td>\n",
       "      <td>2014-04-09 03:00:00</td>\n",
       "      <td>2015-03-24 03:00:00</td>\n",
       "      <td>Indica ao Sr.Governador a elaboração de estudo...</td>\n",
       "      <td>1201264</td>\n",
       "      <td>9</td>\n",
       "      <td>335</td>\n",
       "    </tr>\n",
       "    <tr>\n",
       "      <th>1</th>\n",
       "      <td>161496</td>\n",
       "      <td>2015</td>\n",
       "      <td>1244722 270115 1357</td>\n",
       "      <td>2015-01-27 02:00:00</td>\n",
       "      <td>2015-02-06 02:00:00</td>\n",
       "      <td>Propõe voto de congratulações pelo aniversário...</td>\n",
       "      <td>1244722</td>\n",
       "      <td>7</td>\n",
       "      <td>37</td>\n",
       "    </tr>\n",
       "    <tr>\n",
       "      <th>2</th>\n",
       "      <td>161600</td>\n",
       "      <td>2015</td>\n",
       "      <td>1244830 020215 1323</td>\n",
       "      <td>2015-02-02 02:00:00</td>\n",
       "      <td>2015-02-03 02:00:00</td>\n",
       "      <td>Requer ao Sr.Secretário de Estado de Desenvolv...</td>\n",
       "      <td>1244830</td>\n",
       "      <td>8</td>\n",
       "      <td>4</td>\n",
       "    </tr>\n",
       "    <tr>\n",
       "      <th>3</th>\n",
       "      <td>162018</td>\n",
       "      <td>2015</td>\n",
       "      <td>1244889 020215 1836</td>\n",
       "      <td>2015-02-02 02:00:00</td>\n",
       "      <td>2015-02-07 02:00:00</td>\n",
       "      <td>Indica ao Sr.Governador a liberação de recurso...</td>\n",
       "      <td>1244889</td>\n",
       "      <td>9</td>\n",
       "      <td>31</td>\n",
       "    </tr>\n",
       "    <tr>\n",
       "      <th>4</th>\n",
       "      <td>162019</td>\n",
       "      <td>2015</td>\n",
       "      <td>1244890 020215 1839</td>\n",
       "      <td>2015-02-02 02:00:00</td>\n",
       "      <td>2015-02-07 02:00:00</td>\n",
       "      <td>Indica ao Sr.Governador a liberação de recurso...</td>\n",
       "      <td>1244890</td>\n",
       "      <td>9</td>\n",
       "      <td>30</td>\n",
       "    </tr>\n",
       "  </tbody>\n",
       "</table>\n",
       "</div>"
      ],
      "text/plain": [
       "    index AnoLegislativo     CodOriginalidade    DtEntradaSistema  \\\n",
       "0  160212           2015  1201264 120215 1518 2014-04-09 03:00:00   \n",
       "1  161496           2015  1244722 270115 1357 2015-01-27 02:00:00   \n",
       "2  161600           2015  1244830 020215 1323 2015-02-02 02:00:00   \n",
       "3  162018           2015  1244889 020215 1836 2015-02-02 02:00:00   \n",
       "4  162019           2015  1244890 020215 1839 2015-02-02 02:00:00   \n",
       "\n",
       "         DtPublicacao                                             Ementa  \\\n",
       "0 2015-03-24 03:00:00  Indica ao Sr.Governador a elaboração de estudo...   \n",
       "1 2015-02-06 02:00:00  Propõe voto de congratulações pelo aniversário...   \n",
       "2 2015-02-03 02:00:00  Requer ao Sr.Secretário de Estado de Desenvolv...   \n",
       "3 2015-02-07 02:00:00  Indica ao Sr.Governador a liberação de recurso...   \n",
       "4 2015-02-07 02:00:00  Indica ao Sr.Governador a liberação de recurso...   \n",
       "\n",
       "  IdDocumento IdNatureza NroLegislativo  \n",
       "0     1201264          9            335  \n",
       "1     1244722          7             37  \n",
       "2     1244830          8              4  \n",
       "3     1244889          9             31  \n",
       "4     1244890          9             30  "
      ]
     },
     "execution_count": 24,
     "metadata": {},
     "output_type": "execute_result"
    }
   ],
   "source": [
    "df_proposituras.reset_index().head()"
   ]
  },
  {
   "cell_type": "code",
   "execution_count": 28,
   "metadata": {},
   "outputs": [
    {
     "data": {
      "text/plain": [
       "26739"
      ]
     },
     "execution_count": 28,
     "metadata": {},
     "output_type": "execute_result"
    }
   ],
   "source": [
    "#df_proposituras.IdDocumento.count()\n",
    "a = len(df_proposituras['IdDocumento'].value_counts())\n",
    "a"
   ]
  },
  {
   "cell_type": "code",
   "execution_count": 29,
   "metadata": {},
   "outputs": [
    {
     "data": {
      "text/plain": [
       "26739"
      ]
     },
     "execution_count": 29,
     "metadata": {},
     "output_type": "execute_result"
    }
   ],
   "source": [
    "df_proposituras['IdDocumento'].nunique()"
   ]
  },
  {
   "cell_type": "code",
   "execution_count": 30,
   "metadata": {},
   "outputs": [],
   "source": [
    "#df_proposituras['IdDocumento'].value_counts()"
   ]
  },
  {
   "cell_type": "code",
   "execution_count": null,
   "metadata": {},
   "outputs": [],
   "source": []
  },
  {
   "cell_type": "markdown",
   "metadata": {},
   "source": [
    "# Natureza"
   ]
  },
  {
   "cell_type": "markdown",
   "metadata": {},
   "source": [
    "https://www.al.sp.gov.br/dados-abertos/recurso/44"
   ]
  },
  {
   "cell_type": "code",
   "execution_count": 31,
   "metadata": {},
   "outputs": [],
   "source": [
    "with open(\"dados/processo_legislativo/naturezasSpl.xml\", 'r') as f:\n",
    "    xmlString = f.read()\n",
    "jsonString = json.dumps(xmltodict.parse(xmlString), indent=4)\n",
    "with open(\"output.json\", 'w') as f:\n",
    "    f.write(jsonString)"
   ]
  },
  {
   "cell_type": "code",
   "execution_count": 32,
   "metadata": {},
   "outputs": [],
   "source": [
    "arquivo_json = open('output.json', 'r')\n",
    "dados_json = json.load(arquivo_json)"
   ]
  },
  {
   "cell_type": "code",
   "execution_count": 33,
   "metadata": {},
   "outputs": [],
   "source": [
    "#dados_json"
   ]
  },
  {
   "cell_type": "code",
   "execution_count": 34,
   "metadata": {},
   "outputs": [],
   "source": [
    "lista = dados_json['natureza']['natureza']\n",
    "df_natureza = pd.DataFrame(lista, columns = ['idNatureza', 'nmNatureza', 'sgNatureza', 'tpNatureza'])"
   ]
  },
  {
   "cell_type": "code",
   "execution_count": 97,
   "metadata": {},
   "outputs": [],
   "source": [
    "df_natureza.to_csv('resultados/natureza_projetos_alesp.csv', index=False)"
   ]
  },
  {
   "cell_type": "code",
   "execution_count": null,
   "metadata": {},
   "outputs": [],
   "source": []
  },
  {
   "cell_type": "markdown",
   "metadata": {},
   "source": [
    "# Temas escolhidos"
   ]
  },
  {
   "cell_type": "markdown",
   "metadata": {},
   "source": [
    "141\tProjeto de lei de PPA <br>\n",
    "142\tProjeto de lei do Orçamento <br>\n",
    "147\tReq. de Comissão Parlamentar Especial <br>\n",
    "1\tProjeto de lei <br>\n",
    "2\tProjeto de lei Complementar <br>\n",
    "3\tProjeto de resolução <br>\n",
    "4\tProjeto de decreto legislativo <br>\n",
    "5\tProposta de emenda à Constituição <br>\n",
    "10\tProjeto de Constituição <br>\n",
    "24\tLei <br>\n",
    "33\tLei Complementar <br>\n",
    "35\tLei (§ 7ª - artigo 28) <br>\n",
    "40\tDecreto Legislativo"
   ]
  },
  {
   "cell_type": "code",
   "execution_count": 35,
   "metadata": {},
   "outputs": [],
   "source": [
    "projetos_acao_parlamentar = df_proposituras[(df_proposituras['IdNatureza'] == '141') | \n",
    "                                            (df_proposituras['IdNatureza'] == '142') | \n",
    "                                            (df_proposituras['IdNatureza'] == '147') | \n",
    "                                            (df_proposituras['IdNatureza'] == '1') | \n",
    "                                            (df_proposituras['IdNatureza'] == '2') | \n",
    "                                            (df_proposituras['IdNatureza'] == '3') | \n",
    "                                            (df_proposituras['IdNatureza'] == '4') | \n",
    "                                            (df_proposituras['IdNatureza'] == '5') | \n",
    "                                            (df_proposituras['IdNatureza'] == '10') | \n",
    "                                            (df_proposituras['IdNatureza'] == '24') | \n",
    "                                            (df_proposituras['IdNatureza'] == '33') | \n",
    "                                            (df_proposituras['IdNatureza'] == '35') | \n",
    "                                            (df_proposituras['IdNatureza'] == '40')]"
   ]
  },
  {
   "cell_type": "code",
   "execution_count": null,
   "metadata": {},
   "outputs": [],
   "source": []
  },
  {
   "cell_type": "code",
   "execution_count": 36,
   "metadata": {},
   "outputs": [],
   "source": [
    "autores_projetos = pd.merge(df_autores_atuais, projetos_acao_parlamentar, left_on='IdDocumento', right_on='IdDocumento')"
   ]
  },
  {
   "cell_type": "code",
   "execution_count": 37,
   "metadata": {},
   "outputs": [
    {
     "name": "stdout",
     "output_type": "stream",
     "text": [
      "<class 'pandas.core.frame.DataFrame'>\n",
      "Int64Index: 6897 entries, 0 to 6896\n",
      "Data columns (total 19 columns):\n",
      "IdAutor             6897 non-null object\n",
      "IdDocumento         6897 non-null object\n",
      "NomeAutor           6897 non-null object\n",
      "codigo_unico        6897 non-null object\n",
      "nome_deputado       6897 non-null object\n",
      "uf                  6897 non-null object\n",
      "nome_completo       6897 non-null object\n",
      "sequencial          6897 non-null object\n",
      "cpf                 6897 non-null object\n",
      "nome_urna           6897 non-null object\n",
      "partido_eleicao     6897 non-null object\n",
      "situacao            6897 non-null object\n",
      "AnoLegislativo      6897 non-null object\n",
      "CodOriginalidade    5786 non-null object\n",
      "DtEntradaSistema    6897 non-null datetime64[ns]\n",
      "DtPublicacao        6897 non-null datetime64[ns]\n",
      "Ementa              6897 non-null object\n",
      "IdNatureza          6897 non-null object\n",
      "NroLegislativo      6897 non-null object\n",
      "dtypes: datetime64[ns](2), object(17)\n",
      "memory usage: 1.1+ MB\n"
     ]
    }
   ],
   "source": [
    "autores_projetos.info()"
   ]
  },
  {
   "cell_type": "code",
   "execution_count": 38,
   "metadata": {},
   "outputs": [
    {
     "data": {
      "text/html": [
       "<div>\n",
       "<style scoped>\n",
       "    .dataframe tbody tr th:only-of-type {\n",
       "        vertical-align: middle;\n",
       "    }\n",
       "\n",
       "    .dataframe tbody tr th {\n",
       "        vertical-align: top;\n",
       "    }\n",
       "\n",
       "    .dataframe thead th {\n",
       "        text-align: right;\n",
       "    }\n",
       "</style>\n",
       "<table border=\"1\" class=\"dataframe\">\n",
       "  <thead>\n",
       "    <tr style=\"text-align: right;\">\n",
       "      <th></th>\n",
       "      <th>index</th>\n",
       "      <th>IdAutor</th>\n",
       "      <th>IdDocumento</th>\n",
       "      <th>NomeAutor</th>\n",
       "      <th>codigo_unico</th>\n",
       "      <th>nome_deputado</th>\n",
       "      <th>uf</th>\n",
       "      <th>nome_completo</th>\n",
       "      <th>sequencial</th>\n",
       "      <th>cpf</th>\n",
       "      <th>nome_urna</th>\n",
       "      <th>partido_eleicao</th>\n",
       "      <th>situacao</th>\n",
       "      <th>AnoLegislativo</th>\n",
       "      <th>CodOriginalidade</th>\n",
       "      <th>DtEntradaSistema</th>\n",
       "      <th>DtPublicacao</th>\n",
       "      <th>Ementa</th>\n",
       "      <th>IdNatureza</th>\n",
       "      <th>NroLegislativo</th>\n",
       "    </tr>\n",
       "  </thead>\n",
       "  <tbody>\n",
       "    <tr>\n",
       "      <th>0</th>\n",
       "      <td>0</td>\n",
       "      <td>4926</td>\n",
       "      <td>1249726</td>\n",
       "      <td>Mauro Bragato</td>\n",
       "      <td>4926</td>\n",
       "      <td>MAURO BRAGATO</td>\n",
       "      <td>SP</td>\n",
       "      <td>MAURO BRAGATO</td>\n",
       "      <td>250000001571</td>\n",
       "      <td>00493946810</td>\n",
       "      <td>MAURO BRAGATO</td>\n",
       "      <td>PSDB</td>\n",
       "      <td>ELEITO POR QP</td>\n",
       "      <td>2015</td>\n",
       "      <td>1249726 110315 1748</td>\n",
       "      <td>2015-03-11 03:00:00</td>\n",
       "      <td>2015-03-21 03:00:00</td>\n",
       "      <td>Classifica Castilho como Município de Interess...</td>\n",
       "      <td>1</td>\n",
       "      <td>217</td>\n",
       "    </tr>\n",
       "    <tr>\n",
       "      <th>1</th>\n",
       "      <td>1</td>\n",
       "      <td>4926</td>\n",
       "      <td>1249746</td>\n",
       "      <td>Mauro Bragato</td>\n",
       "      <td>4926</td>\n",
       "      <td>MAURO BRAGATO</td>\n",
       "      <td>SP</td>\n",
       "      <td>MAURO BRAGATO</td>\n",
       "      <td>250000001571</td>\n",
       "      <td>00493946810</td>\n",
       "      <td>MAURO BRAGATO</td>\n",
       "      <td>PSDB</td>\n",
       "      <td>ELEITO POR QP</td>\n",
       "      <td>2015</td>\n",
       "      <td>1249746 110315 1753</td>\n",
       "      <td>2015-03-11 03:00:00</td>\n",
       "      <td>2015-03-21 03:00:00</td>\n",
       "      <td>Classifica Lucélia como Município de Interesse...</td>\n",
       "      <td>1</td>\n",
       "      <td>218</td>\n",
       "    </tr>\n",
       "    <tr>\n",
       "      <th>2</th>\n",
       "      <td>2</td>\n",
       "      <td>4926</td>\n",
       "      <td>1249757</td>\n",
       "      <td>Mauro Bragato</td>\n",
       "      <td>4926</td>\n",
       "      <td>MAURO BRAGATO</td>\n",
       "      <td>SP</td>\n",
       "      <td>MAURO BRAGATO</td>\n",
       "      <td>250000001571</td>\n",
       "      <td>00493946810</td>\n",
       "      <td>MAURO BRAGATO</td>\n",
       "      <td>PSDB</td>\n",
       "      <td>ELEITO POR QP</td>\n",
       "      <td>2015</td>\n",
       "      <td>1249757 110315 1804</td>\n",
       "      <td>2015-03-11 03:00:00</td>\n",
       "      <td>2015-03-21 03:00:00</td>\n",
       "      <td>Classifica Martinópolis como Município de Inte...</td>\n",
       "      <td>1</td>\n",
       "      <td>219</td>\n",
       "    </tr>\n",
       "    <tr>\n",
       "      <th>3</th>\n",
       "      <td>3</td>\n",
       "      <td>4926</td>\n",
       "      <td>1249762</td>\n",
       "      <td>Mauro Bragato</td>\n",
       "      <td>4926</td>\n",
       "      <td>MAURO BRAGATO</td>\n",
       "      <td>SP</td>\n",
       "      <td>MAURO BRAGATO</td>\n",
       "      <td>250000001571</td>\n",
       "      <td>00493946810</td>\n",
       "      <td>MAURO BRAGATO</td>\n",
       "      <td>PSDB</td>\n",
       "      <td>ELEITO POR QP</td>\n",
       "      <td>2015</td>\n",
       "      <td>1249762 110315 1809</td>\n",
       "      <td>2015-03-11 03:00:00</td>\n",
       "      <td>2015-03-21 03:00:00</td>\n",
       "      <td>Classifica Panorama como Município de Interess...</td>\n",
       "      <td>1</td>\n",
       "      <td>220</td>\n",
       "    </tr>\n",
       "    <tr>\n",
       "      <th>4</th>\n",
       "      <td>4</td>\n",
       "      <td>4926</td>\n",
       "      <td>1249778</td>\n",
       "      <td>Mauro Bragato</td>\n",
       "      <td>4926</td>\n",
       "      <td>MAURO BRAGATO</td>\n",
       "      <td>SP</td>\n",
       "      <td>MAURO BRAGATO</td>\n",
       "      <td>250000001571</td>\n",
       "      <td>00493946810</td>\n",
       "      <td>MAURO BRAGATO</td>\n",
       "      <td>PSDB</td>\n",
       "      <td>ELEITO POR QP</td>\n",
       "      <td>2015</td>\n",
       "      <td>1249778 110315 1839</td>\n",
       "      <td>2015-03-11 03:00:00</td>\n",
       "      <td>2015-03-21 03:00:00</td>\n",
       "      <td>Declara de utilidade pública a \"Associação de ...</td>\n",
       "      <td>1</td>\n",
       "      <td>223</td>\n",
       "    </tr>\n",
       "  </tbody>\n",
       "</table>\n",
       "</div>"
      ],
      "text/plain": [
       "   index IdAutor IdDocumento      NomeAutor codigo_unico  nome_deputado  uf  \\\n",
       "0      0    4926     1249726  Mauro Bragato         4926  MAURO BRAGATO  SP   \n",
       "1      1    4926     1249746  Mauro Bragato         4926  MAURO BRAGATO  SP   \n",
       "2      2    4926     1249757  Mauro Bragato         4926  MAURO BRAGATO  SP   \n",
       "3      3    4926     1249762  Mauro Bragato         4926  MAURO BRAGATO  SP   \n",
       "4      4    4926     1249778  Mauro Bragato         4926  MAURO BRAGATO  SP   \n",
       "\n",
       "   nome_completo    sequencial          cpf      nome_urna partido_eleicao  \\\n",
       "0  MAURO BRAGATO  250000001571  00493946810  MAURO BRAGATO            PSDB   \n",
       "1  MAURO BRAGATO  250000001571  00493946810  MAURO BRAGATO            PSDB   \n",
       "2  MAURO BRAGATO  250000001571  00493946810  MAURO BRAGATO            PSDB   \n",
       "3  MAURO BRAGATO  250000001571  00493946810  MAURO BRAGATO            PSDB   \n",
       "4  MAURO BRAGATO  250000001571  00493946810  MAURO BRAGATO            PSDB   \n",
       "\n",
       "        situacao AnoLegislativo     CodOriginalidade    DtEntradaSistema  \\\n",
       "0  ELEITO POR QP           2015  1249726 110315 1748 2015-03-11 03:00:00   \n",
       "1  ELEITO POR QP           2015  1249746 110315 1753 2015-03-11 03:00:00   \n",
       "2  ELEITO POR QP           2015  1249757 110315 1804 2015-03-11 03:00:00   \n",
       "3  ELEITO POR QP           2015  1249762 110315 1809 2015-03-11 03:00:00   \n",
       "4  ELEITO POR QP           2015  1249778 110315 1839 2015-03-11 03:00:00   \n",
       "\n",
       "         DtPublicacao                                             Ementa  \\\n",
       "0 2015-03-21 03:00:00  Classifica Castilho como Município de Interess...   \n",
       "1 2015-03-21 03:00:00  Classifica Lucélia como Município de Interesse...   \n",
       "2 2015-03-21 03:00:00  Classifica Martinópolis como Município de Inte...   \n",
       "3 2015-03-21 03:00:00  Classifica Panorama como Município de Interess...   \n",
       "4 2015-03-21 03:00:00  Declara de utilidade pública a \"Associação de ...   \n",
       "\n",
       "  IdNatureza NroLegislativo  \n",
       "0          1            217  \n",
       "1          1            218  \n",
       "2          1            219  \n",
       "3          1            220  \n",
       "4          1            223  "
      ]
     },
     "execution_count": 38,
     "metadata": {},
     "output_type": "execute_result"
    }
   ],
   "source": [
    "autores_projetos.reset_index().head()"
   ]
  },
  {
   "cell_type": "markdown",
   "metadata": {},
   "source": [
    "Número de projetos"
   ]
  },
  {
   "cell_type": "code",
   "execution_count": 39,
   "metadata": {},
   "outputs": [
    {
     "data": {
      "text/plain": [
       "4534"
      ]
     },
     "execution_count": 39,
     "metadata": {},
     "output_type": "execute_result"
    }
   ],
   "source": [
    "autores_projetos['IdDocumento'].nunique()"
   ]
  },
  {
   "cell_type": "code",
   "execution_count": 43,
   "metadata": {},
   "outputs": [],
   "source": [
    "autores_projetos.to_csv('resultados/autores_projetos.csv', index=False)\n",
    "autores_projetos.to_excel('resultados/autores_projetos_atual_legislatura.xlsx',sheet_name='Sheet1')"
   ]
  },
  {
   "cell_type": "code",
   "execution_count": null,
   "metadata": {},
   "outputs": [],
   "source": []
  },
  {
   "cell_type": "code",
   "execution_count": 40,
   "metadata": {},
   "outputs": [],
   "source": [
    "#autores_projetos['IdDocumento'].value_counts()"
   ]
  },
  {
   "cell_type": "code",
   "execution_count": 41,
   "metadata": {},
   "outputs": [],
   "source": [
    "seleciona = autores_projetos[(autores_projetos['IdDocumento'] == '1000038268')]"
   ]
  },
  {
   "cell_type": "code",
   "execution_count": 42,
   "metadata": {},
   "outputs": [
    {
     "data": {
      "text/plain": [
       "1000038268    93\n",
       "Name: IdDocumento, dtype: int64"
      ]
     },
     "execution_count": 42,
     "metadata": {},
     "output_type": "execute_result"
    }
   ],
   "source": [
    "seleciona['IdDocumento'].value_counts()"
   ]
  },
  {
   "cell_type": "code",
   "execution_count": 43,
   "metadata": {},
   "outputs": [
    {
     "data": {
      "text/plain": [
       "{'NomeAutor': {0: 'Vaz de Lima',\n",
       "  1: 'Vaz de Lima',\n",
       "  2: 'Mauro Bragato',\n",
       "  3: 'Mauro Bragato',\n",
       "  4: 'Campos Machado'},\n",
       " 'NroLegislativo': {0: '3', 1: '3', 2: '3', 3: '3', 4: '3'},\n",
       " 'CodOriginalidade': {0: '1259512 200515 1258',\n",
       "  1: '1259512 200515 1258',\n",
       "  2: '1259512 200515 1258',\n",
       "  3: '1259512 200515 1258',\n",
       "  4: '1259512 200515 1258'},\n",
       " 'IdNatureza': {0: '5', 1: '5', 2: '5', 3: '5', 4: '5'},\n",
       " 'AnoLegislativo': {0: '2015', 1: '2015', 2: '2015', 3: '2015', 4: '2015'}}"
      ]
     },
     "execution_count": 43,
     "metadata": {},
     "output_type": "execute_result"
    }
   ],
   "source": [
    "autores_projetos[['NomeAutor', 'NroLegislativo', 'CodOriginalidade', 'IdNatureza', 'AnoLegislativo']].head(5).to_dict()"
   ]
  },
  {
   "cell_type": "code",
   "execution_count": null,
   "metadata": {},
   "outputs": [],
   "source": []
  },
  {
   "cell_type": "markdown",
   "metadata": {},
   "source": [
    "# Análises "
   ]
  },
  {
   "cell_type": "code",
   "execution_count": null,
   "metadata": {},
   "outputs": [],
   "source": []
  },
  {
   "cell_type": "markdown",
   "metadata": {},
   "source": [
    "Cria uma chave única para as contas"
   ]
  },
  {
   "cell_type": "code",
   "execution_count": 34,
   "metadata": {},
   "outputs": [],
   "source": [
    "def limpeza1(linha):\n",
    "    IdDocumento = str(linha[\"IdDocumento\"])\n",
    "    NroLegislativo = str(linha[\"NroLegislativo\"])\n",
    "    CodOriginalidade = str(linha[\"CodOriginalidade\"])\n",
    "    IdNatureza = str(linha[\"IdNatureza\"])\n",
    "    AnoLegislativo = str(linha[\"AnoLegislativo\"])\n",
    "    documento = IdDocumento+NroLegislativo+CodOriginalidade+IdNatureza+AnoLegislativo\n",
    "    return str(documento)"
   ]
  },
  {
   "cell_type": "code",
   "execution_count": 35,
   "metadata": {},
   "outputs": [],
   "source": [
    "autores_projetos[\"chave_unica\"] = autores_projetos.apply(limpeza1, axis=1)"
   ]
  },
  {
   "cell_type": "code",
   "execution_count": 36,
   "metadata": {},
   "outputs": [
    {
     "data": {
      "text/html": [
       "<div>\n",
       "<style scoped>\n",
       "    .dataframe tbody tr th:only-of-type {\n",
       "        vertical-align: middle;\n",
       "    }\n",
       "\n",
       "    .dataframe tbody tr th {\n",
       "        vertical-align: top;\n",
       "    }\n",
       "\n",
       "    .dataframe thead th {\n",
       "        text-align: right;\n",
       "    }\n",
       "</style>\n",
       "<table border=\"1\" class=\"dataframe\">\n",
       "  <thead>\n",
       "    <tr style=\"text-align: right;\">\n",
       "      <th></th>\n",
       "      <th>IdAutor</th>\n",
       "      <th>IdDocumento</th>\n",
       "      <th>NomeAutor</th>\n",
       "      <th>codigo_unico</th>\n",
       "      <th>nome_deputado</th>\n",
       "      <th>uf</th>\n",
       "      <th>nome_completo</th>\n",
       "      <th>sequencial</th>\n",
       "      <th>cpf</th>\n",
       "      <th>nome_urna</th>\n",
       "      <th>partido_eleicao</th>\n",
       "      <th>situacao</th>\n",
       "      <th>AnoLegislativo</th>\n",
       "      <th>CodOriginalidade</th>\n",
       "      <th>DtEntradaSistema</th>\n",
       "      <th>DtPublicacao</th>\n",
       "      <th>Ementa</th>\n",
       "      <th>IdNatureza</th>\n",
       "      <th>NroLegislativo</th>\n",
       "      <th>chave_unica</th>\n",
       "    </tr>\n",
       "  </thead>\n",
       "  <tbody>\n",
       "    <tr>\n",
       "      <th>0</th>\n",
       "      <td>31</td>\n",
       "      <td>1259512</td>\n",
       "      <td>Vaz de Lima</td>\n",
       "      <td>31</td>\n",
       "      <td>VAZ DE LIMA</td>\n",
       "      <td>SP</td>\n",
       "      <td>JOSE CARLOS VAZ DE LIMA</td>\n",
       "      <td>250000001566</td>\n",
       "      <td>57339333800</td>\n",
       "      <td>VAZ DE LIMA</td>\n",
       "      <td>PSDB</td>\n",
       "      <td>ELEITO POR QP</td>\n",
       "      <td>2015</td>\n",
       "      <td>1259512 200515 1258</td>\n",
       "      <td>2015-05-20 03:00:00</td>\n",
       "      <td>2015-05-21 03:00:00</td>\n",
       "      <td>Dá nova redação ao item 2 do § 1º do artigo 12...</td>\n",
       "      <td>5</td>\n",
       "      <td>3</td>\n",
       "      <td>125951231259512 200515 125852015</td>\n",
       "    </tr>\n",
       "    <tr>\n",
       "      <th>1</th>\n",
       "      <td>31</td>\n",
       "      <td>1259512</td>\n",
       "      <td>Vaz de Lima</td>\n",
       "      <td>31</td>\n",
       "      <td>VAZ DE LIMA</td>\n",
       "      <td>SP</td>\n",
       "      <td>JOSE CARLOS VAZ DE LIMA</td>\n",
       "      <td>250000001566</td>\n",
       "      <td>57339333800</td>\n",
       "      <td>VAZ DE LIMA</td>\n",
       "      <td>PSDB</td>\n",
       "      <td>ELEITO POR QP</td>\n",
       "      <td>2015</td>\n",
       "      <td>1259512 200515 1258</td>\n",
       "      <td>2015-05-20 03:00:00</td>\n",
       "      <td>2015-05-21 03:00:00</td>\n",
       "      <td>Dá nova redação ao item 2 do § 1º do artigo 12...</td>\n",
       "      <td>5</td>\n",
       "      <td>3</td>\n",
       "      <td>125951231259512 200515 125852015</td>\n",
       "    </tr>\n",
       "    <tr>\n",
       "      <th>2</th>\n",
       "      <td>4926</td>\n",
       "      <td>1259512</td>\n",
       "      <td>Mauro Bragato</td>\n",
       "      <td>4926</td>\n",
       "      <td>MAURO BRAGATO</td>\n",
       "      <td>SP</td>\n",
       "      <td>MAURO BRAGATO</td>\n",
       "      <td>250000001571</td>\n",
       "      <td>00493946810</td>\n",
       "      <td>MAURO BRAGATO</td>\n",
       "      <td>PSDB</td>\n",
       "      <td>ELEITO POR QP</td>\n",
       "      <td>2015</td>\n",
       "      <td>1259512 200515 1258</td>\n",
       "      <td>2015-05-20 03:00:00</td>\n",
       "      <td>2015-05-21 03:00:00</td>\n",
       "      <td>Dá nova redação ao item 2 do § 1º do artigo 12...</td>\n",
       "      <td>5</td>\n",
       "      <td>3</td>\n",
       "      <td>125951231259512 200515 125852015</td>\n",
       "    </tr>\n",
       "    <tr>\n",
       "      <th>3</th>\n",
       "      <td>4926</td>\n",
       "      <td>1259512</td>\n",
       "      <td>Mauro Bragato</td>\n",
       "      <td>4926</td>\n",
       "      <td>MAURO BRAGATO</td>\n",
       "      <td>SP</td>\n",
       "      <td>MAURO BRAGATO</td>\n",
       "      <td>250000001571</td>\n",
       "      <td>00493946810</td>\n",
       "      <td>MAURO BRAGATO</td>\n",
       "      <td>PSDB</td>\n",
       "      <td>ELEITO POR QP</td>\n",
       "      <td>2015</td>\n",
       "      <td>1259512 200515 1258</td>\n",
       "      <td>2015-05-20 03:00:00</td>\n",
       "      <td>2015-05-21 03:00:00</td>\n",
       "      <td>Dá nova redação ao item 2 do § 1º do artigo 12...</td>\n",
       "      <td>5</td>\n",
       "      <td>3</td>\n",
       "      <td>125951231259512 200515 125852015</td>\n",
       "    </tr>\n",
       "    <tr>\n",
       "      <th>4</th>\n",
       "      <td>94</td>\n",
       "      <td>1259512</td>\n",
       "      <td>Campos Machado</td>\n",
       "      <td>94</td>\n",
       "      <td>CAMPOS MACHADO</td>\n",
       "      <td>SP</td>\n",
       "      <td>ANTONIO CARLOS DE CAMPOS MACHADO</td>\n",
       "      <td>250000002439</td>\n",
       "      <td>03546748891</td>\n",
       "      <td>CAMPOS MACHADO</td>\n",
       "      <td>PTB</td>\n",
       "      <td>ELEITO POR QP</td>\n",
       "      <td>2015</td>\n",
       "      <td>1259512 200515 1258</td>\n",
       "      <td>2015-05-20 03:00:00</td>\n",
       "      <td>2015-05-21 03:00:00</td>\n",
       "      <td>Dá nova redação ao item 2 do § 1º do artigo 12...</td>\n",
       "      <td>5</td>\n",
       "      <td>3</td>\n",
       "      <td>125951231259512 200515 125852015</td>\n",
       "    </tr>\n",
       "  </tbody>\n",
       "</table>\n",
       "</div>"
      ],
      "text/plain": [
       "  IdAutor IdDocumento       NomeAutor codigo_unico   nome_deputado  uf  \\\n",
       "0      31     1259512     Vaz de Lima           31     VAZ DE LIMA  SP   \n",
       "1      31     1259512     Vaz de Lima           31     VAZ DE LIMA  SP   \n",
       "2    4926     1259512   Mauro Bragato         4926   MAURO BRAGATO  SP   \n",
       "3    4926     1259512   Mauro Bragato         4926   MAURO BRAGATO  SP   \n",
       "4      94     1259512  Campos Machado           94  CAMPOS MACHADO  SP   \n",
       "\n",
       "                      nome_completo    sequencial          cpf  \\\n",
       "0           JOSE CARLOS VAZ DE LIMA  250000001566  57339333800   \n",
       "1           JOSE CARLOS VAZ DE LIMA  250000001566  57339333800   \n",
       "2                     MAURO BRAGATO  250000001571  00493946810   \n",
       "3                     MAURO BRAGATO  250000001571  00493946810   \n",
       "4  ANTONIO CARLOS DE CAMPOS MACHADO  250000002439  03546748891   \n",
       "\n",
       "        nome_urna partido_eleicao       situacao AnoLegislativo  \\\n",
       "0     VAZ DE LIMA            PSDB  ELEITO POR QP           2015   \n",
       "1     VAZ DE LIMA            PSDB  ELEITO POR QP           2015   \n",
       "2   MAURO BRAGATO            PSDB  ELEITO POR QP           2015   \n",
       "3   MAURO BRAGATO            PSDB  ELEITO POR QP           2015   \n",
       "4  CAMPOS MACHADO             PTB  ELEITO POR QP           2015   \n",
       "\n",
       "      CodOriginalidade    DtEntradaSistema        DtPublicacao  \\\n",
       "0  1259512 200515 1258 2015-05-20 03:00:00 2015-05-21 03:00:00   \n",
       "1  1259512 200515 1258 2015-05-20 03:00:00 2015-05-21 03:00:00   \n",
       "2  1259512 200515 1258 2015-05-20 03:00:00 2015-05-21 03:00:00   \n",
       "3  1259512 200515 1258 2015-05-20 03:00:00 2015-05-21 03:00:00   \n",
       "4  1259512 200515 1258 2015-05-20 03:00:00 2015-05-21 03:00:00   \n",
       "\n",
       "                                              Ementa IdNatureza  \\\n",
       "0  Dá nova redação ao item 2 do § 1º do artigo 12...          5   \n",
       "1  Dá nova redação ao item 2 do § 1º do artigo 12...          5   \n",
       "2  Dá nova redação ao item 2 do § 1º do artigo 12...          5   \n",
       "3  Dá nova redação ao item 2 do § 1º do artigo 12...          5   \n",
       "4  Dá nova redação ao item 2 do § 1º do artigo 12...          5   \n",
       "\n",
       "  NroLegislativo                       chave_unica  \n",
       "0              3  125951231259512 200515 125852015  \n",
       "1              3  125951231259512 200515 125852015  \n",
       "2              3  125951231259512 200515 125852015  \n",
       "3              3  125951231259512 200515 125852015  \n",
       "4              3  125951231259512 200515 125852015  "
      ]
     },
     "execution_count": 36,
     "metadata": {},
     "output_type": "execute_result"
    }
   ],
   "source": [
    "autores_projetos.head()"
   ]
  },
  {
   "cell_type": "code",
   "execution_count": null,
   "metadata": {},
   "outputs": [],
   "source": []
  },
  {
   "cell_type": "markdown",
   "metadata": {},
   "source": [
    "Deputados com mais autoria de projetos"
   ]
  },
  {
   "cell_type": "code",
   "execution_count": 40,
   "metadata": {},
   "outputs": [
    {
     "data": {
      "text/plain": [
       "NomeAutor\n",
       "Gil Lancaster            392\n",
       "Itamar Borges            203\n",
       "Campos Machado           200\n",
       "Carlos Giannazi          195\n",
       "Cezinha de Madureira     168\n",
       "Afonso Lobato            155\n",
       "Mauro Bragato            149\n",
       "André do Prado           145\n",
       "Sebastião Santos         132\n",
       "Chico Sardelli           126\n",
       "Célia Leão               125\n",
       "Marco Vinholi            122\n",
       "Edmir Chedid             121\n",
       "Carlão Pignatari         105\n",
       "Coronel Telhada           97\n",
       "Leci Brandão              97\n",
       "Luiz Carlos Gondim        97\n",
       "Welson Gasparini          95\n",
       "Clélia Gomes              94\n",
       "Paulo Correa Jr           90\n",
       "Beth Sahão                86\n",
       "Edson Giriboni            85\n",
       "Roque Barbiere            85\n",
       "Márcio Camargo            83\n",
       "Caio França               82\n",
       "Enio Tatto                80\n",
       "Hélio Nishimoto           79\n",
       "Léo Oliveira              77\n",
       "Rafael Silva              77\n",
       "Rita Passos               73\n",
       "                        ... \n",
       "Feliciano Filho           32\n",
       "José Zico Prado           32\n",
       "Reinaldo Alguz            31\n",
       "Celso Giglio              30\n",
       "Jooji Hato                30\n",
       "Cauê Macris               30\n",
       "Celino Cardoso            28\n",
       "Cássio Navarro            28\n",
       "Professor Auriel          27\n",
       "Marcos Zerbini            26\n",
       "Doutor Ulysses            25\n",
       "Pedro Kaká                25\n",
       "Abelardo Camarinha        23\n",
       "Luiz Fernando Machado     23\n",
       "Carlos Bezerra Jr.        21\n",
       "Fernando Capez            21\n",
       "Milton Leite Filho        19\n",
       "Marcos Neves              19\n",
       "Atila Jacomussi           18\n",
       "Gilmar Gimenes            17\n",
       "Roberto Tripoli           17\n",
       "Vitor Sapienza            12\n",
       "Vanessa Damo               9\n",
       "Alexandre Pereira          9\n",
       "Angelo Perugini            8\n",
       "Gustavo Petta              6\n",
       "Antonio Mentor             2\n",
       "Ulisses Sales              2\n",
       "Beto Trícoli               2\n",
       "José Bittencourt           1\n",
       "Name: IdDocumento, Length: 109, dtype: int64"
      ]
     },
     "execution_count": 40,
     "metadata": {},
     "output_type": "execute_result"
    }
   ],
   "source": [
    "#autores_projetos.groupby(\"NomeAutor\").chave_unica.count().sort_values(ascending=False)\n",
    "autores_projetos.groupby('NomeAutor')['IdDocumento'].nunique().sort_values(ascending=False)"
   ]
  },
  {
   "cell_type": "code",
   "execution_count": 41,
   "metadata": {},
   "outputs": [],
   "source": [
    "total = autores_projetos.groupby('NomeAutor')['IdDocumento'].nunique().sort_values(ascending=False)\n",
    "total.to_excel('resultados/total_autores_projetos.xlsx',sheet_name='Sheet1')"
   ]
  },
  {
   "cell_type": "code",
   "execution_count": null,
   "metadata": {},
   "outputs": [],
   "source": []
  },
  {
   "cell_type": "markdown",
   "metadata": {},
   "source": [
    "Número de autores em geral"
   ]
  },
  {
   "cell_type": "code",
   "execution_count": 43,
   "metadata": {},
   "outputs": [
    {
     "data": {
      "text/plain": [
       "109"
      ]
     },
     "execution_count": 43,
     "metadata": {},
     "output_type": "execute_result"
    }
   ],
   "source": [
    "#conta = len(autores_projetos['NomeAutor'].value_counts())\n",
    "#conta\n",
    "autores_projetos['NomeAutor'].nunique()"
   ]
  },
  {
   "cell_type": "markdown",
   "metadata": {},
   "source": [
    "Número de projetos"
   ]
  },
  {
   "cell_type": "code",
   "execution_count": 44,
   "metadata": {},
   "outputs": [
    {
     "data": {
      "text/plain": [
       "4534"
      ]
     },
     "execution_count": 44,
     "metadata": {},
     "output_type": "execute_result"
    }
   ],
   "source": [
    "#conta = len(autores_projetos['IdDocumento'].value_counts())\n",
    "#conta\n",
    "autores_projetos['IdDocumento'].nunique()"
   ]
  },
  {
   "cell_type": "markdown",
   "metadata": {},
   "source": [
    "Verifica se há autores não deputados "
   ]
  },
  {
   "cell_type": "code",
   "execution_count": 45,
   "metadata": {},
   "outputs": [],
   "source": [
    "autores_naodeputados = autores_projetos[(autores_projetos['NomeAutor'] == 'Comissão de Ciência, Tecnologia, Inovação e Informação') |\n",
    "                                   (autores_projetos['NomeAutor'] ==  'Comissão de Constituição, Justiça e Redação') | \n",
    "                                   (autores_projetos['NomeAutor'] ==  'Comissão de Defesa dos Direitos da Pessoa Humana, da Cidadania, da Participação e das Questões Sociais') | \n",
    "                                   (autores_projetos['NomeAutor'] ==  'Comissão de Finanças, Orçamento e Planejamento') | \n",
    "                                   (autores_projetos['NomeAutor'] ==  'Comissão de Segurança Pública e Assuntos Penitenciários') | \n",
    "                                   (autores_projetos['NomeAutor'] ==  'Comissão de Transportes e Comunicações') | \n",
    "                                   (autores_projetos['NomeAutor'] ==  'CPI Acidentes no Transporte Ferroviário de Carga') | \n",
    "                                   (autores_projetos['NomeAutor'] ==  'CPI Obesidade Infantil') | \n",
    "                                   (autores_projetos['NomeAutor'] ==  'CPI Violações dos Direitos Humanos nas Faculdades Paulistas') | \n",
    "                                   (autores_projetos['NomeAutor'] ==  'Defensoria Pública do Estado') | \n",
    "                                   (autores_projetos['NomeAutor'] ==  'Governador') | \n",
    "                                   (autores_projetos['NomeAutor'] ==  'Mesa') | \n",
    "                                   (autores_projetos['NomeAutor'] ==  'Procurador-Geral de Justiça') | \n",
    "                                   (autores_projetos['NomeAutor'] ==  'Tribunal de Contas') | \n",
    "                                   (autores_projetos['NomeAutor'] ==  'Tribunal de Justiça') \n",
    "                                  ]"
   ]
  },
  {
   "cell_type": "code",
   "execution_count": 46,
   "metadata": {},
   "outputs": [
    {
     "name": "stdout",
     "output_type": "stream",
     "text": [
      "<class 'pandas.core.frame.DataFrame'>\n",
      "Int64Index: 0 entries\n",
      "Data columns (total 19 columns):\n",
      "IdAutor             0 non-null object\n",
      "IdDocumento         0 non-null object\n",
      "NomeAutor           0 non-null object\n",
      "codigo_unico        0 non-null object\n",
      "nome_deputado       0 non-null object\n",
      "uf                  0 non-null object\n",
      "nome_completo       0 non-null object\n",
      "sequencial          0 non-null object\n",
      "cpf                 0 non-null object\n",
      "nome_urna           0 non-null object\n",
      "partido_eleicao     0 non-null object\n",
      "situacao            0 non-null object\n",
      "AnoLegislativo      0 non-null object\n",
      "CodOriginalidade    0 non-null object\n",
      "DtEntradaSistema    0 non-null datetime64[ns]\n",
      "DtPublicacao        0 non-null datetime64[ns]\n",
      "Ementa              0 non-null object\n",
      "IdNatureza          0 non-null object\n",
      "NroLegislativo      0 non-null object\n",
      "dtypes: datetime64[ns](2), object(17)\n",
      "memory usage: 0.0+ bytes\n"
     ]
    }
   ],
   "source": [
    "autores_naodeputados.info()"
   ]
  },
  {
   "cell_type": "code",
   "execution_count": null,
   "metadata": {},
   "outputs": [],
   "source": []
  },
  {
   "cell_type": "code",
   "execution_count": 171,
   "metadata": {},
   "outputs": [],
   "source": [
    "autores_projetos.to_csv('resultados/deputados_autores_projetos.csv', index=False)"
   ]
  },
  {
   "cell_type": "markdown",
   "metadata": {},
   "source": [
    "Total de autores"
   ]
  },
  {
   "cell_type": "code",
   "execution_count": 57,
   "metadata": {},
   "outputs": [
    {
     "data": {
      "text/plain": [
       "109"
      ]
     },
     "execution_count": 57,
     "metadata": {},
     "output_type": "execute_result"
    }
   ],
   "source": [
    "len(autores_projetos['NomeAutor'].value_counts())"
   ]
  },
  {
   "cell_type": "markdown",
   "metadata": {},
   "source": [
    "Autores com mais projetos"
   ]
  },
  {
   "cell_type": "code",
   "execution_count": 47,
   "metadata": {},
   "outputs": [
    {
     "data": {
      "text/plain": [
       "NomeAutor\n",
       "Gil Lancaster            392\n",
       "Itamar Borges            203\n",
       "Campos Machado           200\n",
       "Carlos Giannazi          195\n",
       "Cezinha de Madureira     168\n",
       "Afonso Lobato            155\n",
       "Mauro Bragato            149\n",
       "André do Prado           145\n",
       "Sebastião Santos         132\n",
       "Chico Sardelli           126\n",
       "Célia Leão               125\n",
       "Marco Vinholi            122\n",
       "Edmir Chedid             121\n",
       "Carlão Pignatari         105\n",
       "Coronel Telhada           97\n",
       "Leci Brandão              97\n",
       "Luiz Carlos Gondim        97\n",
       "Welson Gasparini          95\n",
       "Clélia Gomes              94\n",
       "Paulo Correa Jr           90\n",
       "Beth Sahão                86\n",
       "Edson Giriboni            85\n",
       "Roque Barbiere            85\n",
       "Márcio Camargo            83\n",
       "Caio França               82\n",
       "Enio Tatto                80\n",
       "Hélio Nishimoto           79\n",
       "Léo Oliveira              77\n",
       "Rafael Silva              77\n",
       "Rita Passos               73\n",
       "                        ... \n",
       "Feliciano Filho           32\n",
       "José Zico Prado           32\n",
       "Reinaldo Alguz            31\n",
       "Celso Giglio              30\n",
       "Jooji Hato                30\n",
       "Cauê Macris               30\n",
       "Celino Cardoso            28\n",
       "Cássio Navarro            28\n",
       "Professor Auriel          27\n",
       "Marcos Zerbini            26\n",
       "Doutor Ulysses            25\n",
       "Pedro Kaká                25\n",
       "Abelardo Camarinha        23\n",
       "Luiz Fernando Machado     23\n",
       "Carlos Bezerra Jr.        21\n",
       "Fernando Capez            21\n",
       "Milton Leite Filho        19\n",
       "Marcos Neves              19\n",
       "Atila Jacomussi           18\n",
       "Gilmar Gimenes            17\n",
       "Roberto Tripoli           17\n",
       "Vitor Sapienza            12\n",
       "Vanessa Damo               9\n",
       "Alexandre Pereira          9\n",
       "Angelo Perugini            8\n",
       "Gustavo Petta              6\n",
       "Antonio Mentor             2\n",
       "Ulisses Sales              2\n",
       "Beto Trícoli               2\n",
       "José Bittencourt           1\n",
       "Name: IdDocumento, Length: 109, dtype: int64"
      ]
     },
     "execution_count": 47,
     "metadata": {},
     "output_type": "execute_result"
    }
   ],
   "source": [
    "#autores_deputados.groupby(\"NomeAutor\").NroLegislativo.count().sort_values(ascending=False)\n",
    "#autores_projetos.groupby(\"NomeAutor\").IdDocumento.count().sort_values(ascending=False)\n",
    "autores_projetos.groupby('NomeAutor')['IdDocumento'].nunique().sort_values(ascending=False)"
   ]
  },
  {
   "cell_type": "code",
   "execution_count": 48,
   "metadata": {},
   "outputs": [],
   "source": [
    "autores_projetos.to_excel('resultados/deputados_autores_projetos.xlsx',sheet_name='Sheet1', index=False)"
   ]
  },
  {
   "cell_type": "code",
   "execution_count": null,
   "metadata": {},
   "outputs": [],
   "source": []
  },
  {
   "cell_type": "code",
   "execution_count": 61,
   "metadata": {},
   "outputs": [
    {
     "data": {
      "text/plain": [
       "4534"
      ]
     },
     "execution_count": 61,
     "metadata": {},
     "output_type": "execute_result"
    }
   ],
   "source": [
    "a = len(autores_projetos['IdDocumento'].value_counts())\n",
    "a"
   ]
  },
  {
   "cell_type": "code",
   "execution_count": null,
   "metadata": {},
   "outputs": [],
   "source": []
  },
  {
   "cell_type": "code",
   "execution_count": 59,
   "metadata": {},
   "outputs": [
    {
     "data": {
      "text/html": [
       "<div>\n",
       "<style scoped>\n",
       "    .dataframe tbody tr th:only-of-type {\n",
       "        vertical-align: middle;\n",
       "    }\n",
       "\n",
       "    .dataframe tbody tr th {\n",
       "        vertical-align: top;\n",
       "    }\n",
       "\n",
       "    .dataframe thead th {\n",
       "        text-align: right;\n",
       "    }\n",
       "</style>\n",
       "<table border=\"1\" class=\"dataframe\">\n",
       "  <thead>\n",
       "    <tr style=\"text-align: right;\">\n",
       "      <th></th>\n",
       "      <th>index</th>\n",
       "      <th>IdAutor</th>\n",
       "      <th>IdDocumento</th>\n",
       "      <th>NomeAutor</th>\n",
       "      <th>codigo_unico</th>\n",
       "      <th>nome_deputado</th>\n",
       "      <th>uf</th>\n",
       "      <th>nome_completo</th>\n",
       "      <th>sequencial</th>\n",
       "      <th>cpf</th>\n",
       "      <th>...</th>\n",
       "      <th>partido_eleicao</th>\n",
       "      <th>situacao</th>\n",
       "      <th>AnoLegislativo</th>\n",
       "      <th>CodOriginalidade</th>\n",
       "      <th>DtEntradaSistema</th>\n",
       "      <th>DtPublicacao</th>\n",
       "      <th>Ementa</th>\n",
       "      <th>IdNatureza</th>\n",
       "      <th>NroLegislativo</th>\n",
       "      <th>chave_unica</th>\n",
       "    </tr>\n",
       "  </thead>\n",
       "  <tbody>\n",
       "    <tr>\n",
       "      <th>0</th>\n",
       "      <td>0</td>\n",
       "      <td>31</td>\n",
       "      <td>1259512</td>\n",
       "      <td>Vaz de Lima</td>\n",
       "      <td>31</td>\n",
       "      <td>VAZ DE LIMA</td>\n",
       "      <td>SP</td>\n",
       "      <td>JOSE CARLOS VAZ DE LIMA</td>\n",
       "      <td>250000001566</td>\n",
       "      <td>57339333800</td>\n",
       "      <td>...</td>\n",
       "      <td>PSDB</td>\n",
       "      <td>ELEITO POR QP</td>\n",
       "      <td>2015</td>\n",
       "      <td>1259512 200515 1258</td>\n",
       "      <td>2015-05-20 03:00:00</td>\n",
       "      <td>2015-05-21 03:00:00</td>\n",
       "      <td>Dá nova redação ao item 2 do § 1º do artigo 12...</td>\n",
       "      <td>5</td>\n",
       "      <td>3</td>\n",
       "      <td>125951231259512 200515 125852015</td>\n",
       "    </tr>\n",
       "    <tr>\n",
       "      <th>1</th>\n",
       "      <td>1</td>\n",
       "      <td>31</td>\n",
       "      <td>1259512</td>\n",
       "      <td>Vaz de Lima</td>\n",
       "      <td>31</td>\n",
       "      <td>VAZ DE LIMA</td>\n",
       "      <td>SP</td>\n",
       "      <td>JOSE CARLOS VAZ DE LIMA</td>\n",
       "      <td>250000001566</td>\n",
       "      <td>57339333800</td>\n",
       "      <td>...</td>\n",
       "      <td>PSDB</td>\n",
       "      <td>ELEITO POR QP</td>\n",
       "      <td>2015</td>\n",
       "      <td>1259512 200515 1258</td>\n",
       "      <td>2015-05-20 03:00:00</td>\n",
       "      <td>2015-05-21 03:00:00</td>\n",
       "      <td>Dá nova redação ao item 2 do § 1º do artigo 12...</td>\n",
       "      <td>5</td>\n",
       "      <td>3</td>\n",
       "      <td>125951231259512 200515 125852015</td>\n",
       "    </tr>\n",
       "    <tr>\n",
       "      <th>2</th>\n",
       "      <td>2</td>\n",
       "      <td>4926</td>\n",
       "      <td>1259512</td>\n",
       "      <td>Mauro Bragato</td>\n",
       "      <td>4926</td>\n",
       "      <td>MAURO BRAGATO</td>\n",
       "      <td>SP</td>\n",
       "      <td>MAURO BRAGATO</td>\n",
       "      <td>250000001571</td>\n",
       "      <td>00493946810</td>\n",
       "      <td>...</td>\n",
       "      <td>PSDB</td>\n",
       "      <td>ELEITO POR QP</td>\n",
       "      <td>2015</td>\n",
       "      <td>1259512 200515 1258</td>\n",
       "      <td>2015-05-20 03:00:00</td>\n",
       "      <td>2015-05-21 03:00:00</td>\n",
       "      <td>Dá nova redação ao item 2 do § 1º do artigo 12...</td>\n",
       "      <td>5</td>\n",
       "      <td>3</td>\n",
       "      <td>125951231259512 200515 125852015</td>\n",
       "    </tr>\n",
       "    <tr>\n",
       "      <th>3</th>\n",
       "      <td>3</td>\n",
       "      <td>4926</td>\n",
       "      <td>1259512</td>\n",
       "      <td>Mauro Bragato</td>\n",
       "      <td>4926</td>\n",
       "      <td>MAURO BRAGATO</td>\n",
       "      <td>SP</td>\n",
       "      <td>MAURO BRAGATO</td>\n",
       "      <td>250000001571</td>\n",
       "      <td>00493946810</td>\n",
       "      <td>...</td>\n",
       "      <td>PSDB</td>\n",
       "      <td>ELEITO POR QP</td>\n",
       "      <td>2015</td>\n",
       "      <td>1259512 200515 1258</td>\n",
       "      <td>2015-05-20 03:00:00</td>\n",
       "      <td>2015-05-21 03:00:00</td>\n",
       "      <td>Dá nova redação ao item 2 do § 1º do artigo 12...</td>\n",
       "      <td>5</td>\n",
       "      <td>3</td>\n",
       "      <td>125951231259512 200515 125852015</td>\n",
       "    </tr>\n",
       "    <tr>\n",
       "      <th>4</th>\n",
       "      <td>4</td>\n",
       "      <td>94</td>\n",
       "      <td>1259512</td>\n",
       "      <td>Campos Machado</td>\n",
       "      <td>94</td>\n",
       "      <td>CAMPOS MACHADO</td>\n",
       "      <td>SP</td>\n",
       "      <td>ANTONIO CARLOS DE CAMPOS MACHADO</td>\n",
       "      <td>250000002439</td>\n",
       "      <td>03546748891</td>\n",
       "      <td>...</td>\n",
       "      <td>PTB</td>\n",
       "      <td>ELEITO POR QP</td>\n",
       "      <td>2015</td>\n",
       "      <td>1259512 200515 1258</td>\n",
       "      <td>2015-05-20 03:00:00</td>\n",
       "      <td>2015-05-21 03:00:00</td>\n",
       "      <td>Dá nova redação ao item 2 do § 1º do artigo 12...</td>\n",
       "      <td>5</td>\n",
       "      <td>3</td>\n",
       "      <td>125951231259512 200515 125852015</td>\n",
       "    </tr>\n",
       "  </tbody>\n",
       "</table>\n",
       "<p>5 rows × 21 columns</p>\n",
       "</div>"
      ],
      "text/plain": [
       "   index IdAutor IdDocumento       NomeAutor codigo_unico   nome_deputado  uf  \\\n",
       "0      0      31     1259512     Vaz de Lima           31     VAZ DE LIMA  SP   \n",
       "1      1      31     1259512     Vaz de Lima           31     VAZ DE LIMA  SP   \n",
       "2      2    4926     1259512   Mauro Bragato         4926   MAURO BRAGATO  SP   \n",
       "3      3    4926     1259512   Mauro Bragato         4926   MAURO BRAGATO  SP   \n",
       "4      4      94     1259512  Campos Machado           94  CAMPOS MACHADO  SP   \n",
       "\n",
       "                      nome_completo    sequencial          cpf  \\\n",
       "0           JOSE CARLOS VAZ DE LIMA  250000001566  57339333800   \n",
       "1           JOSE CARLOS VAZ DE LIMA  250000001566  57339333800   \n",
       "2                     MAURO BRAGATO  250000001571  00493946810   \n",
       "3                     MAURO BRAGATO  250000001571  00493946810   \n",
       "4  ANTONIO CARLOS DE CAMPOS MACHADO  250000002439  03546748891   \n",
       "\n",
       "                 ...                partido_eleicao       situacao  \\\n",
       "0                ...                           PSDB  ELEITO POR QP   \n",
       "1                ...                           PSDB  ELEITO POR QP   \n",
       "2                ...                           PSDB  ELEITO POR QP   \n",
       "3                ...                           PSDB  ELEITO POR QP   \n",
       "4                ...                            PTB  ELEITO POR QP   \n",
       "\n",
       "  AnoLegislativo     CodOriginalidade    DtEntradaSistema        DtPublicacao  \\\n",
       "0           2015  1259512 200515 1258 2015-05-20 03:00:00 2015-05-21 03:00:00   \n",
       "1           2015  1259512 200515 1258 2015-05-20 03:00:00 2015-05-21 03:00:00   \n",
       "2           2015  1259512 200515 1258 2015-05-20 03:00:00 2015-05-21 03:00:00   \n",
       "3           2015  1259512 200515 1258 2015-05-20 03:00:00 2015-05-21 03:00:00   \n",
       "4           2015  1259512 200515 1258 2015-05-20 03:00:00 2015-05-21 03:00:00   \n",
       "\n",
       "                                              Ementa IdNatureza  \\\n",
       "0  Dá nova redação ao item 2 do § 1º do artigo 12...          5   \n",
       "1  Dá nova redação ao item 2 do § 1º do artigo 12...          5   \n",
       "2  Dá nova redação ao item 2 do § 1º do artigo 12...          5   \n",
       "3  Dá nova redação ao item 2 do § 1º do artigo 12...          5   \n",
       "4  Dá nova redação ao item 2 do § 1º do artigo 12...          5   \n",
       "\n",
       "  NroLegislativo                       chave_unica  \n",
       "0              3  125951231259512 200515 125852015  \n",
       "1              3  125951231259512 200515 125852015  \n",
       "2              3  125951231259512 200515 125852015  \n",
       "3              3  125951231259512 200515 125852015  \n",
       "4              3  125951231259512 200515 125852015  \n",
       "\n",
       "[5 rows x 21 columns]"
      ]
     },
     "execution_count": 59,
     "metadata": {},
     "output_type": "execute_result"
    }
   ],
   "source": [
    "autores_projetos.reset_index().head()"
   ]
  },
  {
   "cell_type": "code",
   "execution_count": 48,
   "metadata": {},
   "outputs": [],
   "source": [
    "seleciona_deputado = autores_projetos[(autores_projetos['cpf'] == '06837351877')]"
   ]
  },
  {
   "cell_type": "code",
   "execution_count": 49,
   "metadata": {},
   "outputs": [],
   "source": [
    "seleciona_deputado.to_excel('resultados/exemplo_deputados_autores_projetos.xlsx',sheet_name='Sheet1', index=False)"
   ]
  },
  {
   "cell_type": "code",
   "execution_count": null,
   "metadata": {},
   "outputs": [],
   "source": []
  },
  {
   "cell_type": "markdown",
   "metadata": {},
   "source": [
    "# Códigos das palavras-chave"
   ]
  },
  {
   "cell_type": "markdown",
   "metadata": {},
   "source": [
    "https://www.al.sp.gov.br/dados-abertos/recurso/42 <br>\n",
    "https://www.al.sp.gov.br/dados-abertos/recurso/41"
   ]
  },
  {
   "cell_type": "code",
   "execution_count": 48,
   "metadata": {},
   "outputs": [],
   "source": [
    "with open(\"dados/processo_legislativo/documento_palavras_set_2018.xml\", 'r') as f:\n",
    "    xmlString = f.read()\n",
    "jsonString = json.dumps(xmltodict.parse(xmlString), indent=4)\n",
    "with open(\"output.json\", 'w') as f:\n",
    "    f.write(jsonString)"
   ]
  },
  {
   "cell_type": "code",
   "execution_count": 49,
   "metadata": {},
   "outputs": [],
   "source": [
    "arquivo_json = open('output.json', 'r')\n",
    "dados_json = json.load(arquivo_json)"
   ]
  },
  {
   "cell_type": "code",
   "execution_count": 50,
   "metadata": {},
   "outputs": [],
   "source": [
    "#dados_json"
   ]
  },
  {
   "cell_type": "code",
   "execution_count": 51,
   "metadata": {},
   "outputs": [],
   "source": [
    "lista = dados_json['documentos_palavras']['DocumentoPalavra']\n",
    "df_codpalavras = pd.DataFrame(lista, columns = ['IdDocumento', 'IdPalavra'])"
   ]
  },
  {
   "cell_type": "markdown",
   "metadata": {},
   "source": [
    "# Palavras-chave"
   ]
  },
  {
   "cell_type": "code",
   "execution_count": 52,
   "metadata": {},
   "outputs": [],
   "source": [
    "with open(\"dados/processo_legislativo/palavras_chave_set_2018.xml\", 'r') as f:\n",
    "    xmlString = f.read()\n",
    "jsonString = json.dumps(xmltodict.parse(xmlString), indent=4)\n",
    "with open(\"output.json\", 'w') as f:\n",
    "    f.write(jsonString)"
   ]
  },
  {
   "cell_type": "code",
   "execution_count": 53,
   "metadata": {},
   "outputs": [],
   "source": [
    "arquivo_json = open('output.json', 'r')\n",
    "dados_json = json.load(arquivo_json)"
   ]
  },
  {
   "cell_type": "code",
   "execution_count": 54,
   "metadata": {},
   "outputs": [],
   "source": [
    "#dados_json"
   ]
  },
  {
   "cell_type": "code",
   "execution_count": 55,
   "metadata": {},
   "outputs": [],
   "source": [
    "lista = dados_json['palavras_chave']['PalavraChave']\n",
    "df_palavras = pd.DataFrame(lista, columns = ['IdPalavra', 'Palavra', 'PalavraSemAcento'])"
   ]
  },
  {
   "cell_type": "code",
   "execution_count": null,
   "metadata": {},
   "outputs": [],
   "source": []
  },
  {
   "cell_type": "markdown",
   "metadata": {},
   "source": [
    "Une as palavras-chave com os códigos"
   ]
  },
  {
   "cell_type": "code",
   "execution_count": 56,
   "metadata": {},
   "outputs": [],
   "source": [
    "palavras_chave = pd.merge(df_codpalavras, df_palavras, left_on='IdPalavra', right_on='IdPalavra')"
   ]
  },
  {
   "cell_type": "code",
   "execution_count": 57,
   "metadata": {},
   "outputs": [
    {
     "data": {
      "text/html": [
       "<div>\n",
       "<style scoped>\n",
       "    .dataframe tbody tr th:only-of-type {\n",
       "        vertical-align: middle;\n",
       "    }\n",
       "\n",
       "    .dataframe tbody tr th {\n",
       "        vertical-align: top;\n",
       "    }\n",
       "\n",
       "    .dataframe thead th {\n",
       "        text-align: right;\n",
       "    }\n",
       "</style>\n",
       "<table border=\"1\" class=\"dataframe\">\n",
       "  <thead>\n",
       "    <tr style=\"text-align: right;\">\n",
       "      <th></th>\n",
       "      <th>index</th>\n",
       "      <th>IdDocumento</th>\n",
       "      <th>IdPalavra</th>\n",
       "      <th>Palavra</th>\n",
       "      <th>PalavraSemAcento</th>\n",
       "    </tr>\n",
       "  </thead>\n",
       "  <tbody>\n",
       "    <tr>\n",
       "      <th>0</th>\n",
       "      <td>0</td>\n",
       "      <td>166</td>\n",
       "      <td>3128</td>\n",
       "      <td>UTILIDADE PÚBLICA</td>\n",
       "      <td>UTILIDADE PUBLICA</td>\n",
       "    </tr>\n",
       "    <tr>\n",
       "      <th>1</th>\n",
       "      <td>1</td>\n",
       "      <td>167</td>\n",
       "      <td>3128</td>\n",
       "      <td>UTILIDADE PÚBLICA</td>\n",
       "      <td>UTILIDADE PUBLICA</td>\n",
       "    </tr>\n",
       "    <tr>\n",
       "      <th>2</th>\n",
       "      <td>2</td>\n",
       "      <td>195</td>\n",
       "      <td>3128</td>\n",
       "      <td>UTILIDADE PÚBLICA</td>\n",
       "      <td>UTILIDADE PUBLICA</td>\n",
       "    </tr>\n",
       "    <tr>\n",
       "      <th>3</th>\n",
       "      <td>3</td>\n",
       "      <td>200</td>\n",
       "      <td>3128</td>\n",
       "      <td>UTILIDADE PÚBLICA</td>\n",
       "      <td>UTILIDADE PUBLICA</td>\n",
       "    </tr>\n",
       "    <tr>\n",
       "      <th>4</th>\n",
       "      <td>4</td>\n",
       "      <td>212</td>\n",
       "      <td>3128</td>\n",
       "      <td>UTILIDADE PÚBLICA</td>\n",
       "      <td>UTILIDADE PUBLICA</td>\n",
       "    </tr>\n",
       "  </tbody>\n",
       "</table>\n",
       "</div>"
      ],
      "text/plain": [
       "   index IdDocumento IdPalavra            Palavra   PalavraSemAcento\n",
       "0      0         166      3128  UTILIDADE PÚBLICA  UTILIDADE PUBLICA\n",
       "1      1         167      3128  UTILIDADE PÚBLICA  UTILIDADE PUBLICA\n",
       "2      2         195      3128  UTILIDADE PÚBLICA  UTILIDADE PUBLICA\n",
       "3      3         200      3128  UTILIDADE PÚBLICA  UTILIDADE PUBLICA\n",
       "4      4         212      3128  UTILIDADE PÚBLICA  UTILIDADE PUBLICA"
      ]
     },
     "execution_count": 57,
     "metadata": {},
     "output_type": "execute_result"
    }
   ],
   "source": [
    "palavras_chave.reset_index().head()"
   ]
  },
  {
   "cell_type": "code",
   "execution_count": 59,
   "metadata": {},
   "outputs": [],
   "source": [
    "palavras_chave.to_csv('resultados/palavras_chave_projetos.csv', index=False)"
   ]
  },
  {
   "cell_type": "code",
   "execution_count": 78,
   "metadata": {},
   "outputs": [
    {
     "name": "stdout",
     "output_type": "stream",
     "text": [
      "<class 'pandas.core.frame.DataFrame'>\n",
      "Int64Index: 1424960 entries, 0 to 1424959\n",
      "Data columns (total 4 columns):\n",
      "IdDocumento         1424960 non-null object\n",
      "IdPalavra           1424960 non-null object\n",
      "Palavra             1424960 non-null object\n",
      "PalavraSemAcento    1424960 non-null object\n",
      "dtypes: object(4)\n",
      "memory usage: 54.4+ MB\n"
     ]
    }
   ],
   "source": [
    "palavras_chave.info()"
   ]
  },
  {
   "cell_type": "code",
   "execution_count": null,
   "metadata": {},
   "outputs": [],
   "source": []
  },
  {
   "cell_type": "markdown",
   "metadata": {},
   "source": [
    "Exemplo de palavras em um projeto"
   ]
  },
  {
   "cell_type": "code",
   "execution_count": 79,
   "metadata": {},
   "outputs": [],
   "source": [
    "seleciona = palavras_chave[(palavras_chave['IdDocumento'] == '330')]"
   ]
  },
  {
   "cell_type": "code",
   "execution_count": 80,
   "metadata": {},
   "outputs": [
    {
     "data": {
      "text/html": [
       "<div>\n",
       "<style scoped>\n",
       "    .dataframe tbody tr th:only-of-type {\n",
       "        vertical-align: middle;\n",
       "    }\n",
       "\n",
       "    .dataframe tbody tr th {\n",
       "        vertical-align: top;\n",
       "    }\n",
       "\n",
       "    .dataframe thead th {\n",
       "        text-align: right;\n",
       "    }\n",
       "</style>\n",
       "<table border=\"1\" class=\"dataframe\">\n",
       "  <thead>\n",
       "    <tr style=\"text-align: right;\">\n",
       "      <th></th>\n",
       "      <th>IdDocumento</th>\n",
       "      <th>IdPalavra</th>\n",
       "      <th>Palavra</th>\n",
       "      <th>PalavraSemAcento</th>\n",
       "    </tr>\n",
       "  </thead>\n",
       "  <tbody>\n",
       "    <tr>\n",
       "      <th>80505</th>\n",
       "      <td>330</td>\n",
       "      <td>847</td>\n",
       "      <td>HOSPITAL</td>\n",
       "      <td>HOSPITAL</td>\n",
       "    </tr>\n",
       "    <tr>\n",
       "      <th>82939</th>\n",
       "      <td>330</td>\n",
       "      <td>1654</td>\n",
       "      <td>SÃO PAULO (MUNICÍPIO)</td>\n",
       "      <td>SAO PAULO (MUNICIPIO)</td>\n",
       "    </tr>\n",
       "    <tr>\n",
       "      <th>152840</th>\n",
       "      <td>330</td>\n",
       "      <td>371</td>\n",
       "      <td>MEDICAMENTO</td>\n",
       "      <td>MEDICAMENTO</td>\n",
       "    </tr>\n",
       "    <tr>\n",
       "      <th>221092</th>\n",
       "      <td>330</td>\n",
       "      <td>919</td>\n",
       "      <td>OBRA</td>\n",
       "      <td>OBRA</td>\n",
       "    </tr>\n",
       "    <tr>\n",
       "      <th>247506</th>\n",
       "      <td>330</td>\n",
       "      <td>845</td>\n",
       "      <td>RESERVA DE CONTINGÊNCIA</td>\n",
       "      <td>RESERVA DE CONTINGENCIA</td>\n",
       "    </tr>\n",
       "    <tr>\n",
       "      <th>261754</th>\n",
       "      <td>330</td>\n",
       "      <td>681</td>\n",
       "      <td>ASSISTÊNCIA MÉDICA</td>\n",
       "      <td>ASSISTENCIA MEDICA</td>\n",
       "    </tr>\n",
       "    <tr>\n",
       "      <th>290495</th>\n",
       "      <td>330</td>\n",
       "      <td>3575</td>\n",
       "      <td>ASSISTÊNCIA</td>\n",
       "      <td>ASSISTENCIA</td>\n",
       "    </tr>\n",
       "    <tr>\n",
       "      <th>294754</th>\n",
       "      <td>330</td>\n",
       "      <td>3401</td>\n",
       "      <td>PLANO</td>\n",
       "      <td>PLANO</td>\n",
       "    </tr>\n",
       "    <tr>\n",
       "      <th>343956</th>\n",
       "      <td>330</td>\n",
       "      <td>892</td>\n",
       "      <td>COMPLEXO HOSPITALAR</td>\n",
       "      <td>COMPLEXO HOSPITALAR</td>\n",
       "    </tr>\n",
       "    <tr>\n",
       "      <th>359743</th>\n",
       "      <td>330</td>\n",
       "      <td>160</td>\n",
       "      <td>USP - UNIVERSIDADE DE SÃO PAULO</td>\n",
       "      <td>USP - UNIVERSIDADE DE SAO PAULO</td>\n",
       "    </tr>\n",
       "    <tr>\n",
       "      <th>360266</th>\n",
       "      <td>330</td>\n",
       "      <td>161</td>\n",
       "      <td>HOSPITAL DAS CLÍNICAS</td>\n",
       "      <td>HOSPITAL DAS CLINICAS</td>\n",
       "    </tr>\n",
       "    <tr>\n",
       "      <th>360634</th>\n",
       "      <td>330</td>\n",
       "      <td>426</td>\n",
       "      <td>FACULDADE DE MEDICINA</td>\n",
       "      <td>FACULDADE DE MEDICINA</td>\n",
       "    </tr>\n",
       "    <tr>\n",
       "      <th>360980</th>\n",
       "      <td>330</td>\n",
       "      <td>610</td>\n",
       "      <td>ASSISTÊNCIA MÉDICO HOSPITALAR</td>\n",
       "      <td>ASSISTENCIA MEDICO HOSPITALAR</td>\n",
       "    </tr>\n",
       "    <tr>\n",
       "      <th>361244</th>\n",
       "      <td>330</td>\n",
       "      <td>3740</td>\n",
       "      <td>FACULDADE DE MEDICINA DA USP</td>\n",
       "      <td>FACULDADE DE MEDICINA DA USP</td>\n",
       "    </tr>\n",
       "    <tr>\n",
       "      <th>361333</th>\n",
       "      <td>330</td>\n",
       "      <td>3741</td>\n",
       "      <td>OBRA (PLANO)</td>\n",
       "      <td>OBRA (PLANO)</td>\n",
       "    </tr>\n",
       "  </tbody>\n",
       "</table>\n",
       "</div>"
      ],
      "text/plain": [
       "       IdDocumento IdPalavra                          Palavra  \\\n",
       "80505          330       847                         HOSPITAL   \n",
       "82939          330      1654            SÃO PAULO (MUNICÍPIO)   \n",
       "152840         330       371                      MEDICAMENTO   \n",
       "221092         330       919                             OBRA   \n",
       "247506         330       845          RESERVA DE CONTINGÊNCIA   \n",
       "261754         330       681               ASSISTÊNCIA MÉDICA   \n",
       "290495         330      3575                      ASSISTÊNCIA   \n",
       "294754         330      3401                            PLANO   \n",
       "343956         330       892              COMPLEXO HOSPITALAR   \n",
       "359743         330       160  USP - UNIVERSIDADE DE SÃO PAULO   \n",
       "360266         330       161            HOSPITAL DAS CLÍNICAS   \n",
       "360634         330       426            FACULDADE DE MEDICINA   \n",
       "360980         330       610    ASSISTÊNCIA MÉDICO HOSPITALAR   \n",
       "361244         330      3740     FACULDADE DE MEDICINA DA USP   \n",
       "361333         330      3741                     OBRA (PLANO)   \n",
       "\n",
       "                       PalavraSemAcento  \n",
       "80505                          HOSPITAL  \n",
       "82939             SAO PAULO (MUNICIPIO)  \n",
       "152840                      MEDICAMENTO  \n",
       "221092                             OBRA  \n",
       "247506          RESERVA DE CONTINGENCIA  \n",
       "261754               ASSISTENCIA MEDICA  \n",
       "290495                      ASSISTENCIA  \n",
       "294754                            PLANO  \n",
       "343956              COMPLEXO HOSPITALAR  \n",
       "359743  USP - UNIVERSIDADE DE SAO PAULO  \n",
       "360266            HOSPITAL DAS CLINICAS  \n",
       "360634            FACULDADE DE MEDICINA  \n",
       "360980    ASSISTENCIA MEDICO HOSPITALAR  \n",
       "361244     FACULDADE DE MEDICINA DA USP  \n",
       "361333                     OBRA (PLANO)  "
      ]
     },
     "execution_count": 80,
     "metadata": {},
     "output_type": "execute_result"
    }
   ],
   "source": [
    "seleciona"
   ]
  },
  {
   "cell_type": "code",
   "execution_count": null,
   "metadata": {},
   "outputs": [],
   "source": []
  },
  {
   "cell_type": "markdown",
   "metadata": {},
   "source": [
    "# Une os autores de projetos e palavras-chave"
   ]
  },
  {
   "cell_type": "code",
   "execution_count": 2,
   "metadata": {},
   "outputs": [],
   "source": [
    "palavras_chave = pd.read_csv(\"resultados/palavras_chave_projetos.csv\", sep=',',encoding = 'utf-8', converters={'IdDocumento': lambda x: str(x), \n",
    "                                                                                                                         'IdPalavra': lambda x: str(x)\n",
    "                                                                                                                         })"
   ]
  },
  {
   "cell_type": "code",
   "execution_count": 11,
   "metadata": {},
   "outputs": [],
   "source": [
    "autores_projetos = pd.read_csv(\"resultados/deputados_autores_projetos.csv\", sep=',',encoding = 'utf-8', converters={'IdAutor': lambda x: str(x), \n",
    "                                                                                                                         'IdDocumento': lambda x: str(x), \n",
    "                                                                                                                         'CodOriginalidade': lambda x: str(x), \n",
    "                                                                                                                         'IdNatureza': lambda x: str(x), \n",
    "                                                                                                                         'NroLegislativo': lambda x: str(x),\n",
    "                                                                                                                         'codigo_unico': lambda x: str(x),\n",
    "                                                                                                                         'sequencial': lambda x: str(x),\n",
    "                                                                                                                         'cpf': lambda x: str(x)\n",
    "                                                                                                                         })"
   ]
  },
  {
   "cell_type": "code",
   "execution_count": 12,
   "metadata": {},
   "outputs": [
    {
     "name": "stdout",
     "output_type": "stream",
     "text": [
      "<class 'pandas.core.frame.DataFrame'>\n",
      "RangeIndex: 6630 entries, 0 to 6629\n",
      "Data columns (total 19 columns):\n",
      "IdAutor             6630 non-null object\n",
      "IdDocumento         6630 non-null object\n",
      "NomeAutor           6630 non-null object\n",
      "codigo_unico        6630 non-null object\n",
      "nome_deputado       6630 non-null object\n",
      "uf                  6630 non-null object\n",
      "nome_completo       6630 non-null object\n",
      "sequencial          6630 non-null object\n",
      "cpf                 6630 non-null object\n",
      "nome_urna           6630 non-null object\n",
      "partido_eleicao     6630 non-null object\n",
      "situacao            6630 non-null object\n",
      "AnoLegislativo      6630 non-null int64\n",
      "CodOriginalidade    6630 non-null object\n",
      "DtEntradaSistema    6630 non-null object\n",
      "DtPublicacao        6630 non-null object\n",
      "Ementa              6630 non-null object\n",
      "IdNatureza          6630 non-null object\n",
      "NroLegislativo      6630 non-null object\n",
      "dtypes: int64(1), object(18)\n",
      "memory usage: 984.2+ KB\n"
     ]
    }
   ],
   "source": [
    "autores_projetos.info()"
   ]
  },
  {
   "cell_type": "code",
   "execution_count": 5,
   "metadata": {},
   "outputs": [
    {
     "name": "stdout",
     "output_type": "stream",
     "text": [
      "<class 'pandas.core.frame.DataFrame'>\n",
      "RangeIndex: 1417539 entries, 0 to 1417538\n",
      "Data columns (total 4 columns):\n",
      "IdDocumento         1417539 non-null object\n",
      "IdPalavra           1417539 non-null object\n",
      "Palavra             1417539 non-null object\n",
      "PalavraSemAcento    1417539 non-null object\n",
      "dtypes: object(4)\n",
      "memory usage: 43.3+ MB\n"
     ]
    }
   ],
   "source": [
    "palavras_chave.info()"
   ]
  },
  {
   "cell_type": "code",
   "execution_count": null,
   "metadata": {},
   "outputs": [],
   "source": []
  },
  {
   "cell_type": "code",
   "execution_count": 58,
   "metadata": {},
   "outputs": [],
   "source": [
    "palavras_chave_dep = pd.merge(autores_projetos, palavras_chave, left_on='IdDocumento', right_on='IdDocumento')"
   ]
  },
  {
   "cell_type": "code",
   "execution_count": 86,
   "metadata": {},
   "outputs": [],
   "source": [
    "palavras_chave_dep.to_excel('resultados/palavras_chave_projetos_deputados.xlsx',sheet_name='Sheet1')"
   ]
  },
  {
   "cell_type": "code",
   "execution_count": null,
   "metadata": {},
   "outputs": [],
   "source": []
  },
  {
   "cell_type": "markdown",
   "metadata": {},
   "source": [
    "# Análises - quantidade e assuntos de projetos"
   ]
  },
  {
   "cell_type": "code",
   "execution_count": null,
   "metadata": {},
   "outputs": [],
   "source": []
  },
  {
   "cell_type": "markdown",
   "metadata": {},
   "source": [
    "Quantidade de autores"
   ]
  },
  {
   "cell_type": "code",
   "execution_count": 59,
   "metadata": {},
   "outputs": [
    {
     "data": {
      "text/plain": [
       "109"
      ]
     },
     "execution_count": 59,
     "metadata": {},
     "output_type": "execute_result"
    }
   ],
   "source": [
    "len(palavras_chave_dep['NomeAutor'].value_counts())"
   ]
  },
  {
   "cell_type": "code",
   "execution_count": 60,
   "metadata": {},
   "outputs": [
    {
     "name": "stdout",
     "output_type": "stream",
     "text": [
      "<class 'pandas.core.frame.DataFrame'>\n",
      "Int64Index: 31869 entries, 0 to 31868\n",
      "Data columns (total 22 columns):\n",
      "IdAutor             31869 non-null object\n",
      "IdDocumento         31869 non-null object\n",
      "NomeAutor           31869 non-null object\n",
      "codigo_unico        31869 non-null object\n",
      "nome_deputado       31869 non-null object\n",
      "uf                  31869 non-null object\n",
      "nome_completo       31869 non-null object\n",
      "sequencial          31869 non-null object\n",
      "cpf                 31869 non-null object\n",
      "nome_urna           31869 non-null object\n",
      "partido_eleicao     31869 non-null object\n",
      "situacao            31869 non-null object\n",
      "AnoLegislativo      31869 non-null object\n",
      "CodOriginalidade    24430 non-null object\n",
      "DtEntradaSistema    31869 non-null datetime64[ns]\n",
      "DtPublicacao        31869 non-null datetime64[ns]\n",
      "Ementa              31869 non-null object\n",
      "IdNatureza          31869 non-null object\n",
      "NroLegislativo      31869 non-null object\n",
      "IdPalavra           31869 non-null object\n",
      "Palavra             31869 non-null object\n",
      "PalavraSemAcento    31869 non-null object\n",
      "dtypes: datetime64[ns](2), object(20)\n",
      "memory usage: 5.6+ MB\n"
     ]
    }
   ],
   "source": [
    "palavras_chave_dep.info()"
   ]
  },
  {
   "cell_type": "code",
   "execution_count": 61,
   "metadata": {},
   "outputs": [
    {
     "data": {
      "text/plain": [
       "NomeAutor\n",
       "Gil Lancaster            392\n",
       "Itamar Borges            203\n",
       "Campos Machado           200\n",
       "Carlos Giannazi          195\n",
       "Cezinha de Madureira     168\n",
       "Afonso Lobato            155\n",
       "Mauro Bragato            149\n",
       "André do Prado           145\n",
       "Sebastião Santos         132\n",
       "Chico Sardelli           126\n",
       "Célia Leão               125\n",
       "Marco Vinholi            122\n",
       "Edmir Chedid             121\n",
       "Carlão Pignatari         105\n",
       "Coronel Telhada           97\n",
       "Leci Brandão              97\n",
       "Luiz Carlos Gondim        97\n",
       "Welson Gasparini          95\n",
       "Clélia Gomes              94\n",
       "Paulo Correa Jr           90\n",
       "Beth Sahão                86\n",
       "Edson Giriboni            85\n",
       "Roque Barbiere            85\n",
       "Márcio Camargo            83\n",
       "Caio França               82\n",
       "Enio Tatto                80\n",
       "Hélio Nishimoto           79\n",
       "Léo Oliveira              77\n",
       "Rafael Silva              77\n",
       "Rita Passos               73\n",
       "                        ... \n",
       "Feliciano Filho           32\n",
       "José Zico Prado           32\n",
       "Reinaldo Alguz            31\n",
       "Celso Giglio              30\n",
       "Jooji Hato                30\n",
       "Cauê Macris               30\n",
       "Celino Cardoso            28\n",
       "Cássio Navarro            28\n",
       "Professor Auriel          27\n",
       "Marcos Zerbini            26\n",
       "Doutor Ulysses            25\n",
       "Pedro Kaká                25\n",
       "Abelardo Camarinha        23\n",
       "Luiz Fernando Machado     23\n",
       "Carlos Bezerra Jr.        21\n",
       "Fernando Capez            21\n",
       "Milton Leite Filho        19\n",
       "Marcos Neves              19\n",
       "Atila Jacomussi           18\n",
       "Gilmar Gimenes            17\n",
       "Roberto Tripoli           17\n",
       "Vitor Sapienza            12\n",
       "Vanessa Damo               9\n",
       "Alexandre Pereira          9\n",
       "Angelo Perugini            8\n",
       "Gustavo Petta              6\n",
       "Antonio Mentor             2\n",
       "Ulisses Sales              2\n",
       "Beto Trícoli               2\n",
       "José Bittencourt           1\n",
       "Name: IdDocumento, Length: 109, dtype: int64"
      ]
     },
     "execution_count": 61,
     "metadata": {},
     "output_type": "execute_result"
    }
   ],
   "source": [
    "#palavras_chave_dep.groupby(\"NomeAutor\").CodOriginalidade.count().sort_values(ascending=False)\n",
    "palavras_chave_dep.groupby('NomeAutor')['IdDocumento'].nunique().sort_values(ascending=False)"
   ]
  },
  {
   "cell_type": "code",
   "execution_count": null,
   "metadata": {},
   "outputs": [],
   "source": []
  },
  {
   "cell_type": "markdown",
   "metadata": {},
   "source": [
    "Palavras-chave que mais apareceram"
   ]
  },
  {
   "cell_type": "code",
   "execution_count": 62,
   "metadata": {},
   "outputs": [
    {
     "data": {
      "text/plain": [
       "Palavra\n",
       "DENOMINAÇÃO                                             665\n",
       "UTILIDADE PÚBLICA                                       547\n",
       "ESTÂNCIA TURÍSTICA                                      387\n",
       "INTERESSE TURÍSTICO                                     370\n",
       "TURISMO                                                 357\n",
       "LAZER                                                   348\n",
       "DESENVOLVIMENTO TURÍSTICO                               343\n",
       "DESENVOLVIMENTO ECONÔMICO E SOCIAL                      343\n",
       "MUNICÍPIO DE INTERESSE TURÍSTICO                        228\n",
       "ASSOCIAÇÃO                                              207\n",
       "CALENDÁRIO OFICIAL                                      205\n",
       "DATA COMEMORATIVA                                       161\n",
       "ESCOLA                                                  124\n",
       "VIADUTO                                                 114\n",
       "DIA DE                                                  112\n",
       "RODOVIA                                                 110\n",
       "ESTADO DE SÃO PAULO                                      96\n",
       "PROIBIÇÃO                                                91\n",
       "ALTERAÇÃO                                                77\n",
       "SEMANA DE                                                77\n",
       "OBRIGATORIEDADE                                          70\n",
       "SÃO PAULO (CAPITAL)                                      60\n",
       "INFORMAÇÃO                                               59\n",
       "IDOSO                                                    58\n",
       "INSTALAÇÃO                                               55\n",
       "ISENÇÃO                                                  54\n",
       "PASSARELA                                                53\n",
       "PREVENÇÃO                                                53\n",
       "CONSCIENTIZAÇÃO                                          51\n",
       "ESCOLA PÚBLICA                                           51\n",
       "                                                       ... \n",
       "LIVROS                                                    1\n",
       "LIVRO DIDÁTICO                                            1\n",
       "LÍDER COMUNITÁRIO                                         1\n",
       "LÍDER RELIGIOSO                                           1\n",
       "LÍNGUA ESPANHOLA                                          1\n",
       "LÍNGUA INGLESA                                            1\n",
       "MASSA ALIMENTÍCIA                                         1\n",
       "MASCULINO                                                 1\n",
       "MARÉ                                                      1\n",
       "MARÇO (SEMANA DE)                                         1\n",
       "MARÇO                                                     1\n",
       "MARINÓPOLIS (MUNICÍPIO)                                   1\n",
       "MARGINAL ESQUERDA                                         1\n",
       "MARFIM (COMERCIALIZAÇÃO)                                  1\n",
       "MARFIM                                                    1\n",
       "MARCAÇÃO                                                  1\n",
       "MARCAPASSO                                                1\n",
       "MAPA                                                      1\n",
       "MANUAL                                                    1\n",
       "MANIPULAÇÃO                                               1\n",
       "MANICURE                                                  1\n",
       "MANDURI (MUNICÍPIO)                                       1\n",
       "MANDATO                                                   1\n",
       "MAMOGRAFIA                                                1\n",
       "MAMADEIRA                                                 1\n",
       "MAIORIDADE                                                1\n",
       "MAGISTÉRIO ESTADUAL                                       1\n",
       "MACAUBAL (MUNICÍPIO)                                      1\n",
       "MACADÂMIA                                                 1\n",
       "\"ASSOCIAÇÃO CULTURAL JOSÉ MARTÍ DA BAIXADA SANTISTA\"      1\n",
       "Name: IdDocumento, Length: 4937, dtype: int64"
      ]
     },
     "execution_count": 62,
     "metadata": {},
     "output_type": "execute_result"
    }
   ],
   "source": [
    "#palavras_chave_dep.groupby(\"Palavra\").IdDocumento.count().sort_values(ascending=False)\n",
    "palavras_chave_dep.groupby('Palavra')['IdDocumento'].nunique().sort_values(ascending=False)"
   ]
  },
  {
   "cell_type": "code",
   "execution_count": 91,
   "metadata": {},
   "outputs": [
    {
     "data": {
      "text/plain": [
       "4533"
      ]
     },
     "execution_count": 91,
     "metadata": {},
     "output_type": "execute_result"
    }
   ],
   "source": [
    "a = len(palavras_chave_dep['IdDocumento'].value_counts())\n",
    "a"
   ]
  },
  {
   "cell_type": "code",
   "execution_count": null,
   "metadata": {},
   "outputs": [],
   "source": []
  },
  {
   "cell_type": "code",
   "execution_count": 49,
   "metadata": {},
   "outputs": [],
   "source": [
    "palavras_chave_dep.to_excel('resultados/projetos_deputados_palavraschave.xlsx',sheet_name='Sheet1', index=False)"
   ]
  },
  {
   "cell_type": "code",
   "execution_count": null,
   "metadata": {},
   "outputs": [],
   "source": []
  },
  {
   "cell_type": "code",
   "execution_count": null,
   "metadata": {},
   "outputs": [],
   "source": []
  },
  {
   "cell_type": "code",
   "execution_count": 92,
   "metadata": {},
   "outputs": [],
   "source": [
    "seleciona = palavras_chave_dep[(palavras_chave_dep['Palavra'] == 'DENOMINAÇÃO')]"
   ]
  },
  {
   "cell_type": "code",
   "execution_count": 93,
   "metadata": {},
   "outputs": [
    {
     "data": {
      "text/html": [
       "<div>\n",
       "<style scoped>\n",
       "    .dataframe tbody tr th:only-of-type {\n",
       "        vertical-align: middle;\n",
       "    }\n",
       "\n",
       "    .dataframe tbody tr th {\n",
       "        vertical-align: top;\n",
       "    }\n",
       "\n",
       "    .dataframe thead th {\n",
       "        text-align: right;\n",
       "    }\n",
       "</style>\n",
       "<table border=\"1\" class=\"dataframe\">\n",
       "  <thead>\n",
       "    <tr style=\"text-align: right;\">\n",
       "      <th></th>\n",
       "      <th>index</th>\n",
       "      <th>IdAutor</th>\n",
       "      <th>IdDocumento</th>\n",
       "      <th>NomeAutor</th>\n",
       "      <th>codigo_unico</th>\n",
       "      <th>nome_deputado</th>\n",
       "      <th>uf</th>\n",
       "      <th>nome_completo</th>\n",
       "      <th>sequencial</th>\n",
       "      <th>cpf</th>\n",
       "      <th>...</th>\n",
       "      <th>AnoLegislativo</th>\n",
       "      <th>CodOriginalidade</th>\n",
       "      <th>DtEntradaSistema</th>\n",
       "      <th>DtPublicacao</th>\n",
       "      <th>Ementa</th>\n",
       "      <th>IdNatureza</th>\n",
       "      <th>NroLegislativo</th>\n",
       "      <th>IdPalavra</th>\n",
       "      <th>Palavra</th>\n",
       "      <th>PalavraSemAcento</th>\n",
       "    </tr>\n",
       "  </thead>\n",
       "  <tbody>\n",
       "    <tr>\n",
       "      <th>0</th>\n",
       "      <td>31</td>\n",
       "      <td>4926</td>\n",
       "      <td>1249779</td>\n",
       "      <td>Mauro Bragato</td>\n",
       "      <td>4926</td>\n",
       "      <td>MAURO BRAGATO</td>\n",
       "      <td>SP</td>\n",
       "      <td>MAURO BRAGATO</td>\n",
       "      <td>250000001571</td>\n",
       "      <td>00493946810</td>\n",
       "      <td>...</td>\n",
       "      <td>2015</td>\n",
       "      <td>1249779 110315 1842</td>\n",
       "      <td>2015-03-11 03:00:00</td>\n",
       "      <td>2015-03-21 03:00:00</td>\n",
       "      <td>Dá a denominação de \"Vereador Adilson Ramon Mo...</td>\n",
       "      <td>1</td>\n",
       "      <td>224</td>\n",
       "      <td>3127</td>\n",
       "      <td>DENOMINAÇÃO</td>\n",
       "      <td>DENOMINACAO</td>\n",
       "    </tr>\n",
       "    <tr>\n",
       "      <th>1</th>\n",
       "      <td>44</td>\n",
       "      <td>4926</td>\n",
       "      <td>1249916</td>\n",
       "      <td>Mauro Bragato</td>\n",
       "      <td>4926</td>\n",
       "      <td>MAURO BRAGATO</td>\n",
       "      <td>SP</td>\n",
       "      <td>MAURO BRAGATO</td>\n",
       "      <td>250000001571</td>\n",
       "      <td>00493946810</td>\n",
       "      <td>...</td>\n",
       "      <td>2015</td>\n",
       "      <td>1249916 120315 1119</td>\n",
       "      <td>2015-03-12 03:00:00</td>\n",
       "      <td>2015-03-24 03:00:00</td>\n",
       "      <td>Dá a denominação de \"Josué Borges de Andrade\" ...</td>\n",
       "      <td>1</td>\n",
       "      <td>228</td>\n",
       "      <td>3127</td>\n",
       "      <td>DENOMINAÇÃO</td>\n",
       "      <td>DENOMINACAO</td>\n",
       "    </tr>\n",
       "    <tr>\n",
       "      <th>2</th>\n",
       "      <td>47</td>\n",
       "      <td>4926</td>\n",
       "      <td>1249920</td>\n",
       "      <td>Mauro Bragato</td>\n",
       "      <td>4926</td>\n",
       "      <td>MAURO BRAGATO</td>\n",
       "      <td>SP</td>\n",
       "      <td>MAURO BRAGATO</td>\n",
       "      <td>250000001571</td>\n",
       "      <td>00493946810</td>\n",
       "      <td>...</td>\n",
       "      <td>2015</td>\n",
       "      <td>1249920 120315 1136</td>\n",
       "      <td>2015-03-12 03:00:00</td>\n",
       "      <td>2015-03-24 03:00:00</td>\n",
       "      <td>Dá a denominação de \"Prof. Dr. José Luiz Guima...</td>\n",
       "      <td>1</td>\n",
       "      <td>229</td>\n",
       "      <td>3127</td>\n",
       "      <td>DENOMINAÇÃO</td>\n",
       "      <td>DENOMINACAO</td>\n",
       "    </tr>\n",
       "    <tr>\n",
       "      <th>3</th>\n",
       "      <td>50</td>\n",
       "      <td>4926</td>\n",
       "      <td>1249921</td>\n",
       "      <td>Mauro Bragato</td>\n",
       "      <td>4926</td>\n",
       "      <td>MAURO BRAGATO</td>\n",
       "      <td>SP</td>\n",
       "      <td>MAURO BRAGATO</td>\n",
       "      <td>250000001571</td>\n",
       "      <td>00493946810</td>\n",
       "      <td>...</td>\n",
       "      <td>2015</td>\n",
       "      <td>1249921 120315 1142</td>\n",
       "      <td>2015-03-12 03:00:00</td>\n",
       "      <td>2015-03-24 03:00:00</td>\n",
       "      <td>Dá a denominação de \"Prof. Carlos Umberto Carr...</td>\n",
       "      <td>1</td>\n",
       "      <td>230</td>\n",
       "      <td>3127</td>\n",
       "      <td>DENOMINAÇÃO</td>\n",
       "      <td>DENOMINACAO</td>\n",
       "    </tr>\n",
       "    <tr>\n",
       "      <th>4</th>\n",
       "      <td>53</td>\n",
       "      <td>4926</td>\n",
       "      <td>1249922</td>\n",
       "      <td>Mauro Bragato</td>\n",
       "      <td>4926</td>\n",
       "      <td>MAURO BRAGATO</td>\n",
       "      <td>SP</td>\n",
       "      <td>MAURO BRAGATO</td>\n",
       "      <td>250000001571</td>\n",
       "      <td>00493946810</td>\n",
       "      <td>...</td>\n",
       "      <td>2015</td>\n",
       "      <td>1249922 120315 1201</td>\n",
       "      <td>2015-03-12 03:00:00</td>\n",
       "      <td>2015-03-24 03:00:00</td>\n",
       "      <td>Dá a denominação de \"Antonio Carvalho Moreno\" ...</td>\n",
       "      <td>1</td>\n",
       "      <td>231</td>\n",
       "      <td>3127</td>\n",
       "      <td>DENOMINAÇÃO</td>\n",
       "      <td>DENOMINACAO</td>\n",
       "    </tr>\n",
       "  </tbody>\n",
       "</table>\n",
       "<p>5 rows × 23 columns</p>\n",
       "</div>"
      ],
      "text/plain": [
       "   index IdAutor IdDocumento      NomeAutor codigo_unico  nome_deputado  uf  \\\n",
       "0     31    4926     1249779  Mauro Bragato         4926  MAURO BRAGATO  SP   \n",
       "1     44    4926     1249916  Mauro Bragato         4926  MAURO BRAGATO  SP   \n",
       "2     47    4926     1249920  Mauro Bragato         4926  MAURO BRAGATO  SP   \n",
       "3     50    4926     1249921  Mauro Bragato         4926  MAURO BRAGATO  SP   \n",
       "4     53    4926     1249922  Mauro Bragato         4926  MAURO BRAGATO  SP   \n",
       "\n",
       "   nome_completo    sequencial          cpf       ...        AnoLegislativo  \\\n",
       "0  MAURO BRAGATO  250000001571  00493946810       ...                  2015   \n",
       "1  MAURO BRAGATO  250000001571  00493946810       ...                  2015   \n",
       "2  MAURO BRAGATO  250000001571  00493946810       ...                  2015   \n",
       "3  MAURO BRAGATO  250000001571  00493946810       ...                  2015   \n",
       "4  MAURO BRAGATO  250000001571  00493946810       ...                  2015   \n",
       "\n",
       "      CodOriginalidade    DtEntradaSistema        DtPublicacao  \\\n",
       "0  1249779 110315 1842 2015-03-11 03:00:00 2015-03-21 03:00:00   \n",
       "1  1249916 120315 1119 2015-03-12 03:00:00 2015-03-24 03:00:00   \n",
       "2  1249920 120315 1136 2015-03-12 03:00:00 2015-03-24 03:00:00   \n",
       "3  1249921 120315 1142 2015-03-12 03:00:00 2015-03-24 03:00:00   \n",
       "4  1249922 120315 1201 2015-03-12 03:00:00 2015-03-24 03:00:00   \n",
       "\n",
       "                                              Ementa IdNatureza  \\\n",
       "0  Dá a denominação de \"Vereador Adilson Ramon Mo...          1   \n",
       "1  Dá a denominação de \"Josué Borges de Andrade\" ...          1   \n",
       "2  Dá a denominação de \"Prof. Dr. José Luiz Guima...          1   \n",
       "3  Dá a denominação de \"Prof. Carlos Umberto Carr...          1   \n",
       "4  Dá a denominação de \"Antonio Carvalho Moreno\" ...          1   \n",
       "\n",
       "  NroLegislativo IdPalavra      Palavra PalavraSemAcento  \n",
       "0            224      3127  DENOMINAÇÃO      DENOMINACAO  \n",
       "1            228      3127  DENOMINAÇÃO      DENOMINACAO  \n",
       "2            229      3127  DENOMINAÇÃO      DENOMINACAO  \n",
       "3            230      3127  DENOMINAÇÃO      DENOMINACAO  \n",
       "4            231      3127  DENOMINAÇÃO      DENOMINACAO  \n",
       "\n",
       "[5 rows x 23 columns]"
      ]
     },
     "execution_count": 93,
     "metadata": {},
     "output_type": "execute_result"
    }
   ],
   "source": [
    "seleciona.reset_index().head(5)"
   ]
  },
  {
   "cell_type": "code",
   "execution_count": 59,
   "metadata": {},
   "outputs": [],
   "source": [
    "seleciona.to_excel('resultados/projetos_denominacao.xlsx',sheet_name='Sheet1')"
   ]
  },
  {
   "cell_type": "code",
   "execution_count": null,
   "metadata": {},
   "outputs": [],
   "source": []
  },
  {
   "cell_type": "code",
   "execution_count": 84,
   "metadata": {},
   "outputs": [
    {
     "data": {
      "text/html": [
       "<div>\n",
       "<style scoped>\n",
       "    .dataframe tbody tr th:only-of-type {\n",
       "        vertical-align: middle;\n",
       "    }\n",
       "\n",
       "    .dataframe tbody tr th {\n",
       "        vertical-align: top;\n",
       "    }\n",
       "\n",
       "    .dataframe thead th {\n",
       "        text-align: right;\n",
       "    }\n",
       "</style>\n",
       "<table border=\"1\" class=\"dataframe\">\n",
       "  <thead>\n",
       "    <tr style=\"text-align: right;\">\n",
       "      <th></th>\n",
       "      <th>IdAutor</th>\n",
       "      <th>IdDocumento</th>\n",
       "      <th>NomeAutor</th>\n",
       "      <th>codigo_unico</th>\n",
       "      <th>nome_deputado</th>\n",
       "      <th>uf</th>\n",
       "      <th>nome_completo</th>\n",
       "      <th>sequencial</th>\n",
       "      <th>cpf</th>\n",
       "      <th>nome_urna</th>\n",
       "      <th>...</th>\n",
       "      <th>CodOriginalidade</th>\n",
       "      <th>DtEntradaSistema</th>\n",
       "      <th>DtPublicacao</th>\n",
       "      <th>Ementa</th>\n",
       "      <th>IdNatureza</th>\n",
       "      <th>NroLegislativo</th>\n",
       "      <th>chave_unica</th>\n",
       "      <th>IdPalavra</th>\n",
       "      <th>Palavra</th>\n",
       "      <th>PalavraSemAcento</th>\n",
       "    </tr>\n",
       "  </thead>\n",
       "  <tbody>\n",
       "    <tr>\n",
       "      <th>1897</th>\n",
       "      <td>31</td>\n",
       "      <td>1000038268</td>\n",
       "      <td>Vaz de Lima</td>\n",
       "      <td>31</td>\n",
       "      <td>VAZ DE LIMA</td>\n",
       "      <td>SP</td>\n",
       "      <td>JOSE CARLOS VAZ DE LIMA</td>\n",
       "      <td>250000001566</td>\n",
       "      <td>57339333800</td>\n",
       "      <td>VAZ DE LIMA</td>\n",
       "      <td>...</td>\n",
       "      <td>NaN</td>\n",
       "      <td>2017-05-04 03:00:00</td>\n",
       "      <td>2017-05-04 03:00:00</td>\n",
       "      <td>Classifica como de Interesse Turístico os Muni...</td>\n",
       "      <td>1</td>\n",
       "      <td>258</td>\n",
       "      <td>1000038268258nan12017</td>\n",
       "      <td>32424</td>\n",
       "      <td>INTERESSE TURÍSTICO</td>\n",
       "      <td>INTERESSE TURISTICO</td>\n",
       "    </tr>\n",
       "    <tr>\n",
       "      <th>1912</th>\n",
       "      <td>68</td>\n",
       "      <td>1000038268</td>\n",
       "      <td>Edmir Chedid</td>\n",
       "      <td>68</td>\n",
       "      <td>EDMIR CHEDID</td>\n",
       "      <td>SP</td>\n",
       "      <td>EDMIR JOSÉ ABI CHEDID</td>\n",
       "      <td>250000001645</td>\n",
       "      <td>06837351877</td>\n",
       "      <td>EDMIR CHEDID</td>\n",
       "      <td>...</td>\n",
       "      <td>NaN</td>\n",
       "      <td>2017-05-04 03:00:00</td>\n",
       "      <td>2017-05-04 03:00:00</td>\n",
       "      <td>Classifica como de Interesse Turístico os Muni...</td>\n",
       "      <td>1</td>\n",
       "      <td>258</td>\n",
       "      <td>1000038268258nan12017</td>\n",
       "      <td>32424</td>\n",
       "      <td>INTERESSE TURÍSTICO</td>\n",
       "      <td>INTERESSE TURISTICO</td>\n",
       "    </tr>\n",
       "    <tr>\n",
       "      <th>1927</th>\n",
       "      <td>39</td>\n",
       "      <td>1000038268</td>\n",
       "      <td>Aldo Demarchi</td>\n",
       "      <td>39</td>\n",
       "      <td>ALDO DEMARCHI</td>\n",
       "      <td>SP</td>\n",
       "      <td>JOSÉ ALDO DEMARCHI</td>\n",
       "      <td>250000001654</td>\n",
       "      <td>02755653868</td>\n",
       "      <td>ALDO DEMARCHI</td>\n",
       "      <td>...</td>\n",
       "      <td>NaN</td>\n",
       "      <td>2017-05-04 03:00:00</td>\n",
       "      <td>2017-05-04 03:00:00</td>\n",
       "      <td>Classifica como de Interesse Turístico os Muni...</td>\n",
       "      <td>1</td>\n",
       "      <td>258</td>\n",
       "      <td>1000038268258nan12017</td>\n",
       "      <td>32424</td>\n",
       "      <td>INTERESSE TURÍSTICO</td>\n",
       "      <td>INTERESSE TURISTICO</td>\n",
       "    </tr>\n",
       "    <tr>\n",
       "      <th>1942</th>\n",
       "      <td>64</td>\n",
       "      <td>1000038268</td>\n",
       "      <td>Roberto Engler</td>\n",
       "      <td>64</td>\n",
       "      <td>ROBERTO ENGLER</td>\n",
       "      <td>SP</td>\n",
       "      <td>ROBERTO CARVALHO ENGLER PINTO</td>\n",
       "      <td>250000001532</td>\n",
       "      <td>01561715891</td>\n",
       "      <td>ROBERTO ENGLER</td>\n",
       "      <td>...</td>\n",
       "      <td>NaN</td>\n",
       "      <td>2017-05-04 03:00:00</td>\n",
       "      <td>2017-05-04 03:00:00</td>\n",
       "      <td>Classifica como de Interesse Turístico os Muni...</td>\n",
       "      <td>1</td>\n",
       "      <td>258</td>\n",
       "      <td>1000038268258nan12017</td>\n",
       "      <td>32424</td>\n",
       "      <td>INTERESSE TURÍSTICO</td>\n",
       "      <td>INTERESSE TURISTICO</td>\n",
       "    </tr>\n",
       "    <tr>\n",
       "      <th>1957</th>\n",
       "      <td>40</td>\n",
       "      <td>1000038268</td>\n",
       "      <td>Léo Oliveira</td>\n",
       "      <td>40</td>\n",
       "      <td>LEO OLIVEIRA</td>\n",
       "      <td>SP</td>\n",
       "      <td>OCIMAR DONIZETI LÉO OLIVEIRA</td>\n",
       "      <td>250000002709</td>\n",
       "      <td>07318813897</td>\n",
       "      <td>LEO OLIVEIRA</td>\n",
       "      <td>...</td>\n",
       "      <td>NaN</td>\n",
       "      <td>2017-05-04 03:00:00</td>\n",
       "      <td>2017-05-04 03:00:00</td>\n",
       "      <td>Classifica como de Interesse Turístico os Muni...</td>\n",
       "      <td>1</td>\n",
       "      <td>258</td>\n",
       "      <td>1000038268258nan12017</td>\n",
       "      <td>32424</td>\n",
       "      <td>INTERESSE TURÍSTICO</td>\n",
       "      <td>INTERESSE TURISTICO</td>\n",
       "    </tr>\n",
       "  </tbody>\n",
       "</table>\n",
       "<p>5 rows × 23 columns</p>\n",
       "</div>"
      ],
      "text/plain": [
       "     IdAutor IdDocumento       NomeAutor codigo_unico   nome_deputado  uf  \\\n",
       "1897      31  1000038268     Vaz de Lima           31     VAZ DE LIMA  SP   \n",
       "1912      68  1000038268    Edmir Chedid           68    EDMIR CHEDID  SP   \n",
       "1927      39  1000038268   Aldo Demarchi           39   ALDO DEMARCHI  SP   \n",
       "1942      64  1000038268  Roberto Engler           64  ROBERTO ENGLER  SP   \n",
       "1957      40  1000038268    Léo Oliveira           40    LEO OLIVEIRA  SP   \n",
       "\n",
       "                      nome_completo    sequencial          cpf  \\\n",
       "1897        JOSE CARLOS VAZ DE LIMA  250000001566  57339333800   \n",
       "1912          EDMIR JOSÉ ABI CHEDID  250000001645  06837351877   \n",
       "1927             JOSÉ ALDO DEMARCHI  250000001654  02755653868   \n",
       "1942  ROBERTO CARVALHO ENGLER PINTO  250000001532  01561715891   \n",
       "1957   OCIMAR DONIZETI LÉO OLIVEIRA  250000002709  07318813897   \n",
       "\n",
       "           nome_urna         ...          CodOriginalidade  \\\n",
       "1897     VAZ DE LIMA         ...                       NaN   \n",
       "1912    EDMIR CHEDID         ...                       NaN   \n",
       "1927   ALDO DEMARCHI         ...                       NaN   \n",
       "1942  ROBERTO ENGLER         ...                       NaN   \n",
       "1957    LEO OLIVEIRA         ...                       NaN   \n",
       "\n",
       "        DtEntradaSistema        DtPublicacao  \\\n",
       "1897 2017-05-04 03:00:00 2017-05-04 03:00:00   \n",
       "1912 2017-05-04 03:00:00 2017-05-04 03:00:00   \n",
       "1927 2017-05-04 03:00:00 2017-05-04 03:00:00   \n",
       "1942 2017-05-04 03:00:00 2017-05-04 03:00:00   \n",
       "1957 2017-05-04 03:00:00 2017-05-04 03:00:00   \n",
       "\n",
       "                                                 Ementa IdNatureza  \\\n",
       "1897  Classifica como de Interesse Turístico os Muni...          1   \n",
       "1912  Classifica como de Interesse Turístico os Muni...          1   \n",
       "1927  Classifica como de Interesse Turístico os Muni...          1   \n",
       "1942  Classifica como de Interesse Turístico os Muni...          1   \n",
       "1957  Classifica como de Interesse Turístico os Muni...          1   \n",
       "\n",
       "     NroLegislativo            chave_unica IdPalavra              Palavra  \\\n",
       "1897            258  1000038268258nan12017     32424  INTERESSE TURÍSTICO   \n",
       "1912            258  1000038268258nan12017     32424  INTERESSE TURÍSTICO   \n",
       "1927            258  1000038268258nan12017     32424  INTERESSE TURÍSTICO   \n",
       "1942            258  1000038268258nan12017     32424  INTERESSE TURÍSTICO   \n",
       "1957            258  1000038268258nan12017     32424  INTERESSE TURÍSTICO   \n",
       "\n",
       "         PalavraSemAcento  \n",
       "1897  INTERESSE TURISTICO  \n",
       "1912  INTERESSE TURISTICO  \n",
       "1927  INTERESSE TURISTICO  \n",
       "1942  INTERESSE TURISTICO  \n",
       "1957  INTERESSE TURISTICO  \n",
       "\n",
       "[5 rows x 23 columns]"
      ]
     },
     "execution_count": 84,
     "metadata": {},
     "output_type": "execute_result"
    }
   ],
   "source": [
    "seleciona = palavras_chave_dep[(palavras_chave_dep['Palavra'] == 'INTERESSE TURÍSTICO')]\n",
    "seleciona.head(5)"
   ]
  },
  {
   "cell_type": "code",
   "execution_count": null,
   "metadata": {},
   "outputs": [],
   "source": []
  },
  {
   "cell_type": "code",
   "execution_count": null,
   "metadata": {},
   "outputs": [],
   "source": []
  },
  {
   "cell_type": "markdown",
   "metadata": {},
   "source": [
    "## Contagem de deputados específicos"
   ]
  },
  {
   "cell_type": "code",
   "execution_count": 63,
   "metadata": {},
   "outputs": [],
   "source": [
    "nome = palavras_chave_dep[(palavras_chave_dep['NomeAutor'] == 'Gil Lancaster')]"
   ]
  },
  {
   "cell_type": "code",
   "execution_count": 64,
   "metadata": {},
   "outputs": [
    {
     "data": {
      "text/plain": [
       "1"
      ]
     },
     "execution_count": 64,
     "metadata": {},
     "output_type": "execute_result"
    }
   ],
   "source": [
    "len(nome['NomeAutor'].value_counts())"
   ]
  },
  {
   "cell_type": "code",
   "execution_count": 65,
   "metadata": {},
   "outputs": [
    {
     "data": {
      "text/plain": [
       "Palavra\n",
       "CALENDÁRIO OFICIAL                                               68\n",
       "DATA COMEMORATIVA                                                64\n",
       "SEMANA DE                                                        47\n",
       "DIA DE                                                           28\n",
       "CONSCIENTIZAÇÃO                                                  25\n",
       "UTILIDADE PÚBLICA                                                25\n",
       "TURISMO                                                          20\n",
       "DESENVOLVIMENTO ECONÔMICO E SOCIAL                               19\n",
       "LAZER                                                            19\n",
       "ESTÂNCIA TURÍSTICA                                               19\n",
       "DESENVOLVIMENTO TURÍSTICO                                        19\n",
       "COMBATE                                                          15\n",
       "PREVENÇÃO                                                        14\n",
       "PROGRAMA DE PREVENÇÃO (CRIAÇÃO)                                  13\n",
       "BOM PRATO                                                        13\n",
       "INFORMAÇÃO                                                       11\n",
       "IDOSO                                                            11\n",
       "ESCOLA PÚBLICA                                                   11\n",
       "BARUERI (MUNICÍPIO)                                              10\n",
       "TRATAMENTO                                                        9\n",
       "ASSOCIAÇÃO                                                        9\n",
       "SEMANA ESTADUAL                                                   8\n",
       "INSTALAÇÃO                                                        8\n",
       "PROIBIÇÃO                                                         8\n",
       "ESCOLA                                                            8\n",
       "RESTAURANTE                                                       8\n",
       "ORIENTAÇÃO                                                        8\n",
       "CARTAZ                                                            7\n",
       "AGOSTO (CALENDÁRIO OFICIAL)                                       7\n",
       "SAÚDE                                                             7\n",
       "                                                                 ..\n",
       "MOGI DAS CRUZES (MUNICÍPIO)                                       1\n",
       "MILITAR                                                           1\n",
       "NOVA GUATAPORANGA (MUNICÍPIO)                                     1\n",
       "NOVO HORIZONTE (MUNICÍPIO)                                        1\n",
       "PEC 3/2018                                                        1\n",
       "NUMERAÇÃO                                                         1\n",
       "PAULICÉIA (MUNICÍPIO)                                             1\n",
       "PASTOR EVANGÉLICO                                                 1\n",
       "PASSAGEM GRATUÍTA                                                 1\n",
       "PARCERIA                                                          1\n",
       "PANORAMA (MUNICÍPIO)                                              1\n",
       "PALESTRA                                                          1\n",
       "PAINEIS ELETÔNICO                                                 1\n",
       "PADARIA                                                           1\n",
       "PACIENTE PARTICULAR                                               1\n",
       "OZONIOTERAPIA                                                     1\n",
       "OURO VERDE (MUNICÍPIO)                                            1\n",
       "OSTEOPOROSE                                                       1\n",
       "ORÇAMENTO                                                         1\n",
       "ORGANIZAÇÃO                                                       1\n",
       "OPÇÃO                                                             1\n",
       "OPTOMETRIA                                                        1\n",
       "OLIMPÍADA                                                         1\n",
       "OLHOS                                                             1\n",
       "OBRA                                                              1\n",
       "OBESIDADE INFANTIL                                                1\n",
       "NÚMERO                                                            1\n",
       "NÚCLEO                                                            1\n",
       "NUTRICIONISTA                                                     1\n",
       "\"SEMANA DA VIRADA ANIMAL\" (PRIMEIRA SEMANA DO MÊS DE OUTUBRO)     1\n",
       "Name: IdDocumento, Length: 992, dtype: int64"
      ]
     },
     "execution_count": 65,
     "metadata": {},
     "output_type": "execute_result"
    }
   ],
   "source": [
    "nome.groupby(\"Palavra\").IdDocumento.count().sort_values(ascending=False)"
   ]
  },
  {
   "cell_type": "code",
   "execution_count": null,
   "metadata": {},
   "outputs": [],
   "source": []
  },
  {
   "cell_type": "code",
   "execution_count": 88,
   "metadata": {},
   "outputs": [
    {
     "data": {
      "text/plain": [
       "Palavra\n",
       "TURISMO                                89\n",
       "DESENVOLVIMENTO ECONÔMICO E SOCIAL     87\n",
       "DESENVOLVIMENTO TURÍSTICO              87\n",
       "LAZER                                  87\n",
       "ESTÂNCIA TURÍSTICA                     87\n",
       "MUNICÍPIO DE INTERESSE TURÍSTICO       84\n",
       "DENOMINAÇÃO                            41\n",
       "INTERESSE TURÍSTICO                    23\n",
       "UTILIDADE PÚBLICA                      12\n",
       "RODOVIA                                11\n",
       "DISPOSITIVO DE ACESSO                  11\n",
       "VIADUTO                                11\n",
       "JALES (MUNICÍPIO)                       8\n",
       "SÃO JOSÉ DO RIO PRETO (MUNICÍPIO)       7\n",
       "ASSOCIAÇÃO                              7\n",
       "ARAÇATUBA (MUNICÍPIO)                   7\n",
       "OLÍMPIA (MUNICÍPIO)                     5\n",
       "RUBINÉIA (MUNICÍPIO)                    4\n",
       "BARRETOS (MUNICÍPIO)                    4\n",
       "PENÁPOLIS (MUNICÍPIO)                   4\n",
       "CALENDÁRIO OFICIAL                      4\n",
       "GUAPIAÇU (MUNICÍPIO)                    4\n",
       "ALTERAÇÃO                               4\n",
       "ALTO ALEGRE (MUNICÍPIO)                 4\n",
       "UCHÔA (MUNICÍPIO)                       4\n",
       "GUARACI (MUNICÍPIO)                     3\n",
       "CARDOSO (MUNICÍPIO)                     3\n",
       "SALES (MUNICÍPIO)                       3\n",
       "SANTA CLARA D'OESTE (MUNICÍPIO)         3\n",
       "LINS (MUNICÍPIO)                        3\n",
       "                                       ..\n",
       "PEC 6/2017                              1\n",
       "PEC 3/2018                              1\n",
       "PEC 2/2018                              1\n",
       "PASSARELA                               1\n",
       "PARCELAMENTO DO SOLO URBANO             1\n",
       "PARALISAÇÃO                             1\n",
       "PANORAMA (MUNICÍPIO)                    1\n",
       "PACIENTE                                1\n",
       "ORÇAMENTO IMPOSITIVO                    1\n",
       "ORÇAMENTO                               1\n",
       "ORINDIÚVA (MUNICÍPIO)                   1\n",
       "ORGANIZAÇÃO                             1\n",
       "OBRAS                                   1\n",
       "NOVA CANAÃ PAULISTA (MUNICÍPIO)         1\n",
       "NORMA TÉCNICA                           1\n",
       "NHANDEARA (MUNICÍPIO)                   1\n",
       "MUNICÍPIOS                              1\n",
       "MONTE APRAZÍVEL (MUNICÍPIO)             1\n",
       "MOGI DAS CRUZES (MUNICÍPIO)             1\n",
       "MIRANTE DO PARANAPANEMA (MUNICÍPIO)     1\n",
       "MINISTÉRIO PÚBLICO                      1\n",
       "MIDIA DIGITAL                           1\n",
       "MICROEMPRESA                            1\n",
       "MEIO AMBIENTE                           1\n",
       "MEDICAMENTO                             1\n",
       "MARÇO (CALENDÁRIO OFICIAL)              1\n",
       "MARTINÓPOLIS (MUNICÍPIO)                1\n",
       "MARINÓPOLIS (MUNICÍPIO)                 1\n",
       "MAIRIPORÃ (MUNICÍPIO)                   1\n",
       "ABRIL (CALENDÁRIO OFICIAL)              1\n",
       "Name: IdDocumento, Length: 323, dtype: int64"
      ]
     },
     "execution_count": 88,
     "metadata": {},
     "output_type": "execute_result"
    }
   ],
   "source": [
    "nome = palavras_chave_dep[(palavras_chave_dep['NomeAutor'] == 'Itamar Borges')]\n",
    "nome.groupby(\"Palavra\").IdDocumento.count().sort_values(ascending=False)"
   ]
  },
  {
   "cell_type": "code",
   "execution_count": null,
   "metadata": {},
   "outputs": [],
   "source": []
  },
  {
   "cell_type": "code",
   "execution_count": 89,
   "metadata": {},
   "outputs": [
    {
     "data": {
      "text/plain": [
       "Palavra\n",
       "UTILIDADE PÚBLICA                                                               35\n",
       "INTERESSE TURÍSTICO                                                             28\n",
       "ESTÂNCIA TURÍSTICA                                                              24\n",
       "DESENVOLVIMENTO ECONÔMICO E SOCIAL                                              23\n",
       "DESENVOLVIMENTO TURÍSTICO                                                       23\n",
       "TURISMO                                                                         23\n",
       "LAZER                                                                           23\n",
       "DENOMINAÇÃO                                                                     20\n",
       "ASSOCIAÇÃO                                                                      17\n",
       "SÃO PAULO (CAPITAL)                                                              8\n",
       "ALTERAÇÃO                                                                        6\n",
       "PIRASSUNUNGA (MUNICÍPIO)                                                         5\n",
       "DISPOSITIVO DE ACESSO                                                            5\n",
       "ROSANA (MUNICÍPIO)                                                               4\n",
       "CONSTITUIÇÃO ESTADUAL                                                            4\n",
       "SÃO MIGUEL ARCANJO (MUNICÍPIO)                                                   4\n",
       "PROIBIÇÃO                                                                        4\n",
       "ESCOLA                                                                           4\n",
       "TAQUARITINGA (MUNICÍPIO)                                                         3\n",
       "ÓCULOS                                                                           3\n",
       "TAMBAÚ (MUNICÍPIO)                                                               3\n",
       "EMENDA CONSTITUCIONAL                                                            3\n",
       "SANTA ISABEL (MUNICÍPIO)                                                         3\n",
       "CRIAÇÃO                                                                          3\n",
       "SANTA BRANCA (MUNICÍPIO)                                                         3\n",
       "ASSOCIAÇÃO DE PAIS E AMIGOS DOS EXCEPCIONAIS - APAE                              3\n",
       "PESSOA                                                                           3\n",
       "TIETÊ (MUNICÍPIO)                                                                3\n",
       "POLICIAL CIVIL                                                                   3\n",
       "TRIBUNAL DE CONTAS DO ESTADO                                                     3\n",
       "                                                                                ..\n",
       "PESCADOR                                                                         1\n",
       "PESQUISA                                                                         1\n",
       "PESQUISADOR CIENTÍFICO                                                           1\n",
       "OFICIAIS DA POLÍCIA MILITAR                                                      1\n",
       "OBRIGATORIEDADE                                                                  1\n",
       "MAIO (CALENDÁRIO OFICIAL)                                                        1\n",
       "MONTE ALTO (MUNICÍPIO)                                                           1\n",
       "MAIRIPORÃ (MUNICÍPIO)                                                            1\n",
       "MARTINÓPOLIS (MUNICÍPIO)                                                         1\n",
       "MENSALIDADE ESCOLAR                                                              1\n",
       "MERCADORIA                                                                       1\n",
       "METRÔ                                                                            1\n",
       "MICROEMPRESA                                                                     1\n",
       "MOBILIÁRIO                                                                       1\n",
       "MOGI DAS CRUZES (MUNICÍPIO)                                                      1\n",
       "MOGI GUAÇU (MUNICÍPIO)                                                           1\n",
       "MONITORAMENTO                                                                    1\n",
       "MORADOR DE RUA                                                                   1\n",
       "NÚCLEO DE EDUCAÇÃO E ESPECIALIZAÇÃO PARA O DEFICIENTE FÍSICO E MENTAL - NEED     1\n",
       "MOTOCICLETA                                                                      1\n",
       "MULHER                                                                           1\n",
       "MULTA                                                                            1\n",
       "MUNICÍPIO                                                                        1\n",
       "MURUTINGA DO SUL (MUNICÍPIO)                                                     1\n",
       "MÚSICO                                                                           1\n",
       "NAZARÉ PAULISTA (MUNICÍPIO)                                                      1\n",
       "NEOPLASIA MALIGNA                                                                1\n",
       "NOTA FISCAL PAULISTA                                                             1\n",
       "NOVO HORIZONTE (MUNICÍPIO)                                                       1\n",
       "\"DIA DA CULTURA E IMIGRAÇÃO CHINESA\"                                             1\n",
       "Name: IdDocumento, Length: 472, dtype: int64"
      ]
     },
     "execution_count": 89,
     "metadata": {},
     "output_type": "execute_result"
    }
   ],
   "source": [
    "nome = palavras_chave_dep[(palavras_chave_dep['NomeAutor'] == 'Campos Machado')]\n",
    "nome.groupby(\"Palavra\").IdDocumento.count().sort_values(ascending=False)"
   ]
  },
  {
   "cell_type": "code",
   "execution_count": null,
   "metadata": {},
   "outputs": [],
   "source": []
  },
  {
   "cell_type": "code",
   "execution_count": 90,
   "metadata": {},
   "outputs": [
    {
     "data": {
      "text/plain": [
       "1"
      ]
     },
     "execution_count": 90,
     "metadata": {},
     "output_type": "execute_result"
    }
   ],
   "source": [
    "nome = palavras_chave_dep[(palavras_chave_dep['NomeAutor'] == 'Carlos Giannazi')]\n",
    "len(nome['NomeAutor'].value_counts())"
   ]
  },
  {
   "cell_type": "code",
   "execution_count": 91,
   "metadata": {},
   "outputs": [
    {
     "data": {
      "text/plain": [
       "Palavra\n",
       "DENOMINAÇÃO                                                                                                                                        13\n",
       "ESCOLA                                                                                                                                             11\n",
       "DESAPROPRIAÇÃO                                                                                                                                     11\n",
       "SUSTAÇÃO                                                                                                                                           10\n",
       "SERVIDOR                                                                                                                                            9\n",
       "SERVIDOR PÚBLICO                                                                                                                                    9\n",
       "EDUCAÇÃO                                                                                                                                            8\n",
       "SÃO PAULO (CAPITAL)                                                                                                                                 8\n",
       "IMÓVEL                                                                                                                                              7\n",
       "DECRETO                                                                                                                                             6\n",
       "ICMS - IMPOSTO SOBRE A CIRCULAÇÃO DE MERCADORIAS E SOBRE A PRESTAÇÃO DE SERVIÇOS DE TRANSPORTE  INTERESTADUAL E INTERMUNICIPAL E DE COMUNICAÇÃO     6\n",
       "MAGISTÉRIO                                                                                                                                          5\n",
       "PROFESSOR                                                                                                                                           5\n",
       "REMUNERAÇÃO                                                                                                                                         5\n",
       "ISENÇÃO                                                                                                                                             5\n",
       "DIA DE                                                                                                                                              5\n",
       "SECRETARIA DA EDUCAÇÃO                                                                                                                              5\n",
       "ALTERAÇÃO                                                                                                                                           5\n",
       "PRAZO                                                                                                                                               5\n",
       "INTERESSE TURÍSTICO                                                                                                                                 4\n",
       "LICENÇA MATERNIDADE                                                                                                                                 4\n",
       "JORNADA DE TRABALHO                                                                                                                                 4\n",
       "LAZER                                                                                                                                               4\n",
       "PATRIMONIO CULTURAL IMATERIAL DO ESTADO                                                                                                             4\n",
       "REGULAMENTAÇÃO                                                                                                                                      4\n",
       "TRABALHO                                                                                                                                            4\n",
       "SAÚDE                                                                                                                                               4\n",
       "REDE ESTADUAL DE ENSINO                                                                                                                             4\n",
       "FUNDAÇÃO CASA                                                                                                                                       4\n",
       "LICENÇA PATERNIDADE                                                                                                                                 4\n",
       "                                                                                                                                                   ..\n",
       "MEDIADOR E CONCILIADOR EXTRAJUDICIAL                                                                                                                1\n",
       "MOGI DAS CRUZES (MUNICÍPIO)                                                                                                                         1\n",
       "MONTE ALTO (MUNICÍPIO)                                                                                                                              1\n",
       "MORADIA                                                                                                                                             1\n",
       "MORADIAS                                                                                                                                            1\n",
       "MORADOR                                                                                                                                             1\n",
       "MOTORISTA                                                                                                                                           1\n",
       "MOVIMENTAÇÃO                                                                                                                                        1\n",
       "MUDANÇA                                                                                                                                             1\n",
       "MULHERES                                                                                                                                            1\n",
       "MUNICÍPIO                                                                                                                                           1\n",
       "MUNICÍPIOS                                                                                                                                          1\n",
       "MÓDULO                                                                                                                                              1\n",
       "MÚSICA AO VIVO                                                                                                                                      1\n",
       "ORGULHO LGBT                                                                                                                                        1\n",
       "NAZARÉ PAULISTA (MUNICÍPIO)                                                                                                                         1\n",
       "NOME SOCIAL                                                                                                                                         1\n",
       "NORMAS                                                                                                                                              1\n",
       "NOVA ESCOLA (PROGRAMA)                                                                                                                              1\n",
       "NOVO HORIZONTE (MUNICÍPIO)                                                                                                                          1\n",
       "NUTRICIONISTA                                                                                                                                       1\n",
       "NÃO ATENDIMENTO                                                                                                                                     1\n",
       "NÍVEL TÉCNICO                                                                                                                                       1\n",
       "OBRA PÚBLICA                                                                                                                                        1\n",
       "OBRAS PÚBLICAS                                                                                                                                      1\n",
       "OBRIGATORIEDADE                                                                                                                                     1\n",
       "OBRIGAÇÃO                                                                                                                                           1\n",
       "OPERADOR DE TELEMARKETING                                                                                                                           1\n",
       "ORGANIZAÇÃO                                                                                                                                         1\n",
       "2º TENENTE PM                                                                                                                                       1\n",
       "Name: IdDocumento, Length: 634, dtype: int64"
      ]
     },
     "execution_count": 91,
     "metadata": {},
     "output_type": "execute_result"
    }
   ],
   "source": [
    "nome.groupby(\"Palavra\").IdDocumento.count().sort_values(ascending=False)"
   ]
  },
  {
   "cell_type": "code",
   "execution_count": 72,
   "metadata": {},
   "outputs": [],
   "source": [
    "nome.to_excel('resultados/projetos_giannazi.xlsx',sheet_name='Sheet1')"
   ]
  },
  {
   "cell_type": "code",
   "execution_count": null,
   "metadata": {},
   "outputs": [],
   "source": []
  },
  {
   "cell_type": "code",
   "execution_count": null,
   "metadata": {},
   "outputs": [],
   "source": []
  }
 ],
 "metadata": {
  "kernelspec": {
   "display_name": "Python 3",
   "language": "python",
   "name": "python3"
  },
  "language_info": {
   "codemirror_mode": {
    "name": "ipython",
    "version": 3
   },
   "file_extension": ".py",
   "mimetype": "text/x-python",
   "name": "python",
   "nbconvert_exporter": "python",
   "pygments_lexer": "ipython3",
   "version": "3.6.2"
  }
 },
 "nbformat": 4,
 "nbformat_minor": 2
}
